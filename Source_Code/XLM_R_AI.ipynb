{
  "cells": [
    {
      "cell_type": "code",
      "execution_count": null,
      "metadata": {
        "colab": {
          "base_uri": "https://localhost:8080/"
        },
        "id": "QkJRppUSB9Ko",
        "outputId": "a9352046-1530-4670-c6b5-e0c7a1da2856"
      },
      "outputs": [
        {
          "output_type": "stream",
          "name": "stdout",
          "text": [
            "Requirement already satisfied: numpy in /usr/local/lib/python3.7/dist-packages (1.19.5)\n",
            "Requirement already satisfied: pandas in /usr/local/lib/python3.7/dist-packages (1.1.5)\n",
            "Requirement already satisfied: tqdm in /usr/local/lib/python3.7/dist-packages (4.62.3)\n",
            "Requirement already satisfied: sklearn in /usr/local/lib/python3.7/dist-packages (0.0)\n",
            "Collecting transformers\n",
            "  Downloading transformers-4.15.0-py3-none-any.whl (3.4 MB)\n",
            "\u001b[K     |████████████████████████████████| 3.4 MB 5.4 MB/s \n",
            "\u001b[?25hRequirement already satisfied: python-dateutil>=2.7.3 in /usr/local/lib/python3.7/dist-packages (from pandas) (2.8.2)\n",
            "Requirement already satisfied: pytz>=2017.2 in /usr/local/lib/python3.7/dist-packages (from pandas) (2018.9)\n",
            "Requirement already satisfied: six>=1.5 in /usr/local/lib/python3.7/dist-packages (from python-dateutil>=2.7.3->pandas) (1.15.0)\n",
            "Requirement already satisfied: scikit-learn in /usr/local/lib/python3.7/dist-packages (from sklearn) (1.0.1)\n",
            "Collecting tokenizers<0.11,>=0.10.1\n",
            "  Downloading tokenizers-0.10.3-cp37-cp37m-manylinux_2_5_x86_64.manylinux1_x86_64.manylinux_2_12_x86_64.manylinux2010_x86_64.whl (3.3 MB)\n",
            "\u001b[K     |████████████████████████████████| 3.3 MB 64.3 MB/s \n",
            "\u001b[?25hRequirement already satisfied: importlib-metadata in /usr/local/lib/python3.7/dist-packages (from transformers) (4.8.2)\n",
            "Requirement already satisfied: packaging>=20.0 in /usr/local/lib/python3.7/dist-packages (from transformers) (21.3)\n",
            "Requirement already satisfied: filelock in /usr/local/lib/python3.7/dist-packages (from transformers) (3.4.0)\n",
            "Collecting huggingface-hub<1.0,>=0.1.0\n",
            "  Downloading huggingface_hub-0.2.1-py3-none-any.whl (61 kB)\n",
            "\u001b[K     |████████████████████████████████| 61 kB 449 kB/s \n",
            "\u001b[?25hCollecting pyyaml>=5.1\n",
            "  Downloading PyYAML-6.0-cp37-cp37m-manylinux_2_5_x86_64.manylinux1_x86_64.manylinux_2_12_x86_64.manylinux2010_x86_64.whl (596 kB)\n",
            "\u001b[K     |████████████████████████████████| 596 kB 76.1 MB/s \n",
            "\u001b[?25hRequirement already satisfied: regex!=2019.12.17 in /usr/local/lib/python3.7/dist-packages (from transformers) (2019.12.20)\n",
            "Collecting sacremoses\n",
            "  Downloading sacremoses-0.0.46-py3-none-any.whl (895 kB)\n",
            "\u001b[K     |████████████████████████████████| 895 kB 70.4 MB/s \n",
            "\u001b[?25hRequirement already satisfied: requests in /usr/local/lib/python3.7/dist-packages (from transformers) (2.23.0)\n",
            "Requirement already satisfied: typing-extensions>=3.7.4.3 in /usr/local/lib/python3.7/dist-packages (from huggingface-hub<1.0,>=0.1.0->transformers) (3.10.0.2)\n",
            "Requirement already satisfied: pyparsing!=3.0.5,>=2.0.2 in /usr/local/lib/python3.7/dist-packages (from packaging>=20.0->transformers) (3.0.6)\n",
            "Requirement already satisfied: zipp>=0.5 in /usr/local/lib/python3.7/dist-packages (from importlib-metadata->transformers) (3.6.0)\n",
            "Requirement already satisfied: urllib3!=1.25.0,!=1.25.1,<1.26,>=1.21.1 in /usr/local/lib/python3.7/dist-packages (from requests->transformers) (1.24.3)\n",
            "Requirement already satisfied: idna<3,>=2.5 in /usr/local/lib/python3.7/dist-packages (from requests->transformers) (2.10)\n",
            "Requirement already satisfied: chardet<4,>=3.0.2 in /usr/local/lib/python3.7/dist-packages (from requests->transformers) (3.0.4)\n",
            "Requirement already satisfied: certifi>=2017.4.17 in /usr/local/lib/python3.7/dist-packages (from requests->transformers) (2021.10.8)\n",
            "Requirement already satisfied: click in /usr/local/lib/python3.7/dist-packages (from sacremoses->transformers) (7.1.2)\n",
            "Requirement already satisfied: joblib in /usr/local/lib/python3.7/dist-packages (from sacremoses->transformers) (1.1.0)\n",
            "Requirement already satisfied: scipy>=1.1.0 in /usr/local/lib/python3.7/dist-packages (from scikit-learn->sklearn) (1.4.1)\n",
            "Requirement already satisfied: threadpoolctl>=2.0.0 in /usr/local/lib/python3.7/dist-packages (from scikit-learn->sklearn) (3.0.0)\n",
            "Installing collected packages: pyyaml, tokenizers, sacremoses, huggingface-hub, transformers\n",
            "  Attempting uninstall: pyyaml\n",
            "    Found existing installation: PyYAML 3.13\n",
            "    Uninstalling PyYAML-3.13:\n",
            "      Successfully uninstalled PyYAML-3.13\n",
            "Successfully installed huggingface-hub-0.2.1 pyyaml-6.0 sacremoses-0.0.46 tokenizers-0.10.3 transformers-4.15.0\n",
            "Collecting sentencepiece\n",
            "  Downloading sentencepiece-0.1.96-cp37-cp37m-manylinux_2_17_x86_64.manylinux2014_x86_64.whl (1.2 MB)\n",
            "\u001b[K     |████████████████████████████████| 1.2 MB 5.5 MB/s \n",
            "\u001b[?25hInstalling collected packages: sentencepiece\n",
            "Successfully installed sentencepiece-0.1.96\n"
          ]
        }
      ],
      "source": [
        "!pip install numpy pandas tqdm sklearn transformers\n",
        "!pip install sentencepiece"
      ]
    },
    {
      "cell_type": "code",
      "execution_count": null,
      "metadata": {
        "colab": {
          "base_uri": "https://localhost:8080/"
        },
        "id": "Eluck5uCeCp-",
        "outputId": "6052f5b6-d123-4d61-cd19-16cff94b1722"
      },
      "outputs": [
        {
          "output_type": "stream",
          "name": "stdout",
          "text": [
            "Cloning into 'CrossNER'...\n",
            "remote: Enumerating objects: 172, done.\u001b[K\n",
            "remote: Counting objects: 100% (8/8), done.\u001b[K\n",
            "remote: Compressing objects: 100% (6/6), done.\u001b[K\n",
            "remote: Total 172 (delta 2), reused 2 (delta 2), pack-reused 164\u001b[K\n",
            "Receiving objects: 100% (172/172), 2.30 MiB | 11.88 MiB/s, done.\n",
            "Resolving deltas: 100% (77/77), done.\n"
          ]
        }
      ],
      "source": [
        "!git clone https://github.com/DinhLuan14/CrossNER.git"
      ]
    },
    {
      "cell_type": "code",
      "execution_count": null,
      "metadata": {
        "id": "bdW5yfemE0dQ"
      },
      "outputs": [],
      "source": [
        "def prepare_dataset(PATH,convert2bio=False):\n",
        "  sents = []\n",
        "  chunks = open(PATH,'r').read().split('\\n\\n')\n",
        "  for chunk in chunks:\n",
        "    lines = chunk.split('\\n')\n",
        "    sent = []\n",
        "    current_tag = None\n",
        "    previous_tag = None\n",
        "    for line in lines:\n",
        "        if line != '':\n",
        "            token = line.split('\\t')\n",
        "            previous_tag = current_tag \n",
        "            current_tag = token[1]\n",
        "            if convert2bio:\n",
        "                if previous_tag == current_tag and current_tag != 'O':\n",
        "                    sent.append((token[0],token[1]))\n",
        "                elif previous_tag != current_tag and current_tag != 'O':\n",
        "                    sent.append((token[0],token[1]))\n",
        "                else:\n",
        "                    sent.append((token[0],token[1]))\n",
        "            else:\n",
        "                sent.append((token[0],token[1]))\n",
        "    sents.append(sent)\n",
        "  return sents"
      ]
    },
    {
      "cell_type": "code",
      "execution_count": null,
      "metadata": {
        "id": "d0_-FCCQFsru"
      },
      "outputs": [],
      "source": [
        "samples_train = prepare_dataset('/content/CrossNER/ner_data/ai/train.txt',convert2bio=True)\n",
        "samples_valid = prepare_dataset('/content/CrossNER/ner_data/ai/dev.txt',convert2bio=True)\n",
        "samples_test = prepare_dataset('/content/CrossNER/ner_data/ai/test.txt',convert2bio=True)"
      ]
    },
    {
      "cell_type": "code",
      "source": [
        "samples_train[1]"
      ],
      "metadata": {
        "colab": {
          "base_uri": "https://localhost:8080/"
        },
        "id": "-jEsmO-0OXlB",
        "outputId": "b76940a4-26e1-4762-d791-745d8c61fbae"
      },
      "execution_count": null,
      "outputs": [
        {
          "output_type": "execute_result",
          "data": {
            "text/plain": [
              "[('Advocates', 'O'),\n",
              " ('of', 'O'),\n",
              " ('procedural', 'O'),\n",
              " ('representations', 'O'),\n",
              " ('were', 'O'),\n",
              " ('mainly', 'O'),\n",
              " ('centered', 'O'),\n",
              " ('at', 'O'),\n",
              " ('MIT', 'B-university'),\n",
              " (',', 'O'),\n",
              " ('under', 'O'),\n",
              " ('the', 'O'),\n",
              " ('leadership', 'O'),\n",
              " ('of', 'O'),\n",
              " ('Marvin', 'B-researcher'),\n",
              " ('Minsky', 'I-researcher'),\n",
              " ('and', 'O'),\n",
              " ('Seymour', 'B-researcher'),\n",
              " ('Papert', 'I-researcher'),\n",
              " ('.', 'O')]"
            ]
          },
          "metadata": {},
          "execution_count": 5
        }
      ]
    },
    {
      "cell_type": "code",
      "execution_count": null,
      "metadata": {
        "id": "NgA_QWZmF1Gl"
      },
      "outputs": [],
      "source": [
        "samples = samples_train + samples_test + samples_valid\n",
        "schema = ['_'] + sorted({tag for sentence in samples \n",
        "                             for _, tag in sentence})"
      ]
    },
    {
      "cell_type": "code",
      "execution_count": null,
      "metadata": {
        "colab": {
          "base_uri": "https://localhost:8080/"
        },
        "id": "sllQKkaPgX4p",
        "outputId": "c846ef19-e484-4a53-8e0c-e164ed31b0d0"
      },
      "outputs": [
        {
          "output_type": "execute_result",
          "data": {
            "text/plain": [
              "[('The', 'O'),\n",
              " ('task', 'O'),\n",
              " ('is', 'O'),\n",
              " ('usually', 'O'),\n",
              " ('to', 'O'),\n",
              " ('derive', 'O'),\n",
              " ('the', 'O'),\n",
              " ('maximum', 'B-algorithm'),\n",
              " ('likelihood', 'I-algorithm'),\n",
              " ('estimate', 'I-algorithm'),\n",
              " ('of', 'O'),\n",
              " ('the', 'O'),\n",
              " ('parameters', 'O'),\n",
              " ('of', 'O'),\n",
              " ('the', 'O'),\n",
              " ('HMM', 'B-algorithm'),\n",
              " ('given', 'O'),\n",
              " ('the', 'O'),\n",
              " ('of', 'O'),\n",
              " ('output', 'O'),\n",
              " ('sequences', 'O'),\n",
              " ('.', 'O')]"
            ]
          },
          "metadata": {},
          "execution_count": 7
        }
      ],
      "source": [
        "samples_test[2]"
      ]
    },
    {
      "cell_type": "code",
      "execution_count": null,
      "metadata": {
        "colab": {
          "base_uri": "https://localhost:8080/"
        },
        "id": "dzrMAinGgxAB",
        "outputId": "23e207c4-9874-413d-84d8-c4654f29d11d"
      },
      "outputs": [
        {
          "output_type": "execute_result",
          "data": {
            "text/plain": [
              "['_',\n",
              " 'B-algorithm',\n",
              " 'B-conference',\n",
              " 'B-country',\n",
              " 'B-field',\n",
              " 'B-location',\n",
              " 'B-metrics',\n",
              " 'B-misc',\n",
              " 'B-organisation',\n",
              " 'B-person',\n",
              " 'B-product',\n",
              " 'B-programlang',\n",
              " 'B-researcher',\n",
              " 'B-task',\n",
              " 'B-university',\n",
              " 'I-algorithm',\n",
              " 'I-conference',\n",
              " 'I-country',\n",
              " 'I-field',\n",
              " 'I-location',\n",
              " 'I-metrics',\n",
              " 'I-misc',\n",
              " 'I-organisation',\n",
              " 'I-person',\n",
              " 'I-product',\n",
              " 'I-programlang',\n",
              " 'I-researcher',\n",
              " 'I-task',\n",
              " 'I-university',\n",
              " 'O']"
            ]
          },
          "metadata": {},
          "execution_count": 8
        }
      ],
      "source": [
        "schema"
      ]
    },
    {
      "cell_type": "code",
      "execution_count": null,
      "metadata": {
        "id": "CG-cw57zGJbV",
        "colab": {
          "base_uri": "https://localhost:8080/",
          "height": 81,
          "referenced_widgets": [
            "2edb475ac8ff499c8caa51f82d66a0f9",
            "2c0029be6d864373960428676c191674",
            "50ce4456e56a4414a67f4f1fa8e6b1ef",
            "0e6c0316e67245e0b2a2e2bb0edca991",
            "20b7cae1648143008839a0ca3b2493d1",
            "1e90d6b706b44d0592a05d4972529f51",
            "2ee4a626f6534d11befe74c4e28e1517",
            "8e4ed91632944c9aa65bff47ec66b359",
            "60e9b0dc40504749a1fa3d0ccd31f898",
            "ab1bf81ecb024b648dbf118436a69aa7",
            "f20ea8daf75842f59ddb14b9c3347139",
            "e7f9580564ff47c0b15e392e3b97c1f2",
            "4e070cd47c38490f9e3eb1728bfaf247",
            "40e621167ba14a56ae8fff5501082c15",
            "69c7728a0e3243bf8c5314ea02ccd7f5",
            "48eb2f2031cc4afa972f91e06d40b985",
            "e3f5f37c0ef94c96a3b4301a9645dc71",
            "e4f250d7becc47d98be4b3cdd702facb",
            "710337d56afc4c829f924cd6679746b2",
            "ce4afe7ed6654c9db839f76628689109",
            "7a7d92e73c1f4806958d077d6c6d0dde",
            "335f0dab0cef497cb8c3ff7b3b6027fc"
          ]
        },
        "outputId": "5c6bb3be-ae13-4b9d-f5c4-d734ec4b45ec"
      },
      "outputs": [
        {
          "output_type": "display_data",
          "data": {
            "application/vnd.jupyter.widget-view+json": {
              "model_id": "2edb475ac8ff499c8caa51f82d66a0f9",
              "version_minor": 0,
              "version_major": 2
            },
            "text/plain": [
              "Downloading:   0%|          | 0.00/513 [00:00<?, ?B/s]"
            ]
          },
          "metadata": {}
        },
        {
          "output_type": "display_data",
          "data": {
            "application/vnd.jupyter.widget-view+json": {
              "model_id": "e7f9580564ff47c0b15e392e3b97c1f2",
              "version_minor": 0,
              "version_major": 2
            },
            "text/plain": [
              "Downloading:   0%|          | 0.00/4.83M [00:00<?, ?B/s]"
            ]
          },
          "metadata": {}
        }
      ],
      "source": [
        "import numpy as np\n",
        "from tqdm import tqdm\n",
        "import pandas as pd\n",
        "import json\n",
        "import tensorflow as tf\n",
        "from transformers import AutoTokenizer\n",
        "from transformers import AutoConfig, TFXLMRobertaForTokenClassification\n",
        "\n",
        "MODEL_NAME = 'jplu/tf-xlm-roberta-large'\n",
        "tokenizer = AutoTokenizer.from_pretrained(MODEL_NAME)"
      ]
    },
    {
      "cell_type": "code",
      "execution_count": null,
      "metadata": {
        "colab": {
          "base_uri": "https://localhost:8080/"
        },
        "id": "EjtDPNA-GXp6",
        "outputId": "b1eee82b-08b4-4593-cde6-1c0508a876d7"
      },
      "outputs": [
        {
          "output_type": "stream",
          "name": "stderr",
          "text": [
            "101it [00:00, 344.28it/s]\n",
            "351it [00:00, 412.34it/s]\n",
            "432it [00:00, 433.69it/s]\n"
          ]
        }
      ],
      "source": [
        "def tokenize_sample(sample):\n",
        "  seq = [\n",
        "            (subtoken, tag)\n",
        "            for token, tag in sample\n",
        "            for subtoken in tokenizer(token)['input_ids'][1:-1]\n",
        "        ]\n",
        "  return [(3, 'O')] + seq + [(4, 'O')]\n",
        "\n",
        "def preprocess(samples,schema,max_len_sent=None):\n",
        "    if max_len_sent != None:\n",
        "      reduced_samples = []\n",
        "      for sample in samples:\n",
        "        if len(sample) < max_len_sent:\n",
        "          reduced_samples.append(sample)\n",
        "    else:\n",
        "      reduced_samples = samples\n",
        "    \n",
        "    tag_index = {tag: i for i, tag in enumerate(schema)}\n",
        "    tokenized_samples = list(tqdm(map(tokenize_sample, reduced_samples)))\n",
        "    max_len = max(map(len, tokenized_samples))\n",
        "    X = np.zeros((len(samples), max_len), dtype=np.int32)\n",
        "    y = np.zeros((len(samples), max_len), dtype=np.int32)\n",
        "    for i, sentence in enumerate(tokenized_samples):\n",
        "        for j, (subtoken_id, tag) in enumerate(sentence):\n",
        "            X[i, j] = subtoken_id\n",
        "            y[i,j] = tag_index[tag]\n",
        "    return X, y\n",
        "\n",
        "X_train, y_train = preprocess(samples_train,schema,max_len_sent=100)\n",
        "X_val, y_val = preprocess(samples_valid,schema,max_len_sent=100)\n",
        "X_test, y_test = preprocess(samples_test,schema,max_len_sent=100)"
      ]
    },
    {
      "cell_type": "code",
      "execution_count": null,
      "metadata": {
        "colab": {
          "base_uri": "https://localhost:8080/",
          "height": 118,
          "referenced_widgets": [
            "68992d78a802400f83d326e4a9a5a382",
            "e3606bbf0cec4b5aaa171088f941520d",
            "1d8f6d5ad35c4ed8b50c8f731630baa8",
            "79db92ec04354297a67d16e431691c6e",
            "f42d5958299c43ea8ef1b77b95e0906f",
            "c1fe524dee144e82b854c1864f3377f2",
            "c49f3c65046d42be827edce929a39ff1",
            "c8a1a615317346c5a5e47180843dee92",
            "2f3e0b6d3a114d539d1c9e60fd6f4cda",
            "f9739aef1561485da06dcedea80330ef",
            "69fc35864ff94ee4b2423e5d2cb22af8"
          ]
        },
        "id": "cgZ_v3DlGRFq",
        "outputId": "ab1deb8e-9626-4541-9ee1-2b454855045e"
      },
      "outputs": [
        {
          "output_type": "display_data",
          "data": {
            "application/vnd.jupyter.widget-view+json": {
              "model_id": "68992d78a802400f83d326e4a9a5a382",
              "version_minor": 0,
              "version_major": 2
            },
            "text/plain": [
              "Downloading:   0%|          | 0.00/3.05G [00:00<?, ?B/s]"
            ]
          },
          "metadata": {}
        },
        {
          "output_type": "stream",
          "name": "stderr",
          "text": [
            "All model checkpoint layers were used when initializing TFXLMRobertaForTokenClassification.\n",
            "\n",
            "Some layers of TFXLMRobertaForTokenClassification were not initialized from the model checkpoint at jplu/tf-xlm-roberta-large and are newly initialized: ['classifier']\n",
            "You should probably TRAIN this model on a down-stream task to be able to use it for predictions and inference.\n"
          ]
        }
      ],
      "source": [
        "NR_EPOCHS=20\n",
        "BATCH_SIZE=2\n",
        "model = TFXLMRobertaForTokenClassification.from_pretrained(MODEL_NAME,num_labels=len(schema))"
      ]
    },
    {
      "cell_type": "code",
      "source": [
        "optimizer = tf.keras.optimizers.Adam(learning_rate=3e-6)\n",
        "loss = tf.keras.losses.SparseCategoricalCrossentropy(from_logits=True)\n",
        "model.compile(optimizer=optimizer, loss=loss, metrics='accuracy')\n",
        "  #model.load_weights(checkpoint_filepath)\n",
        "history = model.fit(tf.constant(X_train), tf.constant(y_train),\n",
        "                      validation_data=(X_val,y_val), epochs=NR_EPOCHS, \n",
        "                      batch_size=BATCH_SIZE,verbose=1)"
      ],
      "metadata": {
        "colab": {
          "base_uri": "https://localhost:8080/"
        },
        "id": "NvR-p1GV2afA",
        "outputId": "60ff0c18-4028-4289-d293-54fbd97d8374"
      },
      "execution_count": null,
      "outputs": [
        {
          "output_type": "stream",
          "name": "stdout",
          "text": [
            "Epoch 1/20\n",
            "51/51 [==============================] - 681s 13s/step - loss: 2.1699 - accuracy: 0.4353 - val_loss: 1.1830 - val_accuracy: 0.6536\n",
            "Epoch 2/20\n",
            "51/51 [==============================] - 631s 12s/step - loss: 1.0528 - accuracy: 0.7798 - val_loss: 0.7984 - val_accuracy: 0.8364\n",
            "Epoch 3/20\n",
            "51/51 [==============================] - 630s 12s/step - loss: 0.8836 - accuracy: 0.8183 - val_loss: 0.7434 - val_accuracy: 0.8418\n",
            "Epoch 4/20\n",
            "51/51 [==============================] - 623s 12s/step - loss: 0.7751 - accuracy: 0.8272 - val_loss: 0.6571 - val_accuracy: 0.8446\n",
            "Epoch 5/20\n",
            "51/51 [==============================] - 624s 12s/step - loss: 0.7252 - accuracy: 0.8287 - val_loss: 0.6184 - val_accuracy: 0.8495\n",
            "Epoch 6/20\n",
            "51/51 [==============================] - 624s 12s/step - loss: 0.6829 - accuracy: 0.8358 - val_loss: 0.6010 - val_accuracy: 0.8552\n",
            "Epoch 7/20\n",
            "51/51 [==============================] - 630s 12s/step - loss: 0.6338 - accuracy: 0.8406 - val_loss: 0.5696 - val_accuracy: 0.8563\n",
            "Epoch 8/20\n",
            "51/51 [==============================] - 626s 12s/step - loss: 0.6011 - accuracy: 0.8490 - val_loss: 0.5382 - val_accuracy: 0.8617\n",
            "Epoch 9/20\n",
            "51/51 [==============================] - 627s 12s/step - loss: 0.5627 - accuracy: 0.8535 - val_loss: 0.5151 - val_accuracy: 0.8655\n",
            "Epoch 10/20\n",
            "51/51 [==============================] - 633s 13s/step - loss: 0.5347 - accuracy: 0.8601 - val_loss: 0.5027 - val_accuracy: 0.8663\n",
            "Epoch 11/20\n",
            "51/51 [==============================] - 632s 12s/step - loss: 0.4915 - accuracy: 0.8677 - val_loss: 0.4799 - val_accuracy: 0.8715\n",
            "Epoch 12/20\n",
            "51/51 [==============================] - 622s 12s/step - loss: 0.4684 - accuracy: 0.8736 - val_loss: 0.4571 - val_accuracy: 0.8768\n",
            "Epoch 13/20\n",
            "51/51 [==============================] - 632s 12s/step - loss: 0.4474 - accuracy: 0.8802 - val_loss: 0.4446 - val_accuracy: 0.8779\n",
            "Epoch 14/20\n",
            "51/51 [==============================] - 631s 12s/step - loss: 0.4124 - accuracy: 0.8933 - val_loss: 0.4179 - val_accuracy: 0.8880\n",
            "Epoch 15/20\n",
            "51/51 [==============================] - 626s 12s/step - loss: 0.3941 - accuracy: 0.8952 - val_loss: 0.3988 - val_accuracy: 0.8919\n",
            "Epoch 16/20\n",
            "51/51 [==============================] - 628s 12s/step - loss: 0.3599 - accuracy: 0.9033 - val_loss: 0.3945 - val_accuracy: 0.8951\n",
            "Epoch 17/20\n",
            "51/51 [==============================] - 634s 13s/step - loss: 0.3454 - accuracy: 0.9048 - val_loss: 0.3799 - val_accuracy: 0.8954\n",
            "Epoch 18/20\n",
            "51/51 [==============================] - 635s 13s/step - loss: 0.3231 - accuracy: 0.9130 - val_loss: 0.3737 - val_accuracy: 0.8985\n",
            "Epoch 19/20\n",
            "51/51 [==============================] - 638s 13s/step - loss: 0.2936 - accuracy: 0.9228 - val_loss: 0.3605 - val_accuracy: 0.9010\n",
            "Epoch 20/20\n",
            "51/51 [==============================] - 632s 12s/step - loss: 0.2826 - accuracy: 0.9275 - val_loss: 0.3650 - val_accuracy: 0.8975\n"
          ]
        }
      ]
    },
    {
      "cell_type": "code",
      "execution_count": null,
      "metadata": {
        "id": "F19rly-unaw1"
      },
      "outputs": [],
      "source": [
        "def aggregate(sample,schema,predictions):\n",
        "    results = []\n",
        "    i = 1\n",
        "    for token, y_true in sample:\n",
        "        nr_subtoken = len(tokenizer(token)['input_ids']) - 2\n",
        "        pred = predictions[i:i+nr_subtoken]\n",
        "        i += nr_subtoken\n",
        "        y_pred = schema[np.argmax(np.sum(pred, axis=0))]\n",
        "        results.append((token, y_true, y_pred))\n",
        "    return results\n",
        " \n",
        "y_probs = model.predict(X_test)[0]\n",
        "predictions = [aggregate(sample,schema,predictions) for sample, predictions in zip(samples_test, y_probs)]"
      ]
    },
    {
      "cell_type": "code",
      "source": [
        "y = []\n",
        "y_hat = []\n",
        "y_pre = []\n",
        "for pred in predictions:\n",
        "  for token in pred:\n",
        "    y.append(token[1])\n",
        "    y_hat.append(token[2])\n",
        "    y_pre.append('O')\n",
        "len(y_hat)"
      ],
      "metadata": {
        "colab": {
          "base_uri": "https://localhost:8080/"
        },
        "id": "NAg9X6Y5ZBtg",
        "outputId": "43819e81-ac31-494f-cc33-48e87e20409e"
      },
      "execution_count": null,
      "outputs": [
        {
          "output_type": "execute_result",
          "data": {
            "text/plain": [
              "12991"
            ]
          },
          "metadata": {},
          "execution_count": 14
        }
      ]
    },
    {
      "cell_type": "code",
      "source": [
        "from sklearn.metrics import f1_score\n",
        "print('model XLM-R: micro f1:',f1_score(y,y_hat,average='micro'))\n",
        "print('model XLM-R: macro f1:',f1_score(y,y_hat,average='macro'))"
      ],
      "metadata": {
        "colab": {
          "base_uri": "https://localhost:8080/"
        },
        "id": "L_7HXzYRZCK_",
        "outputId": "004e41bb-0e89-400c-c41c-45262fb98e43"
      },
      "execution_count": null,
      "outputs": [
        {
          "output_type": "stream",
          "name": "stdout",
          "text": [
            "model XLM-R: micro f1: 0.7925486875529213\n",
            "model XLM-R: macro f1: 0.2677620156781576\n"
          ]
        }
      ]
    },
    {
      "cell_type": "code",
      "source": [
        "\n",
        "print('model O: micro f1:',f1_score(y,y_pre,average='micro'))\n",
        "print('model O: macro f1:',f1_score(y,y_pre,average='macro'))"
      ],
      "metadata": {
        "colab": {
          "base_uri": "https://localhost:8080/"
        },
        "id": "6hkrSxUBDB6t",
        "outputId": "4f9e3aa7-1547-41eb-a7eb-3cf18325e3cf"
      },
      "execution_count": null,
      "outputs": [
        {
          "output_type": "stream",
          "name": "stdout",
          "text": [
            "model O: micro f1: 0.7100300207836193\n",
            "model O: macro f1: 0.028635513438419212\n"
          ]
        }
      ]
    },
    {
      "cell_type": "code",
      "source": [
        "import json\n",
        "from sklearn.metrics import classification_report\n",
        "from sklearn.metrics import confusion_matrix\n",
        "import seaborn as sns\n",
        "import matplotlib.pyplot as plt\n",
        "from sklearn.metrics import confusion_matrix\n",
        "\n",
        "print(classification_report(y, y_hat,digits=4))"
      ],
      "metadata": {
        "colab": {
          "base_uri": "https://localhost:8080/"
        },
        "id": "6DFaheNbZFkb",
        "outputId": "bf4531cf-d96f-431e-ffd8-f9fee2357a86"
      },
      "execution_count": null,
      "outputs": [
        {
          "output_type": "stream",
          "name": "stdout",
          "text": [
            "                precision    recall  f1-score   support\n",
            "\n",
            "   B-algorithm     0.2532    0.3390    0.2899       177\n",
            "  B-conference     0.0000    0.0000    0.0000        93\n",
            "     B-country     0.7059    0.2727    0.3934        44\n",
            "       B-field     0.5974    0.4444    0.5097       207\n",
            "    B-location     0.0000    0.0000    0.0000        39\n",
            "     B-metrics     0.0000    0.0000    0.0000       191\n",
            "        B-misc     0.1538    0.0110    0.0206       181\n",
            "B-organisation     0.2667    0.5793    0.3652       145\n",
            "      B-person     0.0000    0.0000    0.0000        67\n",
            "     B-product     0.2885    0.5202    0.3712       198\n",
            " B-programlang     0.3333    0.0167    0.0317        60\n",
            "  B-researcher     0.4712    0.6125    0.5326       160\n",
            "        B-task     0.4055    0.5388    0.4627       219\n",
            "  B-university     0.5714    0.1429    0.2286        28\n",
            "   I-algorithm     0.2746    0.4646    0.3452       198\n",
            "  I-conference     0.6903    0.3594    0.4727       217\n",
            "     I-country     0.0000    0.0000    0.0000        18\n",
            "       I-field     0.6508    0.2278    0.3374       180\n",
            "    I-location     0.0000    0.0000    0.0000        29\n",
            "     I-metrics     0.5000    0.0098    0.0192       204\n",
            "        I-misc     0.5000    0.0561    0.1009       196\n",
            "I-organisation     0.3920    0.7857    0.5230       224\n",
            "      I-person     0.0000    0.0000    0.0000        64\n",
            "     I-product     0.3415    0.1905    0.2445       147\n",
            " I-programlang     0.0000    0.0000    0.0000        16\n",
            "  I-researcher     0.3929    0.7971    0.5263       138\n",
            "        I-task     0.4951    0.5355    0.5145       282\n",
            "  I-university     0.3871    0.8000    0.5217        45\n",
            "             O     0.9331    0.9754    0.9538      9224\n",
            "\n",
            "      accuracy                         0.7925     12991\n",
            "     macro avg     0.3312    0.2993    0.2678     12991\n",
            "  weighted avg     0.7698    0.7925    0.7656     12991\n",
            "\n"
          ]
        },
        {
          "output_type": "stream",
          "name": "stderr",
          "text": [
            "/usr/local/lib/python3.7/dist-packages/sklearn/metrics/_classification.py:1308: UndefinedMetricWarning: Precision and F-score are ill-defined and being set to 0.0 in labels with no predicted samples. Use `zero_division` parameter to control this behavior.\n",
            "  _warn_prf(average, modifier, msg_start, len(result))\n",
            "/usr/local/lib/python3.7/dist-packages/sklearn/metrics/_classification.py:1308: UndefinedMetricWarning: Precision and F-score are ill-defined and being set to 0.0 in labels with no predicted samples. Use `zero_division` parameter to control this behavior.\n",
            "  _warn_prf(average, modifier, msg_start, len(result))\n",
            "/usr/local/lib/python3.7/dist-packages/sklearn/metrics/_classification.py:1308: UndefinedMetricWarning: Precision and F-score are ill-defined and being set to 0.0 in labels with no predicted samples. Use `zero_division` parameter to control this behavior.\n",
            "  _warn_prf(average, modifier, msg_start, len(result))\n"
          ]
        }
      ]
    },
    {
      "cell_type": "code",
      "source": [
        "print(classification_report(y, y_pre,digits=4))"
      ],
      "metadata": {
        "colab": {
          "base_uri": "https://localhost:8080/"
        },
        "id": "VmPUw0Y2aHvQ",
        "outputId": "a270855d-32a9-47c3-d734-df8f42a5f289"
      },
      "execution_count": null,
      "outputs": [
        {
          "output_type": "stream",
          "name": "stderr",
          "text": [
            "/usr/local/lib/python3.7/dist-packages/sklearn/metrics/_classification.py:1308: UndefinedMetricWarning: Precision and F-score are ill-defined and being set to 0.0 in labels with no predicted samples. Use `zero_division` parameter to control this behavior.\n",
            "  _warn_prf(average, modifier, msg_start, len(result))\n"
          ]
        },
        {
          "output_type": "stream",
          "name": "stdout",
          "text": [
            "                precision    recall  f1-score   support\n",
            "\n",
            "   B-algorithm     0.0000    0.0000    0.0000       177\n",
            "  B-conference     0.0000    0.0000    0.0000        93\n",
            "     B-country     0.0000    0.0000    0.0000        44\n",
            "       B-field     0.0000    0.0000    0.0000       207\n",
            "    B-location     0.0000    0.0000    0.0000        39\n",
            "     B-metrics     0.0000    0.0000    0.0000       191\n",
            "        B-misc     0.0000    0.0000    0.0000       181\n",
            "B-organisation     0.0000    0.0000    0.0000       145\n",
            "      B-person     0.0000    0.0000    0.0000        67\n",
            "     B-product     0.0000    0.0000    0.0000       198\n",
            " B-programlang     0.0000    0.0000    0.0000        60\n",
            "  B-researcher     0.0000    0.0000    0.0000       160\n",
            "        B-task     0.0000    0.0000    0.0000       219\n",
            "  B-university     0.0000    0.0000    0.0000        28\n",
            "   I-algorithm     0.0000    0.0000    0.0000       198\n",
            "  I-conference     0.0000    0.0000    0.0000       217\n",
            "     I-country     0.0000    0.0000    0.0000        18\n",
            "       I-field     0.0000    0.0000    0.0000       180\n",
            "    I-location     0.0000    0.0000    0.0000        29\n",
            "     I-metrics     0.0000    0.0000    0.0000       204\n",
            "        I-misc     0.0000    0.0000    0.0000       196\n",
            "I-organisation     0.0000    0.0000    0.0000       224\n",
            "      I-person     0.0000    0.0000    0.0000        64\n",
            "     I-product     0.0000    0.0000    0.0000       147\n",
            " I-programlang     0.0000    0.0000    0.0000        16\n",
            "  I-researcher     0.0000    0.0000    0.0000       138\n",
            "        I-task     0.0000    0.0000    0.0000       282\n",
            "  I-university     0.0000    0.0000    0.0000        45\n",
            "             O     0.7100    1.0000    0.8304      9224\n",
            "\n",
            "      accuracy                         0.7100     12991\n",
            "     macro avg     0.0245    0.0345    0.0286     12991\n",
            "  weighted avg     0.5041    0.7100    0.5896     12991\n",
            "\n"
          ]
        },
        {
          "output_type": "stream",
          "name": "stderr",
          "text": [
            "/usr/local/lib/python3.7/dist-packages/sklearn/metrics/_classification.py:1308: UndefinedMetricWarning: Precision and F-score are ill-defined and being set to 0.0 in labels with no predicted samples. Use `zero_division` parameter to control this behavior.\n",
            "  _warn_prf(average, modifier, msg_start, len(result))\n",
            "/usr/local/lib/python3.7/dist-packages/sklearn/metrics/_classification.py:1308: UndefinedMetricWarning: Precision and F-score are ill-defined and being set to 0.0 in labels with no predicted samples. Use `zero_division` parameter to control this behavior.\n",
            "  _warn_prf(average, modifier, msg_start, len(result))\n"
          ]
        }
      ]
    },
    {
      "cell_type": "code",
      "source": [
        "predictions[300]"
      ],
      "metadata": {
        "id": "1BVS47OSyiIo",
        "colab": {
          "base_uri": "https://localhost:8080/"
        },
        "outputId": "ba23c427-080d-4da7-c439-aef81bf010f1"
      },
      "execution_count": null,
      "outputs": [
        {
          "output_type": "execute_result",
          "data": {
            "text/plain": [
              "[('During', 'O', 'O'),\n",
              " ('2015', 'O', 'O'),\n",
              " (',', 'O', 'O'),\n",
              " ('many', 'O', 'O'),\n",
              " ('of', 'O', 'O'),\n",
              " ('SenseTime', 'B-organisation', 'B-organisation'),\n",
              " (\"'s\", 'O', 'O'),\n",
              " ('papers', 'O', 'O'),\n",
              " ('were', 'O', 'O'),\n",
              " ('accepted', 'O', 'O'),\n",
              " ('into', 'O', 'O'),\n",
              " ('the', 'O', 'O'),\n",
              " ('Conference', 'B-conference', 'I-conference'),\n",
              " ('on', 'I-conference', 'I-conference'),\n",
              " ('Computer', 'I-conference', 'I-conference'),\n",
              " ('Vision', 'I-conference', 'I-conference'),\n",
              " ('and', 'I-conference', 'I-conference'),\n",
              " ('Pattern', 'I-conference', 'I-conference'),\n",
              " ('Recognition', 'I-conference', 'I-organisation'),\n",
              " ('(', 'O', 'O'),\n",
              " ('CVPR', 'B-conference', 'B-organisation'),\n",
              " (')', 'O', 'O'),\n",
              " ('.', 'O', 'O')]"
            ]
          },
          "metadata": {},
          "execution_count": 19
        }
      ]
    }
  ],
  "metadata": {
    "colab": {
      "machine_shape": "hm",
      "name": "XLM-R_AI",
      "provenance": [],
      "collapsed_sections": []
    },
    "kernelspec": {
      "display_name": "Python 3",
      "name": "python3"
    },
    "language_info": {
      "name": "python"
    },
    "widgets": {
      "application/vnd.jupyter.widget-state+json": {
        "2edb475ac8ff499c8caa51f82d66a0f9": {
          "model_module": "@jupyter-widgets/controls",
          "model_name": "HBoxModel",
          "model_module_version": "1.5.0",
          "state": {
            "_view_name": "HBoxView",
            "_dom_classes": [],
            "_model_name": "HBoxModel",
            "_view_module": "@jupyter-widgets/controls",
            "_model_module_version": "1.5.0",
            "_view_count": null,
            "_view_module_version": "1.5.0",
            "box_style": "",
            "layout": "IPY_MODEL_2c0029be6d864373960428676c191674",
            "_model_module": "@jupyter-widgets/controls",
            "children": [
              "IPY_MODEL_50ce4456e56a4414a67f4f1fa8e6b1ef",
              "IPY_MODEL_0e6c0316e67245e0b2a2e2bb0edca991",
              "IPY_MODEL_20b7cae1648143008839a0ca3b2493d1"
            ]
          }
        },
        "2c0029be6d864373960428676c191674": {
          "model_module": "@jupyter-widgets/base",
          "model_name": "LayoutModel",
          "model_module_version": "1.2.0",
          "state": {
            "_view_name": "LayoutView",
            "grid_template_rows": null,
            "right": null,
            "justify_content": null,
            "_view_module": "@jupyter-widgets/base",
            "overflow": null,
            "_model_module_version": "1.2.0",
            "_view_count": null,
            "flex_flow": null,
            "width": null,
            "min_width": null,
            "border": null,
            "align_items": null,
            "bottom": null,
            "_model_module": "@jupyter-widgets/base",
            "top": null,
            "grid_column": null,
            "overflow_y": null,
            "overflow_x": null,
            "grid_auto_flow": null,
            "grid_area": null,
            "grid_template_columns": null,
            "flex": null,
            "_model_name": "LayoutModel",
            "justify_items": null,
            "grid_row": null,
            "max_height": null,
            "align_content": null,
            "visibility": null,
            "align_self": null,
            "height": null,
            "min_height": null,
            "padding": null,
            "grid_auto_rows": null,
            "grid_gap": null,
            "max_width": null,
            "order": null,
            "_view_module_version": "1.2.0",
            "grid_template_areas": null,
            "object_position": null,
            "object_fit": null,
            "grid_auto_columns": null,
            "margin": null,
            "display": null,
            "left": null
          }
        },
        "50ce4456e56a4414a67f4f1fa8e6b1ef": {
          "model_module": "@jupyter-widgets/controls",
          "model_name": "HTMLModel",
          "model_module_version": "1.5.0",
          "state": {
            "_view_name": "HTMLView",
            "style": "IPY_MODEL_1e90d6b706b44d0592a05d4972529f51",
            "_dom_classes": [],
            "description": "",
            "_model_name": "HTMLModel",
            "placeholder": "​",
            "_view_module": "@jupyter-widgets/controls",
            "_model_module_version": "1.5.0",
            "value": "Downloading: 100%",
            "_view_count": null,
            "_view_module_version": "1.5.0",
            "description_tooltip": null,
            "_model_module": "@jupyter-widgets/controls",
            "layout": "IPY_MODEL_2ee4a626f6534d11befe74c4e28e1517"
          }
        },
        "0e6c0316e67245e0b2a2e2bb0edca991": {
          "model_module": "@jupyter-widgets/controls",
          "model_name": "FloatProgressModel",
          "model_module_version": "1.5.0",
          "state": {
            "_view_name": "ProgressView",
            "style": "IPY_MODEL_8e4ed91632944c9aa65bff47ec66b359",
            "_dom_classes": [],
            "description": "",
            "_model_name": "FloatProgressModel",
            "bar_style": "success",
            "max": 513,
            "_view_module": "@jupyter-widgets/controls",
            "_model_module_version": "1.5.0",
            "value": 513,
            "_view_count": null,
            "_view_module_version": "1.5.0",
            "orientation": "horizontal",
            "min": 0,
            "description_tooltip": null,
            "_model_module": "@jupyter-widgets/controls",
            "layout": "IPY_MODEL_60e9b0dc40504749a1fa3d0ccd31f898"
          }
        },
        "20b7cae1648143008839a0ca3b2493d1": {
          "model_module": "@jupyter-widgets/controls",
          "model_name": "HTMLModel",
          "model_module_version": "1.5.0",
          "state": {
            "_view_name": "HTMLView",
            "style": "IPY_MODEL_ab1bf81ecb024b648dbf118436a69aa7",
            "_dom_classes": [],
            "description": "",
            "_model_name": "HTMLModel",
            "placeholder": "​",
            "_view_module": "@jupyter-widgets/controls",
            "_model_module_version": "1.5.0",
            "value": " 513/513 [00:00&lt;00:00, 14.3kB/s]",
            "_view_count": null,
            "_view_module_version": "1.5.0",
            "description_tooltip": null,
            "_model_module": "@jupyter-widgets/controls",
            "layout": "IPY_MODEL_f20ea8daf75842f59ddb14b9c3347139"
          }
        },
        "1e90d6b706b44d0592a05d4972529f51": {
          "model_module": "@jupyter-widgets/controls",
          "model_name": "DescriptionStyleModel",
          "model_module_version": "1.5.0",
          "state": {
            "_view_name": "StyleView",
            "_model_name": "DescriptionStyleModel",
            "description_width": "",
            "_view_module": "@jupyter-widgets/base",
            "_model_module_version": "1.5.0",
            "_view_count": null,
            "_view_module_version": "1.2.0",
            "_model_module": "@jupyter-widgets/controls"
          }
        },
        "2ee4a626f6534d11befe74c4e28e1517": {
          "model_module": "@jupyter-widgets/base",
          "model_name": "LayoutModel",
          "model_module_version": "1.2.0",
          "state": {
            "_view_name": "LayoutView",
            "grid_template_rows": null,
            "right": null,
            "justify_content": null,
            "_view_module": "@jupyter-widgets/base",
            "overflow": null,
            "_model_module_version": "1.2.0",
            "_view_count": null,
            "flex_flow": null,
            "width": null,
            "min_width": null,
            "border": null,
            "align_items": null,
            "bottom": null,
            "_model_module": "@jupyter-widgets/base",
            "top": null,
            "grid_column": null,
            "overflow_y": null,
            "overflow_x": null,
            "grid_auto_flow": null,
            "grid_area": null,
            "grid_template_columns": null,
            "flex": null,
            "_model_name": "LayoutModel",
            "justify_items": null,
            "grid_row": null,
            "max_height": null,
            "align_content": null,
            "visibility": null,
            "align_self": null,
            "height": null,
            "min_height": null,
            "padding": null,
            "grid_auto_rows": null,
            "grid_gap": null,
            "max_width": null,
            "order": null,
            "_view_module_version": "1.2.0",
            "grid_template_areas": null,
            "object_position": null,
            "object_fit": null,
            "grid_auto_columns": null,
            "margin": null,
            "display": null,
            "left": null
          }
        },
        "8e4ed91632944c9aa65bff47ec66b359": {
          "model_module": "@jupyter-widgets/controls",
          "model_name": "ProgressStyleModel",
          "model_module_version": "1.5.0",
          "state": {
            "_view_name": "StyleView",
            "_model_name": "ProgressStyleModel",
            "description_width": "",
            "_view_module": "@jupyter-widgets/base",
            "_model_module_version": "1.5.0",
            "_view_count": null,
            "_view_module_version": "1.2.0",
            "bar_color": null,
            "_model_module": "@jupyter-widgets/controls"
          }
        },
        "60e9b0dc40504749a1fa3d0ccd31f898": {
          "model_module": "@jupyter-widgets/base",
          "model_name": "LayoutModel",
          "model_module_version": "1.2.0",
          "state": {
            "_view_name": "LayoutView",
            "grid_template_rows": null,
            "right": null,
            "justify_content": null,
            "_view_module": "@jupyter-widgets/base",
            "overflow": null,
            "_model_module_version": "1.2.0",
            "_view_count": null,
            "flex_flow": null,
            "width": null,
            "min_width": null,
            "border": null,
            "align_items": null,
            "bottom": null,
            "_model_module": "@jupyter-widgets/base",
            "top": null,
            "grid_column": null,
            "overflow_y": null,
            "overflow_x": null,
            "grid_auto_flow": null,
            "grid_area": null,
            "grid_template_columns": null,
            "flex": null,
            "_model_name": "LayoutModel",
            "justify_items": null,
            "grid_row": null,
            "max_height": null,
            "align_content": null,
            "visibility": null,
            "align_self": null,
            "height": null,
            "min_height": null,
            "padding": null,
            "grid_auto_rows": null,
            "grid_gap": null,
            "max_width": null,
            "order": null,
            "_view_module_version": "1.2.0",
            "grid_template_areas": null,
            "object_position": null,
            "object_fit": null,
            "grid_auto_columns": null,
            "margin": null,
            "display": null,
            "left": null
          }
        },
        "ab1bf81ecb024b648dbf118436a69aa7": {
          "model_module": "@jupyter-widgets/controls",
          "model_name": "DescriptionStyleModel",
          "model_module_version": "1.5.0",
          "state": {
            "_view_name": "StyleView",
            "_model_name": "DescriptionStyleModel",
            "description_width": "",
            "_view_module": "@jupyter-widgets/base",
            "_model_module_version": "1.5.0",
            "_view_count": null,
            "_view_module_version": "1.2.0",
            "_model_module": "@jupyter-widgets/controls"
          }
        },
        "f20ea8daf75842f59ddb14b9c3347139": {
          "model_module": "@jupyter-widgets/base",
          "model_name": "LayoutModel",
          "model_module_version": "1.2.0",
          "state": {
            "_view_name": "LayoutView",
            "grid_template_rows": null,
            "right": null,
            "justify_content": null,
            "_view_module": "@jupyter-widgets/base",
            "overflow": null,
            "_model_module_version": "1.2.0",
            "_view_count": null,
            "flex_flow": null,
            "width": null,
            "min_width": null,
            "border": null,
            "align_items": null,
            "bottom": null,
            "_model_module": "@jupyter-widgets/base",
            "top": null,
            "grid_column": null,
            "overflow_y": null,
            "overflow_x": null,
            "grid_auto_flow": null,
            "grid_area": null,
            "grid_template_columns": null,
            "flex": null,
            "_model_name": "LayoutModel",
            "justify_items": null,
            "grid_row": null,
            "max_height": null,
            "align_content": null,
            "visibility": null,
            "align_self": null,
            "height": null,
            "min_height": null,
            "padding": null,
            "grid_auto_rows": null,
            "grid_gap": null,
            "max_width": null,
            "order": null,
            "_view_module_version": "1.2.0",
            "grid_template_areas": null,
            "object_position": null,
            "object_fit": null,
            "grid_auto_columns": null,
            "margin": null,
            "display": null,
            "left": null
          }
        },
        "e7f9580564ff47c0b15e392e3b97c1f2": {
          "model_module": "@jupyter-widgets/controls",
          "model_name": "HBoxModel",
          "model_module_version": "1.5.0",
          "state": {
            "_view_name": "HBoxView",
            "_dom_classes": [],
            "_model_name": "HBoxModel",
            "_view_module": "@jupyter-widgets/controls",
            "_model_module_version": "1.5.0",
            "_view_count": null,
            "_view_module_version": "1.5.0",
            "box_style": "",
            "layout": "IPY_MODEL_4e070cd47c38490f9e3eb1728bfaf247",
            "_model_module": "@jupyter-widgets/controls",
            "children": [
              "IPY_MODEL_40e621167ba14a56ae8fff5501082c15",
              "IPY_MODEL_69c7728a0e3243bf8c5314ea02ccd7f5",
              "IPY_MODEL_48eb2f2031cc4afa972f91e06d40b985"
            ]
          }
        },
        "4e070cd47c38490f9e3eb1728bfaf247": {
          "model_module": "@jupyter-widgets/base",
          "model_name": "LayoutModel",
          "model_module_version": "1.2.0",
          "state": {
            "_view_name": "LayoutView",
            "grid_template_rows": null,
            "right": null,
            "justify_content": null,
            "_view_module": "@jupyter-widgets/base",
            "overflow": null,
            "_model_module_version": "1.2.0",
            "_view_count": null,
            "flex_flow": null,
            "width": null,
            "min_width": null,
            "border": null,
            "align_items": null,
            "bottom": null,
            "_model_module": "@jupyter-widgets/base",
            "top": null,
            "grid_column": null,
            "overflow_y": null,
            "overflow_x": null,
            "grid_auto_flow": null,
            "grid_area": null,
            "grid_template_columns": null,
            "flex": null,
            "_model_name": "LayoutModel",
            "justify_items": null,
            "grid_row": null,
            "max_height": null,
            "align_content": null,
            "visibility": null,
            "align_self": null,
            "height": null,
            "min_height": null,
            "padding": null,
            "grid_auto_rows": null,
            "grid_gap": null,
            "max_width": null,
            "order": null,
            "_view_module_version": "1.2.0",
            "grid_template_areas": null,
            "object_position": null,
            "object_fit": null,
            "grid_auto_columns": null,
            "margin": null,
            "display": null,
            "left": null
          }
        },
        "40e621167ba14a56ae8fff5501082c15": {
          "model_module": "@jupyter-widgets/controls",
          "model_name": "HTMLModel",
          "model_module_version": "1.5.0",
          "state": {
            "_view_name": "HTMLView",
            "style": "IPY_MODEL_e3f5f37c0ef94c96a3b4301a9645dc71",
            "_dom_classes": [],
            "description": "",
            "_model_name": "HTMLModel",
            "placeholder": "​",
            "_view_module": "@jupyter-widgets/controls",
            "_model_module_version": "1.5.0",
            "value": "Downloading: 100%",
            "_view_count": null,
            "_view_module_version": "1.5.0",
            "description_tooltip": null,
            "_model_module": "@jupyter-widgets/controls",
            "layout": "IPY_MODEL_e4f250d7becc47d98be4b3cdd702facb"
          }
        },
        "69c7728a0e3243bf8c5314ea02ccd7f5": {
          "model_module": "@jupyter-widgets/controls",
          "model_name": "FloatProgressModel",
          "model_module_version": "1.5.0",
          "state": {
            "_view_name": "ProgressView",
            "style": "IPY_MODEL_710337d56afc4c829f924cd6679746b2",
            "_dom_classes": [],
            "description": "",
            "_model_name": "FloatProgressModel",
            "bar_style": "success",
            "max": 5069051,
            "_view_module": "@jupyter-widgets/controls",
            "_model_module_version": "1.5.0",
            "value": 5069051,
            "_view_count": null,
            "_view_module_version": "1.5.0",
            "orientation": "horizontal",
            "min": 0,
            "description_tooltip": null,
            "_model_module": "@jupyter-widgets/controls",
            "layout": "IPY_MODEL_ce4afe7ed6654c9db839f76628689109"
          }
        },
        "48eb2f2031cc4afa972f91e06d40b985": {
          "model_module": "@jupyter-widgets/controls",
          "model_name": "HTMLModel",
          "model_module_version": "1.5.0",
          "state": {
            "_view_name": "HTMLView",
            "style": "IPY_MODEL_7a7d92e73c1f4806958d077d6c6d0dde",
            "_dom_classes": [],
            "description": "",
            "_model_name": "HTMLModel",
            "placeholder": "​",
            "_view_module": "@jupyter-widgets/controls",
            "_model_module_version": "1.5.0",
            "value": " 4.83M/4.83M [00:00&lt;00:00, 8.99MB/s]",
            "_view_count": null,
            "_view_module_version": "1.5.0",
            "description_tooltip": null,
            "_model_module": "@jupyter-widgets/controls",
            "layout": "IPY_MODEL_335f0dab0cef497cb8c3ff7b3b6027fc"
          }
        },
        "e3f5f37c0ef94c96a3b4301a9645dc71": {
          "model_module": "@jupyter-widgets/controls",
          "model_name": "DescriptionStyleModel",
          "model_module_version": "1.5.0",
          "state": {
            "_view_name": "StyleView",
            "_model_name": "DescriptionStyleModel",
            "description_width": "",
            "_view_module": "@jupyter-widgets/base",
            "_model_module_version": "1.5.0",
            "_view_count": null,
            "_view_module_version": "1.2.0",
            "_model_module": "@jupyter-widgets/controls"
          }
        },
        "e4f250d7becc47d98be4b3cdd702facb": {
          "model_module": "@jupyter-widgets/base",
          "model_name": "LayoutModel",
          "model_module_version": "1.2.0",
          "state": {
            "_view_name": "LayoutView",
            "grid_template_rows": null,
            "right": null,
            "justify_content": null,
            "_view_module": "@jupyter-widgets/base",
            "overflow": null,
            "_model_module_version": "1.2.0",
            "_view_count": null,
            "flex_flow": null,
            "width": null,
            "min_width": null,
            "border": null,
            "align_items": null,
            "bottom": null,
            "_model_module": "@jupyter-widgets/base",
            "top": null,
            "grid_column": null,
            "overflow_y": null,
            "overflow_x": null,
            "grid_auto_flow": null,
            "grid_area": null,
            "grid_template_columns": null,
            "flex": null,
            "_model_name": "LayoutModel",
            "justify_items": null,
            "grid_row": null,
            "max_height": null,
            "align_content": null,
            "visibility": null,
            "align_self": null,
            "height": null,
            "min_height": null,
            "padding": null,
            "grid_auto_rows": null,
            "grid_gap": null,
            "max_width": null,
            "order": null,
            "_view_module_version": "1.2.0",
            "grid_template_areas": null,
            "object_position": null,
            "object_fit": null,
            "grid_auto_columns": null,
            "margin": null,
            "display": null,
            "left": null
          }
        },
        "710337d56afc4c829f924cd6679746b2": {
          "model_module": "@jupyter-widgets/controls",
          "model_name": "ProgressStyleModel",
          "model_module_version": "1.5.0",
          "state": {
            "_view_name": "StyleView",
            "_model_name": "ProgressStyleModel",
            "description_width": "",
            "_view_module": "@jupyter-widgets/base",
            "_model_module_version": "1.5.0",
            "_view_count": null,
            "_view_module_version": "1.2.0",
            "bar_color": null,
            "_model_module": "@jupyter-widgets/controls"
          }
        },
        "ce4afe7ed6654c9db839f76628689109": {
          "model_module": "@jupyter-widgets/base",
          "model_name": "LayoutModel",
          "model_module_version": "1.2.0",
          "state": {
            "_view_name": "LayoutView",
            "grid_template_rows": null,
            "right": null,
            "justify_content": null,
            "_view_module": "@jupyter-widgets/base",
            "overflow": null,
            "_model_module_version": "1.2.0",
            "_view_count": null,
            "flex_flow": null,
            "width": null,
            "min_width": null,
            "border": null,
            "align_items": null,
            "bottom": null,
            "_model_module": "@jupyter-widgets/base",
            "top": null,
            "grid_column": null,
            "overflow_y": null,
            "overflow_x": null,
            "grid_auto_flow": null,
            "grid_area": null,
            "grid_template_columns": null,
            "flex": null,
            "_model_name": "LayoutModel",
            "justify_items": null,
            "grid_row": null,
            "max_height": null,
            "align_content": null,
            "visibility": null,
            "align_self": null,
            "height": null,
            "min_height": null,
            "padding": null,
            "grid_auto_rows": null,
            "grid_gap": null,
            "max_width": null,
            "order": null,
            "_view_module_version": "1.2.0",
            "grid_template_areas": null,
            "object_position": null,
            "object_fit": null,
            "grid_auto_columns": null,
            "margin": null,
            "display": null,
            "left": null
          }
        },
        "7a7d92e73c1f4806958d077d6c6d0dde": {
          "model_module": "@jupyter-widgets/controls",
          "model_name": "DescriptionStyleModel",
          "model_module_version": "1.5.0",
          "state": {
            "_view_name": "StyleView",
            "_model_name": "DescriptionStyleModel",
            "description_width": "",
            "_view_module": "@jupyter-widgets/base",
            "_model_module_version": "1.5.0",
            "_view_count": null,
            "_view_module_version": "1.2.0",
            "_model_module": "@jupyter-widgets/controls"
          }
        },
        "335f0dab0cef497cb8c3ff7b3b6027fc": {
          "model_module": "@jupyter-widgets/base",
          "model_name": "LayoutModel",
          "model_module_version": "1.2.0",
          "state": {
            "_view_name": "LayoutView",
            "grid_template_rows": null,
            "right": null,
            "justify_content": null,
            "_view_module": "@jupyter-widgets/base",
            "overflow": null,
            "_model_module_version": "1.2.0",
            "_view_count": null,
            "flex_flow": null,
            "width": null,
            "min_width": null,
            "border": null,
            "align_items": null,
            "bottom": null,
            "_model_module": "@jupyter-widgets/base",
            "top": null,
            "grid_column": null,
            "overflow_y": null,
            "overflow_x": null,
            "grid_auto_flow": null,
            "grid_area": null,
            "grid_template_columns": null,
            "flex": null,
            "_model_name": "LayoutModel",
            "justify_items": null,
            "grid_row": null,
            "max_height": null,
            "align_content": null,
            "visibility": null,
            "align_self": null,
            "height": null,
            "min_height": null,
            "padding": null,
            "grid_auto_rows": null,
            "grid_gap": null,
            "max_width": null,
            "order": null,
            "_view_module_version": "1.2.0",
            "grid_template_areas": null,
            "object_position": null,
            "object_fit": null,
            "grid_auto_columns": null,
            "margin": null,
            "display": null,
            "left": null
          }
        },
        "68992d78a802400f83d326e4a9a5a382": {
          "model_module": "@jupyter-widgets/controls",
          "model_name": "HBoxModel",
          "model_module_version": "1.5.0",
          "state": {
            "_view_name": "HBoxView",
            "_dom_classes": [],
            "_model_name": "HBoxModel",
            "_view_module": "@jupyter-widgets/controls",
            "_model_module_version": "1.5.0",
            "_view_count": null,
            "_view_module_version": "1.5.0",
            "box_style": "",
            "layout": "IPY_MODEL_e3606bbf0cec4b5aaa171088f941520d",
            "_model_module": "@jupyter-widgets/controls",
            "children": [
              "IPY_MODEL_1d8f6d5ad35c4ed8b50c8f731630baa8",
              "IPY_MODEL_79db92ec04354297a67d16e431691c6e",
              "IPY_MODEL_f42d5958299c43ea8ef1b77b95e0906f"
            ]
          }
        },
        "e3606bbf0cec4b5aaa171088f941520d": {
          "model_module": "@jupyter-widgets/base",
          "model_name": "LayoutModel",
          "model_module_version": "1.2.0",
          "state": {
            "_view_name": "LayoutView",
            "grid_template_rows": null,
            "right": null,
            "justify_content": null,
            "_view_module": "@jupyter-widgets/base",
            "overflow": null,
            "_model_module_version": "1.2.0",
            "_view_count": null,
            "flex_flow": null,
            "width": null,
            "min_width": null,
            "border": null,
            "align_items": null,
            "bottom": null,
            "_model_module": "@jupyter-widgets/base",
            "top": null,
            "grid_column": null,
            "overflow_y": null,
            "overflow_x": null,
            "grid_auto_flow": null,
            "grid_area": null,
            "grid_template_columns": null,
            "flex": null,
            "_model_name": "LayoutModel",
            "justify_items": null,
            "grid_row": null,
            "max_height": null,
            "align_content": null,
            "visibility": null,
            "align_self": null,
            "height": null,
            "min_height": null,
            "padding": null,
            "grid_auto_rows": null,
            "grid_gap": null,
            "max_width": null,
            "order": null,
            "_view_module_version": "1.2.0",
            "grid_template_areas": null,
            "object_position": null,
            "object_fit": null,
            "grid_auto_columns": null,
            "margin": null,
            "display": null,
            "left": null
          }
        },
        "1d8f6d5ad35c4ed8b50c8f731630baa8": {
          "model_module": "@jupyter-widgets/controls",
          "model_name": "HTMLModel",
          "model_module_version": "1.5.0",
          "state": {
            "_view_name": "HTMLView",
            "style": "IPY_MODEL_c1fe524dee144e82b854c1864f3377f2",
            "_dom_classes": [],
            "description": "",
            "_model_name": "HTMLModel",
            "placeholder": "​",
            "_view_module": "@jupyter-widgets/controls",
            "_model_module_version": "1.5.0",
            "value": "Downloading: 100%",
            "_view_count": null,
            "_view_module_version": "1.5.0",
            "description_tooltip": null,
            "_model_module": "@jupyter-widgets/controls",
            "layout": "IPY_MODEL_c49f3c65046d42be827edce929a39ff1"
          }
        },
        "79db92ec04354297a67d16e431691c6e": {
          "model_module": "@jupyter-widgets/controls",
          "model_name": "FloatProgressModel",
          "model_module_version": "1.5.0",
          "state": {
            "_view_name": "ProgressView",
            "style": "IPY_MODEL_c8a1a615317346c5a5e47180843dee92",
            "_dom_classes": [],
            "description": "",
            "_model_name": "FloatProgressModel",
            "bar_style": "success",
            "max": 3271420488,
            "_view_module": "@jupyter-widgets/controls",
            "_model_module_version": "1.5.0",
            "value": 3271420488,
            "_view_count": null,
            "_view_module_version": "1.5.0",
            "orientation": "horizontal",
            "min": 0,
            "description_tooltip": null,
            "_model_module": "@jupyter-widgets/controls",
            "layout": "IPY_MODEL_2f3e0b6d3a114d539d1c9e60fd6f4cda"
          }
        },
        "f42d5958299c43ea8ef1b77b95e0906f": {
          "model_module": "@jupyter-widgets/controls",
          "model_name": "HTMLModel",
          "model_module_version": "1.5.0",
          "state": {
            "_view_name": "HTMLView",
            "style": "IPY_MODEL_f9739aef1561485da06dcedea80330ef",
            "_dom_classes": [],
            "description": "",
            "_model_name": "HTMLModel",
            "placeholder": "​",
            "_view_module": "@jupyter-widgets/controls",
            "_model_module_version": "1.5.0",
            "value": " 3.05G/3.05G [01:02&lt;00:00, 52.7MB/s]",
            "_view_count": null,
            "_view_module_version": "1.5.0",
            "description_tooltip": null,
            "_model_module": "@jupyter-widgets/controls",
            "layout": "IPY_MODEL_69fc35864ff94ee4b2423e5d2cb22af8"
          }
        },
        "c1fe524dee144e82b854c1864f3377f2": {
          "model_module": "@jupyter-widgets/controls",
          "model_name": "DescriptionStyleModel",
          "model_module_version": "1.5.0",
          "state": {
            "_view_name": "StyleView",
            "_model_name": "DescriptionStyleModel",
            "description_width": "",
            "_view_module": "@jupyter-widgets/base",
            "_model_module_version": "1.5.0",
            "_view_count": null,
            "_view_module_version": "1.2.0",
            "_model_module": "@jupyter-widgets/controls"
          }
        },
        "c49f3c65046d42be827edce929a39ff1": {
          "model_module": "@jupyter-widgets/base",
          "model_name": "LayoutModel",
          "model_module_version": "1.2.0",
          "state": {
            "_view_name": "LayoutView",
            "grid_template_rows": null,
            "right": null,
            "justify_content": null,
            "_view_module": "@jupyter-widgets/base",
            "overflow": null,
            "_model_module_version": "1.2.0",
            "_view_count": null,
            "flex_flow": null,
            "width": null,
            "min_width": null,
            "border": null,
            "align_items": null,
            "bottom": null,
            "_model_module": "@jupyter-widgets/base",
            "top": null,
            "grid_column": null,
            "overflow_y": null,
            "overflow_x": null,
            "grid_auto_flow": null,
            "grid_area": null,
            "grid_template_columns": null,
            "flex": null,
            "_model_name": "LayoutModel",
            "justify_items": null,
            "grid_row": null,
            "max_height": null,
            "align_content": null,
            "visibility": null,
            "align_self": null,
            "height": null,
            "min_height": null,
            "padding": null,
            "grid_auto_rows": null,
            "grid_gap": null,
            "max_width": null,
            "order": null,
            "_view_module_version": "1.2.0",
            "grid_template_areas": null,
            "object_position": null,
            "object_fit": null,
            "grid_auto_columns": null,
            "margin": null,
            "display": null,
            "left": null
          }
        },
        "c8a1a615317346c5a5e47180843dee92": {
          "model_module": "@jupyter-widgets/controls",
          "model_name": "ProgressStyleModel",
          "model_module_version": "1.5.0",
          "state": {
            "_view_name": "StyleView",
            "_model_name": "ProgressStyleModel",
            "description_width": "",
            "_view_module": "@jupyter-widgets/base",
            "_model_module_version": "1.5.0",
            "_view_count": null,
            "_view_module_version": "1.2.0",
            "bar_color": null,
            "_model_module": "@jupyter-widgets/controls"
          }
        },
        "2f3e0b6d3a114d539d1c9e60fd6f4cda": {
          "model_module": "@jupyter-widgets/base",
          "model_name": "LayoutModel",
          "model_module_version": "1.2.0",
          "state": {
            "_view_name": "LayoutView",
            "grid_template_rows": null,
            "right": null,
            "justify_content": null,
            "_view_module": "@jupyter-widgets/base",
            "overflow": null,
            "_model_module_version": "1.2.0",
            "_view_count": null,
            "flex_flow": null,
            "width": null,
            "min_width": null,
            "border": null,
            "align_items": null,
            "bottom": null,
            "_model_module": "@jupyter-widgets/base",
            "top": null,
            "grid_column": null,
            "overflow_y": null,
            "overflow_x": null,
            "grid_auto_flow": null,
            "grid_area": null,
            "grid_template_columns": null,
            "flex": null,
            "_model_name": "LayoutModel",
            "justify_items": null,
            "grid_row": null,
            "max_height": null,
            "align_content": null,
            "visibility": null,
            "align_self": null,
            "height": null,
            "min_height": null,
            "padding": null,
            "grid_auto_rows": null,
            "grid_gap": null,
            "max_width": null,
            "order": null,
            "_view_module_version": "1.2.0",
            "grid_template_areas": null,
            "object_position": null,
            "object_fit": null,
            "grid_auto_columns": null,
            "margin": null,
            "display": null,
            "left": null
          }
        },
        "f9739aef1561485da06dcedea80330ef": {
          "model_module": "@jupyter-widgets/controls",
          "model_name": "DescriptionStyleModel",
          "model_module_version": "1.5.0",
          "state": {
            "_view_name": "StyleView",
            "_model_name": "DescriptionStyleModel",
            "description_width": "",
            "_view_module": "@jupyter-widgets/base",
            "_model_module_version": "1.5.0",
            "_view_count": null,
            "_view_module_version": "1.2.0",
            "_model_module": "@jupyter-widgets/controls"
          }
        },
        "69fc35864ff94ee4b2423e5d2cb22af8": {
          "model_module": "@jupyter-widgets/base",
          "model_name": "LayoutModel",
          "model_module_version": "1.2.0",
          "state": {
            "_view_name": "LayoutView",
            "grid_template_rows": null,
            "right": null,
            "justify_content": null,
            "_view_module": "@jupyter-widgets/base",
            "overflow": null,
            "_model_module_version": "1.2.0",
            "_view_count": null,
            "flex_flow": null,
            "width": null,
            "min_width": null,
            "border": null,
            "align_items": null,
            "bottom": null,
            "_model_module": "@jupyter-widgets/base",
            "top": null,
            "grid_column": null,
            "overflow_y": null,
            "overflow_x": null,
            "grid_auto_flow": null,
            "grid_area": null,
            "grid_template_columns": null,
            "flex": null,
            "_model_name": "LayoutModel",
            "justify_items": null,
            "grid_row": null,
            "max_height": null,
            "align_content": null,
            "visibility": null,
            "align_self": null,
            "height": null,
            "min_height": null,
            "padding": null,
            "grid_auto_rows": null,
            "grid_gap": null,
            "max_width": null,
            "order": null,
            "_view_module_version": "1.2.0",
            "grid_template_areas": null,
            "object_position": null,
            "object_fit": null,
            "grid_auto_columns": null,
            "margin": null,
            "display": null,
            "left": null
          }
        }
      }
    }
  },
  "nbformat": 4,
  "nbformat_minor": 0
}