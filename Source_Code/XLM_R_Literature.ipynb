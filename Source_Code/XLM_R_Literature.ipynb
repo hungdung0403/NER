{
  "cells": [
    {
      "cell_type": "code",
      "execution_count": 1,
      "metadata": {
        "colab": {
          "base_uri": "https://localhost:8080/"
        },
        "id": "QkJRppUSB9Ko",
        "outputId": "033a4e48-f75e-44a0-8a4d-bfcf73309a9f"
      },
      "outputs": [
        {
          "output_type": "stream",
          "name": "stdout",
          "text": [
            "Requirement already satisfied: numpy in /usr/local/lib/python3.7/dist-packages (1.19.5)\n",
            "Requirement already satisfied: pandas in /usr/local/lib/python3.7/dist-packages (1.1.5)\n",
            "Requirement already satisfied: tqdm in /usr/local/lib/python3.7/dist-packages (4.62.3)\n",
            "Requirement already satisfied: sklearn in /usr/local/lib/python3.7/dist-packages (0.0)\n",
            "Collecting transformers\n",
            "  Downloading transformers-4.15.0-py3-none-any.whl (3.4 MB)\n",
            "\u001b[K     |████████████████████████████████| 3.4 MB 11.7 MB/s \n",
            "\u001b[?25hRequirement already satisfied: python-dateutil>=2.7.3 in /usr/local/lib/python3.7/dist-packages (from pandas) (2.8.2)\n",
            "Requirement already satisfied: pytz>=2017.2 in /usr/local/lib/python3.7/dist-packages (from pandas) (2018.9)\n",
            "Requirement already satisfied: six>=1.5 in /usr/local/lib/python3.7/dist-packages (from python-dateutil>=2.7.3->pandas) (1.15.0)\n",
            "Requirement already satisfied: scikit-learn in /usr/local/lib/python3.7/dist-packages (from sklearn) (1.0.1)\n",
            "Collecting huggingface-hub<1.0,>=0.1.0\n",
            "  Downloading huggingface_hub-0.2.1-py3-none-any.whl (61 kB)\n",
            "\u001b[K     |████████████████████████████████| 61 kB 464 kB/s \n",
            "\u001b[?25hRequirement already satisfied: filelock in /usr/local/lib/python3.7/dist-packages (from transformers) (3.4.0)\n",
            "Requirement already satisfied: regex!=2019.12.17 in /usr/local/lib/python3.7/dist-packages (from transformers) (2019.12.20)\n",
            "Requirement already satisfied: importlib-metadata in /usr/local/lib/python3.7/dist-packages (from transformers) (4.8.2)\n",
            "Collecting tokenizers<0.11,>=0.10.1\n",
            "  Downloading tokenizers-0.10.3-cp37-cp37m-manylinux_2_5_x86_64.manylinux1_x86_64.manylinux_2_12_x86_64.manylinux2010_x86_64.whl (3.3 MB)\n",
            "\u001b[K     |████████████████████████████████| 3.3 MB 47.4 MB/s \n",
            "\u001b[?25hRequirement already satisfied: packaging>=20.0 in /usr/local/lib/python3.7/dist-packages (from transformers) (21.3)\n",
            "Requirement already satisfied: requests in /usr/local/lib/python3.7/dist-packages (from transformers) (2.23.0)\n",
            "Collecting pyyaml>=5.1\n",
            "  Downloading PyYAML-6.0-cp37-cp37m-manylinux_2_5_x86_64.manylinux1_x86_64.manylinux_2_12_x86_64.manylinux2010_x86_64.whl (596 kB)\n",
            "\u001b[K     |████████████████████████████████| 596 kB 50.7 MB/s \n",
            "\u001b[?25hCollecting sacremoses\n",
            "  Downloading sacremoses-0.0.46-py3-none-any.whl (895 kB)\n",
            "\u001b[K     |████████████████████████████████| 895 kB 48.7 MB/s \n",
            "\u001b[?25hRequirement already satisfied: typing-extensions>=3.7.4.3 in /usr/local/lib/python3.7/dist-packages (from huggingface-hub<1.0,>=0.1.0->transformers) (3.10.0.2)\n",
            "Requirement already satisfied: pyparsing!=3.0.5,>=2.0.2 in /usr/local/lib/python3.7/dist-packages (from packaging>=20.0->transformers) (3.0.6)\n",
            "Requirement already satisfied: zipp>=0.5 in /usr/local/lib/python3.7/dist-packages (from importlib-metadata->transformers) (3.6.0)\n",
            "Requirement already satisfied: chardet<4,>=3.0.2 in /usr/local/lib/python3.7/dist-packages (from requests->transformers) (3.0.4)\n",
            "Requirement already satisfied: urllib3!=1.25.0,!=1.25.1,<1.26,>=1.21.1 in /usr/local/lib/python3.7/dist-packages (from requests->transformers) (1.24.3)\n",
            "Requirement already satisfied: idna<3,>=2.5 in /usr/local/lib/python3.7/dist-packages (from requests->transformers) (2.10)\n",
            "Requirement already satisfied: certifi>=2017.4.17 in /usr/local/lib/python3.7/dist-packages (from requests->transformers) (2021.10.8)\n",
            "Requirement already satisfied: joblib in /usr/local/lib/python3.7/dist-packages (from sacremoses->transformers) (1.1.0)\n",
            "Requirement already satisfied: click in /usr/local/lib/python3.7/dist-packages (from sacremoses->transformers) (7.1.2)\n",
            "Requirement already satisfied: threadpoolctl>=2.0.0 in /usr/local/lib/python3.7/dist-packages (from scikit-learn->sklearn) (3.0.0)\n",
            "Requirement already satisfied: scipy>=1.1.0 in /usr/local/lib/python3.7/dist-packages (from scikit-learn->sklearn) (1.4.1)\n",
            "Installing collected packages: pyyaml, tokenizers, sacremoses, huggingface-hub, transformers\n",
            "  Attempting uninstall: pyyaml\n",
            "    Found existing installation: PyYAML 3.13\n",
            "    Uninstalling PyYAML-3.13:\n",
            "      Successfully uninstalled PyYAML-3.13\n",
            "Successfully installed huggingface-hub-0.2.1 pyyaml-6.0 sacremoses-0.0.46 tokenizers-0.10.3 transformers-4.15.0\n",
            "Collecting sentencepiece\n",
            "  Downloading sentencepiece-0.1.96-cp37-cp37m-manylinux_2_17_x86_64.manylinux2014_x86_64.whl (1.2 MB)\n",
            "\u001b[K     |████████████████████████████████| 1.2 MB 13.4 MB/s \n",
            "\u001b[?25hInstalling collected packages: sentencepiece\n",
            "Successfully installed sentencepiece-0.1.96\n"
          ]
        }
      ],
      "source": [
        "!pip install numpy pandas tqdm sklearn transformers\n",
        "!pip install sentencepiece"
      ]
    },
    {
      "cell_type": "code",
      "execution_count": 2,
      "metadata": {
        "colab": {
          "base_uri": "https://localhost:8080/"
        },
        "id": "Eluck5uCeCp-",
        "outputId": "02d37cff-36e1-42cc-e11d-7a2d59cb26a9"
      },
      "outputs": [
        {
          "output_type": "stream",
          "name": "stdout",
          "text": [
            "Cloning into 'CrossNER'...\n",
            "remote: Enumerating objects: 172, done.\u001b[K\n",
            "remote: Counting objects: 100% (8/8), done.\u001b[K\n",
            "remote: Compressing objects: 100% (6/6), done.\u001b[K\n",
            "remote: Total 172 (delta 2), reused 2 (delta 2), pack-reused 164\u001b[K\n",
            "Receiving objects: 100% (172/172), 2.30 MiB | 8.20 MiB/s, done.\n",
            "Resolving deltas: 100% (77/77), done.\n"
          ]
        }
      ],
      "source": [
        "!git clone https://github.com/DinhLuan14/CrossNER.git"
      ]
    },
    {
      "cell_type": "code",
      "execution_count": 3,
      "metadata": {
        "id": "bdW5yfemE0dQ"
      },
      "outputs": [],
      "source": [
        "def prepare_dataset(PATH,convert2bio=False):\n",
        "  sents = []\n",
        "  chunks = open(PATH,'r').read().split('\\n\\n')\n",
        "  for chunk in chunks:\n",
        "    lines = chunk.split('\\n')\n",
        "    sent = []\n",
        "    current_tag = None\n",
        "    previous_tag = None\n",
        "    for line in lines:\n",
        "        if line != '':\n",
        "            token = line.split('\\t')\n",
        "            previous_tag = current_tag \n",
        "            current_tag = token[1]\n",
        "            if convert2bio:\n",
        "                if previous_tag == current_tag and current_tag != 'O':\n",
        "                    sent.append((token[0],token[1]))\n",
        "                elif previous_tag != current_tag and current_tag != 'O':\n",
        "                    sent.append((token[0],token[1]))\n",
        "                else:\n",
        "                    sent.append((token[0],token[1]))\n",
        "            else:\n",
        "                sent.append((token[0],token[1]))\n",
        "    sents.append(sent)\n",
        "  return sents"
      ]
    },
    {
      "cell_type": "code",
      "execution_count": 4,
      "metadata": {
        "id": "d0_-FCCQFsru"
      },
      "outputs": [],
      "source": [
        "samples_train = prepare_dataset('/content/CrossNER/ner_data/literature/train.txt',convert2bio=True)\n",
        "samples_valid = prepare_dataset('/content/CrossNER/ner_data/literature/dev.txt',convert2bio=True)\n",
        "samples_test = prepare_dataset('/content/CrossNER/ner_data/literature/test.txt',convert2bio=True)"
      ]
    },
    {
      "cell_type": "code",
      "execution_count": 5,
      "metadata": {
        "id": "NgA_QWZmF1Gl"
      },
      "outputs": [],
      "source": [
        "samples = samples_train + samples_test + samples_valid\n",
        "schema = ['_'] + sorted({tag for sentence in samples \n",
        "                             for _, tag in sentence})"
      ]
    },
    {
      "cell_type": "code",
      "execution_count": 6,
      "metadata": {
        "id": "CG-cw57zGJbV",
        "colab": {
          "base_uri": "https://localhost:8080/",
          "height": 81,
          "referenced_widgets": [
            "d9b587057d8d420083b215cd8aa9f950",
            "85fa960c969f4b85939170c17aef624d",
            "36c9d64b247c40c1b15a7fe22d1bb8fc",
            "c04c2ffc0623479cb23ab5feacc874a1",
            "d40c228f718f498f965915cd7cdcb4f5",
            "d012e6c5eff84a7ea5151b3bf63fe612",
            "0242cbe31c54483d91215627a5ca0848",
            "1ca5805240f54dc6a6d3108591f5a38d",
            "e30e860dc7b74aafb6f004d710007716",
            "137b3b6cc3f04a89b73b9d88c6955200",
            "cc9cfd81082f409481418aa1b95e39f6",
            "27027e44e79a4ad086ccb73283d81f5b",
            "90b081a79b204faeba2667bd3887ef65",
            "9e302f14ecc34b35abc5478badceacf0",
            "2c0682419e0d42f4bca6f0b9c4b1c2a4",
            "9c5fbee6da544a7e853cf9bfc615e563",
            "3fc38aef5e8d4e37868f2eda905319f6",
            "43b756d8906b4b66a1e5e93a5bfeb241",
            "ec23f541abc7408a974a85e843377652",
            "e86db5b4722a442c9707bd33f240d612",
            "f8dab457f1c641acb860c7d1fb0400b6",
            "a1acb525c03d4d74a67808eb6c37748b"
          ]
        },
        "outputId": "7891433a-8815-47c5-c5b0-e1479e12e80d"
      },
      "outputs": [
        {
          "output_type": "display_data",
          "data": {
            "application/vnd.jupyter.widget-view+json": {
              "model_id": "d9b587057d8d420083b215cd8aa9f950",
              "version_minor": 0,
              "version_major": 2
            },
            "text/plain": [
              "Downloading:   0%|          | 0.00/513 [00:00<?, ?B/s]"
            ]
          },
          "metadata": {}
        },
        {
          "output_type": "display_data",
          "data": {
            "application/vnd.jupyter.widget-view+json": {
              "model_id": "27027e44e79a4ad086ccb73283d81f5b",
              "version_minor": 0,
              "version_major": 2
            },
            "text/plain": [
              "Downloading:   0%|          | 0.00/4.83M [00:00<?, ?B/s]"
            ]
          },
          "metadata": {}
        }
      ],
      "source": [
        "import numpy as np\n",
        "from tqdm import tqdm\n",
        "import pandas as pd\n",
        "import json\n",
        "import tensorflow as tf\n",
        "from transformers import AutoTokenizer\n",
        "from transformers import AutoConfig, TFXLMRobertaForTokenClassification\n",
        "\n",
        "MODEL_NAME = 'jplu/tf-xlm-roberta-large'\n",
        "tokenizer = AutoTokenizer.from_pretrained(MODEL_NAME)"
      ]
    },
    {
      "cell_type": "code",
      "execution_count": 7,
      "metadata": {
        "colab": {
          "base_uri": "https://localhost:8080/"
        },
        "id": "EjtDPNA-GXp6",
        "outputId": "4d5fca6b-e59e-4420-c8f7-da6cb3ffcfc5"
      },
      "outputs": [
        {
          "output_type": "stream",
          "name": "stderr",
          "text": [
            "101it [00:00, 245.34it/s]\n",
            "401it [00:01, 256.20it/s]\n",
            "417it [00:01, 237.41it/s]\n"
          ]
        }
      ],
      "source": [
        "def tokenize_sample(sample):\n",
        "  seq = [\n",
        "            (subtoken, tag)\n",
        "            for token, tag in sample\n",
        "            for subtoken in tokenizer(token)['input_ids'][1:-1]\n",
        "        ]\n",
        "  return [(3, 'O')] + seq + [(4, 'O')]\n",
        "\n",
        "def preprocess(samples,schema,max_len_sent=None):\n",
        "    if max_len_sent != None:\n",
        "      reduced_samples = []\n",
        "      for sample in samples:\n",
        "        if len(sample) < max_len_sent:\n",
        "          reduced_samples.append(sample)\n",
        "    else:\n",
        "      reduced_samples = samples\n",
        "    \n",
        "    tag_index = {tag: i for i, tag in enumerate(schema)}\n",
        "    tokenized_samples = list(tqdm(map(tokenize_sample, reduced_samples)))\n",
        "    max_len = max(map(len, tokenized_samples))\n",
        "    X = np.zeros((len(samples), max_len), dtype=np.int32)\n",
        "    y = np.zeros((len(samples), max_len), dtype=np.int32)\n",
        "    for i, sentence in enumerate(tokenized_samples):\n",
        "        for j, (subtoken_id, tag) in enumerate(sentence):\n",
        "            X[i, j] = subtoken_id\n",
        "            y[i,j] = tag_index[tag]\n",
        "    return X, y\n",
        "\n",
        "X_train, y_train = preprocess(samples_train,schema,max_len_sent=100)\n",
        "X_val, y_val = preprocess(samples_valid,schema,max_len_sent=100)\n",
        "X_test, y_test = preprocess(samples_test,schema,max_len_sent=100)"
      ]
    },
    {
      "cell_type": "code",
      "execution_count": 8,
      "metadata": {
        "colab": {
          "base_uri": "https://localhost:8080/",
          "height": 122,
          "referenced_widgets": [
            "a2abe85947ad4e1782be39298391c9b1",
            "00ef1d80ec2844908454542025901505",
            "bf39d116817840e3b850f4e3e9b65ad3",
            "57ec06de5abe4fce97c290321480e2e0",
            "f6c3ff64e6444fba9a2a91c4368d9da1",
            "93fa71e512814c8ca20438b8c9c7badc",
            "ca816d2e277c4a0390ab9a40889a6fee",
            "d2e785d666854074b2afd0ca0389f3e2",
            "89278853c7b34b6e84b2d461508d7738",
            "f6901a941a8843dc967cd93f871e445b",
            "48c2dce648e64ea5b6b57cc0f9b152e9"
          ]
        },
        "id": "cgZ_v3DlGRFq",
        "outputId": "b6d107f9-3928-4c08-ae4c-4723beac93d9"
      },
      "outputs": [
        {
          "output_type": "display_data",
          "data": {
            "application/vnd.jupyter.widget-view+json": {
              "model_id": "a2abe85947ad4e1782be39298391c9b1",
              "version_minor": 0,
              "version_major": 2
            },
            "text/plain": [
              "Downloading:   0%|          | 0.00/3.05G [00:00<?, ?B/s]"
            ]
          },
          "metadata": {}
        },
        {
          "output_type": "stream",
          "name": "stderr",
          "text": [
            "All model checkpoint layers were used when initializing TFXLMRobertaForTokenClassification.\n",
            "\n",
            "Some layers of TFXLMRobertaForTokenClassification were not initialized from the model checkpoint at jplu/tf-xlm-roberta-large and are newly initialized: ['classifier']\n",
            "You should probably TRAIN this model on a down-stream task to be able to use it for predictions and inference.\n"
          ]
        }
      ],
      "source": [
        "NR_EPOCHS=20\n",
        "BATCH_SIZE=2\n",
        "model = TFXLMRobertaForTokenClassification.from_pretrained(MODEL_NAME,num_labels=len(schema))"
      ]
    },
    {
      "cell_type": "code",
      "source": [
        "optimizer = tf.keras.optimizers.Adam(learning_rate=3e-6)\n",
        "loss = tf.keras.losses.SparseCategoricalCrossentropy(from_logits=True)\n",
        "model.compile(optimizer=optimizer, loss=loss, metrics='accuracy')\n",
        "  #model.load_weights(checkpoint_filepath)\n",
        "history = model.fit(tf.constant(X_train), tf.constant(y_train),\n",
        "                      validation_data=(X_val,y_val), epochs=NR_EPOCHS, \n",
        "                      batch_size=2,verbose=1)"
      ],
      "metadata": {
        "colab": {
          "base_uri": "https://localhost:8080/"
        },
        "id": "NvR-p1GV2afA",
        "outputId": "19e3d3dc-b0d0-45d0-bc1a-c80d8784da56"
      },
      "execution_count": 19,
      "outputs": [
        {
          "output_type": "stream",
          "name": "stdout",
          "text": [
            "Epoch 1/20\n",
            "51/51 [==============================] - 123s 2s/step - loss: 0.1540 - accuracy: 0.9607 - val_loss: 0.2424 - val_accuracy: 0.9353\n",
            "Epoch 2/20\n",
            "51/51 [==============================] - 69s 1s/step - loss: 0.1403 - accuracy: 0.9653 - val_loss: 0.2401 - val_accuracy: 0.9361\n",
            "Epoch 3/20\n",
            "51/51 [==============================] - 69s 1s/step - loss: 0.1238 - accuracy: 0.9691 - val_loss: 0.2376 - val_accuracy: 0.9382\n",
            "Epoch 4/20\n",
            "51/51 [==============================] - 70s 1s/step - loss: 0.1084 - accuracy: 0.9723 - val_loss: 0.2318 - val_accuracy: 0.9392\n",
            "Epoch 5/20\n",
            "51/51 [==============================] - 71s 1s/step - loss: 0.0966 - accuracy: 0.9762 - val_loss: 0.2282 - val_accuracy: 0.9412\n",
            "Epoch 6/20\n",
            "51/51 [==============================] - 69s 1s/step - loss: 0.0854 - accuracy: 0.9784 - val_loss: 0.2246 - val_accuracy: 0.9417\n",
            "Epoch 7/20\n",
            "51/51 [==============================] - 69s 1s/step - loss: 0.0803 - accuracy: 0.9808 - val_loss: 0.2340 - val_accuracy: 0.9429\n",
            "Epoch 8/20\n",
            "51/51 [==============================] - 69s 1s/step - loss: 0.0761 - accuracy: 0.9830 - val_loss: 0.2297 - val_accuracy: 0.9435\n",
            "Epoch 9/20\n",
            "51/51 [==============================] - 69s 1s/step - loss: 0.0656 - accuracy: 0.9847 - val_loss: 0.2343 - val_accuracy: 0.9441\n",
            "Epoch 10/20\n",
            "51/51 [==============================] - 69s 1s/step - loss: 0.0598 - accuracy: 0.9857 - val_loss: 0.2305 - val_accuracy: 0.9456\n",
            "Epoch 11/20\n",
            "51/51 [==============================] - 69s 1s/step - loss: 0.0542 - accuracy: 0.9884 - val_loss: 0.2362 - val_accuracy: 0.9434\n",
            "Epoch 12/20\n",
            "51/51 [==============================] - 69s 1s/step - loss: 0.0495 - accuracy: 0.9879 - val_loss: 0.2423 - val_accuracy: 0.9434\n",
            "Epoch 13/20\n",
            "51/51 [==============================] - 69s 1s/step - loss: 0.0443 - accuracy: 0.9912 - val_loss: 0.2318 - val_accuracy: 0.9456\n",
            "Epoch 14/20\n",
            "51/51 [==============================] - 69s 1s/step - loss: 0.0389 - accuracy: 0.9929 - val_loss: 0.2395 - val_accuracy: 0.9459\n",
            "Epoch 15/20\n",
            "51/51 [==============================] - 69s 1s/step - loss: 0.0361 - accuracy: 0.9939 - val_loss: 0.2367 - val_accuracy: 0.9466\n",
            "Epoch 16/20\n",
            "51/51 [==============================] - 69s 1s/step - loss: 0.0340 - accuracy: 0.9929 - val_loss: 0.2474 - val_accuracy: 0.9449\n",
            "Epoch 17/20\n",
            "51/51 [==============================] - 69s 1s/step - loss: 0.0335 - accuracy: 0.9929 - val_loss: 0.2411 - val_accuracy: 0.9464\n",
            "Epoch 18/20\n",
            "51/51 [==============================] - 69s 1s/step - loss: 0.0381 - accuracy: 0.9927 - val_loss: 0.2446 - val_accuracy: 0.9471\n",
            "Epoch 19/20\n",
            "51/51 [==============================] - 70s 1s/step - loss: 0.0337 - accuracy: 0.9935 - val_loss: 0.2439 - val_accuracy: 0.9448\n",
            "Epoch 20/20\n",
            "51/51 [==============================] - 69s 1s/step - loss: 0.0275 - accuracy: 0.9947 - val_loss: 0.2504 - val_accuracy: 0.9473\n"
          ]
        }
      ]
    },
    {
      "cell_type": "code",
      "execution_count": 20,
      "metadata": {
        "id": "F19rly-unaw1"
      },
      "outputs": [],
      "source": [
        "def aggregate(sample,schema,predictions):\n",
        "    results = []\n",
        "    i = 1\n",
        "    for token, y_true in sample:\n",
        "        nr_subtoken = len(tokenizer(token)['input_ids']) - 2\n",
        "        pred = predictions[i:i+nr_subtoken]\n",
        "        i += nr_subtoken\n",
        "        y_pred = schema[np.argmax(np.sum(pred, axis=0))]\n",
        "        results.append((token, y_true, y_pred))\n",
        "    return results\n",
        " \n",
        "y_probs = model.predict(X_test)[0]\n",
        "predictions = [aggregate(sample,schema,predictions) for sample, predictions in zip(samples_test, y_probs)]"
      ]
    },
    {
      "cell_type": "code",
      "source": [
        "y = []\n",
        "y_hat = []\n",
        "y_pre = []\n",
        "for pred in predictions:\n",
        "  for token in pred:\n",
        "    y.append(token[1])\n",
        "    y_hat.append(token[2])\n",
        "    y_pre.append('O')\n",
        "len(y_hat)"
      ],
      "metadata": {
        "id": "NAg9X6Y5ZBtg",
        "colab": {
          "base_uri": "https://localhost:8080/"
        },
        "outputId": "21ad76e6-60bb-470a-b5bf-1320ddb0717a"
      },
      "execution_count": 22,
      "outputs": [
        {
          "output_type": "execute_result",
          "data": {
            "text/plain": [
              "16157"
            ]
          },
          "metadata": {},
          "execution_count": 22
        }
      ]
    },
    {
      "cell_type": "code",
      "source": [
        "from sklearn.metrics import f1_score\n",
        "print('micro f1:',f1_score(y,y_hat,average='micro'))\n",
        "print('macro f1:',f1_score(y,y_hat,average='macro'))"
      ],
      "metadata": {
        "id": "L_7HXzYRZCK_",
        "colab": {
          "base_uri": "https://localhost:8080/"
        },
        "outputId": "39d64d91-de0f-4a6d-9745-2b434f7e3bbb"
      },
      "execution_count": 23,
      "outputs": [
        {
          "output_type": "stream",
          "name": "stdout",
          "text": [
            "micro f1: 0.9019001052175528\n",
            "macro f1: 0.6494307228233492\n"
          ]
        }
      ]
    },
    {
      "cell_type": "code",
      "source": [
        "print('micro f1:',f1_score(y,y_pre,average='micro'))\n",
        "print('macro f1:',f1_score(y,y_pre,average='macro'))"
      ],
      "metadata": {
        "id": "QSnmjzExAd4l",
        "colab": {
          "base_uri": "https://localhost:8080/"
        },
        "outputId": "8a7bcc39-e3ca-412d-dd31-4a7b0d3d5605"
      },
      "execution_count": 24,
      "outputs": [
        {
          "output_type": "stream",
          "name": "stdout",
          "text": [
            "micro f1: 0.6774153617627034\n",
            "macro f1: 0.03230757877647406\n"
          ]
        }
      ]
    },
    {
      "cell_type": "code",
      "source": [
        "import json\n",
        "from sklearn.metrics import classification_report\n",
        "from sklearn.metrics import confusion_matrix\n",
        "import seaborn as sns\n",
        "import matplotlib.pyplot as plt\n",
        "from sklearn.metrics import confusion_matrix\n",
        "\n",
        "print(classification_report(y, y_hat,digits=4))"
      ],
      "metadata": {
        "id": "1BVS47OSyiIo",
        "colab": {
          "base_uri": "https://localhost:8080/"
        },
        "outputId": "f57ec3fa-bf4c-4b7f-bb21-7b31f7219157"
      },
      "execution_count": 25,
      "outputs": [
        {
          "output_type": "stream",
          "name": "stdout",
          "text": [
            "                 precision    recall  f1-score   support\n",
            "\n",
            "        B-award     0.9071    0.9007    0.9039       141\n",
            "         B-book     0.6440    0.9043    0.7522       418\n",
            "      B-country     0.6148    0.8218    0.7034       101\n",
            "        B-event     0.6842    0.2889    0.4062        45\n",
            "B-literarygenre     0.5342    0.6443    0.5841       194\n",
            "     B-location     0.5932    0.7071    0.6452        99\n",
            "     B-magazine     0.8596    0.8596    0.8596        57\n",
            "         B-misc     0.4791    0.4310    0.4537       239\n",
            " B-organisation     0.9077    0.5364    0.6743       110\n",
            "       B-person     0.5676    0.4800    0.5201       175\n",
            "         B-poem     0.5200    0.2167    0.3059       120\n",
            "       B-writer     0.8407    0.8748    0.8574       567\n",
            "        I-award     0.9067    0.9284    0.9174       335\n",
            "         I-book     0.7160    0.9432    0.8140       898\n",
            "      I-country     0.7037    0.6786    0.6909        56\n",
            "        I-event     0.7097    0.7416    0.7253        89\n",
            "I-literarygenre     0.6923    0.2143    0.3273        84\n",
            "     I-location     0.7447    0.4605    0.5691        76\n",
            "     I-magazine     0.9364    0.9035    0.9196       114\n",
            "         I-misc     0.2131    0.0660    0.1008       197\n",
            " I-organisation     0.8963    0.7538    0.8189       195\n",
            "       I-person     0.7125    0.4222    0.5302       135\n",
            "         I-poem     0.6610    0.1681    0.2680       232\n",
            "       I-writer     0.8733    0.9402    0.9055       535\n",
            "              O     0.9799    0.9851    0.9825     10945\n",
            "\n",
            "       accuracy                         0.9019     16157\n",
            "      macro avg     0.7159    0.6348    0.6494     16157\n",
            "   weighted avg     0.8964    0.9019    0.8926     16157\n",
            "\n"
          ]
        }
      ]
    },
    {
      "cell_type": "code",
      "source": [
        "print(classification_report(y, y_pre,digits=4))"
      ],
      "metadata": {
        "id": "OO9ynW4D03KU",
        "colab": {
          "base_uri": "https://localhost:8080/"
        },
        "outputId": "9e7cb2b2-2d15-4be9-80e7-f3467eff00b2"
      },
      "execution_count": 26,
      "outputs": [
        {
          "output_type": "stream",
          "name": "stdout",
          "text": [
            "                 precision    recall  f1-score   support\n",
            "\n",
            "        B-award     0.0000    0.0000    0.0000       141\n",
            "         B-book     0.0000    0.0000    0.0000       418\n",
            "      B-country     0.0000    0.0000    0.0000       101\n",
            "        B-event     0.0000    0.0000    0.0000        45\n",
            "B-literarygenre     0.0000    0.0000    0.0000       194\n",
            "     B-location     0.0000    0.0000    0.0000        99\n",
            "     B-magazine     0.0000    0.0000    0.0000        57\n",
            "         B-misc     0.0000    0.0000    0.0000       239\n",
            " B-organisation     0.0000    0.0000    0.0000       110\n",
            "       B-person     0.0000    0.0000    0.0000       175\n",
            "         B-poem     0.0000    0.0000    0.0000       120\n",
            "       B-writer     0.0000    0.0000    0.0000       567\n",
            "        I-award     0.0000    0.0000    0.0000       335\n",
            "         I-book     0.0000    0.0000    0.0000       898\n",
            "      I-country     0.0000    0.0000    0.0000        56\n",
            "        I-event     0.0000    0.0000    0.0000        89\n",
            "I-literarygenre     0.0000    0.0000    0.0000        84\n",
            "     I-location     0.0000    0.0000    0.0000        76\n",
            "     I-magazine     0.0000    0.0000    0.0000       114\n",
            "         I-misc     0.0000    0.0000    0.0000       197\n",
            " I-organisation     0.0000    0.0000    0.0000       195\n",
            "       I-person     0.0000    0.0000    0.0000       135\n",
            "         I-poem     0.0000    0.0000    0.0000       232\n",
            "       I-writer     0.0000    0.0000    0.0000       535\n",
            "              O     0.6774    1.0000    0.8077     10945\n",
            "\n",
            "       accuracy                         0.6774     16157\n",
            "      macro avg     0.0271    0.0400    0.0323     16157\n",
            "   weighted avg     0.4589    0.6774    0.5471     16157\n",
            "\n"
          ]
        },
        {
          "output_type": "stream",
          "name": "stderr",
          "text": [
            "/usr/local/lib/python3.7/dist-packages/sklearn/metrics/_classification.py:1308: UndefinedMetricWarning: Precision and F-score are ill-defined and being set to 0.0 in labels with no predicted samples. Use `zero_division` parameter to control this behavior.\n",
            "  _warn_prf(average, modifier, msg_start, len(result))\n",
            "/usr/local/lib/python3.7/dist-packages/sklearn/metrics/_classification.py:1308: UndefinedMetricWarning: Precision and F-score are ill-defined and being set to 0.0 in labels with no predicted samples. Use `zero_division` parameter to control this behavior.\n",
            "  _warn_prf(average, modifier, msg_start, len(result))\n",
            "/usr/local/lib/python3.7/dist-packages/sklearn/metrics/_classification.py:1308: UndefinedMetricWarning: Precision and F-score are ill-defined and being set to 0.0 in labels with no predicted samples. Use `zero_division` parameter to control this behavior.\n",
            "  _warn_prf(average, modifier, msg_start, len(result))\n"
          ]
        }
      ]
    },
    {
      "cell_type": "code",
      "source": [
        "predictions[250]"
      ],
      "metadata": {
        "id": "p1AR61WZZGDC",
        "colab": {
          "base_uri": "https://localhost:8080/"
        },
        "outputId": "4022050e-2201-4979-d396-41f429f478e0"
      },
      "execution_count": 27,
      "outputs": [
        {
          "output_type": "execute_result",
          "data": {
            "text/plain": [
              "[('Writing', 'O', 'O'),\n",
              " ('for', 'O', 'O'),\n",
              " ('The', 'B-magazine', 'B-book'),\n",
              " ('Spectator', 'I-magazine', 'I-book'),\n",
              " (',', 'O', 'O'),\n",
              " ('Graham', 'B-writer', 'B-writer'),\n",
              " ('Greene', 'I-writer', 'I-writer'),\n",
              " ('expressed', 'O', 'O'),\n",
              " ('similar', 'O', 'O'),\n",
              " ('views', 'O', 'O'),\n",
              " (',', 'O', 'O'),\n",
              " ('acerbically', 'O', 'O'),\n",
              " ('noting', 'O', 'O'),\n",
              " ('of', 'O', 'O'),\n",
              " ('the', 'O', 'O'),\n",
              " ('film', 'O', 'O'),\n",
              " ('that', 'O', 'O'),\n",
              " ('it', 'O', 'O'),\n",
              " ('goes', 'O', 'O'),\n",
              " ('on', 'O', 'O'),\n",
              " ('too', 'O', 'O'),\n",
              " ('long', 'O', 'O'),\n",
              " (',', 'O', 'O'),\n",
              " ('otherwise', 'O', 'O'),\n",
              " ('it', 'O', 'O'),\n",
              " ('might', 'O', 'O'),\n",
              " ('have', 'O', 'O'),\n",
              " ('been', 'O', 'O'),\n",
              " ('the', 'O', 'O'),\n",
              " ('funniest', 'O', 'O'),\n",
              " ('film', 'O', 'O'),\n",
              " ('since', 'O', 'O'),\n",
              " ('The', 'B-misc', 'B-book'),\n",
              " ('Crusades', 'I-misc', 'I-book'),\n",
              " ('.', 'O', 'O')]"
            ]
          },
          "metadata": {},
          "execution_count": 27
        }
      ]
    }
  ],
  "metadata": {
    "colab": {
      "name": "XLM-R_literature",
      "provenance": [],
      "collapsed_sections": []
    },
    "kernelspec": {
      "display_name": "Python 3",
      "name": "python3"
    },
    "language_info": {
      "name": "python"
    },
    "widgets": {
      "application/vnd.jupyter.widget-state+json": {
        "d9b587057d8d420083b215cd8aa9f950": {
          "model_module": "@jupyter-widgets/controls",
          "model_name": "HBoxModel",
          "model_module_version": "1.5.0",
          "state": {
            "_view_name": "HBoxView",
            "_dom_classes": [],
            "_model_name": "HBoxModel",
            "_view_module": "@jupyter-widgets/controls",
            "_model_module_version": "1.5.0",
            "_view_count": null,
            "_view_module_version": "1.5.0",
            "box_style": "",
            "layout": "IPY_MODEL_85fa960c969f4b85939170c17aef624d",
            "_model_module": "@jupyter-widgets/controls",
            "children": [
              "IPY_MODEL_36c9d64b247c40c1b15a7fe22d1bb8fc",
              "IPY_MODEL_c04c2ffc0623479cb23ab5feacc874a1",
              "IPY_MODEL_d40c228f718f498f965915cd7cdcb4f5"
            ]
          }
        },
        "85fa960c969f4b85939170c17aef624d": {
          "model_module": "@jupyter-widgets/base",
          "model_name": "LayoutModel",
          "model_module_version": "1.2.0",
          "state": {
            "_view_name": "LayoutView",
            "grid_template_rows": null,
            "right": null,
            "justify_content": null,
            "_view_module": "@jupyter-widgets/base",
            "overflow": null,
            "_model_module_version": "1.2.0",
            "_view_count": null,
            "flex_flow": null,
            "width": null,
            "min_width": null,
            "border": null,
            "align_items": null,
            "bottom": null,
            "_model_module": "@jupyter-widgets/base",
            "top": null,
            "grid_column": null,
            "overflow_y": null,
            "overflow_x": null,
            "grid_auto_flow": null,
            "grid_area": null,
            "grid_template_columns": null,
            "flex": null,
            "_model_name": "LayoutModel",
            "justify_items": null,
            "grid_row": null,
            "max_height": null,
            "align_content": null,
            "visibility": null,
            "align_self": null,
            "height": null,
            "min_height": null,
            "padding": null,
            "grid_auto_rows": null,
            "grid_gap": null,
            "max_width": null,
            "order": null,
            "_view_module_version": "1.2.0",
            "grid_template_areas": null,
            "object_position": null,
            "object_fit": null,
            "grid_auto_columns": null,
            "margin": null,
            "display": null,
            "left": null
          }
        },
        "36c9d64b247c40c1b15a7fe22d1bb8fc": {
          "model_module": "@jupyter-widgets/controls",
          "model_name": "HTMLModel",
          "model_module_version": "1.5.0",
          "state": {
            "_view_name": "HTMLView",
            "style": "IPY_MODEL_d012e6c5eff84a7ea5151b3bf63fe612",
            "_dom_classes": [],
            "description": "",
            "_model_name": "HTMLModel",
            "placeholder": "​",
            "_view_module": "@jupyter-widgets/controls",
            "_model_module_version": "1.5.0",
            "value": "Downloading: 100%",
            "_view_count": null,
            "_view_module_version": "1.5.0",
            "description_tooltip": null,
            "_model_module": "@jupyter-widgets/controls",
            "layout": "IPY_MODEL_0242cbe31c54483d91215627a5ca0848"
          }
        },
        "c04c2ffc0623479cb23ab5feacc874a1": {
          "model_module": "@jupyter-widgets/controls",
          "model_name": "FloatProgressModel",
          "model_module_version": "1.5.0",
          "state": {
            "_view_name": "ProgressView",
            "style": "IPY_MODEL_1ca5805240f54dc6a6d3108591f5a38d",
            "_dom_classes": [],
            "description": "",
            "_model_name": "FloatProgressModel",
            "bar_style": "success",
            "max": 513,
            "_view_module": "@jupyter-widgets/controls",
            "_model_module_version": "1.5.0",
            "value": 513,
            "_view_count": null,
            "_view_module_version": "1.5.0",
            "orientation": "horizontal",
            "min": 0,
            "description_tooltip": null,
            "_model_module": "@jupyter-widgets/controls",
            "layout": "IPY_MODEL_e30e860dc7b74aafb6f004d710007716"
          }
        },
        "d40c228f718f498f965915cd7cdcb4f5": {
          "model_module": "@jupyter-widgets/controls",
          "model_name": "HTMLModel",
          "model_module_version": "1.5.0",
          "state": {
            "_view_name": "HTMLView",
            "style": "IPY_MODEL_137b3b6cc3f04a89b73b9d88c6955200",
            "_dom_classes": [],
            "description": "",
            "_model_name": "HTMLModel",
            "placeholder": "​",
            "_view_module": "@jupyter-widgets/controls",
            "_model_module_version": "1.5.0",
            "value": " 513/513 [00:00&lt;00:00, 3.21kB/s]",
            "_view_count": null,
            "_view_module_version": "1.5.0",
            "description_tooltip": null,
            "_model_module": "@jupyter-widgets/controls",
            "layout": "IPY_MODEL_cc9cfd81082f409481418aa1b95e39f6"
          }
        },
        "d012e6c5eff84a7ea5151b3bf63fe612": {
          "model_module": "@jupyter-widgets/controls",
          "model_name": "DescriptionStyleModel",
          "model_module_version": "1.5.0",
          "state": {
            "_view_name": "StyleView",
            "_model_name": "DescriptionStyleModel",
            "description_width": "",
            "_view_module": "@jupyter-widgets/base",
            "_model_module_version": "1.5.0",
            "_view_count": null,
            "_view_module_version": "1.2.0",
            "_model_module": "@jupyter-widgets/controls"
          }
        },
        "0242cbe31c54483d91215627a5ca0848": {
          "model_module": "@jupyter-widgets/base",
          "model_name": "LayoutModel",
          "model_module_version": "1.2.0",
          "state": {
            "_view_name": "LayoutView",
            "grid_template_rows": null,
            "right": null,
            "justify_content": null,
            "_view_module": "@jupyter-widgets/base",
            "overflow": null,
            "_model_module_version": "1.2.0",
            "_view_count": null,
            "flex_flow": null,
            "width": null,
            "min_width": null,
            "border": null,
            "align_items": null,
            "bottom": null,
            "_model_module": "@jupyter-widgets/base",
            "top": null,
            "grid_column": null,
            "overflow_y": null,
            "overflow_x": null,
            "grid_auto_flow": null,
            "grid_area": null,
            "grid_template_columns": null,
            "flex": null,
            "_model_name": "LayoutModel",
            "justify_items": null,
            "grid_row": null,
            "max_height": null,
            "align_content": null,
            "visibility": null,
            "align_self": null,
            "height": null,
            "min_height": null,
            "padding": null,
            "grid_auto_rows": null,
            "grid_gap": null,
            "max_width": null,
            "order": null,
            "_view_module_version": "1.2.0",
            "grid_template_areas": null,
            "object_position": null,
            "object_fit": null,
            "grid_auto_columns": null,
            "margin": null,
            "display": null,
            "left": null
          }
        },
        "1ca5805240f54dc6a6d3108591f5a38d": {
          "model_module": "@jupyter-widgets/controls",
          "model_name": "ProgressStyleModel",
          "model_module_version": "1.5.0",
          "state": {
            "_view_name": "StyleView",
            "_model_name": "ProgressStyleModel",
            "description_width": "",
            "_view_module": "@jupyter-widgets/base",
            "_model_module_version": "1.5.0",
            "_view_count": null,
            "_view_module_version": "1.2.0",
            "bar_color": null,
            "_model_module": "@jupyter-widgets/controls"
          }
        },
        "e30e860dc7b74aafb6f004d710007716": {
          "model_module": "@jupyter-widgets/base",
          "model_name": "LayoutModel",
          "model_module_version": "1.2.0",
          "state": {
            "_view_name": "LayoutView",
            "grid_template_rows": null,
            "right": null,
            "justify_content": null,
            "_view_module": "@jupyter-widgets/base",
            "overflow": null,
            "_model_module_version": "1.2.0",
            "_view_count": null,
            "flex_flow": null,
            "width": null,
            "min_width": null,
            "border": null,
            "align_items": null,
            "bottom": null,
            "_model_module": "@jupyter-widgets/base",
            "top": null,
            "grid_column": null,
            "overflow_y": null,
            "overflow_x": null,
            "grid_auto_flow": null,
            "grid_area": null,
            "grid_template_columns": null,
            "flex": null,
            "_model_name": "LayoutModel",
            "justify_items": null,
            "grid_row": null,
            "max_height": null,
            "align_content": null,
            "visibility": null,
            "align_self": null,
            "height": null,
            "min_height": null,
            "padding": null,
            "grid_auto_rows": null,
            "grid_gap": null,
            "max_width": null,
            "order": null,
            "_view_module_version": "1.2.0",
            "grid_template_areas": null,
            "object_position": null,
            "object_fit": null,
            "grid_auto_columns": null,
            "margin": null,
            "display": null,
            "left": null
          }
        },
        "137b3b6cc3f04a89b73b9d88c6955200": {
          "model_module": "@jupyter-widgets/controls",
          "model_name": "DescriptionStyleModel",
          "model_module_version": "1.5.0",
          "state": {
            "_view_name": "StyleView",
            "_model_name": "DescriptionStyleModel",
            "description_width": "",
            "_view_module": "@jupyter-widgets/base",
            "_model_module_version": "1.5.0",
            "_view_count": null,
            "_view_module_version": "1.2.0",
            "_model_module": "@jupyter-widgets/controls"
          }
        },
        "cc9cfd81082f409481418aa1b95e39f6": {
          "model_module": "@jupyter-widgets/base",
          "model_name": "LayoutModel",
          "model_module_version": "1.2.0",
          "state": {
            "_view_name": "LayoutView",
            "grid_template_rows": null,
            "right": null,
            "justify_content": null,
            "_view_module": "@jupyter-widgets/base",
            "overflow": null,
            "_model_module_version": "1.2.0",
            "_view_count": null,
            "flex_flow": null,
            "width": null,
            "min_width": null,
            "border": null,
            "align_items": null,
            "bottom": null,
            "_model_module": "@jupyter-widgets/base",
            "top": null,
            "grid_column": null,
            "overflow_y": null,
            "overflow_x": null,
            "grid_auto_flow": null,
            "grid_area": null,
            "grid_template_columns": null,
            "flex": null,
            "_model_name": "LayoutModel",
            "justify_items": null,
            "grid_row": null,
            "max_height": null,
            "align_content": null,
            "visibility": null,
            "align_self": null,
            "height": null,
            "min_height": null,
            "padding": null,
            "grid_auto_rows": null,
            "grid_gap": null,
            "max_width": null,
            "order": null,
            "_view_module_version": "1.2.0",
            "grid_template_areas": null,
            "object_position": null,
            "object_fit": null,
            "grid_auto_columns": null,
            "margin": null,
            "display": null,
            "left": null
          }
        },
        "27027e44e79a4ad086ccb73283d81f5b": {
          "model_module": "@jupyter-widgets/controls",
          "model_name": "HBoxModel",
          "model_module_version": "1.5.0",
          "state": {
            "_view_name": "HBoxView",
            "_dom_classes": [],
            "_model_name": "HBoxModel",
            "_view_module": "@jupyter-widgets/controls",
            "_model_module_version": "1.5.0",
            "_view_count": null,
            "_view_module_version": "1.5.0",
            "box_style": "",
            "layout": "IPY_MODEL_90b081a79b204faeba2667bd3887ef65",
            "_model_module": "@jupyter-widgets/controls",
            "children": [
              "IPY_MODEL_9e302f14ecc34b35abc5478badceacf0",
              "IPY_MODEL_2c0682419e0d42f4bca6f0b9c4b1c2a4",
              "IPY_MODEL_9c5fbee6da544a7e853cf9bfc615e563"
            ]
          }
        },
        "90b081a79b204faeba2667bd3887ef65": {
          "model_module": "@jupyter-widgets/base",
          "model_name": "LayoutModel",
          "model_module_version": "1.2.0",
          "state": {
            "_view_name": "LayoutView",
            "grid_template_rows": null,
            "right": null,
            "justify_content": null,
            "_view_module": "@jupyter-widgets/base",
            "overflow": null,
            "_model_module_version": "1.2.0",
            "_view_count": null,
            "flex_flow": null,
            "width": null,
            "min_width": null,
            "border": null,
            "align_items": null,
            "bottom": null,
            "_model_module": "@jupyter-widgets/base",
            "top": null,
            "grid_column": null,
            "overflow_y": null,
            "overflow_x": null,
            "grid_auto_flow": null,
            "grid_area": null,
            "grid_template_columns": null,
            "flex": null,
            "_model_name": "LayoutModel",
            "justify_items": null,
            "grid_row": null,
            "max_height": null,
            "align_content": null,
            "visibility": null,
            "align_self": null,
            "height": null,
            "min_height": null,
            "padding": null,
            "grid_auto_rows": null,
            "grid_gap": null,
            "max_width": null,
            "order": null,
            "_view_module_version": "1.2.0",
            "grid_template_areas": null,
            "object_position": null,
            "object_fit": null,
            "grid_auto_columns": null,
            "margin": null,
            "display": null,
            "left": null
          }
        },
        "9e302f14ecc34b35abc5478badceacf0": {
          "model_module": "@jupyter-widgets/controls",
          "model_name": "HTMLModel",
          "model_module_version": "1.5.0",
          "state": {
            "_view_name": "HTMLView",
            "style": "IPY_MODEL_3fc38aef5e8d4e37868f2eda905319f6",
            "_dom_classes": [],
            "description": "",
            "_model_name": "HTMLModel",
            "placeholder": "​",
            "_view_module": "@jupyter-widgets/controls",
            "_model_module_version": "1.5.0",
            "value": "Downloading: 100%",
            "_view_count": null,
            "_view_module_version": "1.5.0",
            "description_tooltip": null,
            "_model_module": "@jupyter-widgets/controls",
            "layout": "IPY_MODEL_43b756d8906b4b66a1e5e93a5bfeb241"
          }
        },
        "2c0682419e0d42f4bca6f0b9c4b1c2a4": {
          "model_module": "@jupyter-widgets/controls",
          "model_name": "FloatProgressModel",
          "model_module_version": "1.5.0",
          "state": {
            "_view_name": "ProgressView",
            "style": "IPY_MODEL_ec23f541abc7408a974a85e843377652",
            "_dom_classes": [],
            "description": "",
            "_model_name": "FloatProgressModel",
            "bar_style": "success",
            "max": 5069051,
            "_view_module": "@jupyter-widgets/controls",
            "_model_module_version": "1.5.0",
            "value": 5069051,
            "_view_count": null,
            "_view_module_version": "1.5.0",
            "orientation": "horizontal",
            "min": 0,
            "description_tooltip": null,
            "_model_module": "@jupyter-widgets/controls",
            "layout": "IPY_MODEL_e86db5b4722a442c9707bd33f240d612"
          }
        },
        "9c5fbee6da544a7e853cf9bfc615e563": {
          "model_module": "@jupyter-widgets/controls",
          "model_name": "HTMLModel",
          "model_module_version": "1.5.0",
          "state": {
            "_view_name": "HTMLView",
            "style": "IPY_MODEL_f8dab457f1c641acb860c7d1fb0400b6",
            "_dom_classes": [],
            "description": "",
            "_model_name": "HTMLModel",
            "placeholder": "​",
            "_view_module": "@jupyter-widgets/controls",
            "_model_module_version": "1.5.0",
            "value": " 4.83M/4.83M [00:01&lt;00:00, 6.18MB/s]",
            "_view_count": null,
            "_view_module_version": "1.5.0",
            "description_tooltip": null,
            "_model_module": "@jupyter-widgets/controls",
            "layout": "IPY_MODEL_a1acb525c03d4d74a67808eb6c37748b"
          }
        },
        "3fc38aef5e8d4e37868f2eda905319f6": {
          "model_module": "@jupyter-widgets/controls",
          "model_name": "DescriptionStyleModel",
          "model_module_version": "1.5.0",
          "state": {
            "_view_name": "StyleView",
            "_model_name": "DescriptionStyleModel",
            "description_width": "",
            "_view_module": "@jupyter-widgets/base",
            "_model_module_version": "1.5.0",
            "_view_count": null,
            "_view_module_version": "1.2.0",
            "_model_module": "@jupyter-widgets/controls"
          }
        },
        "43b756d8906b4b66a1e5e93a5bfeb241": {
          "model_module": "@jupyter-widgets/base",
          "model_name": "LayoutModel",
          "model_module_version": "1.2.0",
          "state": {
            "_view_name": "LayoutView",
            "grid_template_rows": null,
            "right": null,
            "justify_content": null,
            "_view_module": "@jupyter-widgets/base",
            "overflow": null,
            "_model_module_version": "1.2.0",
            "_view_count": null,
            "flex_flow": null,
            "width": null,
            "min_width": null,
            "border": null,
            "align_items": null,
            "bottom": null,
            "_model_module": "@jupyter-widgets/base",
            "top": null,
            "grid_column": null,
            "overflow_y": null,
            "overflow_x": null,
            "grid_auto_flow": null,
            "grid_area": null,
            "grid_template_columns": null,
            "flex": null,
            "_model_name": "LayoutModel",
            "justify_items": null,
            "grid_row": null,
            "max_height": null,
            "align_content": null,
            "visibility": null,
            "align_self": null,
            "height": null,
            "min_height": null,
            "padding": null,
            "grid_auto_rows": null,
            "grid_gap": null,
            "max_width": null,
            "order": null,
            "_view_module_version": "1.2.0",
            "grid_template_areas": null,
            "object_position": null,
            "object_fit": null,
            "grid_auto_columns": null,
            "margin": null,
            "display": null,
            "left": null
          }
        },
        "ec23f541abc7408a974a85e843377652": {
          "model_module": "@jupyter-widgets/controls",
          "model_name": "ProgressStyleModel",
          "model_module_version": "1.5.0",
          "state": {
            "_view_name": "StyleView",
            "_model_name": "ProgressStyleModel",
            "description_width": "",
            "_view_module": "@jupyter-widgets/base",
            "_model_module_version": "1.5.0",
            "_view_count": null,
            "_view_module_version": "1.2.0",
            "bar_color": null,
            "_model_module": "@jupyter-widgets/controls"
          }
        },
        "e86db5b4722a442c9707bd33f240d612": {
          "model_module": "@jupyter-widgets/base",
          "model_name": "LayoutModel",
          "model_module_version": "1.2.0",
          "state": {
            "_view_name": "LayoutView",
            "grid_template_rows": null,
            "right": null,
            "justify_content": null,
            "_view_module": "@jupyter-widgets/base",
            "overflow": null,
            "_model_module_version": "1.2.0",
            "_view_count": null,
            "flex_flow": null,
            "width": null,
            "min_width": null,
            "border": null,
            "align_items": null,
            "bottom": null,
            "_model_module": "@jupyter-widgets/base",
            "top": null,
            "grid_column": null,
            "overflow_y": null,
            "overflow_x": null,
            "grid_auto_flow": null,
            "grid_area": null,
            "grid_template_columns": null,
            "flex": null,
            "_model_name": "LayoutModel",
            "justify_items": null,
            "grid_row": null,
            "max_height": null,
            "align_content": null,
            "visibility": null,
            "align_self": null,
            "height": null,
            "min_height": null,
            "padding": null,
            "grid_auto_rows": null,
            "grid_gap": null,
            "max_width": null,
            "order": null,
            "_view_module_version": "1.2.0",
            "grid_template_areas": null,
            "object_position": null,
            "object_fit": null,
            "grid_auto_columns": null,
            "margin": null,
            "display": null,
            "left": null
          }
        },
        "f8dab457f1c641acb860c7d1fb0400b6": {
          "model_module": "@jupyter-widgets/controls",
          "model_name": "DescriptionStyleModel",
          "model_module_version": "1.5.0",
          "state": {
            "_view_name": "StyleView",
            "_model_name": "DescriptionStyleModel",
            "description_width": "",
            "_view_module": "@jupyter-widgets/base",
            "_model_module_version": "1.5.0",
            "_view_count": null,
            "_view_module_version": "1.2.0",
            "_model_module": "@jupyter-widgets/controls"
          }
        },
        "a1acb525c03d4d74a67808eb6c37748b": {
          "model_module": "@jupyter-widgets/base",
          "model_name": "LayoutModel",
          "model_module_version": "1.2.0",
          "state": {
            "_view_name": "LayoutView",
            "grid_template_rows": null,
            "right": null,
            "justify_content": null,
            "_view_module": "@jupyter-widgets/base",
            "overflow": null,
            "_model_module_version": "1.2.0",
            "_view_count": null,
            "flex_flow": null,
            "width": null,
            "min_width": null,
            "border": null,
            "align_items": null,
            "bottom": null,
            "_model_module": "@jupyter-widgets/base",
            "top": null,
            "grid_column": null,
            "overflow_y": null,
            "overflow_x": null,
            "grid_auto_flow": null,
            "grid_area": null,
            "grid_template_columns": null,
            "flex": null,
            "_model_name": "LayoutModel",
            "justify_items": null,
            "grid_row": null,
            "max_height": null,
            "align_content": null,
            "visibility": null,
            "align_self": null,
            "height": null,
            "min_height": null,
            "padding": null,
            "grid_auto_rows": null,
            "grid_gap": null,
            "max_width": null,
            "order": null,
            "_view_module_version": "1.2.0",
            "grid_template_areas": null,
            "object_position": null,
            "object_fit": null,
            "grid_auto_columns": null,
            "margin": null,
            "display": null,
            "left": null
          }
        },
        "a2abe85947ad4e1782be39298391c9b1": {
          "model_module": "@jupyter-widgets/controls",
          "model_name": "HBoxModel",
          "model_module_version": "1.5.0",
          "state": {
            "_view_name": "HBoxView",
            "_dom_classes": [],
            "_model_name": "HBoxModel",
            "_view_module": "@jupyter-widgets/controls",
            "_model_module_version": "1.5.0",
            "_view_count": null,
            "_view_module_version": "1.5.0",
            "box_style": "",
            "layout": "IPY_MODEL_00ef1d80ec2844908454542025901505",
            "_model_module": "@jupyter-widgets/controls",
            "children": [
              "IPY_MODEL_bf39d116817840e3b850f4e3e9b65ad3",
              "IPY_MODEL_57ec06de5abe4fce97c290321480e2e0",
              "IPY_MODEL_f6c3ff64e6444fba9a2a91c4368d9da1"
            ]
          }
        },
        "00ef1d80ec2844908454542025901505": {
          "model_module": "@jupyter-widgets/base",
          "model_name": "LayoutModel",
          "model_module_version": "1.2.0",
          "state": {
            "_view_name": "LayoutView",
            "grid_template_rows": null,
            "right": null,
            "justify_content": null,
            "_view_module": "@jupyter-widgets/base",
            "overflow": null,
            "_model_module_version": "1.2.0",
            "_view_count": null,
            "flex_flow": null,
            "width": null,
            "min_width": null,
            "border": null,
            "align_items": null,
            "bottom": null,
            "_model_module": "@jupyter-widgets/base",
            "top": null,
            "grid_column": null,
            "overflow_y": null,
            "overflow_x": null,
            "grid_auto_flow": null,
            "grid_area": null,
            "grid_template_columns": null,
            "flex": null,
            "_model_name": "LayoutModel",
            "justify_items": null,
            "grid_row": null,
            "max_height": null,
            "align_content": null,
            "visibility": null,
            "align_self": null,
            "height": null,
            "min_height": null,
            "padding": null,
            "grid_auto_rows": null,
            "grid_gap": null,
            "max_width": null,
            "order": null,
            "_view_module_version": "1.2.0",
            "grid_template_areas": null,
            "object_position": null,
            "object_fit": null,
            "grid_auto_columns": null,
            "margin": null,
            "display": null,
            "left": null
          }
        },
        "bf39d116817840e3b850f4e3e9b65ad3": {
          "model_module": "@jupyter-widgets/controls",
          "model_name": "HTMLModel",
          "model_module_version": "1.5.0",
          "state": {
            "_view_name": "HTMLView",
            "style": "IPY_MODEL_93fa71e512814c8ca20438b8c9c7badc",
            "_dom_classes": [],
            "description": "",
            "_model_name": "HTMLModel",
            "placeholder": "​",
            "_view_module": "@jupyter-widgets/controls",
            "_model_module_version": "1.5.0",
            "value": "Downloading: 100%",
            "_view_count": null,
            "_view_module_version": "1.5.0",
            "description_tooltip": null,
            "_model_module": "@jupyter-widgets/controls",
            "layout": "IPY_MODEL_ca816d2e277c4a0390ab9a40889a6fee"
          }
        },
        "57ec06de5abe4fce97c290321480e2e0": {
          "model_module": "@jupyter-widgets/controls",
          "model_name": "FloatProgressModel",
          "model_module_version": "1.5.0",
          "state": {
            "_view_name": "ProgressView",
            "style": "IPY_MODEL_d2e785d666854074b2afd0ca0389f3e2",
            "_dom_classes": [],
            "description": "",
            "_model_name": "FloatProgressModel",
            "bar_style": "success",
            "max": 3271420488,
            "_view_module": "@jupyter-widgets/controls",
            "_model_module_version": "1.5.0",
            "value": 3271420488,
            "_view_count": null,
            "_view_module_version": "1.5.0",
            "orientation": "horizontal",
            "min": 0,
            "description_tooltip": null,
            "_model_module": "@jupyter-widgets/controls",
            "layout": "IPY_MODEL_89278853c7b34b6e84b2d461508d7738"
          }
        },
        "f6c3ff64e6444fba9a2a91c4368d9da1": {
          "model_module": "@jupyter-widgets/controls",
          "model_name": "HTMLModel",
          "model_module_version": "1.5.0",
          "state": {
            "_view_name": "HTMLView",
            "style": "IPY_MODEL_f6901a941a8843dc967cd93f871e445b",
            "_dom_classes": [],
            "description": "",
            "_model_name": "HTMLModel",
            "placeholder": "​",
            "_view_module": "@jupyter-widgets/controls",
            "_model_module_version": "1.5.0",
            "value": " 3.05G/3.05G [01:28&lt;00:00, 37.8MB/s]",
            "_view_count": null,
            "_view_module_version": "1.5.0",
            "description_tooltip": null,
            "_model_module": "@jupyter-widgets/controls",
            "layout": "IPY_MODEL_48c2dce648e64ea5b6b57cc0f9b152e9"
          }
        },
        "93fa71e512814c8ca20438b8c9c7badc": {
          "model_module": "@jupyter-widgets/controls",
          "model_name": "DescriptionStyleModel",
          "model_module_version": "1.5.0",
          "state": {
            "_view_name": "StyleView",
            "_model_name": "DescriptionStyleModel",
            "description_width": "",
            "_view_module": "@jupyter-widgets/base",
            "_model_module_version": "1.5.0",
            "_view_count": null,
            "_view_module_version": "1.2.0",
            "_model_module": "@jupyter-widgets/controls"
          }
        },
        "ca816d2e277c4a0390ab9a40889a6fee": {
          "model_module": "@jupyter-widgets/base",
          "model_name": "LayoutModel",
          "model_module_version": "1.2.0",
          "state": {
            "_view_name": "LayoutView",
            "grid_template_rows": null,
            "right": null,
            "justify_content": null,
            "_view_module": "@jupyter-widgets/base",
            "overflow": null,
            "_model_module_version": "1.2.0",
            "_view_count": null,
            "flex_flow": null,
            "width": null,
            "min_width": null,
            "border": null,
            "align_items": null,
            "bottom": null,
            "_model_module": "@jupyter-widgets/base",
            "top": null,
            "grid_column": null,
            "overflow_y": null,
            "overflow_x": null,
            "grid_auto_flow": null,
            "grid_area": null,
            "grid_template_columns": null,
            "flex": null,
            "_model_name": "LayoutModel",
            "justify_items": null,
            "grid_row": null,
            "max_height": null,
            "align_content": null,
            "visibility": null,
            "align_self": null,
            "height": null,
            "min_height": null,
            "padding": null,
            "grid_auto_rows": null,
            "grid_gap": null,
            "max_width": null,
            "order": null,
            "_view_module_version": "1.2.0",
            "grid_template_areas": null,
            "object_position": null,
            "object_fit": null,
            "grid_auto_columns": null,
            "margin": null,
            "display": null,
            "left": null
          }
        },
        "d2e785d666854074b2afd0ca0389f3e2": {
          "model_module": "@jupyter-widgets/controls",
          "model_name": "ProgressStyleModel",
          "model_module_version": "1.5.0",
          "state": {
            "_view_name": "StyleView",
            "_model_name": "ProgressStyleModel",
            "description_width": "",
            "_view_module": "@jupyter-widgets/base",
            "_model_module_version": "1.5.0",
            "_view_count": null,
            "_view_module_version": "1.2.0",
            "bar_color": null,
            "_model_module": "@jupyter-widgets/controls"
          }
        },
        "89278853c7b34b6e84b2d461508d7738": {
          "model_module": "@jupyter-widgets/base",
          "model_name": "LayoutModel",
          "model_module_version": "1.2.0",
          "state": {
            "_view_name": "LayoutView",
            "grid_template_rows": null,
            "right": null,
            "justify_content": null,
            "_view_module": "@jupyter-widgets/base",
            "overflow": null,
            "_model_module_version": "1.2.0",
            "_view_count": null,
            "flex_flow": null,
            "width": null,
            "min_width": null,
            "border": null,
            "align_items": null,
            "bottom": null,
            "_model_module": "@jupyter-widgets/base",
            "top": null,
            "grid_column": null,
            "overflow_y": null,
            "overflow_x": null,
            "grid_auto_flow": null,
            "grid_area": null,
            "grid_template_columns": null,
            "flex": null,
            "_model_name": "LayoutModel",
            "justify_items": null,
            "grid_row": null,
            "max_height": null,
            "align_content": null,
            "visibility": null,
            "align_self": null,
            "height": null,
            "min_height": null,
            "padding": null,
            "grid_auto_rows": null,
            "grid_gap": null,
            "max_width": null,
            "order": null,
            "_view_module_version": "1.2.0",
            "grid_template_areas": null,
            "object_position": null,
            "object_fit": null,
            "grid_auto_columns": null,
            "margin": null,
            "display": null,
            "left": null
          }
        },
        "f6901a941a8843dc967cd93f871e445b": {
          "model_module": "@jupyter-widgets/controls",
          "model_name": "DescriptionStyleModel",
          "model_module_version": "1.5.0",
          "state": {
            "_view_name": "StyleView",
            "_model_name": "DescriptionStyleModel",
            "description_width": "",
            "_view_module": "@jupyter-widgets/base",
            "_model_module_version": "1.5.0",
            "_view_count": null,
            "_view_module_version": "1.2.0",
            "_model_module": "@jupyter-widgets/controls"
          }
        },
        "48c2dce648e64ea5b6b57cc0f9b152e9": {
          "model_module": "@jupyter-widgets/base",
          "model_name": "LayoutModel",
          "model_module_version": "1.2.0",
          "state": {
            "_view_name": "LayoutView",
            "grid_template_rows": null,
            "right": null,
            "justify_content": null,
            "_view_module": "@jupyter-widgets/base",
            "overflow": null,
            "_model_module_version": "1.2.0",
            "_view_count": null,
            "flex_flow": null,
            "width": null,
            "min_width": null,
            "border": null,
            "align_items": null,
            "bottom": null,
            "_model_module": "@jupyter-widgets/base",
            "top": null,
            "grid_column": null,
            "overflow_y": null,
            "overflow_x": null,
            "grid_auto_flow": null,
            "grid_area": null,
            "grid_template_columns": null,
            "flex": null,
            "_model_name": "LayoutModel",
            "justify_items": null,
            "grid_row": null,
            "max_height": null,
            "align_content": null,
            "visibility": null,
            "align_self": null,
            "height": null,
            "min_height": null,
            "padding": null,
            "grid_auto_rows": null,
            "grid_gap": null,
            "max_width": null,
            "order": null,
            "_view_module_version": "1.2.0",
            "grid_template_areas": null,
            "object_position": null,
            "object_fit": null,
            "grid_auto_columns": null,
            "margin": null,
            "display": null,
            "left": null
          }
        }
      }
    },
    "accelerator": "GPU"
  },
  "nbformat": 4,
  "nbformat_minor": 0
}