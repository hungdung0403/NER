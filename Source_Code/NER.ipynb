{
  "nbformat": 4,
  "nbformat_minor": 0,
  "metadata": {
    "colab": {
      "name": "NER.ipynb",
      "provenance": [],
      "collapsed_sections": [
        "JP2ihKwAjYpC",
        "FMypoBy4jeVK",
        "lzz9ONRzjlV9",
        "spDm-bWHjveK",
        "X_bQ5DUZj37y",
        "ZkW5YUgbj9hV",
        "ZqOfG2c4kDj8",
        "JDWFDkCRkfxT",
        "z6faUGb3khil",
        "LVqCisi_kpvH",
        "yEkt8h42ktmr",
        "y4eMkJjXk1NP",
        "yt8eHgGlk6c0",
        "wyA2G2iylBil",
        "TlkYJMFklFi-",
        "3Yp21poNlLzh",
        "gC2ZmD6dlP5y",
        "hlJF5R-Xldi8"
      ],
      "toc_visible": true
    },
    "kernelspec": {
      "name": "python3",
      "display_name": "Python 3"
    },
    "language_info": {
      "name": "python"
    }
  },
  "cells": [
    {
      "cell_type": "markdown",
      "source": [
        "##Load bộ dữ liệu"
      ],
      "metadata": {
        "id": "JP2ihKwAjYpC"
      }
    },
    {
      "cell_type": "code",
      "execution_count": null,
      "metadata": {
        "colab": {
          "base_uri": "https://localhost:8080/"
        },
        "id": "NdEspmn-w_w5",
        "outputId": "b1111e59-bab0-4879-f5a3-7942491ce18c"
      },
      "outputs": [
        {
          "output_type": "stream",
          "name": "stdout",
          "text": [
            "Cloning into 'CrossNER'...\n",
            "remote: Enumerating objects: 172, done.\u001b[K\n",
            "remote: Counting objects: 100% (8/8), done.\u001b[K\n",
            "remote: Compressing objects: 100% (6/6), done.\u001b[K\n",
            "remote: Total 172 (delta 2), reused 2 (delta 2), pack-reused 164\u001b[K\n",
            "Receiving objects: 100% (172/172), 2.30 MiB | 7.28 MiB/s, done.\n",
            "Resolving deltas: 100% (77/77), done.\n",
            "/content/CrossNER\n"
          ]
        }
      ],
      "source": [
        "!git clone https://github.com/zliucr/CrossNER.git\n",
        "%cd /content/CrossNER"
      ]
    },
    {
      "cell_type": "markdown",
      "source": [
        "##Import modules, thư viện"
      ],
      "metadata": {
        "id": "FMypoBy4jeVK"
      }
    },
    {
      "cell_type": "code",
      "source": [
        "%matplotlib inline\n",
        "import matplotlib.pyplot as plt\n",
        "from io import BytesIO\n",
        "import pandas as pd\n",
        "import numpy as np\n",
        "import requests\n",
        "np.random.seed(0)\n",
        "plt.style.use(\"ggplot\")\n",
        "import tensorflow as tf"
      ],
      "metadata": {
        "id": "tLgzP-UCxDdk"
      },
      "execution_count": null,
      "outputs": []
    },
    {
      "cell_type": "markdown",
      "source": [
        "##Lấy các thẻ, ánh xạ dữ liệu,..."
      ],
      "metadata": {
        "id": "lzz9ONRzjlV9"
      }
    },
    {
      "cell_type": "code",
      "source": [
        "def read_file(in_file_list):\n",
        "  sentence,wt,word,tag = [],[],[],[]\n",
        "  for in_file in in_file_list:\n",
        "    with open(in_file) as f:\n",
        "        for line in f.readlines():\n",
        "            sp = line.strip().split('\\n\\n')\n",
        "            word_tag = tuple(sp[0].split(\"\\t\"))\n",
        "            if len(word_tag) > 1:\n",
        "              word.append(word_tag[0])\n",
        "              tag.append(word_tag[1])\n",
        "              wt.append(tuple(word_tag))\n",
        "            else:\n",
        "              sentence.append(wt)\n",
        "              wt = []\n",
        "  word = list(set(word))\n",
        "  word.append(\"ENDPAD\")\n",
        "  tag = list(set(tag))\n",
        "  return sentence,word,tag"
      ],
      "metadata": {
        "id": "KNULxy3-xE9j"
      },
      "execution_count": null,
      "outputs": []
    },
    {
      "cell_type": "code",
      "source": [
        "train_m= [\"./ner_data/music/train.txt\"]\n",
        "dev_m= [\"./ner_data/music/dev.txt\"]\n",
        "test_m= [\"./ner_data/music/test.txt\"]\n",
        "train_a= [\"./ner_data/ai/train.txt\"]\n",
        "dev_a= [\"./ner_data/ai/dev.txt\"]\n",
        "test_a= [\"./ner_data/ai/test.txt\"]\n",
        "train_p= [\"./ner_data/politics/train.txt\"]\n",
        "dev_p= [\"./ner_data/politics/dev.txt\"]\n",
        "test_p= [\"./ner_data/politics/test.txt\"]\n",
        "train_l= [\"./ner_data/literature/train.txt\"]\n",
        "dev_l= [\"./ner_data/literature/dev.txt\"]\n",
        "test_l= [\"./ner_data/literature/test.txt\"]\n",
        "train_s= [\"./ner_data/science/train.txt\"]\n",
        "dev_s= [\"./ner_data/science/dev.txt\"]\n",
        "test_s= [\"./ner_data/science/test.txt\"]"
      ],
      "metadata": {
        "id": "fAH9pG1CxHFr"
      },
      "execution_count": null,
      "outputs": []
    },
    {
      "cell_type": "code",
      "source": [
        "def getdata(train,test,dev):\n",
        "  sentence_tr,words_tr,tags = read_file(train)\n",
        "  sentence_t,words_t,tags = read_file(test)\n",
        "  sentence_d,words_d,tags = read_file(dev)\n",
        "  sentence = sentence_tr + sentence_t + sentence_d\n",
        "  words = words_tr + words_t + words_d\n",
        "  num_words = len(words)\n",
        "  num_tags = len(tags)\n",
        "  return sentence,words,tags,sentence_tr,words_tr,sentence_t,words_t,sentence_d,words_d,num_words,num_tags\n",
        "sentence_m,words_m,tags_m,sentence_m_tr,words_m_tr,sentence_m_t,words_m_t,sentence_m_d,words_m_d,num_words_m,num_tags_m = getdata(train_m,test_m,dev_m)\n",
        "sentence_a,words_a,tags_a,sentence_a_tr,words_a_tr,sentence_a_t,words_a_t,sentence_a_d,words_a_d,num_words_a,num_tags_a = getdata(train_a,test_a,dev_a)\n",
        "sentence_l,words_l,tags_l,sentence_l_tr,words_l_tr,sentence_l_t,words_l_t,sentence_l_d,words_l_d,num_words_l,num_tags_l = getdata(train_l,test_l,dev_l)\n",
        "sentence_p,words_p,tags_p,sentence_p_tr,words_p_tr,sentence_p_t,words_p_t,sentence_p_d,words_p_d,num_words_p,num_tags_p = getdata(train_p,test_p,dev_p)\n",
        "sentence_s,words_s,tags_s,sentence_s_tr,words_s_tr,sentence_s_t,words_s_t,sentence_s_d,words_s_d,num_words_s,num_tags_s = getdata(train_s,test_s,dev_s)"
      ],
      "metadata": {
        "id": "5Bx8zNn2xUvP"
      },
      "execution_count": null,
      "outputs": []
    },
    {
      "cell_type": "code",
      "source": [
        "word2idx_m = {w: i + 1 for i, w in enumerate(words_m)}\n",
        "word2idx_a = {w: i + 1 for i, w in enumerate(words_a)}\n",
        "word2idx_p = {w: i + 1 for i, w in enumerate(words_p)}\n",
        "word2idx_l = {w: i + 1 for i, w in enumerate(words_l)}\n",
        "word2idx_s = {w: i + 1 for i, w in enumerate(words_s)}\n",
        "tag2idx_m = {t: i for i, t in enumerate(tags_m)}\n",
        "tag2idx_a = {t: i for i, t in enumerate(tags_a)}\n",
        "tag2idx_p = {t: i for i, t in enumerate(tags_p)}\n",
        "tag2idx_l = {t: i for i, t in enumerate(tags_l)}\n",
        "tag2idx_s = {t: i for i, t in enumerate(tags_s)}"
      ],
      "metadata": {
        "id": "5abhF0JfxbFv"
      },
      "execution_count": null,
      "outputs": []
    },
    {
      "cell_type": "markdown",
      "source": [
        "##Padding"
      ],
      "metadata": {
        "id": "spDm-bWHjveK"
      }
    },
    {
      "cell_type": "code",
      "source": [
        "from tensorflow.keras.preprocessing.sequence import pad_sequences\n",
        "max_len = 80\n",
        "def ToSequence_d(sentence_d,words_d,max_len,word2idx,tag2idx):\n",
        "  num_words_d = len(words_d)\n",
        "  word2idx_d = {w: i + 1 for i, w in enumerate(words_d)}\n",
        "  x_dev = [[word2idx_d[w[0]] for w in s] for s in sentence_d]\n",
        "  x_dev = pad_sequences(maxlen=max_len, sequences=x_dev, padding=\"post\", value=num_words_d-1)\n",
        "  y_dev = [[tag2idx[w[1]] for w in s] for s in sentence_d]\n",
        "  y_dev = pad_sequences(maxlen=max_len, sequences=y_dev, padding=\"post\", value=tag2idx[\"O\"])\n",
        "  return x_dev,y_dev\n",
        "def ToSequence_tr(sentence_tr,words_tr,max_len,word2idx,tag2idx):\n",
        "  num_words_tr = len(words_tr)\n",
        "  word2idx_tr = {w: i + 1 for i, w in enumerate(words_tr)}\n",
        "  x_train = [[word2idx_tr[w[0]] for w in s] for s in sentence_tr]\n",
        "  x_train = pad_sequences(maxlen=max_len, sequences=x_train, padding=\"post\", value=num_words_tr-1)\n",
        "  y_train = [[tag2idx[w[1]] for w in s] for s in sentence_tr]\n",
        "  y_train = pad_sequences(maxlen=max_len, sequences=y_train, padding=\"post\", value=tag2idx[\"O\"])\n",
        "  return x_train,y_train\n",
        "def ToSequence_t(sentence_t,words_t,max_len,word2idx,tag2idx):\n",
        "  num_words_t = len(words_t)\n",
        "  word2idx_t = {w: i + 1 for i, w in enumerate(words_t)}\n",
        "  x_test = [[word2idx_t[w[0]] for w in s] for s in sentence_t]\n",
        "  x_test = pad_sequences(maxlen=max_len, sequences=x_test, padding=\"post\", value=num_words_t-1)\n",
        "  y_test = [[tag2idx[w[1]] for w in s] for s in sentence_t]\n",
        "  y_test = pad_sequences(maxlen=max_len, sequences=y_test, padding=\"post\", value=tag2idx[\"O\"])\n",
        "  return x_test,y_test"
      ],
      "metadata": {
        "id": "hf1AH2KngAwY"
      },
      "execution_count": null,
      "outputs": []
    },
    {
      "cell_type": "code",
      "source": [
        "x_dev_a,y_dev_a = ToSequence_d(sentence_a_d,words_a_d,max_len,word2idx_a,tag2idx_a)\n",
        "x_test_a,y_test_a = ToSequence_t(sentence_a_t,words_a_t,max_len,word2idx_a,tag2idx_a)\n",
        "x_train_a,y_train_a = ToSequence_tr(sentence_a_tr,words_a_tr,max_len,word2idx_a,tag2idx_a)"
      ],
      "metadata": {
        "id": "b4c2AFPef6sB"
      },
      "execution_count": null,
      "outputs": []
    },
    {
      "cell_type": "code",
      "source": [
        "x_dev_l,y_dev_l = ToSequence_d(sentence_l_d,words_l_d,max_len,word2idx_l,tag2idx_l)\n",
        "x_test_l,y_test_l = ToSequence_t(sentence_l_t,words_l_t,max_len,word2idx_l,tag2idx_l)\n",
        "x_train_l,y_train_l = ToSequence_tr(sentence_l_tr,words_l_tr,max_len,word2idx_l,tag2idx_l)"
      ],
      "metadata": {
        "id": "5semOCumgDTw"
      },
      "execution_count": null,
      "outputs": []
    },
    {
      "cell_type": "code",
      "source": [
        "x_dev_m,y_dev_m = ToSequence_d(sentence_m_d,words_m_d,max_len,word2idx_m,tag2idx_m)\n",
        "x_test_m,y_test_m = ToSequence_t(sentence_m_t,words_m_t,max_len,word2idx_m,tag2idx_m)\n",
        "x_train_m,y_train_m = ToSequence_tr(sentence_m_tr,words_m_tr,max_len,word2idx_m,tag2idx_m)"
      ],
      "metadata": {
        "id": "sflDFBvvgaEb"
      },
      "execution_count": null,
      "outputs": []
    },
    {
      "cell_type": "code",
      "source": [
        "x_dev_p,y_dev_p = ToSequence_d(sentence_p_d,words_p_d,max_len,word2idx_p,tag2idx_p)\n",
        "x_test_p,y_test_p = ToSequence_t(sentence_p_t,words_p_t,max_len,word2idx_p,tag2idx_p)\n",
        "x_train_p,y_train_p = ToSequence_tr(sentence_p_tr,words_p_tr,max_len,word2idx_p,tag2idx_p)"
      ],
      "metadata": {
        "id": "tyXT6y5-gnRE"
      },
      "execution_count": null,
      "outputs": []
    },
    {
      "cell_type": "code",
      "source": [
        "x_dev_s,y_dev_s = ToSequence_d(sentence_s_d,words_s_d,max_len,word2idx_s,tag2idx_s)\n",
        "x_test_s,y_test_s = ToSequence_t(sentence_s_t,words_s_t,max_len,word2idx_s,tag2idx_s)\n",
        "x_train_s,y_train_s = ToSequence_tr(sentence_s_tr,words_s_tr,max_len,word2idx_s,tag2idx_s)"
      ],
      "metadata": {
        "id": "wd3_0yg8g5PU"
      },
      "execution_count": null,
      "outputs": []
    },
    {
      "cell_type": "markdown",
      "source": [
        "##Xây dựng mô hình"
      ],
      "metadata": {
        "id": "X_bQ5DUZj37y"
      }
    },
    {
      "cell_type": "code",
      "source": [
        "from tensorflow.keras import Model, Input\n",
        "from tensorflow.keras.layers import LSTM, Embedding, Dense,GRU,Conv1D,Conv2D\n",
        "from tensorflow.keras.layers import TimeDistributed, SpatialDropout1D, Bidirectional\n",
        "from tensorflow.keras.optimizers import Adam"
      ],
      "metadata": {
        "id": "ehp_7GwahN1O"
      },
      "execution_count": null,
      "outputs": []
    },
    {
      "cell_type": "code",
      "source": [
        "def Bi_LSTM(num_words,num_tags,max_len):\n",
        "  input_word = Input(shape=(max_len,))\n",
        "  model = Embedding(input_dim=num_words, output_dim=max_len, input_length=max_len)(input_word)\n",
        "  model = SpatialDropout1D(0.1)(model)\n",
        "  model = Bidirectional(LSTM(units=100, return_sequences=True, recurrent_dropout=0.1))(model)\n",
        "  out = TimeDistributed(Dense(num_tags, activation=\"softmax\"))(model)\n",
        "  model = Model(input_word, out)\n",
        "  model.compile(optimizer=Adam(lr = 2e-4),\n",
        "              loss=\"sparse_categorical_crossentropy\",\n",
        "              metrics=[\"accuracy\"])\n",
        "  model.summary()\n",
        "  return model\n",
        "def Bi_GRU(num_words,num_tags,max_len):\n",
        "  input_word = Input(shape=(max_len,))\n",
        "  model = Embedding(input_dim=num_words, output_dim=max_len, input_length=max_len)(input_word)\n",
        "  model = SpatialDropout1D(0.1)(model)\n",
        "  model = Bidirectional(GRU(units=100, return_sequences=True, recurrent_dropout=0.1))(model)\n",
        "  out = TimeDistributed(Dense(num_tags, activation=\"softmax\"))(model)\n",
        "  model = Model(input_word, out)\n",
        "  model.compile(optimizer=Adam(lr = 2e-4),\n",
        "              loss=\"sparse_categorical_crossentropy\",\n",
        "              metrics=[\"accuracy\"])\n",
        "  model.summary()\n",
        "  return model\n",
        "def Bi_LSTM_CNN(num_words,num_tags,max_len):\n",
        "  input_word = Input(shape=(max_len,))\n",
        "  model = Embedding(input_dim=num_words, output_dim=max_len, input_length=max_len)(input_word)\n",
        "  model = SpatialDropout1D(0.1)(model)\n",
        "  model = Bidirectional(LSTM(units=100, return_sequences=True, recurrent_dropout=0.1))(model)\n",
        "  model = Conv1D(200,5,padding = \"same\",activation = \"relu\")(model)\n",
        "  out = TimeDistributed(Dense(num_tags, activation=\"softmax\"))(model)\n",
        "  model = Model(input_word, out)\n",
        "  model.compile(optimizer=Adam(lr = 2e-4),\n",
        "              loss=\"sparse_categorical_crossentropy\",\n",
        "              metrics=[\"accuracy\"])\n",
        "  model.summary()\n",
        "  return model\n",
        "def Bi_GRU_CNN(num_words,num_tags,max_len):\n",
        "  input_word = Input(shape=(max_len,))\n",
        "  model = Embedding(input_dim=num_words, output_dim=max_len, input_length=max_len)(input_word)\n",
        "  model = SpatialDropout1D(0.1)(model)\n",
        "  model = Bidirectional(GRU(units=100, return_sequences=True, recurrent_dropout=0.1))(model)\n",
        "  model = Conv1D(200,5,padding = \"same\",activation = \"relu\")(model)\n",
        "  out = TimeDistributed(Dense(num_tags, activation=\"softmax\"))(model)\n",
        "  model = Model(input_word, out)\n",
        "  model.compile(optimizer=Adam(lr = 2e-4),\n",
        "              loss=\"sparse_categorical_crossentropy\",\n",
        "              metrics=[\"accuracy\"])\n",
        "  model.summary()\n",
        "  return model"
      ],
      "metadata": {
        "id": "PKBcTuKEhSOS"
      },
      "execution_count": null,
      "outputs": []
    },
    {
      "cell_type": "markdown",
      "source": [
        "##Hàm tính score"
      ],
      "metadata": {
        "id": "ZkW5YUgbj9hV"
      }
    },
    {
      "cell_type": "code",
      "source": [
        "from sklearn.metrics import precision_score\n",
        "from sklearn.metrics import recall_score\n",
        "from sklearn.metrics import f1_score\n",
        "from sklearn.metrics import accuracy_score\n",
        "def score(model, x_test, y_test,tags):\n",
        "  y_predict = model.predict(x_test)\n",
        "  y_predict = np.argmax(y_predict, axis=-1)\n",
        "  y_predict = y_predict.reshape(1,-1)[0]\n",
        "  y_true = y_test.reshape(1,-1)[0]\n",
        "  entity_predict = [tags[i] for i in y_predict]\n",
        "  entity_true = [tags[i] for i in y_true]\n",
        "  f1_ma = f1_score(entity_true,entity_predict, average=\"macro\")\n",
        "  f1_mi= f1_score(entity_true,entity_predict, average=\"micro\")\n",
        "  print(\"f1 macro: \", f1_ma)\n",
        "  print(\"f1 micro: \", f1_mi)"
      ],
      "metadata": {
        "id": "-W3c_dAIhWBI"
      },
      "execution_count": null,
      "outputs": []
    },
    {
      "cell_type": "markdown",
      "source": [
        "##Training trên bộ AI"
      ],
      "metadata": {
        "id": "ZqOfG2c4kDj8"
      }
    },
    {
      "cell_type": "code",
      "source": [
        "BiLSTM_a = Bi_LSTM(num_words_a,num_tags_a,max_len)\n",
        "BiGRU_a = Bi_GRU(num_words_a,num_tags_a,max_len)\n",
        "BiLSTMCNN_a = Bi_LSTM_CNN(num_words_a,num_tags_a,max_len)\n",
        "BiGRUCNN_a = Bi_GRU_CNN(num_words_a,num_tags_a,max_len)\n",
        "history1_a = BiLSTM_a.fit(\n",
        "    x=x_train_a,\n",
        "    y=y_train_a,\n",
        "    validation_data=(x_dev_a,y_dev_a),\n",
        "    batch_size= 2, \n",
        "    epochs=20,\n",
        "    verbose=1\n",
        ")\n",
        "\n",
        "history2_a = BiGRU_a.fit(\n",
        "    x=x_train_a,\n",
        "    y=y_train_a,\n",
        "    validation_data=(x_dev_a,y_dev_a),\n",
        "    batch_size= 2, \n",
        "    epochs=20,\n",
        "    verbose=1\n",
        ")\n",
        "history3_a = BiLSTMCNN_a.fit(\n",
        "    x=x_train_a,\n",
        "    y=y_train_a,\n",
        "    validation_data=(x_dev_a,y_dev_a),\n",
        "    batch_size= 2, \n",
        "    epochs=20,\n",
        "    verbose=1\n",
        ")\n",
        "history4_a = BiGRUCNN_a.fit(\n",
        "    x=x_train_a,\n",
        "    y=y_train_a,\n",
        "    validation_data=(x_dev_a,y_dev_a),\n",
        "    batch_size= 2, \n",
        "    epochs=20,\n",
        "    verbose=1\n",
        ")"
      ],
      "metadata": {
        "colab": {
          "base_uri": "https://localhost:8080/"
        },
        "id": "iI6npEzKhYhA",
        "outputId": "0ef751be-17fc-4d66-8d66-aa563f4d9dda"
      },
      "execution_count": null,
      "outputs": [
        {
          "metadata": {
            "tags": null
          },
          "name": "stderr",
          "output_type": "stream",
          "text": [
            "/usr/local/lib/python3.7/dist-packages/keras/optimizer_v2/adam.py:105: UserWarning: The `lr` argument is deprecated, use `learning_rate` instead.\n",
            "  super(Adam, self).__init__(name, **kwargs)\n"
          ]
        },
        {
          "output_type": "stream",
          "name": "stdout",
          "text": [
            "Model: \"model_8\"\n",
            "_________________________________________________________________\n",
            " Layer (type)                Output Shape              Param #   \n",
            "=================================================================\n",
            " input_9 (InputLayer)        [(None, 80)]              0         \n",
            "                                                                 \n",
            " embedding_8 (Embedding)     (None, 80, 80)            640400    \n",
            "                                                                 \n",
            " spatial_dropout1d_8 (Spatia  (None, 80, 80)           0         \n",
            " lDropout1D)                                                     \n",
            "                                                                 \n",
            " bidirectional_8 (Bidirectio  (None, 80, 200)          144800    \n",
            " nal)                                                            \n",
            "                                                                 \n",
            " time_distributed_8 (TimeDis  (None, 80, 29)           5829      \n",
            " tributed)                                                       \n",
            "                                                                 \n",
            "=================================================================\n",
            "Total params: 791,029\n",
            "Trainable params: 791,029\n",
            "Non-trainable params: 0\n",
            "_________________________________________________________________\n",
            "Model: \"model_9\"\n",
            "_________________________________________________________________\n",
            " Layer (type)                Output Shape              Param #   \n",
            "=================================================================\n",
            " input_10 (InputLayer)       [(None, 80)]              0         \n",
            "                                                                 \n",
            " embedding_9 (Embedding)     (None, 80, 80)            640400    \n",
            "                                                                 \n",
            " spatial_dropout1d_9 (Spatia  (None, 80, 80)           0         \n",
            " lDropout1D)                                                     \n",
            "                                                                 \n",
            " bidirectional_9 (Bidirectio  (None, 80, 200)          109200    \n",
            " nal)                                                            \n",
            "                                                                 \n",
            " time_distributed_9 (TimeDis  (None, 80, 29)           5829      \n",
            " tributed)                                                       \n",
            "                                                                 \n",
            "=================================================================\n",
            "Total params: 755,429\n",
            "Trainable params: 755,429\n",
            "Non-trainable params: 0\n",
            "_________________________________________________________________\n",
            "Model: \"model_10\"\n",
            "_________________________________________________________________\n",
            " Layer (type)                Output Shape              Param #   \n",
            "=================================================================\n",
            " input_11 (InputLayer)       [(None, 80)]              0         \n",
            "                                                                 \n",
            " embedding_10 (Embedding)    (None, 80, 80)            640400    \n",
            "                                                                 \n",
            " spatial_dropout1d_10 (Spati  (None, 80, 80)           0         \n",
            " alDropout1D)                                                    \n",
            "                                                                 \n",
            " bidirectional_10 (Bidirecti  (None, 80, 200)          144800    \n",
            " onal)                                                           \n",
            "                                                                 \n",
            " conv1d_4 (Conv1D)           (None, 80, 200)           200200    \n",
            "                                                                 \n",
            " time_distributed_10 (TimeDi  (None, 80, 29)           5829      \n",
            " stributed)                                                      \n",
            "                                                                 \n",
            "=================================================================\n",
            "Total params: 991,229\n",
            "Trainable params: 991,229\n",
            "Non-trainable params: 0\n",
            "_________________________________________________________________\n",
            "Model: \"model_11\"\n",
            "_________________________________________________________________\n",
            " Layer (type)                Output Shape              Param #   \n",
            "=================================================================\n",
            " input_12 (InputLayer)       [(None, 80)]              0         \n",
            "                                                                 \n",
            " embedding_11 (Embedding)    (None, 80, 80)            640400    \n",
            "                                                                 \n",
            " spatial_dropout1d_11 (Spati  (None, 80, 80)           0         \n",
            " alDropout1D)                                                    \n",
            "                                                                 \n",
            " bidirectional_11 (Bidirecti  (None, 80, 200)          109200    \n",
            " onal)                                                           \n",
            "                                                                 \n",
            " conv1d_5 (Conv1D)           (None, 80, 200)           200200    \n",
            "                                                                 \n",
            " time_distributed_11 (TimeDi  (None, 80, 29)           5829      \n",
            " stributed)                                                      \n",
            "                                                                 \n",
            "=================================================================\n",
            "Total params: 955,629\n",
            "Trainable params: 955,629\n",
            "Non-trainable params: 0\n",
            "_________________________________________________________________\n",
            "Epoch 1/20\n",
            "50/50 [==============================] - 18s 296ms/step - loss: 2.6476 - accuracy: 0.7797 - val_loss: 1.3580 - val_accuracy: 0.8813\n",
            "Epoch 2/20\n",
            "50/50 [==============================] - 14s 285ms/step - loss: 0.8571 - accuracy: 0.8540 - val_loss: 1.0317 - val_accuracy: 0.8813\n",
            "Epoch 3/20\n",
            "50/50 [==============================] - 14s 285ms/step - loss: 0.7830 - accuracy: 0.8540 - val_loss: 1.5278 - val_accuracy: 0.8813\n",
            "Epoch 4/20\n",
            "50/50 [==============================] - 14s 290ms/step - loss: 0.7665 - accuracy: 0.8540 - val_loss: 1.4146 - val_accuracy: 0.8813\n",
            "Epoch 5/20\n",
            "50/50 [==============================] - 14s 290ms/step - loss: 0.7576 - accuracy: 0.8540 - val_loss: 1.2541 - val_accuracy: 0.8813\n",
            "Epoch 6/20\n",
            "50/50 [==============================] - 14s 287ms/step - loss: 0.7497 - accuracy: 0.8540 - val_loss: 1.2847 - val_accuracy: 0.8813\n",
            "Epoch 7/20\n",
            "50/50 [==============================] - 14s 287ms/step - loss: 0.7426 - accuracy: 0.8540 - val_loss: 1.4185 - val_accuracy: 0.8813\n",
            "Epoch 8/20\n",
            "50/50 [==============================] - 14s 286ms/step - loss: 0.7359 - accuracy: 0.8540 - val_loss: 1.4186 - val_accuracy: 0.8813\n",
            "Epoch 9/20\n",
            "50/50 [==============================] - 14s 287ms/step - loss: 0.7293 - accuracy: 0.8540 - val_loss: 1.4389 - val_accuracy: 0.8813\n",
            "Epoch 10/20\n",
            "50/50 [==============================] - 14s 287ms/step - loss: 0.7233 - accuracy: 0.8540 - val_loss: 1.5009 - val_accuracy: 0.8813\n",
            "Epoch 11/20\n",
            "50/50 [==============================] - 14s 287ms/step - loss: 0.7169 - accuracy: 0.8540 - val_loss: 1.5966 - val_accuracy: 0.8813\n",
            "Epoch 12/20\n",
            "50/50 [==============================] - 14s 286ms/step - loss: 0.7118 - accuracy: 0.8540 - val_loss: 1.5175 - val_accuracy: 0.8813\n",
            "Epoch 13/20\n",
            "50/50 [==============================] - 14s 286ms/step - loss: 0.7037 - accuracy: 0.8540 - val_loss: 1.6205 - val_accuracy: 0.8813\n",
            "Epoch 14/20\n",
            "50/50 [==============================] - 14s 288ms/step - loss: 0.6941 - accuracy: 0.8540 - val_loss: 1.6628 - val_accuracy: 0.8813\n",
            "Epoch 15/20\n",
            "50/50 [==============================] - 14s 286ms/step - loss: 0.6834 - accuracy: 0.8540 - val_loss: 1.6995 - val_accuracy: 0.8811\n",
            "Epoch 16/20\n",
            "50/50 [==============================] - 14s 289ms/step - loss: 0.6773 - accuracy: 0.8540 - val_loss: 1.6758 - val_accuracy: 0.8733\n",
            "Epoch 17/20\n",
            "50/50 [==============================] - 14s 286ms/step - loss: 0.6669 - accuracy: 0.8540 - val_loss: 1.6809 - val_accuracy: 0.8704\n",
            "Epoch 18/20\n",
            "50/50 [==============================] - 14s 288ms/step - loss: 0.6558 - accuracy: 0.8540 - val_loss: 1.6567 - val_accuracy: 0.8511\n",
            "Epoch 19/20\n",
            "50/50 [==============================] - 14s 287ms/step - loss: 0.6459 - accuracy: 0.8540 - val_loss: 1.7298 - val_accuracy: 0.8164\n",
            "Epoch 20/20\n",
            "50/50 [==============================] - 14s 290ms/step - loss: 0.6324 - accuracy: 0.8540 - val_loss: 1.7362 - val_accuracy: 0.8048\n",
            "Epoch 1/20\n",
            "50/50 [==============================] - 17s 289ms/step - loss: 3.0549 - accuracy: 0.7492 - val_loss: 2.9266 - val_accuracy: 0.8813\n",
            "Epoch 2/20\n",
            "50/50 [==============================] - 14s 290ms/step - loss: 1.1757 - accuracy: 0.8540 - val_loss: 1.5073 - val_accuracy: 0.8813\n",
            "Epoch 3/20\n",
            "50/50 [==============================] - 14s 275ms/step - loss: 0.7964 - accuracy: 0.8540 - val_loss: 1.4046 - val_accuracy: 0.8813\n",
            "Epoch 4/20\n",
            "50/50 [==============================] - 14s 276ms/step - loss: 0.7668 - accuracy: 0.8540 - val_loss: 1.3574 - val_accuracy: 0.8813\n",
            "Epoch 5/20\n",
            "50/50 [==============================] - 14s 278ms/step - loss: 0.7429 - accuracy: 0.8540 - val_loss: 1.3267 - val_accuracy: 0.8813\n",
            "Epoch 6/20\n",
            "50/50 [==============================] - 14s 280ms/step - loss: 0.7270 - accuracy: 0.8540 - val_loss: 1.3152 - val_accuracy: 0.8813\n",
            "Epoch 7/20\n",
            "50/50 [==============================] - 14s 274ms/step - loss: 0.7120 - accuracy: 0.8540 - val_loss: 1.3004 - val_accuracy: 0.8813\n",
            "Epoch 8/20\n",
            "50/50 [==============================] - 14s 275ms/step - loss: 0.6947 - accuracy: 0.8540 - val_loss: 1.3853 - val_accuracy: 0.8813\n",
            "Epoch 9/20\n",
            "50/50 [==============================] - 14s 274ms/step - loss: 0.6816 - accuracy: 0.8540 - val_loss: 1.3179 - val_accuracy: 0.8813\n",
            "Epoch 10/20\n",
            "50/50 [==============================] - 14s 274ms/step - loss: 0.6619 - accuracy: 0.8540 - val_loss: 1.3886 - val_accuracy: 0.8813\n",
            "Epoch 11/20\n",
            "50/50 [==============================] - 14s 275ms/step - loss: 0.6438 - accuracy: 0.8540 - val_loss: 1.3592 - val_accuracy: 0.8813\n",
            "Epoch 12/20\n",
            "50/50 [==============================] - 14s 278ms/step - loss: 0.6235 - accuracy: 0.8540 - val_loss: 1.4526 - val_accuracy: 0.8813\n",
            "Epoch 13/20\n",
            "50/50 [==============================] - 14s 278ms/step - loss: 0.6034 - accuracy: 0.8540 - val_loss: 1.4790 - val_accuracy: 0.8813\n",
            "Epoch 14/20\n",
            "50/50 [==============================] - 14s 274ms/step - loss: 0.5807 - accuracy: 0.8540 - val_loss: 1.5478 - val_accuracy: 0.8811\n",
            "Epoch 15/20\n",
            "50/50 [==============================] - 14s 276ms/step - loss: 0.5591 - accuracy: 0.8540 - val_loss: 1.6196 - val_accuracy: 0.8802\n",
            "Epoch 16/20\n",
            "50/50 [==============================] - 14s 275ms/step - loss: 0.5398 - accuracy: 0.8543 - val_loss: 1.6970 - val_accuracy: 0.8755\n",
            "Epoch 17/20\n",
            "50/50 [==============================] - 14s 275ms/step - loss: 0.5205 - accuracy: 0.8558 - val_loss: 1.7248 - val_accuracy: 0.8688\n",
            "Epoch 18/20\n",
            "50/50 [==============================] - 14s 276ms/step - loss: 0.5052 - accuracy: 0.8560 - val_loss: 1.7772 - val_accuracy: 0.8593\n",
            "Epoch 19/20\n",
            "50/50 [==============================] - 14s 275ms/step - loss: 0.4920 - accuracy: 0.8581 - val_loss: 1.7549 - val_accuracy: 0.8525\n",
            "Epoch 20/20\n",
            "50/50 [==============================] - 14s 274ms/step - loss: 0.4770 - accuracy: 0.8600 - val_loss: 1.8281 - val_accuracy: 0.8392\n",
            "Epoch 1/20\n",
            "50/50 [==============================] - 19s 315ms/step - loss: 2.1267 - accuracy: 0.8095 - val_loss: 2.4095 - val_accuracy: 0.8813\n",
            "Epoch 2/20\n",
            "50/50 [==============================] - 15s 305ms/step - loss: 0.8548 - accuracy: 0.8540 - val_loss: 2.3266 - val_accuracy: 0.8813\n",
            "Epoch 3/20\n",
            "50/50 [==============================] - 15s 309ms/step - loss: 0.7889 - accuracy: 0.8540 - val_loss: 2.1848 - val_accuracy: 0.8813\n",
            "Epoch 4/20\n",
            "50/50 [==============================] - 15s 305ms/step - loss: 0.7604 - accuracy: 0.8540 - val_loss: 2.3103 - val_accuracy: 0.7916\n",
            "Epoch 5/20\n",
            "50/50 [==============================] - 15s 305ms/step - loss: 0.7420 - accuracy: 0.8540 - val_loss: 2.2667 - val_accuracy: 0.7352\n",
            "Epoch 6/20\n",
            "50/50 [==============================] - 15s 306ms/step - loss: 0.7268 - accuracy: 0.8540 - val_loss: 2.3265 - val_accuracy: 0.6567\n",
            "Epoch 7/20\n",
            "50/50 [==============================] - 15s 311ms/step - loss: 0.7118 - accuracy: 0.8540 - val_loss: 2.3807 - val_accuracy: 0.6140\n",
            "Epoch 8/20\n",
            "50/50 [==============================] - 15s 306ms/step - loss: 0.7019 - accuracy: 0.8540 - val_loss: 2.3783 - val_accuracy: 0.5781\n",
            "Epoch 9/20\n",
            "50/50 [==============================] - 15s 306ms/step - loss: 0.6887 - accuracy: 0.8540 - val_loss: 2.3427 - val_accuracy: 0.5772\n",
            "Epoch 10/20\n",
            "50/50 [==============================] - 15s 307ms/step - loss: 0.6764 - accuracy: 0.8540 - val_loss: 2.3494 - val_accuracy: 0.5433\n",
            "Epoch 11/20\n",
            "50/50 [==============================] - 15s 307ms/step - loss: 0.6658 - accuracy: 0.8540 - val_loss: 2.3704 - val_accuracy: 0.5128\n",
            "Epoch 12/20\n",
            "50/50 [==============================] - 15s 306ms/step - loss: 0.6530 - accuracy: 0.8540 - val_loss: 2.3929 - val_accuracy: 0.4996\n",
            "Epoch 13/20\n",
            "50/50 [==============================] - 15s 309ms/step - loss: 0.6430 - accuracy: 0.8540 - val_loss: 2.4663 - val_accuracy: 0.4488\n",
            "Epoch 14/20\n",
            "50/50 [==============================] - 15s 308ms/step - loss: 0.6316 - accuracy: 0.8540 - val_loss: 2.4396 - val_accuracy: 0.4578\n",
            "Epoch 15/20\n",
            "50/50 [==============================] - 15s 306ms/step - loss: 0.6178 - accuracy: 0.8553 - val_loss: 2.5138 - val_accuracy: 0.3991\n",
            "Epoch 16/20\n",
            "50/50 [==============================] - 15s 307ms/step - loss: 0.6042 - accuracy: 0.8556 - val_loss: 2.4890 - val_accuracy: 0.3964\n",
            "Epoch 17/20\n",
            "50/50 [==============================] - 15s 309ms/step - loss: 0.5913 - accuracy: 0.8571 - val_loss: 2.5258 - val_accuracy: 0.3753\n",
            "Epoch 18/20\n",
            "50/50 [==============================] - 15s 308ms/step - loss: 0.5762 - accuracy: 0.8599 - val_loss: 2.5467 - val_accuracy: 0.3570\n",
            "Epoch 19/20\n",
            "50/50 [==============================] - 15s 308ms/step - loss: 0.5581 - accuracy: 0.8618 - val_loss: 2.4954 - val_accuracy: 0.3583\n",
            "Epoch 20/20\n",
            "50/50 [==============================] - 15s 306ms/step - loss: 0.5384 - accuracy: 0.8627 - val_loss: 2.5030 - val_accuracy: 0.3290\n",
            "Epoch 1/20\n",
            "50/50 [==============================] - 18s 308ms/step - loss: 2.2220 - accuracy: 0.8184 - val_loss: 1.0849 - val_accuracy: 0.8813\n",
            "Epoch 2/20\n",
            "50/50 [==============================] - 15s 298ms/step - loss: 0.8165 - accuracy: 0.8540 - val_loss: 1.0488 - val_accuracy: 0.8813\n",
            "Epoch 3/20\n",
            "50/50 [==============================] - 15s 299ms/step - loss: 0.7649 - accuracy: 0.8540 - val_loss: 1.0192 - val_accuracy: 0.8813\n",
            "Epoch 4/20\n",
            "50/50 [==============================] - 15s 295ms/step - loss: 0.7341 - accuracy: 0.8540 - val_loss: 0.9679 - val_accuracy: 0.8813\n",
            "Epoch 5/20\n",
            "50/50 [==============================] - 15s 298ms/step - loss: 0.7076 - accuracy: 0.8540 - val_loss: 0.9530 - val_accuracy: 0.8813\n",
            "Epoch 6/20\n",
            "50/50 [==============================] - 15s 296ms/step - loss: 0.6849 - accuracy: 0.8540 - val_loss: 0.9728 - val_accuracy: 0.8813\n",
            "Epoch 7/20\n",
            "50/50 [==============================] - 15s 297ms/step - loss: 0.6650 - accuracy: 0.8540 - val_loss: 0.9263 - val_accuracy: 0.8813\n",
            "Epoch 8/20\n",
            "50/50 [==============================] - 15s 297ms/step - loss: 0.6472 - accuracy: 0.8540 - val_loss: 0.9160 - val_accuracy: 0.8813\n",
            "Epoch 9/20\n",
            "50/50 [==============================] - 15s 297ms/step - loss: 0.6270 - accuracy: 0.8540 - val_loss: 0.9157 - val_accuracy: 0.8813\n",
            "Epoch 10/20\n",
            "50/50 [==============================] - 15s 294ms/step - loss: 0.6069 - accuracy: 0.8544 - val_loss: 0.9016 - val_accuracy: 0.8810\n",
            "Epoch 11/20\n",
            "50/50 [==============================] - 15s 296ms/step - loss: 0.5836 - accuracy: 0.8558 - val_loss: 0.9076 - val_accuracy: 0.8795\n",
            "Epoch 12/20\n",
            "50/50 [==============================] - 15s 297ms/step - loss: 0.5573 - accuracy: 0.8577 - val_loss: 0.9438 - val_accuracy: 0.8750\n",
            "Epoch 13/20\n",
            "50/50 [==============================] - 15s 295ms/step - loss: 0.5281 - accuracy: 0.8581 - val_loss: 0.9786 - val_accuracy: 0.8663\n",
            "Epoch 14/20\n",
            "50/50 [==============================] - 15s 295ms/step - loss: 0.4939 - accuracy: 0.8637 - val_loss: 1.0352 - val_accuracy: 0.8534\n",
            "Epoch 15/20\n",
            "50/50 [==============================] - 15s 295ms/step - loss: 0.4603 - accuracy: 0.8674 - val_loss: 1.0737 - val_accuracy: 0.8357\n",
            "Epoch 16/20\n",
            "50/50 [==============================] - 15s 295ms/step - loss: 0.4286 - accuracy: 0.8761 - val_loss: 1.1878 - val_accuracy: 0.8136\n",
            "Epoch 17/20\n",
            "50/50 [==============================] - 15s 294ms/step - loss: 0.3965 - accuracy: 0.8820 - val_loss: 1.1266 - val_accuracy: 0.8123\n",
            "Epoch 18/20\n",
            "50/50 [==============================] - 15s 296ms/step - loss: 0.3724 - accuracy: 0.8880 - val_loss: 1.1928 - val_accuracy: 0.8028\n",
            "Epoch 19/20\n",
            "50/50 [==============================] - 15s 296ms/step - loss: 0.3483 - accuracy: 0.8911 - val_loss: 1.2697 - val_accuracy: 0.7900\n",
            "Epoch 20/20\n",
            "50/50 [==============================] - 15s 298ms/step - loss: 0.3257 - accuracy: 0.8971 - val_loss: 1.2437 - val_accuracy: 0.7959\n"
          ]
        }
      ]
    },
    {
      "cell_type": "code",
      "source": [
        "BiLSTM_a = Bi_LSTM(num_words_a,num_tags_a,max_len)\n",
        "history1_a = BiLSTM_a.fit(\n",
        "    x=x_train_a,\n",
        "    y=y_train_a,\n",
        "    validation_data=(x_dev_a,y_dev_a),\n",
        "    batch_size= 2, \n",
        "    epochs=20,\n",
        "    verbose=1\n",
        ")"
      ],
      "metadata": {
        "colab": {
          "base_uri": "https://localhost:8080/"
        },
        "id": "2B3rDfmp4lGW",
        "outputId": "35f5da1a-686e-4f4d-c0b9-1fdb46b13935"
      },
      "execution_count": null,
      "outputs": [
        {
          "output_type": "stream",
          "name": "stderr",
          "text": [
            "/usr/local/lib/python3.7/dist-packages/keras/optimizer_v2/adam.py:105: UserWarning: The `lr` argument is deprecated, use `learning_rate` instead.\n",
            "  super(Adam, self).__init__(name, **kwargs)\n"
          ]
        },
        {
          "output_type": "stream",
          "name": "stdout",
          "text": [
            "Model: \"model_12\"\n",
            "_________________________________________________________________\n",
            " Layer (type)                Output Shape              Param #   \n",
            "=================================================================\n",
            " input_13 (InputLayer)       [(None, 80)]              0         \n",
            "                                                                 \n",
            " embedding_12 (Embedding)    (None, 80, 80)            640400    \n",
            "                                                                 \n",
            " spatial_dropout1d_12 (Spati  (None, 80, 80)           0         \n",
            " alDropout1D)                                                    \n",
            "                                                                 \n",
            " bidirectional_12 (Bidirecti  (None, 80, 200)          144800    \n",
            " onal)                                                           \n",
            "                                                                 \n",
            " time_distributed_12 (TimeDi  (None, 80, 29)           5829      \n",
            " stributed)                                                      \n",
            "                                                                 \n",
            "=================================================================\n",
            "Total params: 791,029\n",
            "Trainable params: 791,029\n",
            "Non-trainable params: 0\n",
            "_________________________________________________________________\n",
            "Epoch 1/20\n",
            "50/50 [==============================] - 21s 301ms/step - loss: 2.6089 - accuracy: 0.8027 - val_loss: 1.0261 - val_accuracy: 0.8813\n",
            "Epoch 2/20\n",
            "50/50 [==============================] - 15s 294ms/step - loss: 0.8816 - accuracy: 0.8540 - val_loss: 1.2907 - val_accuracy: 0.8813\n",
            "Epoch 3/20\n",
            "50/50 [==============================] - 15s 293ms/step - loss: 0.7947 - accuracy: 0.8540 - val_loss: 1.2079 - val_accuracy: 0.8813\n",
            "Epoch 4/20\n",
            "50/50 [==============================] - 14s 290ms/step - loss: 0.7709 - accuracy: 0.8540 - val_loss: 1.1067 - val_accuracy: 0.8813\n",
            "Epoch 5/20\n",
            "50/50 [==============================] - 15s 294ms/step - loss: 0.7602 - accuracy: 0.8540 - val_loss: 1.3723 - val_accuracy: 0.8813\n",
            "Epoch 6/20\n",
            "50/50 [==============================] - 14s 288ms/step - loss: 0.7523 - accuracy: 0.8540 - val_loss: 1.4722 - val_accuracy: 0.8813\n",
            "Epoch 7/20\n",
            "50/50 [==============================] - 14s 290ms/step - loss: 0.7444 - accuracy: 0.8540 - val_loss: 1.2067 - val_accuracy: 0.8788\n",
            "Epoch 8/20\n",
            "50/50 [==============================] - 14s 290ms/step - loss: 0.7385 - accuracy: 0.8540 - val_loss: 1.4854 - val_accuracy: 0.8617\n",
            "Epoch 9/20\n",
            "50/50 [==============================] - 15s 292ms/step - loss: 0.7369 - accuracy: 0.8540 - val_loss: 1.6547 - val_accuracy: 0.8200\n",
            "Epoch 10/20\n",
            "50/50 [==============================] - 14s 290ms/step - loss: 0.7259 - accuracy: 0.8540 - val_loss: 1.6499 - val_accuracy: 0.8127\n",
            "Epoch 11/20\n",
            "50/50 [==============================] - 15s 293ms/step - loss: 0.7193 - accuracy: 0.8540 - val_loss: 1.5880 - val_accuracy: 0.8155\n",
            "Epoch 12/20\n",
            "50/50 [==============================] - 14s 290ms/step - loss: 0.7117 - accuracy: 0.8540 - val_loss: 1.6624 - val_accuracy: 0.7871\n",
            "Epoch 13/20\n",
            "50/50 [==============================] - 14s 291ms/step - loss: 0.7034 - accuracy: 0.8540 - val_loss: 1.6817 - val_accuracy: 0.7734\n",
            "Epoch 14/20\n",
            "50/50 [==============================] - 14s 289ms/step - loss: 0.6943 - accuracy: 0.8540 - val_loss: 1.7261 - val_accuracy: 0.7513\n",
            "Epoch 15/20\n",
            "50/50 [==============================] - 14s 291ms/step - loss: 0.6861 - accuracy: 0.8540 - val_loss: 1.7242 - val_accuracy: 0.7421\n",
            "Epoch 16/20\n",
            "50/50 [==============================] - 14s 290ms/step - loss: 0.6760 - accuracy: 0.8540 - val_loss: 1.7509 - val_accuracy: 0.7290\n",
            "Epoch 17/20\n",
            "50/50 [==============================] - 14s 289ms/step - loss: 0.6661 - accuracy: 0.8540 - val_loss: 1.8030 - val_accuracy: 0.7154\n",
            "Epoch 18/20\n",
            "50/50 [==============================] - 14s 290ms/step - loss: 0.6549 - accuracy: 0.8540 - val_loss: 1.8019 - val_accuracy: 0.7077\n",
            "Epoch 19/20\n",
            "50/50 [==============================] - 14s 290ms/step - loss: 0.6428 - accuracy: 0.8540 - val_loss: 1.8472 - val_accuracy: 0.6945\n",
            "Epoch 20/20\n",
            "50/50 [==============================] - 14s 290ms/step - loss: 0.6294 - accuracy: 0.8540 - val_loss: 1.8773 - val_accuracy: 0.6883\n"
          ]
        }
      ]
    },
    {
      "cell_type": "code",
      "source": [
        "BiLSTMCNN_a = Bi_LSTM_CNN(num_words_a,num_tags_a,max_len)\n",
        "history3_a = BiLSTMCNN_a.fit(\n",
        "    x=x_train_a,\n",
        "    y=y_train_a,\n",
        "    validation_data=(x_dev_a,y_dev_a),\n",
        "    batch_size= 2, \n",
        "    epochs=20,\n",
        "    verbose=1\n",
        ")"
      ],
      "metadata": {
        "colab": {
          "base_uri": "https://localhost:8080/"
        },
        "id": "H8OR--jm2UEN",
        "outputId": "2b8495c8-cd37-40b6-9481-62a0e087d981"
      },
      "execution_count": null,
      "outputs": [
        {
          "output_type": "stream",
          "name": "stderr",
          "text": [
            "/usr/local/lib/python3.7/dist-packages/keras/optimizer_v2/adam.py:105: UserWarning: The `lr` argument is deprecated, use `learning_rate` instead.\n",
            "  super(Adam, self).__init__(name, **kwargs)\n"
          ]
        },
        {
          "output_type": "stream",
          "name": "stdout",
          "text": [
            "Model: \"model_13\"\n",
            "_________________________________________________________________\n",
            " Layer (type)                Output Shape              Param #   \n",
            "=================================================================\n",
            " input_14 (InputLayer)       [(None, 80)]              0         \n",
            "                                                                 \n",
            " embedding_13 (Embedding)    (None, 80, 80)            640400    \n",
            "                                                                 \n",
            " spatial_dropout1d_13 (Spati  (None, 80, 80)           0         \n",
            " alDropout1D)                                                    \n",
            "                                                                 \n",
            " bidirectional_13 (Bidirecti  (None, 80, 200)          144800    \n",
            " onal)                                                           \n",
            "                                                                 \n",
            " conv1d_6 (Conv1D)           (None, 80, 200)           200200    \n",
            "                                                                 \n",
            " time_distributed_13 (TimeDi  (None, 80, 29)           5829      \n",
            " stributed)                                                      \n",
            "                                                                 \n",
            "=================================================================\n",
            "Total params: 991,229\n",
            "Trainable params: 991,229\n",
            "Non-trainable params: 0\n",
            "_________________________________________________________________\n",
            "Epoch 1/20\n",
            "50/50 [==============================] - 19s 320ms/step - loss: 2.0324 - accuracy: 0.8264 - val_loss: 1.9310 - val_accuracy: 0.8813\n",
            "Epoch 2/20\n",
            "50/50 [==============================] - 15s 305ms/step - loss: 0.8360 - accuracy: 0.8540 - val_loss: 1.8436 - val_accuracy: 0.8813\n",
            "Epoch 3/20\n",
            "50/50 [==============================] - 15s 305ms/step - loss: 0.7820 - accuracy: 0.8540 - val_loss: 1.8894 - val_accuracy: 0.8813\n",
            "Epoch 4/20\n",
            "50/50 [==============================] - 15s 304ms/step - loss: 0.7576 - accuracy: 0.8540 - val_loss: 1.7785 - val_accuracy: 0.8813\n",
            "Epoch 5/20\n",
            "50/50 [==============================] - 15s 305ms/step - loss: 0.7391 - accuracy: 0.8540 - val_loss: 1.8582 - val_accuracy: 0.8813\n",
            "Epoch 6/20\n",
            "50/50 [==============================] - 15s 306ms/step - loss: 0.7246 - accuracy: 0.8540 - val_loss: 1.8272 - val_accuracy: 0.8813\n",
            "Epoch 7/20\n",
            "50/50 [==============================] - 15s 307ms/step - loss: 0.7128 - accuracy: 0.8540 - val_loss: 1.8144 - val_accuracy: 0.8813\n",
            "Epoch 8/20\n",
            "50/50 [==============================] - 15s 307ms/step - loss: 0.7009 - accuracy: 0.8540 - val_loss: 1.8013 - val_accuracy: 0.8813\n",
            "Epoch 9/20\n",
            "50/50 [==============================] - 15s 306ms/step - loss: 0.6894 - accuracy: 0.8540 - val_loss: 1.8109 - val_accuracy: 0.8813\n",
            "Epoch 10/20\n",
            "50/50 [==============================] - 15s 309ms/step - loss: 0.6800 - accuracy: 0.8540 - val_loss: 1.8469 - val_accuracy: 0.8812\n",
            "Epoch 11/20\n",
            "50/50 [==============================] - 15s 308ms/step - loss: 0.6667 - accuracy: 0.8540 - val_loss: 1.8610 - val_accuracy: 0.8813\n",
            "Epoch 12/20\n",
            "50/50 [==============================] - 15s 305ms/step - loss: 0.6554 - accuracy: 0.8540 - val_loss: 1.8431 - val_accuracy: 0.8813\n",
            "Epoch 13/20\n",
            "50/50 [==============================] - 15s 308ms/step - loss: 0.6446 - accuracy: 0.8540 - val_loss: 1.7766 - val_accuracy: 0.8813\n",
            "Epoch 14/20\n",
            "50/50 [==============================] - 15s 308ms/step - loss: 0.6309 - accuracy: 0.8540 - val_loss: 1.8295 - val_accuracy: 0.8813\n",
            "Epoch 15/20\n",
            "50/50 [==============================] - 15s 305ms/step - loss: 0.6155 - accuracy: 0.8546 - val_loss: 1.8243 - val_accuracy: 0.8811\n",
            "Epoch 16/20\n",
            "50/50 [==============================] - 15s 310ms/step - loss: 0.5982 - accuracy: 0.8572 - val_loss: 1.8130 - val_accuracy: 0.8808\n",
            "Epoch 17/20\n",
            "50/50 [==============================] - 15s 308ms/step - loss: 0.5856 - accuracy: 0.8584 - val_loss: 1.8378 - val_accuracy: 0.8803\n",
            "Epoch 18/20\n",
            "50/50 [==============================] - 15s 308ms/step - loss: 0.5641 - accuracy: 0.8602 - val_loss: 1.7915 - val_accuracy: 0.8799\n",
            "Epoch 19/20\n",
            "50/50 [==============================] - 15s 304ms/step - loss: 0.5451 - accuracy: 0.8581 - val_loss: 1.8073 - val_accuracy: 0.8765\n",
            "Epoch 20/20\n",
            "50/50 [==============================] - 15s 307ms/step - loss: 0.5270 - accuracy: 0.8618 - val_loss: 1.7206 - val_accuracy: 0.8776\n"
          ]
        }
      ]
    },
    {
      "cell_type": "markdown",
      "source": [
        "##Kết quả trên bộ AI"
      ],
      "metadata": {
        "id": "JDWFDkCRkfxT"
      }
    },
    {
      "cell_type": "code",
      "source": [
        "score(BiLSTM_a, x_test_a, y_test_a, tags_a)"
      ],
      "metadata": {
        "colab": {
          "base_uri": "https://localhost:8080/"
        },
        "id": "ScoGoUKlkLJw",
        "outputId": "4d92939c-ce97-4c0a-ec4e-51b7c03c2bb0"
      },
      "execution_count": null,
      "outputs": [
        {
          "output_type": "stream",
          "name": "stdout",
          "text": [
            "f1 macro:  0.03268016923392585\n",
            "f1 micro:  0.888631090487239\n"
          ]
        }
      ]
    },
    {
      "cell_type": "code",
      "source": [
        "score(BiLSTMCNN_a, x_test_a, y_test_a, tags_a)"
      ],
      "metadata": {
        "colab": {
          "base_uri": "https://localhost:8080/"
        },
        "id": "buIhdAYGkNwY",
        "outputId": "4649e844-b29a-44b5-d2c0-4e2f80a361ee"
      },
      "execution_count": null,
      "outputs": [
        {
          "output_type": "stream",
          "name": "stdout",
          "text": [
            "f1 macro:  0.03248418768359489\n",
            "f1 micro:  0.8899941995359629\n"
          ]
        }
      ]
    },
    {
      "cell_type": "code",
      "source": [
        "score(BiGRU_a, x_test_a, y_test_a, tags_a)"
      ],
      "metadata": {
        "colab": {
          "base_uri": "https://localhost:8080/"
        },
        "id": "ruKcc4kBkSCA",
        "outputId": "2d18f138-e329-4ca5-f9a5-7dde46a1078a"
      },
      "execution_count": null,
      "outputs": [
        {
          "output_type": "stream",
          "name": "stdout",
          "text": [
            "f1 macro:  0.03351954285143432\n",
            "f1 micro:  0.8689675174013921\n"
          ]
        }
      ]
    },
    {
      "cell_type": "code",
      "source": [
        "score(BiGRUCNN_a, x_test_a, y_test_a, tags_a)"
      ],
      "metadata": {
        "colab": {
          "base_uri": "https://localhost:8080/"
        },
        "id": "wUa1-VLskTng",
        "outputId": "b0d19679-c268-4693-ec94-a30d597d0262"
      },
      "execution_count": null,
      "outputs": [
        {
          "output_type": "stream",
          "name": "stdout",
          "text": [
            "f1 macro:  0.039038806136109855\n",
            "f1 micro:  0.8226508120649652\n"
          ]
        }
      ]
    },
    {
      "cell_type": "markdown",
      "source": [
        "##Training trên bộ Literature"
      ],
      "metadata": {
        "id": "z6faUGb3khil"
      }
    },
    {
      "cell_type": "code",
      "source": [
        "BiLSTM_l = Bi_LSTM(num_words_l,num_tags_l,max_len)\n",
        "BiGRU_l = Bi_GRU(num_words_l,num_tags_l,max_len)\n",
        "BiLSTMCNN_l = Bi_LSTM_CNN(num_words_l,num_tags_l,max_len)\n",
        "BiGRUCNN_l = Bi_GRU_CNN(num_words_l,num_tags_l,max_len)\n",
        "history1_l = BiLSTM_l.fit(\n",
        "    x=x_train_l,\n",
        "    y=y_train_l,\n",
        "    validation_data=(x_dev_l,y_dev_l),\n",
        "    batch_size= 2, \n",
        "    epochs=20,\n",
        "    verbose=1\n",
        ")\n",
        "\n",
        "history2_l = BiGRU_l.fit(\n",
        "    x=x_train_l,\n",
        "    y=y_train_l,\n",
        "    validation_data=(x_dev_l,y_dev_l),\n",
        "    batch_size= 2, \n",
        "    epochs=20,\n",
        "    verbose=1\n",
        ")\n",
        "history3_l = BiLSTMCNN_l.fit(\n",
        "    x=x_train_l,\n",
        "    y=y_train_l,\n",
        "    validation_data=(x_dev_l,y_dev_l),\n",
        "    batch_size= 2, \n",
        "    epochs=20,\n",
        "    verbose=1\n",
        ")\n",
        "history4_l = BiGRUCNN_l.fit(\n",
        "    x=x_train_l,\n",
        "    y=y_train_l,\n",
        "    validation_data=(x_dev_l,y_dev_l),\n",
        "    batch_size= 2, \n",
        "    epochs=20,\n",
        "    verbose=1\n",
        ")"
      ],
      "metadata": {
        "colab": {
          "base_uri": "https://localhost:8080/"
        },
        "id": "0D4rL1HFhza6",
        "outputId": "58aa8a03-5b63-414d-f933-07dc0b0c94d5"
      },
      "execution_count": null,
      "outputs": [
        {
          "output_type": "stream",
          "name": "stderr",
          "text": [
            "/usr/local/lib/python3.7/dist-packages/keras/optimizer_v2/adam.py:105: UserWarning: The `lr` argument is deprecated, use `learning_rate` instead.\n",
            "  super(Adam, self).__init__(name, **kwargs)\n"
          ]
        },
        {
          "output_type": "stream",
          "name": "stdout",
          "text": [
            "Model: \"model_4\"\n",
            "_________________________________________________________________\n",
            " Layer (type)                Output Shape              Param #   \n",
            "=================================================================\n",
            " input_5 (InputLayer)        [(None, 80)]              0         \n",
            "                                                                 \n",
            " embedding_4 (Embedding)     (None, 80, 80)            853680    \n",
            "                                                                 \n",
            " spatial_dropout1d_4 (Spatia  (None, 80, 80)           0         \n",
            " lDropout1D)                                                     \n",
            "                                                                 \n",
            " bidirectional_4 (Bidirectio  (None, 80, 200)          144800    \n",
            " nal)                                                            \n",
            "                                                                 \n",
            " time_distributed_4 (TimeDis  (None, 80, 25)           5025      \n",
            " tributed)                                                       \n",
            "                                                                 \n",
            "=================================================================\n",
            "Total params: 1,003,505\n",
            "Trainable params: 1,003,505\n",
            "Non-trainable params: 0\n",
            "_________________________________________________________________\n",
            "Model: \"model_5\"\n",
            "_________________________________________________________________\n",
            " Layer (type)                Output Shape              Param #   \n",
            "=================================================================\n",
            " input_6 (InputLayer)        [(None, 80)]              0         \n",
            "                                                                 \n",
            " embedding_5 (Embedding)     (None, 80, 80)            853680    \n",
            "                                                                 \n",
            " spatial_dropout1d_5 (Spatia  (None, 80, 80)           0         \n",
            " lDropout1D)                                                     \n",
            "                                                                 \n",
            " bidirectional_5 (Bidirectio  (None, 80, 200)          109200    \n",
            " nal)                                                            \n",
            "                                                                 \n",
            " time_distributed_5 (TimeDis  (None, 80, 25)           5025      \n",
            " tributed)                                                       \n",
            "                                                                 \n",
            "=================================================================\n",
            "Total params: 967,905\n",
            "Trainable params: 967,905\n",
            "Non-trainable params: 0\n",
            "_________________________________________________________________\n",
            "Model: \"model_6\"\n",
            "_________________________________________________________________\n",
            " Layer (type)                Output Shape              Param #   \n",
            "=================================================================\n",
            " input_7 (InputLayer)        [(None, 80)]              0         \n",
            "                                                                 \n",
            " embedding_6 (Embedding)     (None, 80, 80)            853680    \n",
            "                                                                 \n",
            " spatial_dropout1d_6 (Spatia  (None, 80, 80)           0         \n",
            " lDropout1D)                                                     \n",
            "                                                                 \n",
            " bidirectional_6 (Bidirectio  (None, 80, 200)          144800    \n",
            " nal)                                                            \n",
            "                                                                 \n",
            " conv1d_2 (Conv1D)           (None, 80, 200)           200200    \n",
            "                                                                 \n",
            " time_distributed_6 (TimeDis  (None, 80, 25)           5025      \n",
            " tributed)                                                       \n",
            "                                                                 \n",
            "=================================================================\n",
            "Total params: 1,203,705\n",
            "Trainable params: 1,203,705\n",
            "Non-trainable params: 0\n",
            "_________________________________________________________________\n",
            "Model: \"model_7\"\n",
            "_________________________________________________________________\n",
            " Layer (type)                Output Shape              Param #   \n",
            "=================================================================\n",
            " input_8 (InputLayer)        [(None, 80)]              0         \n",
            "                                                                 \n",
            " embedding_7 (Embedding)     (None, 80, 80)            853680    \n",
            "                                                                 \n",
            " spatial_dropout1d_7 (Spatia  (None, 80, 80)           0         \n",
            " lDropout1D)                                                     \n",
            "                                                                 \n",
            " bidirectional_7 (Bidirectio  (None, 80, 200)          109200    \n",
            " nal)                                                            \n",
            "                                                                 \n",
            " conv1d_3 (Conv1D)           (None, 80, 200)           200200    \n",
            "                                                                 \n",
            " time_distributed_7 (TimeDis  (None, 80, 25)           5025      \n",
            " tributed)                                                       \n",
            "                                                                 \n",
            "=================================================================\n",
            "Total params: 1,168,105\n",
            "Trainable params: 1,168,105\n",
            "Non-trainable params: 0\n",
            "_________________________________________________________________\n",
            "Epoch 1/20\n",
            "50/50 [==============================] - 21s 313ms/step - loss: 2.4447 - accuracy: 0.8012 - val_loss: 0.8978 - val_accuracy: 0.8478\n",
            "Epoch 2/20\n",
            "50/50 [==============================] - 15s 301ms/step - loss: 0.8787 - accuracy: 0.8366 - val_loss: 1.0042 - val_accuracy: 0.8478\n",
            "Epoch 3/20\n",
            "50/50 [==============================] - 15s 301ms/step - loss: 0.8083 - accuracy: 0.8366 - val_loss: 0.9628 - val_accuracy: 0.8478\n",
            "Epoch 4/20\n",
            "50/50 [==============================] - 15s 302ms/step - loss: 0.7924 - accuracy: 0.8366 - val_loss: 0.9445 - val_accuracy: 0.8478\n",
            "Epoch 5/20\n",
            "50/50 [==============================] - 15s 298ms/step - loss: 0.7841 - accuracy: 0.8366 - val_loss: 1.0443 - val_accuracy: 0.8478\n",
            "Epoch 6/20\n",
            "50/50 [==============================] - 15s 302ms/step - loss: 0.7766 - accuracy: 0.8366 - val_loss: 0.9874 - val_accuracy: 0.8478\n",
            "Epoch 7/20\n",
            "50/50 [==============================] - 15s 299ms/step - loss: 0.7733 - accuracy: 0.8366 - val_loss: 0.8857 - val_accuracy: 0.8478\n",
            "Epoch 8/20\n",
            "50/50 [==============================] - 15s 300ms/step - loss: 0.7628 - accuracy: 0.8366 - val_loss: 0.8999 - val_accuracy: 0.8478\n",
            "Epoch 9/20\n",
            "50/50 [==============================] - 15s 298ms/step - loss: 0.7582 - accuracy: 0.8366 - val_loss: 1.1378 - val_accuracy: 0.8478\n",
            "Epoch 10/20\n",
            "50/50 [==============================] - 15s 302ms/step - loss: 0.7529 - accuracy: 0.8366 - val_loss: 0.8896 - val_accuracy: 0.8478\n",
            "Epoch 11/20\n",
            "50/50 [==============================] - 15s 302ms/step - loss: 0.7438 - accuracy: 0.8366 - val_loss: 0.9648 - val_accuracy: 0.8478\n",
            "Epoch 12/20\n",
            "50/50 [==============================] - 15s 303ms/step - loss: 0.7356 - accuracy: 0.8366 - val_loss: 0.9565 - val_accuracy: 0.8478\n",
            "Epoch 13/20\n",
            "50/50 [==============================] - 15s 301ms/step - loss: 0.7277 - accuracy: 0.8366 - val_loss: 0.9953 - val_accuracy: 0.8478\n",
            "Epoch 14/20\n",
            "50/50 [==============================] - 15s 300ms/step - loss: 0.7165 - accuracy: 0.8366 - val_loss: 1.2240 - val_accuracy: 0.8474\n",
            "Epoch 15/20\n",
            "50/50 [==============================] - 15s 298ms/step - loss: 0.7060 - accuracy: 0.8366 - val_loss: 1.2277 - val_accuracy: 0.8474\n",
            "Epoch 16/20\n",
            "50/50 [==============================] - 15s 303ms/step - loss: 0.6940 - accuracy: 0.8366 - val_loss: 1.3186 - val_accuracy: 0.8473\n",
            "Epoch 17/20\n",
            "50/50 [==============================] - 15s 301ms/step - loss: 0.6814 - accuracy: 0.8366 - val_loss: 1.2644 - val_accuracy: 0.8473\n",
            "Epoch 18/20\n",
            "50/50 [==============================] - 15s 299ms/step - loss: 0.6684 - accuracy: 0.8366 - val_loss: 1.3288 - val_accuracy: 0.8472\n",
            "Epoch 19/20\n",
            "50/50 [==============================] - 15s 301ms/step - loss: 0.6570 - accuracy: 0.8366 - val_loss: 1.4053 - val_accuracy: 0.8470\n",
            "Epoch 20/20\n",
            "50/50 [==============================] - 16s 313ms/step - loss: 0.6427 - accuracy: 0.8367 - val_loss: 1.3745 - val_accuracy: 0.8470\n",
            "Epoch 1/20\n",
            "50/50 [==============================] - 31s 522ms/step - loss: 2.8850 - accuracy: 0.7696 - val_loss: 2.7223 - val_accuracy: 0.8478\n",
            "Epoch 2/20\n",
            "50/50 [==============================] - 23s 461ms/step - loss: 1.1115 - accuracy: 0.8366 - val_loss: 1.4720 - val_accuracy: 0.8478\n",
            "Epoch 3/20\n",
            "50/50 [==============================] - 25s 505ms/step - loss: 0.8391 - accuracy: 0.8366 - val_loss: 1.3662 - val_accuracy: 0.8478\n",
            "Epoch 4/20\n",
            "50/50 [==============================] - 19s 380ms/step - loss: 0.8042 - accuracy: 0.8366 - val_loss: 1.4627 - val_accuracy: 0.8478\n",
            "Epoch 5/20\n",
            "50/50 [==============================] - 14s 290ms/step - loss: 0.7810 - accuracy: 0.8366 - val_loss: 1.4211 - val_accuracy: 0.8478\n",
            "Epoch 6/20\n",
            "50/50 [==============================] - 14s 289ms/step - loss: 0.7588 - accuracy: 0.8366 - val_loss: 1.3554 - val_accuracy: 0.8478\n",
            "Epoch 7/20\n",
            "50/50 [==============================] - 14s 288ms/step - loss: 0.7398 - accuracy: 0.8366 - val_loss: 1.3155 - val_accuracy: 0.8478\n",
            "Epoch 8/20\n",
            "50/50 [==============================] - 14s 290ms/step - loss: 0.7213 - accuracy: 0.8366 - val_loss: 1.3301 - val_accuracy: 0.8478\n",
            "Epoch 9/20\n",
            "50/50 [==============================] - 14s 288ms/step - loss: 0.7039 - accuracy: 0.8366 - val_loss: 1.3448 - val_accuracy: 0.8478\n",
            "Epoch 10/20\n",
            "50/50 [==============================] - 14s 288ms/step - loss: 0.6846 - accuracy: 0.8366 - val_loss: 1.3424 - val_accuracy: 0.8478\n",
            "Epoch 11/20\n",
            "50/50 [==============================] - 15s 305ms/step - loss: 0.6653 - accuracy: 0.8366 - val_loss: 1.3464 - val_accuracy: 0.8478\n",
            "Epoch 12/20\n",
            "50/50 [==============================] - 14s 288ms/step - loss: 0.6461 - accuracy: 0.8366 - val_loss: 1.4057 - val_accuracy: 0.8478\n",
            "Epoch 13/20\n",
            "50/50 [==============================] - 14s 288ms/step - loss: 0.6261 - accuracy: 0.8367 - val_loss: 1.4305 - val_accuracy: 0.8474\n",
            "Epoch 14/20\n",
            "50/50 [==============================] - 14s 288ms/step - loss: 0.6055 - accuracy: 0.8369 - val_loss: 1.4126 - val_accuracy: 0.8459\n",
            "Epoch 15/20\n",
            "50/50 [==============================] - 14s 288ms/step - loss: 0.5863 - accuracy: 0.8375 - val_loss: 1.4520 - val_accuracy: 0.8397\n",
            "Epoch 16/20\n",
            "50/50 [==============================] - 15s 306ms/step - loss: 0.5664 - accuracy: 0.8389 - val_loss: 1.4686 - val_accuracy: 0.8284\n",
            "Epoch 17/20\n",
            "50/50 [==============================] - 14s 289ms/step - loss: 0.5494 - accuracy: 0.8407 - val_loss: 1.5075 - val_accuracy: 0.8203\n",
            "Epoch 18/20\n",
            "50/50 [==============================] - 14s 291ms/step - loss: 0.5322 - accuracy: 0.8465 - val_loss: 1.5001 - val_accuracy: 0.8104\n",
            "Epoch 19/20\n",
            "50/50 [==============================] - 14s 290ms/step - loss: 0.5174 - accuracy: 0.8484 - val_loss: 1.5101 - val_accuracy: 0.8040\n",
            "Epoch 20/20\n",
            "50/50 [==============================] - 14s 289ms/step - loss: 0.5030 - accuracy: 0.8526 - val_loss: 1.5588 - val_accuracy: 0.7890\n",
            "Epoch 1/20\n",
            "50/50 [==============================] - 20s 330ms/step - loss: 2.0604 - accuracy: 0.7893 - val_loss: 1.4171 - val_accuracy: 0.8478\n",
            "Epoch 2/20\n",
            "50/50 [==============================] - 16s 321ms/step - loss: 0.8481 - accuracy: 0.8366 - val_loss: 1.6013 - val_accuracy: 0.8478\n",
            "Epoch 3/20\n",
            "50/50 [==============================] - 16s 319ms/step - loss: 0.7985 - accuracy: 0.8366 - val_loss: 1.3693 - val_accuracy: 0.8478\n",
            "Epoch 4/20\n",
            "50/50 [==============================] - 16s 319ms/step - loss: 0.7811 - accuracy: 0.8366 - val_loss: 1.3735 - val_accuracy: 0.8478\n",
            "Epoch 5/20\n",
            "50/50 [==============================] - 16s 315ms/step - loss: 0.7670 - accuracy: 0.8366 - val_loss: 1.3604 - val_accuracy: 0.8478\n",
            "Epoch 6/20\n",
            "50/50 [==============================] - 16s 320ms/step - loss: 0.7539 - accuracy: 0.8366 - val_loss: 1.1766 - val_accuracy: 0.8478\n",
            "Epoch 7/20\n",
            "50/50 [==============================] - 16s 318ms/step - loss: 0.7405 - accuracy: 0.8366 - val_loss: 1.2830 - val_accuracy: 0.8478\n",
            "Epoch 8/20\n",
            "50/50 [==============================] - 16s 320ms/step - loss: 0.7280 - accuracy: 0.8366 - val_loss: 1.0772 - val_accuracy: 0.8478\n",
            "Epoch 9/20\n",
            "50/50 [==============================] - 16s 316ms/step - loss: 0.7144 - accuracy: 0.8366 - val_loss: 1.1843 - val_accuracy: 0.8478\n",
            "Epoch 10/20\n",
            "50/50 [==============================] - 16s 317ms/step - loss: 0.7006 - accuracy: 0.8366 - val_loss: 1.1430 - val_accuracy: 0.8478\n",
            "Epoch 11/20\n",
            "50/50 [==============================] - 16s 319ms/step - loss: 0.6889 - accuracy: 0.8366 - val_loss: 1.1535 - val_accuracy: 0.8476\n",
            "Epoch 12/20\n",
            "50/50 [==============================] - 16s 322ms/step - loss: 0.6751 - accuracy: 0.8369 - val_loss: 1.1248 - val_accuracy: 0.8475\n",
            "Epoch 13/20\n",
            "50/50 [==============================] - 16s 319ms/step - loss: 0.6606 - accuracy: 0.8394 - val_loss: 1.0918 - val_accuracy: 0.8473\n",
            "Epoch 14/20\n",
            "50/50 [==============================] - 16s 320ms/step - loss: 0.6469 - accuracy: 0.8422 - val_loss: 1.1096 - val_accuracy: 0.8456\n",
            "Epoch 15/20\n",
            "50/50 [==============================] - 16s 319ms/step - loss: 0.6300 - accuracy: 0.8450 - val_loss: 1.1285 - val_accuracy: 0.8451\n",
            "Epoch 16/20\n",
            "50/50 [==============================] - 16s 315ms/step - loss: 0.6126 - accuracy: 0.8462 - val_loss: 1.1681 - val_accuracy: 0.8443\n",
            "Epoch 17/20\n",
            "50/50 [==============================] - 16s 317ms/step - loss: 0.5891 - accuracy: 0.8518 - val_loss: 1.1110 - val_accuracy: 0.8422\n",
            "Epoch 18/20\n",
            "50/50 [==============================] - 16s 316ms/step - loss: 0.5677 - accuracy: 0.8560 - val_loss: 1.1580 - val_accuracy: 0.8408\n",
            "Epoch 19/20\n",
            "50/50 [==============================] - 16s 318ms/step - loss: 0.5422 - accuracy: 0.8605 - val_loss: 1.1846 - val_accuracy: 0.8395\n",
            "Epoch 20/20\n",
            "50/50 [==============================] - 16s 320ms/step - loss: 0.5221 - accuracy: 0.8585 - val_loss: 1.1740 - val_accuracy: 0.8351\n",
            "Epoch 1/20\n",
            "50/50 [==============================] - 19s 320ms/step - loss: 2.0743 - accuracy: 0.8046 - val_loss: 0.9595 - val_accuracy: 0.8478\n",
            "Epoch 2/20\n",
            "50/50 [==============================] - 15s 309ms/step - loss: 0.8335 - accuracy: 0.8366 - val_loss: 0.9713 - val_accuracy: 0.8478\n",
            "Epoch 3/20\n",
            "50/50 [==============================] - 15s 305ms/step - loss: 0.7844 - accuracy: 0.8366 - val_loss: 0.9545 - val_accuracy: 0.8478\n",
            "Epoch 4/20\n",
            "50/50 [==============================] - 15s 304ms/step - loss: 0.7571 - accuracy: 0.8366 - val_loss: 0.9354 - val_accuracy: 0.8478\n",
            "Epoch 5/20\n",
            "50/50 [==============================] - 15s 302ms/step - loss: 0.7333 - accuracy: 0.8366 - val_loss: 0.9322 - val_accuracy: 0.8478\n",
            "Epoch 6/20\n",
            "50/50 [==============================] - 15s 302ms/step - loss: 0.7099 - accuracy: 0.8366 - val_loss: 0.9068 - val_accuracy: 0.8478\n",
            "Epoch 7/20\n",
            "50/50 [==============================] - 15s 304ms/step - loss: 0.6875 - accuracy: 0.8366 - val_loss: 0.9008 - val_accuracy: 0.8478\n",
            "Epoch 8/20\n",
            "50/50 [==============================] - 15s 302ms/step - loss: 0.6638 - accuracy: 0.8366 - val_loss: 0.9196 - val_accuracy: 0.8478\n",
            "Epoch 9/20\n",
            "50/50 [==============================] - 15s 302ms/step - loss: 0.6385 - accuracy: 0.8369 - val_loss: 0.9220 - val_accuracy: 0.8466\n",
            "Epoch 10/20\n",
            "50/50 [==============================] - 15s 308ms/step - loss: 0.6117 - accuracy: 0.8380 - val_loss: 0.9211 - val_accuracy: 0.8420\n",
            "Epoch 11/20\n",
            "50/50 [==============================] - 15s 305ms/step - loss: 0.5804 - accuracy: 0.8432 - val_loss: 0.9474 - val_accuracy: 0.8247\n",
            "Epoch 12/20\n",
            "50/50 [==============================] - 15s 304ms/step - loss: 0.5488 - accuracy: 0.8501 - val_loss: 0.9751 - val_accuracy: 0.8158\n",
            "Epoch 13/20\n",
            "50/50 [==============================] - 15s 305ms/step - loss: 0.5124 - accuracy: 0.8564 - val_loss: 0.9922 - val_accuracy: 0.7929\n",
            "Epoch 14/20\n",
            "50/50 [==============================] - 15s 307ms/step - loss: 0.4758 - accuracy: 0.8646 - val_loss: 1.0592 - val_accuracy: 0.7791\n",
            "Epoch 15/20\n",
            "50/50 [==============================] - 15s 303ms/step - loss: 0.4369 - accuracy: 0.8739 - val_loss: 1.0626 - val_accuracy: 0.7720\n",
            "Epoch 16/20\n",
            "50/50 [==============================] - 15s 305ms/step - loss: 0.4007 - accuracy: 0.8826 - val_loss: 1.1447 - val_accuracy: 0.7540\n",
            "Epoch 17/20\n",
            "50/50 [==============================] - 15s 304ms/step - loss: 0.3661 - accuracy: 0.8917 - val_loss: 1.1883 - val_accuracy: 0.7557\n",
            "Epoch 18/20\n",
            "50/50 [==============================] - 15s 304ms/step - loss: 0.3296 - accuracy: 0.9001 - val_loss: 1.2101 - val_accuracy: 0.7640\n",
            "Epoch 19/20\n",
            "50/50 [==============================] - 15s 303ms/step - loss: 0.3025 - accuracy: 0.9134 - val_loss: 1.2871 - val_accuracy: 0.7531\n",
            "Epoch 20/20\n",
            "50/50 [==============================] - 15s 304ms/step - loss: 0.2791 - accuracy: 0.9160 - val_loss: 1.3873 - val_accuracy: 0.7422\n"
          ]
        }
      ]
    },
    {
      "cell_type": "markdown",
      "source": [
        "##Kết quả trên bộ Literature"
      ],
      "metadata": {
        "id": "LVqCisi_kpvH"
      }
    },
    {
      "cell_type": "code",
      "source": [
        "score(BiLSTM_l, x_test_l, y_test_l, tags_l)"
      ],
      "metadata": {
        "colab": {
          "base_uri": "https://localhost:8080/"
        },
        "id": "kidMfou7uAwL",
        "outputId": "70fd3249-f262-4073-ce80-3080327a8b6a"
      },
      "execution_count": null,
      "outputs": [
        {
          "output_type": "stream",
          "name": "stdout",
          "text": [
            "f1 macro:  0.036690859861865904\n",
            "f1 micro:  0.8433894230769231\n"
          ]
        }
      ]
    },
    {
      "cell_type": "code",
      "source": [
        "score(BiLSTMCNN_l, x_test_l, y_test_l, tags_l)"
      ],
      "metadata": {
        "colab": {
          "base_uri": "https://localhost:8080/"
        },
        "id": "azz8e1MDuHLT",
        "outputId": "c8877056-e0ff-4b7e-ea06-7af50fa46b4d"
      },
      "execution_count": null,
      "outputs": [
        {
          "output_type": "stream",
          "name": "stdout",
          "text": [
            "f1 macro:  0.039034238467710064\n",
            "f1 micro:  0.8079026442307692\n"
          ]
        }
      ]
    },
    {
      "cell_type": "code",
      "source": [
        "score(BiGRU_l, x_test_l, y_test_l, tags_l)"
      ],
      "metadata": {
        "colab": {
          "base_uri": "https://localhost:8080/"
        },
        "id": "6yji5f_muNfT",
        "outputId": "74015278-c34c-491e-bf6d-9fe2a93fa4d5"
      },
      "execution_count": null,
      "outputs": [
        {
          "output_type": "stream",
          "name": "stdout",
          "text": [
            "f1 macro:  0.039387245278541275\n",
            "f1 micro:  0.7930889423076923\n"
          ]
        }
      ]
    },
    {
      "cell_type": "code",
      "source": [
        "score(BiGRUCNN_l, x_test_l, y_test_l, tags_l)"
      ],
      "metadata": {
        "colab": {
          "base_uri": "https://localhost:8080/"
        },
        "id": "ft7DCrfzuRk6",
        "outputId": "fc184724-f92a-43f6-cd78-77c988828c6c"
      },
      "execution_count": null,
      "outputs": [
        {
          "output_type": "stream",
          "name": "stdout",
          "text": [
            "f1 macro:  0.04696158065811338\n",
            "f1 micro:  0.7301983173076924\n"
          ]
        }
      ]
    },
    {
      "cell_type": "markdown",
      "source": [
        "##Training trên bộ music"
      ],
      "metadata": {
        "id": "yEkt8h42ktmr"
      }
    },
    {
      "cell_type": "code",
      "source": [
        "BiLSTM_m = Bi_LSTM(num_words_m,num_tags_m,max_len)\n",
        "BiGRU_m = Bi_GRU(num_words_m,num_tags_m,max_len)\n",
        "BiLSTMCNN_m = Bi_LSTM_CNN(num_words_m,num_tags_m,max_len)\n",
        "BiGRUCNN_m = Bi_GRU_CNN(num_words_m,num_tags_m,max_len)\n",
        "history1_m = BiLSTM_m.fit(\n",
        "    x=x_train_m,\n",
        "    y=y_train_m,\n",
        "    validation_data=(x_dev_m,y_dev_m),\n",
        "    batch_size= 2, \n",
        "    epochs=20,\n",
        "    verbose=1\n",
        ")\n",
        "\n",
        "history2_m = BiGRU_m.fit(\n",
        "    x=x_train_m,\n",
        "    y=y_train_m,\n",
        "    validation_data=(x_dev_m,y_dev_m),\n",
        "    batch_size= 2, \n",
        "    epochs=20,\n",
        "    verbose=1\n",
        ")\n",
        "history3_m = BiLSTMCNN_m.fit(\n",
        "    x=x_train_m,\n",
        "    y=y_train_m,\n",
        "    validation_data=(x_dev_m,y_dev_m),\n",
        "    batch_size= 2, \n",
        "    epochs=20,\n",
        "    verbose=1\n",
        ")\n",
        "history4_m = BiGRUCNN_m.fit(\n",
        "    x=x_train_m,\n",
        "    y=y_train_m,\n",
        "    validation_data=(x_dev_m,y_dev_m),\n",
        "    batch_size= 2, \n",
        "    epochs=20,\n",
        "    verbose=1\n",
        ")"
      ],
      "metadata": {
        "colab": {
          "base_uri": "https://localhost:8080/"
        },
        "id": "4gAhE1P-if9b",
        "outputId": "28cd18cc-a6bb-4284-c631-ed7a312ca4ff"
      },
      "execution_count": null,
      "outputs": [
        {
          "output_type": "stream",
          "name": "stderr",
          "text": [
            "/usr/local/lib/python3.7/dist-packages/keras/optimizer_v2/adam.py:105: UserWarning: The `lr` argument is deprecated, use `learning_rate` instead.\n",
            "  super(Adam, self).__init__(name, **kwargs)\n"
          ]
        },
        {
          "output_type": "stream",
          "name": "stdout",
          "text": [
            "Model: \"model_14\"\n",
            "_________________________________________________________________\n",
            " Layer (type)                Output Shape              Param #   \n",
            "=================================================================\n",
            " input_15 (InputLayer)       [(None, 80)]              0         \n",
            "                                                                 \n",
            " embedding_14 (Embedding)    (None, 80, 80)            841600    \n",
            "                                                                 \n",
            " spatial_dropout1d_14 (Spati  (None, 80, 80)           0         \n",
            " alDropout1D)                                                    \n",
            "                                                                 \n",
            " bidirectional_14 (Bidirecti  (None, 80, 200)          144800    \n",
            " onal)                                                           \n",
            "                                                                 \n",
            " time_distributed_14 (TimeDi  (None, 80, 27)           5427      \n",
            " stributed)                                                      \n",
            "                                                                 \n",
            "=================================================================\n",
            "Total params: 991,827\n",
            "Trainable params: 991,827\n",
            "Non-trainable params: 0\n",
            "_________________________________________________________________\n",
            "Model: \"model_15\"\n",
            "_________________________________________________________________\n",
            " Layer (type)                Output Shape              Param #   \n",
            "=================================================================\n",
            " input_16 (InputLayer)       [(None, 80)]              0         \n",
            "                                                                 \n",
            " embedding_15 (Embedding)    (None, 80, 80)            841600    \n",
            "                                                                 \n",
            " spatial_dropout1d_15 (Spati  (None, 80, 80)           0         \n",
            " alDropout1D)                                                    \n",
            "                                                                 \n",
            " bidirectional_15 (Bidirecti  (None, 80, 200)          109200    \n",
            " onal)                                                           \n",
            "                                                                 \n",
            " time_distributed_15 (TimeDi  (None, 80, 27)           5427      \n",
            " stributed)                                                      \n",
            "                                                                 \n",
            "=================================================================\n",
            "Total params: 956,227\n",
            "Trainable params: 956,227\n",
            "Non-trainable params: 0\n",
            "_________________________________________________________________\n",
            "Model: \"model_16\"\n",
            "_________________________________________________________________\n",
            " Layer (type)                Output Shape              Param #   \n",
            "=================================================================\n",
            " input_17 (InputLayer)       [(None, 80)]              0         \n",
            "                                                                 \n",
            " embedding_16 (Embedding)    (None, 80, 80)            841600    \n",
            "                                                                 \n",
            " spatial_dropout1d_16 (Spati  (None, 80, 80)           0         \n",
            " alDropout1D)                                                    \n",
            "                                                                 \n",
            " bidirectional_16 (Bidirecti  (None, 80, 200)          144800    \n",
            " onal)                                                           \n",
            "                                                                 \n",
            " conv1d_7 (Conv1D)           (None, 80, 200)           200200    \n",
            "                                                                 \n",
            " time_distributed_16 (TimeDi  (None, 80, 27)           5427      \n",
            " stributed)                                                      \n",
            "                                                                 \n",
            "=================================================================\n",
            "Total params: 1,192,027\n",
            "Trainable params: 1,192,027\n",
            "Non-trainable params: 0\n",
            "_________________________________________________________________\n",
            "Model: \"model_17\"\n",
            "_________________________________________________________________\n",
            " Layer (type)                Output Shape              Param #   \n",
            "=================================================================\n",
            " input_18 (InputLayer)       [(None, 80)]              0         \n",
            "                                                                 \n",
            " embedding_17 (Embedding)    (None, 80, 80)            841600    \n",
            "                                                                 \n",
            " spatial_dropout1d_17 (Spati  (None, 80, 80)           0         \n",
            " alDropout1D)                                                    \n",
            "                                                                 \n",
            " bidirectional_17 (Bidirecti  (None, 80, 200)          109200    \n",
            " onal)                                                           \n",
            "                                                                 \n",
            " conv1d_8 (Conv1D)           (None, 80, 200)           200200    \n",
            "                                                                 \n",
            " time_distributed_17 (TimeDi  (None, 80, 27)           5427      \n",
            " stributed)                                                      \n",
            "                                                                 \n",
            "=================================================================\n",
            "Total params: 1,156,427\n",
            "Trainable params: 1,156,427\n",
            "Non-trainable params: 0\n",
            "_________________________________________________________________\n",
            "Epoch 1/20\n",
            "50/50 [==============================] - 19s 312ms/step - loss: 2.7303 - accuracy: 0.7442 - val_loss: 1.2509 - val_accuracy: 0.7960\n",
            "Epoch 2/20\n",
            "50/50 [==============================] - 15s 300ms/step - loss: 1.0453 - accuracy: 0.8036 - val_loss: 1.2657 - val_accuracy: 0.7960\n",
            "Epoch 3/20\n",
            "50/50 [==============================] - 15s 303ms/step - loss: 0.9491 - accuracy: 0.8036 - val_loss: 1.2467 - val_accuracy: 0.7960\n",
            "Epoch 4/20\n",
            "50/50 [==============================] - 15s 301ms/step - loss: 0.9233 - accuracy: 0.8036 - val_loss: 1.4966 - val_accuracy: 0.7960\n",
            "Epoch 5/20\n",
            "50/50 [==============================] - 15s 302ms/step - loss: 0.9119 - accuracy: 0.8036 - val_loss: 1.3683 - val_accuracy: 0.7960\n",
            "Epoch 6/20\n",
            "50/50 [==============================] - 16s 319ms/step - loss: 0.8991 - accuracy: 0.8036 - val_loss: 1.2007 - val_accuracy: 0.7960\n",
            "Epoch 7/20\n",
            "50/50 [==============================] - 15s 300ms/step - loss: 0.8938 - accuracy: 0.8036 - val_loss: 1.6260 - val_accuracy: 0.7960\n",
            "Epoch 8/20\n",
            "50/50 [==============================] - 16s 317ms/step - loss: 0.8838 - accuracy: 0.8036 - val_loss: 1.4329 - val_accuracy: 0.7960\n",
            "Epoch 9/20\n",
            "50/50 [==============================] - 15s 302ms/step - loss: 0.8724 - accuracy: 0.8036 - val_loss: 1.4999 - val_accuracy: 0.7960\n",
            "Epoch 10/20\n",
            "50/50 [==============================] - 15s 301ms/step - loss: 0.8635 - accuracy: 0.8036 - val_loss: 1.4554 - val_accuracy: 0.7960\n",
            "Epoch 11/20\n",
            "50/50 [==============================] - 15s 301ms/step - loss: 0.8514 - accuracy: 0.8036 - val_loss: 1.4669 - val_accuracy: 0.7956\n",
            "Epoch 12/20\n",
            "50/50 [==============================] - 15s 300ms/step - loss: 0.8382 - accuracy: 0.8036 - val_loss: 1.5089 - val_accuracy: 0.7947\n",
            "Epoch 13/20\n",
            "50/50 [==============================] - 15s 305ms/step - loss: 0.8243 - accuracy: 0.8036 - val_loss: 1.5285 - val_accuracy: 0.7940\n",
            "Epoch 14/20\n",
            "50/50 [==============================] - 15s 304ms/step - loss: 0.8091 - accuracy: 0.8076 - val_loss: 1.5575 - val_accuracy: 0.7931\n",
            "Epoch 15/20\n",
            "50/50 [==============================] - 15s 302ms/step - loss: 0.7927 - accuracy: 0.8150 - val_loss: 1.5560 - val_accuracy: 0.7918\n",
            "Epoch 16/20\n",
            "50/50 [==============================] - 15s 302ms/step - loss: 0.7750 - accuracy: 0.8226 - val_loss: 1.6026 - val_accuracy: 0.7908\n",
            "Epoch 17/20\n",
            "50/50 [==============================] - 15s 304ms/step - loss: 0.7540 - accuracy: 0.8236 - val_loss: 1.5996 - val_accuracy: 0.7901\n",
            "Epoch 18/20\n",
            "50/50 [==============================] - 15s 302ms/step - loss: 0.7316 - accuracy: 0.8246 - val_loss: 1.6160 - val_accuracy: 0.7892\n",
            "Epoch 19/20\n",
            "50/50 [==============================] - 15s 304ms/step - loss: 0.7071 - accuracy: 0.8250 - val_loss: 1.6400 - val_accuracy: 0.7891\n",
            "Epoch 20/20\n",
            "50/50 [==============================] - 15s 302ms/step - loss: 0.6819 - accuracy: 0.8264 - val_loss: 1.6872 - val_accuracy: 0.7844\n",
            "Epoch 1/20\n",
            "50/50 [==============================] - 19s 305ms/step - loss: 2.9619 - accuracy: 0.7480 - val_loss: 2.8410 - val_accuracy: 0.7960\n",
            "Epoch 2/20\n",
            "50/50 [==============================] - 15s 295ms/step - loss: 1.2507 - accuracy: 0.8036 - val_loss: 1.7993 - val_accuracy: 0.7960\n",
            "Epoch 3/20\n",
            "50/50 [==============================] - 15s 296ms/step - loss: 0.9788 - accuracy: 0.8036 - val_loss: 1.6275 - val_accuracy: 0.7960\n",
            "Epoch 4/20\n",
            "50/50 [==============================] - 15s 293ms/step - loss: 0.9337 - accuracy: 0.8036 - val_loss: 1.5647 - val_accuracy: 0.7960\n",
            "Epoch 5/20\n",
            "50/50 [==============================] - 15s 293ms/step - loss: 0.8984 - accuracy: 0.8036 - val_loss: 1.5353 - val_accuracy: 0.7960\n",
            "Epoch 6/20\n",
            "50/50 [==============================] - 14s 290ms/step - loss: 0.8741 - accuracy: 0.8036 - val_loss: 1.5252 - val_accuracy: 0.7960\n",
            "Epoch 7/20\n",
            "50/50 [==============================] - 15s 294ms/step - loss: 0.8548 - accuracy: 0.8036 - val_loss: 1.5462 - val_accuracy: 0.7960\n",
            "Epoch 8/20\n",
            "50/50 [==============================] - 14s 288ms/step - loss: 0.8369 - accuracy: 0.8036 - val_loss: 1.5082 - val_accuracy: 0.7960\n",
            "Epoch 9/20\n",
            "50/50 [==============================] - 14s 290ms/step - loss: 0.8160 - accuracy: 0.8036 - val_loss: 1.5581 - val_accuracy: 0.7960\n",
            "Epoch 10/20\n",
            "50/50 [==============================] - 15s 292ms/step - loss: 0.7951 - accuracy: 0.8036 - val_loss: 1.5591 - val_accuracy: 0.7960\n",
            "Epoch 11/20\n",
            "50/50 [==============================] - 14s 289ms/step - loss: 0.7707 - accuracy: 0.8039 - val_loss: 1.6042 - val_accuracy: 0.7960\n",
            "Epoch 12/20\n",
            "50/50 [==============================] - 14s 289ms/step - loss: 0.7457 - accuracy: 0.8044 - val_loss: 1.6639 - val_accuracy: 0.7957\n",
            "Epoch 13/20\n",
            "50/50 [==============================] - 14s 290ms/step - loss: 0.7187 - accuracy: 0.8099 - val_loss: 1.6715 - val_accuracy: 0.7938\n",
            "Epoch 14/20\n",
            "50/50 [==============================] - 14s 290ms/step - loss: 0.6928 - accuracy: 0.8144 - val_loss: 1.7319 - val_accuracy: 0.7863\n",
            "Epoch 15/20\n",
            "50/50 [==============================] - 14s 290ms/step - loss: 0.6666 - accuracy: 0.8196 - val_loss: 1.7838 - val_accuracy: 0.7714\n",
            "Epoch 16/20\n",
            "50/50 [==============================] - 14s 290ms/step - loss: 0.6424 - accuracy: 0.8259 - val_loss: 1.8201 - val_accuracy: 0.7528\n",
            "Epoch 17/20\n",
            "50/50 [==============================] - 14s 291ms/step - loss: 0.6214 - accuracy: 0.8270 - val_loss: 1.9036 - val_accuracy: 0.7361\n",
            "Epoch 18/20\n",
            "50/50 [==============================] - 14s 289ms/step - loss: 0.6037 - accuracy: 0.8298 - val_loss: 1.9303 - val_accuracy: 0.7246\n",
            "Epoch 19/20\n",
            "50/50 [==============================] - 14s 289ms/step - loss: 0.5842 - accuracy: 0.8329 - val_loss: 2.0038 - val_accuracy: 0.7114\n",
            "Epoch 20/20\n",
            "50/50 [==============================] - 14s 288ms/step - loss: 0.5650 - accuracy: 0.8360 - val_loss: 2.0081 - val_accuracy: 0.7012\n",
            "Epoch 1/20\n",
            "50/50 [==============================] - 20s 331ms/step - loss: 2.1223 - accuracy: 0.7819 - val_loss: 2.4230 - val_accuracy: 0.7960\n",
            "Epoch 2/20\n",
            "50/50 [==============================] - 16s 318ms/step - loss: 1.0242 - accuracy: 0.8036 - val_loss: 2.3583 - val_accuracy: 0.7960\n",
            "Epoch 3/20\n",
            "50/50 [==============================] - 16s 319ms/step - loss: 0.9354 - accuracy: 0.8036 - val_loss: 2.2904 - val_accuracy: 0.7960\n",
            "Epoch 4/20\n",
            "50/50 [==============================] - 16s 316ms/step - loss: 0.8996 - accuracy: 0.8036 - val_loss: 2.3502 - val_accuracy: 0.7686\n",
            "Epoch 5/20\n",
            "50/50 [==============================] - 16s 316ms/step - loss: 0.8748 - accuracy: 0.8036 - val_loss: 2.3802 - val_accuracy: 0.5925\n",
            "Epoch 6/20\n",
            "50/50 [==============================] - 16s 317ms/step - loss: 0.8551 - accuracy: 0.8036 - val_loss: 2.4268 - val_accuracy: 0.4837\n",
            "Epoch 7/20\n",
            "50/50 [==============================] - 16s 323ms/step - loss: 0.8363 - accuracy: 0.8073 - val_loss: 2.4178 - val_accuracy: 0.4240\n",
            "Epoch 8/20\n",
            "50/50 [==============================] - 16s 317ms/step - loss: 0.8167 - accuracy: 0.8140 - val_loss: 2.4405 - val_accuracy: 0.3840\n",
            "Epoch 9/20\n",
            "50/50 [==============================] - 16s 320ms/step - loss: 0.7962 - accuracy: 0.8183 - val_loss: 2.3644 - val_accuracy: 0.3877\n",
            "Epoch 10/20\n",
            "50/50 [==============================] - 16s 318ms/step - loss: 0.7714 - accuracy: 0.8196 - val_loss: 2.3462 - val_accuracy: 0.3961\n",
            "Epoch 11/20\n",
            "50/50 [==============================] - 16s 318ms/step - loss: 0.7488 - accuracy: 0.8205 - val_loss: 2.2880 - val_accuracy: 0.3940\n",
            "Epoch 12/20\n",
            "50/50 [==============================] - 16s 316ms/step - loss: 0.7296 - accuracy: 0.8217 - val_loss: 2.2363 - val_accuracy: 0.3841\n",
            "Epoch 13/20\n",
            "50/50 [==============================] - 16s 318ms/step - loss: 0.7073 - accuracy: 0.8227 - val_loss: 2.2319 - val_accuracy: 0.3895\n",
            "Epoch 14/20\n",
            "50/50 [==============================] - 16s 321ms/step - loss: 0.6854 - accuracy: 0.8232 - val_loss: 2.2175 - val_accuracy: 0.3976\n",
            "Epoch 15/20\n",
            "50/50 [==============================] - 16s 319ms/step - loss: 0.6631 - accuracy: 0.8263 - val_loss: 2.2090 - val_accuracy: 0.3674\n",
            "Epoch 16/20\n",
            "50/50 [==============================] - 16s 317ms/step - loss: 0.6337 - accuracy: 0.8299 - val_loss: 2.1859 - val_accuracy: 0.3489\n",
            "Epoch 17/20\n",
            "50/50 [==============================] - 16s 318ms/step - loss: 0.6048 - accuracy: 0.8355 - val_loss: 2.2225 - val_accuracy: 0.3447\n",
            "Epoch 18/20\n",
            "50/50 [==============================] - 16s 317ms/step - loss: 0.5798 - accuracy: 0.8403 - val_loss: 2.2344 - val_accuracy: 0.3226\n",
            "Epoch 19/20\n",
            "50/50 [==============================] - 16s 324ms/step - loss: 0.5542 - accuracy: 0.8440 - val_loss: 2.2902 - val_accuracy: 0.3186\n",
            "Epoch 20/20\n",
            "50/50 [==============================] - 16s 318ms/step - loss: 0.5190 - accuracy: 0.8533 - val_loss: 2.2897 - val_accuracy: 0.3173\n",
            "Epoch 1/20\n",
            "50/50 [==============================] - 19s 319ms/step - loss: 2.3193 - accuracy: 0.7536 - val_loss: 1.7208 - val_accuracy: 0.7960\n",
            "Epoch 2/20\n",
            "50/50 [==============================] - 15s 304ms/step - loss: 0.9969 - accuracy: 0.8036 - val_loss: 1.7431 - val_accuracy: 0.7960\n",
            "Epoch 3/20\n",
            "50/50 [==============================] - 15s 305ms/step - loss: 0.9211 - accuracy: 0.8036 - val_loss: 1.7670 - val_accuracy: 0.7960\n",
            "Epoch 4/20\n",
            "50/50 [==============================] - 15s 304ms/step - loss: 0.8811 - accuracy: 0.8036 - val_loss: 1.7630 - val_accuracy: 0.7960\n",
            "Epoch 5/20\n",
            "50/50 [==============================] - 15s 309ms/step - loss: 0.8516 - accuracy: 0.8036 - val_loss: 1.8250 - val_accuracy: 0.7960\n",
            "Epoch 6/20\n",
            "50/50 [==============================] - 15s 304ms/step - loss: 0.8255 - accuracy: 0.8036 - val_loss: 1.8659 - val_accuracy: 0.7960\n",
            "Epoch 7/20\n",
            "50/50 [==============================] - 15s 303ms/step - loss: 0.7993 - accuracy: 0.8044 - val_loss: 1.9498 - val_accuracy: 0.7960\n",
            "Epoch 8/20\n",
            "50/50 [==============================] - 15s 303ms/step - loss: 0.7738 - accuracy: 0.8094 - val_loss: 2.0397 - val_accuracy: 0.7951\n",
            "Epoch 9/20\n",
            "50/50 [==============================] - 15s 305ms/step - loss: 0.7354 - accuracy: 0.8160 - val_loss: 2.1682 - val_accuracy: 0.3357\n",
            "Epoch 10/20\n",
            "50/50 [==============================] - 15s 304ms/step - loss: 0.6910 - accuracy: 0.8242 - val_loss: 2.3250 - val_accuracy: 0.2896\n",
            "Epoch 11/20\n",
            "50/50 [==============================] - 15s 305ms/step - loss: 0.6382 - accuracy: 0.8267 - val_loss: 2.4009 - val_accuracy: 0.2832\n",
            "Epoch 12/20\n",
            "50/50 [==============================] - 15s 303ms/step - loss: 0.5792 - accuracy: 0.8334 - val_loss: 2.4692 - val_accuracy: 0.2767\n",
            "Epoch 13/20\n",
            "50/50 [==============================] - 15s 307ms/step - loss: 0.5209 - accuracy: 0.8497 - val_loss: 2.6226 - val_accuracy: 0.2618\n",
            "Epoch 14/20\n",
            "50/50 [==============================] - 15s 307ms/step - loss: 0.4712 - accuracy: 0.8648 - val_loss: 2.7462 - val_accuracy: 0.2480\n",
            "Epoch 15/20\n",
            "50/50 [==============================] - 15s 303ms/step - loss: 0.4283 - accuracy: 0.8702 - val_loss: 2.9321 - val_accuracy: 0.2403\n",
            "Epoch 16/20\n",
            "50/50 [==============================] - 15s 305ms/step - loss: 0.3877 - accuracy: 0.8845 - val_loss: 2.8881 - val_accuracy: 0.2336\n",
            "Epoch 17/20\n",
            "50/50 [==============================] - 15s 309ms/step - loss: 0.3476 - accuracy: 0.9013 - val_loss: 2.9143 - val_accuracy: 0.2362\n",
            "Epoch 18/20\n",
            "50/50 [==============================] - 15s 308ms/step - loss: 0.3165 - accuracy: 0.9094 - val_loss: 3.1474 - val_accuracy: 0.2185\n",
            "Epoch 19/20\n",
            "50/50 [==============================] - 15s 306ms/step - loss: 0.2814 - accuracy: 0.9179 - val_loss: 3.2401 - val_accuracy: 0.2124\n",
            "Epoch 20/20\n",
            "50/50 [==============================] - 15s 306ms/step - loss: 0.2444 - accuracy: 0.9324 - val_loss: 3.1906 - val_accuracy: 0.2245\n"
          ]
        }
      ]
    },
    {
      "cell_type": "code",
      "source": [
        "BiLSTM_m = Bi_LSTM(num_words_m,num_tags_m,max_len)\n",
        "history1_m = BiLSTM_m.fit(\n",
        "    x=x_train_m,\n",
        "    y=y_train_m,\n",
        "    validation_data=(x_dev_m,y_dev_m),\n",
        "    batch_size= 2, \n",
        "    epochs=20,\n",
        "    verbose=1\n",
        ")"
      ],
      "metadata": {
        "colab": {
          "base_uri": "https://localhost:8080/"
        },
        "id": "0eaMZPwwCfg-",
        "outputId": "9502f57d-4163-422e-ec6c-f8e0c34ca46e"
      },
      "execution_count": null,
      "outputs": [
        {
          "output_type": "stream",
          "name": "stderr",
          "text": [
            "/usr/local/lib/python3.7/dist-packages/keras/optimizer_v2/adam.py:105: UserWarning: The `lr` argument is deprecated, use `learning_rate` instead.\n",
            "  super(Adam, self).__init__(name, **kwargs)\n"
          ]
        },
        {
          "output_type": "stream",
          "name": "stdout",
          "text": [
            "Model: \"model_22\"\n",
            "_________________________________________________________________\n",
            " Layer (type)                Output Shape              Param #   \n",
            "=================================================================\n",
            " input_23 (InputLayer)       [(None, 80)]              0         \n",
            "                                                                 \n",
            " embedding_22 (Embedding)    (None, 80, 80)            841600    \n",
            "                                                                 \n",
            " spatial_dropout1d_22 (Spati  (None, 80, 80)           0         \n",
            " alDropout1D)                                                    \n",
            "                                                                 \n",
            " bidirectional_22 (Bidirecti  (None, 80, 200)          144800    \n",
            " onal)                                                           \n",
            "                                                                 \n",
            " time_distributed_22 (TimeDi  (None, 80, 27)           5427      \n",
            " stributed)                                                      \n",
            "                                                                 \n",
            "=================================================================\n",
            "Total params: 991,827\n",
            "Trainable params: 991,827\n",
            "Non-trainable params: 0\n",
            "_________________________________________________________________\n",
            "Epoch 1/20\n",
            "50/50 [==============================] - 19s 319ms/step - loss: 2.6075 - accuracy: 0.7576 - val_loss: 1.2225 - val_accuracy: 0.7960\n",
            "Epoch 2/20\n",
            "50/50 [==============================] - 15s 310ms/step - loss: 1.0420 - accuracy: 0.8036 - val_loss: 1.1445 - val_accuracy: 0.7960\n",
            "Epoch 3/20\n",
            "50/50 [==============================] - 15s 306ms/step - loss: 0.9517 - accuracy: 0.8036 - val_loss: 1.4361 - val_accuracy: 0.7960\n",
            "Epoch 4/20\n",
            "50/50 [==============================] - 15s 311ms/step - loss: 0.9266 - accuracy: 0.8036 - val_loss: 1.6217 - val_accuracy: 0.7960\n",
            "Epoch 5/20\n",
            "50/50 [==============================] - 15s 311ms/step - loss: 0.9132 - accuracy: 0.8036 - val_loss: 1.4918 - val_accuracy: 0.7960\n",
            "Epoch 6/20\n",
            "50/50 [==============================] - 15s 307ms/step - loss: 0.9018 - accuracy: 0.8036 - val_loss: 1.5183 - val_accuracy: 0.7960\n",
            "Epoch 7/20\n",
            "50/50 [==============================] - 15s 309ms/step - loss: 0.8938 - accuracy: 0.8036 - val_loss: 1.4214 - val_accuracy: 0.7960\n",
            "Epoch 8/20\n",
            "50/50 [==============================] - 15s 310ms/step - loss: 0.8985 - accuracy: 0.8036 - val_loss: 1.7946 - val_accuracy: 0.7960\n",
            "Epoch 9/20\n",
            "50/50 [==============================] - 15s 307ms/step - loss: 0.8757 - accuracy: 0.8036 - val_loss: 1.7781 - val_accuracy: 0.7960\n",
            "Epoch 10/20\n",
            "50/50 [==============================] - 15s 309ms/step - loss: 0.8623 - accuracy: 0.8036 - val_loss: 1.7723 - val_accuracy: 0.7960\n",
            "Epoch 11/20\n",
            "50/50 [==============================] - 15s 311ms/step - loss: 0.8499 - accuracy: 0.8036 - val_loss: 1.7949 - val_accuracy: 0.7956\n",
            "Epoch 12/20\n",
            "50/50 [==============================] - 16s 314ms/step - loss: 0.8375 - accuracy: 0.8036 - val_loss: 1.8106 - val_accuracy: 0.7947\n",
            "Epoch 13/20\n",
            "50/50 [==============================] - 15s 310ms/step - loss: 0.8210 - accuracy: 0.8041 - val_loss: 1.8161 - val_accuracy: 0.7928\n",
            "Epoch 14/20\n",
            "50/50 [==============================] - 15s 311ms/step - loss: 0.8039 - accuracy: 0.8098 - val_loss: 1.8315 - val_accuracy: 0.7906\n",
            "Epoch 15/20\n",
            "50/50 [==============================] - 15s 308ms/step - loss: 0.7856 - accuracy: 0.8183 - val_loss: 1.8395 - val_accuracy: 0.7898\n",
            "Epoch 16/20\n",
            "50/50 [==============================] - 15s 307ms/step - loss: 0.7643 - accuracy: 0.8227 - val_loss: 1.8392 - val_accuracy: 0.7771\n",
            "Epoch 17/20\n",
            "50/50 [==============================] - 15s 308ms/step - loss: 0.7430 - accuracy: 0.8238 - val_loss: 1.8852 - val_accuracy: 0.7291\n",
            "Epoch 18/20\n",
            "50/50 [==============================] - 15s 309ms/step - loss: 0.7190 - accuracy: 0.8250 - val_loss: 1.8886 - val_accuracy: 0.7055\n",
            "Epoch 19/20\n",
            "50/50 [==============================] - 16s 312ms/step - loss: 0.6969 - accuracy: 0.8269 - val_loss: 1.8844 - val_accuracy: 0.6807\n",
            "Epoch 20/20\n",
            "50/50 [==============================] - 15s 308ms/step - loss: 0.6747 - accuracy: 0.8274 - val_loss: 1.9034 - val_accuracy: 0.6676\n"
          ]
        }
      ]
    },
    {
      "cell_type": "code",
      "source": [
        "BiLSTMCNN_m = Bi_LSTM_CNN(num_words_m,num_tags_m,max_len)\n",
        "history3_m = BiLSTMCNN_m.fit(\n",
        "    x=x_train_m,\n",
        "    y=y_train_m,\n",
        "    validation_data=(x_dev_m,y_dev_m),\n",
        "    batch_size= 2, \n",
        "    epochs=20,\n",
        "    verbose=1\n",
        ")"
      ],
      "metadata": {
        "colab": {
          "base_uri": "https://localhost:8080/"
        },
        "id": "64PPD-yPBi20",
        "outputId": "645904bc-99ac-4226-a5bf-8936a04b931a"
      },
      "execution_count": null,
      "outputs": [
        {
          "output_type": "stream",
          "name": "stderr",
          "text": [
            "/usr/local/lib/python3.7/dist-packages/keras/optimizer_v2/adam.py:105: UserWarning: The `lr` argument is deprecated, use `learning_rate` instead.\n",
            "  super(Adam, self).__init__(name, **kwargs)\n"
          ]
        },
        {
          "output_type": "stream",
          "name": "stdout",
          "text": [
            "Model: \"model_19\"\n",
            "_________________________________________________________________\n",
            " Layer (type)                Output Shape              Param #   \n",
            "=================================================================\n",
            " input_20 (InputLayer)       [(None, 80)]              0         \n",
            "                                                                 \n",
            " embedding_19 (Embedding)    (None, 80, 80)            841600    \n",
            "                                                                 \n",
            " spatial_dropout1d_19 (Spati  (None, 80, 80)           0         \n",
            " alDropout1D)                                                    \n",
            "                                                                 \n",
            " bidirectional_19 (Bidirecti  (None, 80, 200)          144800    \n",
            " onal)                                                           \n",
            "                                                                 \n",
            " conv1d_9 (Conv1D)           (None, 80, 200)           200200    \n",
            "                                                                 \n",
            " time_distributed_19 (TimeDi  (None, 80, 27)           5427      \n",
            " stributed)                                                      \n",
            "                                                                 \n",
            "=================================================================\n",
            "Total params: 1,192,027\n",
            "Trainable params: 1,192,027\n",
            "Non-trainable params: 0\n",
            "_________________________________________________________________\n",
            "Epoch 1/20\n",
            "50/50 [==============================] - 21s 332ms/step - loss: 2.1889 - accuracy: 0.7655 - val_loss: 1.9866 - val_accuracy: 0.7960\n",
            "Epoch 2/20\n",
            "50/50 [==============================] - 16s 321ms/step - loss: 1.0271 - accuracy: 0.8036 - val_loss: 1.9671 - val_accuracy: 0.7960\n",
            "Epoch 3/20\n",
            "50/50 [==============================] - 16s 321ms/step - loss: 0.9370 - accuracy: 0.8036 - val_loss: 1.8434 - val_accuracy: 0.7960\n",
            "Epoch 4/20\n",
            "50/50 [==============================] - 16s 323ms/step - loss: 0.9038 - accuracy: 0.8036 - val_loss: 1.8499 - val_accuracy: 0.7960\n",
            "Epoch 5/20\n",
            "50/50 [==============================] - 16s 322ms/step - loss: 0.8816 - accuracy: 0.8036 - val_loss: 1.8099 - val_accuracy: 0.7960\n",
            "Epoch 6/20\n",
            "50/50 [==============================] - 16s 321ms/step - loss: 0.8589 - accuracy: 0.8036 - val_loss: 1.8399 - val_accuracy: 0.7960\n",
            "Epoch 7/20\n",
            "50/50 [==============================] - 16s 322ms/step - loss: 0.8393 - accuracy: 0.8094 - val_loss: 1.9293 - val_accuracy: 0.7957\n",
            "Epoch 8/20\n",
            "50/50 [==============================] - 16s 321ms/step - loss: 0.8202 - accuracy: 0.8170 - val_loss: 1.9172 - val_accuracy: 0.7952\n",
            "Epoch 9/20\n",
            "50/50 [==============================] - 16s 320ms/step - loss: 0.8066 - accuracy: 0.8173 - val_loss: 1.9391 - val_accuracy: 0.7953\n",
            "Epoch 10/20\n",
            "50/50 [==============================] - 16s 322ms/step - loss: 0.7893 - accuracy: 0.8177 - val_loss: 1.9495 - val_accuracy: 0.7950\n",
            "Epoch 11/20\n",
            "50/50 [==============================] - 16s 329ms/step - loss: 0.7745 - accuracy: 0.8190 - val_loss: 1.9196 - val_accuracy: 0.7950\n",
            "Epoch 12/20\n",
            "50/50 [==============================] - 16s 329ms/step - loss: 0.7600 - accuracy: 0.8209 - val_loss: 1.9753 - val_accuracy: 0.7941\n",
            "Epoch 13/20\n",
            "50/50 [==============================] - 21s 434ms/step - loss: 0.7424 - accuracy: 0.8217 - val_loss: 1.9242 - val_accuracy: 0.7950\n",
            "Epoch 14/20\n",
            "50/50 [==============================] - 16s 330ms/step - loss: 0.7197 - accuracy: 0.8224 - val_loss: 1.9870 - val_accuracy: 0.7948\n",
            "Epoch 15/20\n",
            "50/50 [==============================] - 17s 338ms/step - loss: 0.7021 - accuracy: 0.8236 - val_loss: 1.9813 - val_accuracy: 0.7943\n",
            "Epoch 16/20\n",
            "50/50 [==============================] - 16s 331ms/step - loss: 0.6782 - accuracy: 0.8250 - val_loss: 1.9648 - val_accuracy: 0.7929\n",
            "Epoch 17/20\n",
            "50/50 [==============================] - 16s 330ms/step - loss: 0.6637 - accuracy: 0.8245 - val_loss: 2.0177 - val_accuracy: 0.7910\n",
            "Epoch 18/20\n",
            "50/50 [==============================] - 16s 332ms/step - loss: 0.6355 - accuracy: 0.8279 - val_loss: 1.9780 - val_accuracy: 0.7906\n",
            "Epoch 19/20\n",
            "50/50 [==============================] - 16s 331ms/step - loss: 0.6091 - accuracy: 0.8325 - val_loss: 1.9820 - val_accuracy: 0.7862\n",
            "Epoch 20/20\n",
            "50/50 [==============================] - 16s 330ms/step - loss: 0.5796 - accuracy: 0.8389 - val_loss: 2.0319 - val_accuracy: 0.7728\n"
          ]
        }
      ]
    },
    {
      "cell_type": "code",
      "source": [
        "BiGRUCNN_m = Bi_GRU_CNN(num_words_m,num_tags_m,max_len)\n",
        "history4_m = BiGRUCNN_m.fit(\n",
        "    x=x_train_m,\n",
        "    y=y_train_m,\n",
        "    validation_data=(x_dev_m,y_dev_m),\n",
        "    batch_size= 2, \n",
        "    epochs=20,\n",
        "    verbose=1\n",
        ")"
      ],
      "metadata": {
        "colab": {
          "base_uri": "https://localhost:8080/"
        },
        "id": "Ti3Jh_kGBvky",
        "outputId": "b4dfbbf8-b5a3-4397-f23c-e7b10b9459c9"
      },
      "execution_count": null,
      "outputs": [
        {
          "output_type": "stream",
          "name": "stderr",
          "text": [
            "/usr/local/lib/python3.7/dist-packages/keras/optimizer_v2/adam.py:105: UserWarning: The `lr` argument is deprecated, use `learning_rate` instead.\n",
            "  super(Adam, self).__init__(name, **kwargs)\n"
          ]
        },
        {
          "output_type": "stream",
          "name": "stdout",
          "text": [
            "Model: \"model_21\"\n",
            "_________________________________________________________________\n",
            " Layer (type)                Output Shape              Param #   \n",
            "=================================================================\n",
            " input_22 (InputLayer)       [(None, 80)]              0         \n",
            "                                                                 \n",
            " embedding_21 (Embedding)    (None, 80, 80)            841600    \n",
            "                                                                 \n",
            " spatial_dropout1d_21 (Spati  (None, 80, 80)           0         \n",
            " alDropout1D)                                                    \n",
            "                                                                 \n",
            " bidirectional_21 (Bidirecti  (None, 80, 200)          109200    \n",
            " onal)                                                           \n",
            "                                                                 \n",
            " conv1d_11 (Conv1D)          (None, 80, 200)           200200    \n",
            "                                                                 \n",
            " time_distributed_21 (TimeDi  (None, 80, 27)           5427      \n",
            " stributed)                                                      \n",
            "                                                                 \n",
            "=================================================================\n",
            "Total params: 1,156,427\n",
            "Trainable params: 1,156,427\n",
            "Non-trainable params: 0\n",
            "_________________________________________________________________\n",
            "Epoch 1/20\n",
            "50/50 [==============================] - 20s 334ms/step - loss: 2.2330 - accuracy: 0.7710 - val_loss: 1.5251 - val_accuracy: 0.7960\n",
            "Epoch 2/20\n",
            "50/50 [==============================] - 16s 319ms/step - loss: 0.9957 - accuracy: 0.8036 - val_loss: 1.5529 - val_accuracy: 0.7960\n",
            "Epoch 3/20\n",
            "50/50 [==============================] - 16s 318ms/step - loss: 0.9210 - accuracy: 0.8036 - val_loss: 1.5403 - val_accuracy: 0.7960\n",
            "Epoch 4/20\n",
            "50/50 [==============================] - 16s 316ms/step - loss: 0.8825 - accuracy: 0.8036 - val_loss: 1.5070 - val_accuracy: 0.7960\n",
            "Epoch 5/20\n",
            "50/50 [==============================] - 15s 311ms/step - loss: 0.8520 - accuracy: 0.8036 - val_loss: 1.5156 - val_accuracy: 0.7960\n",
            "Epoch 6/20\n",
            "50/50 [==============================] - 15s 312ms/step - loss: 0.8242 - accuracy: 0.8036 - val_loss: 1.5674 - val_accuracy: 0.7960\n",
            "Epoch 7/20\n",
            "50/50 [==============================] - 15s 312ms/step - loss: 0.7965 - accuracy: 0.8058 - val_loss: 1.5451 - val_accuracy: 0.7959\n",
            "Epoch 8/20\n",
            "50/50 [==============================] - 16s 315ms/step - loss: 0.7634 - accuracy: 0.8152 - val_loss: 1.6203 - val_accuracy: 0.7946\n",
            "Epoch 9/20\n",
            "50/50 [==============================] - 16s 315ms/step - loss: 0.7243 - accuracy: 0.8217 - val_loss: 1.6277 - val_accuracy: 0.7925\n",
            "Epoch 10/20\n",
            "50/50 [==============================] - 16s 317ms/step - loss: 0.6819 - accuracy: 0.8246 - val_loss: 1.7727 - val_accuracy: 0.7830\n",
            "Epoch 11/20\n",
            "50/50 [==============================] - 15s 312ms/step - loss: 0.6305 - accuracy: 0.8286 - val_loss: 1.7980 - val_accuracy: 0.7773\n",
            "Epoch 12/20\n",
            "50/50 [==============================] - 15s 311ms/step - loss: 0.5762 - accuracy: 0.8342 - val_loss: 1.9374 - val_accuracy: 0.7550\n",
            "Epoch 13/20\n",
            "50/50 [==============================] - 16s 315ms/step - loss: 0.5228 - accuracy: 0.8518 - val_loss: 1.9429 - val_accuracy: 0.7562\n",
            "Epoch 14/20\n",
            "50/50 [==============================] - 15s 311ms/step - loss: 0.4689 - accuracy: 0.8645 - val_loss: 2.1303 - val_accuracy: 0.7166\n",
            "Epoch 15/20\n",
            "50/50 [==============================] - 16s 313ms/step - loss: 0.4234 - accuracy: 0.8790 - val_loss: 2.1281 - val_accuracy: 0.7269\n",
            "Epoch 16/20\n",
            "50/50 [==============================] - 16s 312ms/step - loss: 0.3758 - accuracy: 0.8926 - val_loss: 2.1885 - val_accuracy: 0.7156\n",
            "Epoch 17/20\n",
            "50/50 [==============================] - 16s 315ms/step - loss: 0.3380 - accuracy: 0.9034 - val_loss: 2.1922 - val_accuracy: 0.7076\n",
            "Epoch 18/20\n",
            "50/50 [==============================] - 16s 314ms/step - loss: 0.3056 - accuracy: 0.9084 - val_loss: 2.4311 - val_accuracy: 0.6856\n",
            "Epoch 19/20\n",
            "50/50 [==============================] - 16s 318ms/step - loss: 0.2716 - accuracy: 0.9210 - val_loss: 2.4619 - val_accuracy: 0.6857\n",
            "Epoch 20/20\n",
            "50/50 [==============================] - 16s 315ms/step - loss: 0.2431 - accuracy: 0.9280 - val_loss: 2.5304 - val_accuracy: 0.7002\n"
          ]
        }
      ]
    },
    {
      "cell_type": "markdown",
      "source": [
        "##Kết quả trên bộ Music"
      ],
      "metadata": {
        "id": "y4eMkJjXk1NP"
      }
    },
    {
      "cell_type": "code",
      "source": [
        "score(BiLSTM_m, x_test_m, y_test_m, tags_m)"
      ],
      "metadata": {
        "colab": {
          "base_uri": "https://localhost:8080/"
        },
        "id": "ov_FZSQaB15b",
        "outputId": "2489b051-266f-496a-aa75-6fe107e26142"
      },
      "execution_count": null,
      "outputs": [
        {
          "output_type": "stream",
          "name": "stdout",
          "text": [
            "f1 macro:  0.026928310691548565\n",
            "f1 micro:  0.5652419354838709\n"
          ]
        }
      ]
    },
    {
      "cell_type": "code",
      "source": [
        "score(BiLSTMCNN_m, x_test_m, y_test_m, tags_m)"
      ],
      "metadata": {
        "colab": {
          "base_uri": "https://localhost:8080/"
        },
        "id": "JcHwZzbQB7fR",
        "outputId": "dfa980e2-5fc2-4a05-8ea5-38cd062b6844"
      },
      "execution_count": null,
      "outputs": [
        {
          "output_type": "stream",
          "name": "stdout",
          "text": [
            "f1 macro:  0.02862507197929371\n",
            "f1 micro:  0.6277419354838709\n"
          ]
        }
      ]
    },
    {
      "cell_type": "code",
      "source": [
        "score(BiGRU_m, x_test_m, y_test_m, tags_m)"
      ],
      "metadata": {
        "colab": {
          "base_uri": "https://localhost:8080/"
        },
        "id": "6dfCjm0rB8_y",
        "outputId": "5e1f2c1b-48e3-4ca9-b158-f246182861a7"
      },
      "execution_count": null,
      "outputs": [
        {
          "output_type": "stream",
          "name": "stdout",
          "text": [
            "f1 macro:  0.03473995186181903\n",
            "f1 micro:  0.7295967741935484\n"
          ]
        }
      ]
    },
    {
      "cell_type": "code",
      "source": [
        "score(BiGRUCNN_m, x_test_m, y_test_m, tags_m)"
      ],
      "metadata": {
        "colab": {
          "base_uri": "https://localhost:8080/"
        },
        "id": "eTN4grMBB-ax",
        "outputId": "1cc1bda4-4e9a-4a55-f888-6571afdc6fb8"
      },
      "execution_count": null,
      "outputs": [
        {
          "output_type": "stream",
          "name": "stdout",
          "text": [
            "f1 macro:  0.036202589142181614\n",
            "f1 micro:  0.7344354838709677\n"
          ]
        }
      ]
    },
    {
      "cell_type": "markdown",
      "source": [
        "##Training trên bộ Politics"
      ],
      "metadata": {
        "id": "yt8eHgGlk6c0"
      }
    },
    {
      "cell_type": "code",
      "source": [
        "BiLSTM_p = Bi_LSTM(num_words_p,num_tags_p,max_len)\n",
        "BiGRU_p = Bi_GRU(num_words_p,num_tags_p,max_len)\n",
        "BiLSTMCNN_p = Bi_LSTM_CNN(num_words_p,num_tags_p,max_len)\n",
        "BiGRUCNN_p = Bi_GRU_CNN(num_words_p,num_tags_p,max_len)\n",
        "history1_p = BiLSTM_p.fit(\n",
        "    x=x_train_p,\n",
        "    y=y_train_p,\n",
        "    validation_data=(x_dev_p,y_dev_p),\n",
        "    batch_size= 2, \n",
        "    epochs=20,\n",
        "    verbose=1\n",
        ")\n",
        "\n",
        "history2_p = BiGRU_p.fit(\n",
        "    x=x_train_p,\n",
        "    y=y_train_p,\n",
        "    validation_data=(x_dev_p,y_dev_p),\n",
        "    batch_size= 2, \n",
        "    epochs=20,\n",
        "    verbose=1\n",
        ")\n",
        "history3_p = BiLSTMCNN_p.fit(\n",
        "    x=x_train_p,\n",
        "    y=y_train_p,\n",
        "    validation_data=(x_dev_p,y_dev_p),\n",
        "    batch_size= 2, \n",
        "    epochs=20,\n",
        "    verbose=1\n",
        ")\n",
        "history4_p = BiGRUCNN_p.fit(\n",
        "    x=x_train_p,\n",
        "    y=y_train_p,\n",
        "    validation_data=(x_dev_p,y_dev_p),\n",
        "    batch_size= 2, \n",
        "    epochs=20,\n",
        "    verbose=1\n",
        ")"
      ],
      "metadata": {
        "colab": {
          "base_uri": "https://localhost:8080/"
        },
        "id": "h3yZ23AhjtDC",
        "outputId": "030ab29f-4391-40e6-f064-519079f71f18"
      },
      "execution_count": null,
      "outputs": [
        {
          "output_type": "stream",
          "name": "stderr",
          "text": [
            "/usr/local/lib/python3.7/dist-packages/keras/optimizer_v2/adam.py:105: UserWarning: The `lr` argument is deprecated, use `learning_rate` instead.\n",
            "  super(Adam, self).__init__(name, **kwargs)\n"
          ]
        },
        {
          "output_type": "stream",
          "name": "stdout",
          "text": [
            "Model: \"model_23\"\n",
            "_________________________________________________________________\n",
            " Layer (type)                Output Shape              Param #   \n",
            "=================================================================\n",
            " input_24 (InputLayer)       [(None, 80)]              0         \n",
            "                                                                 \n",
            " embedding_23 (Embedding)    (None, 80, 80)            1062880   \n",
            "                                                                 \n",
            " spatial_dropout1d_23 (Spati  (None, 80, 80)           0         \n",
            " alDropout1D)                                                    \n",
            "                                                                 \n",
            " bidirectional_23 (Bidirecti  (None, 80, 200)          144800    \n",
            " onal)                                                           \n",
            "                                                                 \n",
            " time_distributed_23 (TimeDi  (None, 80, 19)           3819      \n",
            " stributed)                                                      \n",
            "                                                                 \n",
            "=================================================================\n",
            "Total params: 1,211,499\n",
            "Trainable params: 1,211,499\n",
            "Non-trainable params: 0\n",
            "_________________________________________________________________\n",
            "Model: \"model_24\"\n",
            "_________________________________________________________________\n",
            " Layer (type)                Output Shape              Param #   \n",
            "=================================================================\n",
            " input_25 (InputLayer)       [(None, 80)]              0         \n",
            "                                                                 \n",
            " embedding_24 (Embedding)    (None, 80, 80)            1062880   \n",
            "                                                                 \n",
            " spatial_dropout1d_24 (Spati  (None, 80, 80)           0         \n",
            " alDropout1D)                                                    \n",
            "                                                                 \n",
            " bidirectional_24 (Bidirecti  (None, 80, 200)          109200    \n",
            " onal)                                                           \n",
            "                                                                 \n",
            " time_distributed_24 (TimeDi  (None, 80, 19)           3819      \n",
            " stributed)                                                      \n",
            "                                                                 \n",
            "=================================================================\n",
            "Total params: 1,175,899\n",
            "Trainable params: 1,175,899\n",
            "Non-trainable params: 0\n",
            "_________________________________________________________________\n",
            "Model: \"model_25\"\n",
            "_________________________________________________________________\n",
            " Layer (type)                Output Shape              Param #   \n",
            "=================================================================\n",
            " input_26 (InputLayer)       [(None, 80)]              0         \n",
            "                                                                 \n",
            " embedding_25 (Embedding)    (None, 80, 80)            1062880   \n",
            "                                                                 \n",
            " spatial_dropout1d_25 (Spati  (None, 80, 80)           0         \n",
            " alDropout1D)                                                    \n",
            "                                                                 \n",
            " bidirectional_25 (Bidirecti  (None, 80, 200)          144800    \n",
            " onal)                                                           \n",
            "                                                                 \n",
            " conv1d_12 (Conv1D)          (None, 80, 200)           200200    \n",
            "                                                                 \n",
            " time_distributed_25 (TimeDi  (None, 80, 19)           3819      \n",
            " stributed)                                                      \n",
            "                                                                 \n",
            "=================================================================\n",
            "Total params: 1,411,699\n",
            "Trainable params: 1,411,699\n",
            "Non-trainable params: 0\n",
            "_________________________________________________________________\n",
            "Model: \"model_26\"\n",
            "_________________________________________________________________\n",
            " Layer (type)                Output Shape              Param #   \n",
            "=================================================================\n",
            " input_27 (InputLayer)       [(None, 80)]              0         \n",
            "                                                                 \n",
            " embedding_26 (Embedding)    (None, 80, 80)            1062880   \n",
            "                                                                 \n",
            " spatial_dropout1d_26 (Spati  (None, 80, 80)           0         \n",
            " alDropout1D)                                                    \n",
            "                                                                 \n",
            " bidirectional_26 (Bidirecti  (None, 80, 200)          109200    \n",
            " onal)                                                           \n",
            "                                                                 \n",
            " conv1d_13 (Conv1D)          (None, 80, 200)           200200    \n",
            "                                                                 \n",
            " time_distributed_26 (TimeDi  (None, 80, 19)           3819      \n",
            " stributed)                                                      \n",
            "                                                                 \n",
            "=================================================================\n",
            "Total params: 1,376,099\n",
            "Trainable params: 1,376,099\n",
            "Non-trainable params: 0\n",
            "_________________________________________________________________\n",
            "Epoch 1/20\n",
            "100/100 [==============================] - 55s 517ms/step - loss: 1.6369 - accuracy: 0.7904 - val_loss: 1.7301 - val_accuracy: 0.7770\n",
            "Epoch 2/20\n",
            "100/100 [==============================] - 41s 414ms/step - loss: 0.8359 - accuracy: 0.8169 - val_loss: 1.6618 - val_accuracy: 0.7770\n",
            "Epoch 3/20\n",
            "100/100 [==============================] - 29s 286ms/step - loss: 0.8084 - accuracy: 0.8169 - val_loss: 1.7733 - val_accuracy: 0.7770\n",
            "Epoch 4/20\n",
            "100/100 [==============================] - 29s 293ms/step - loss: 0.7935 - accuracy: 0.8169 - val_loss: 1.6658 - val_accuracy: 0.7770\n",
            "Epoch 5/20\n",
            "100/100 [==============================] - 29s 287ms/step - loss: 0.7731 - accuracy: 0.8169 - val_loss: 1.7961 - val_accuracy: 0.7770\n",
            "Epoch 6/20\n",
            "100/100 [==============================] - 29s 294ms/step - loss: 0.7516 - accuracy: 0.8169 - val_loss: 1.7773 - val_accuracy: 0.7747\n",
            "Epoch 7/20\n",
            "100/100 [==============================] - 28s 285ms/step - loss: 0.7217 - accuracy: 0.8169 - val_loss: 1.8250 - val_accuracy: 0.7397\n",
            "Epoch 8/20\n",
            "100/100 [==============================] - 29s 293ms/step - loss: 0.6867 - accuracy: 0.8210 - val_loss: 1.8408 - val_accuracy: 0.7223\n",
            "Epoch 9/20\n",
            "100/100 [==============================] - 29s 286ms/step - loss: 0.6469 - accuracy: 0.8316 - val_loss: 1.8453 - val_accuracy: 0.7127\n",
            "Epoch 10/20\n",
            "100/100 [==============================] - 29s 289ms/step - loss: 0.6041 - accuracy: 0.8384 - val_loss: 1.8597 - val_accuracy: 0.7027\n",
            "Epoch 11/20\n",
            "100/100 [==============================] - 29s 288ms/step - loss: 0.5589 - accuracy: 0.8433 - val_loss: 1.8871 - val_accuracy: 0.6784\n",
            "Epoch 12/20\n",
            "100/100 [==============================] - 29s 293ms/step - loss: 0.5192 - accuracy: 0.8498 - val_loss: 1.8751 - val_accuracy: 0.6741\n",
            "Epoch 13/20\n",
            "100/100 [==============================] - 29s 287ms/step - loss: 0.4759 - accuracy: 0.8576 - val_loss: 1.9078 - val_accuracy: 0.6430\n",
            "Epoch 14/20\n",
            "100/100 [==============================] - 28s 285ms/step - loss: 0.4408 - accuracy: 0.8683 - val_loss: 1.9362 - val_accuracy: 0.6248\n",
            "Epoch 15/20\n",
            "100/100 [==============================] - 29s 288ms/step - loss: 0.4082 - accuracy: 0.8833 - val_loss: 1.9846 - val_accuracy: 0.6007\n",
            "Epoch 16/20\n",
            "100/100 [==============================] - 29s 286ms/step - loss: 0.3740 - accuracy: 0.8967 - val_loss: 1.9813 - val_accuracy: 0.5842\n",
            "Epoch 17/20\n",
            "100/100 [==============================] - 28s 286ms/step - loss: 0.3454 - accuracy: 0.9100 - val_loss: 2.0726 - val_accuracy: 0.5673\n",
            "Epoch 18/20\n",
            "100/100 [==============================] - 29s 286ms/step - loss: 0.3148 - accuracy: 0.9179 - val_loss: 2.1469 - val_accuracy: 0.4761\n",
            "Epoch 19/20\n",
            "100/100 [==============================] - 29s 286ms/step - loss: 0.2866 - accuracy: 0.9277 - val_loss: 2.2983 - val_accuracy: 0.4476\n",
            "Epoch 20/20\n",
            "100/100 [==============================] - 28s 285ms/step - loss: 0.2716 - accuracy: 0.9335 - val_loss: 2.3308 - val_accuracy: 0.4373\n",
            "Epoch 1/20\n",
            "100/100 [==============================] - 31s 280ms/step - loss: 1.8277 - accuracy: 0.7917 - val_loss: 1.5793 - val_accuracy: 0.7770\n",
            "Epoch 2/20\n",
            "100/100 [==============================] - 50s 506ms/step - loss: 0.8485 - accuracy: 0.8169 - val_loss: 1.5397 - val_accuracy: 0.7770\n",
            "Epoch 3/20\n",
            "100/100 [==============================] - 50s 499ms/step - loss: 0.7853 - accuracy: 0.8169 - val_loss: 1.5484 - val_accuracy: 0.7770\n",
            "Epoch 4/20\n",
            "100/100 [==============================] - 45s 450ms/step - loss: 0.7443 - accuracy: 0.8169 - val_loss: 1.4981 - val_accuracy: 0.7770\n",
            "Epoch 5/20\n",
            "100/100 [==============================] - 49s 495ms/step - loss: 0.7003 - accuracy: 0.8179 - val_loss: 1.5511 - val_accuracy: 0.7770\n",
            "Epoch 6/20\n",
            "100/100 [==============================] - 35s 351ms/step - loss: 0.6493 - accuracy: 0.8253 - val_loss: 1.5637 - val_accuracy: 0.7770\n",
            "Epoch 7/20\n",
            "100/100 [==============================] - 28s 282ms/step - loss: 0.5933 - accuracy: 0.8386 - val_loss: 1.6601 - val_accuracy: 0.7742\n",
            "Epoch 8/20\n",
            "100/100 [==============================] - 28s 276ms/step - loss: 0.5377 - accuracy: 0.8444 - val_loss: 1.7086 - val_accuracy: 0.7574\n",
            "Epoch 9/20\n",
            "100/100 [==============================] - 27s 275ms/step - loss: 0.4842 - accuracy: 0.8604 - val_loss: 1.7973 - val_accuracy: 0.7235\n",
            "Epoch 10/20\n",
            "100/100 [==============================] - 28s 284ms/step - loss: 0.4349 - accuracy: 0.8777 - val_loss: 1.8842 - val_accuracy: 0.6966\n",
            "Epoch 11/20\n",
            "100/100 [==============================] - 28s 279ms/step - loss: 0.3867 - accuracy: 0.9001 - val_loss: 1.9303 - val_accuracy: 0.6818\n",
            "Epoch 12/20\n",
            "100/100 [==============================] - 27s 273ms/step - loss: 0.3418 - accuracy: 0.9145 - val_loss: 1.9639 - val_accuracy: 0.6701\n",
            "Epoch 13/20\n",
            "100/100 [==============================] - 27s 275ms/step - loss: 0.3052 - accuracy: 0.9225 - val_loss: 1.9357 - val_accuracy: 0.6691\n",
            "Epoch 14/20\n",
            "100/100 [==============================] - 28s 280ms/step - loss: 0.2727 - accuracy: 0.9300 - val_loss: 1.9828 - val_accuracy: 0.6544\n",
            "Epoch 15/20\n",
            "100/100 [==============================] - 28s 282ms/step - loss: 0.2475 - accuracy: 0.9337 - val_loss: 1.9817 - val_accuracy: 0.6604\n",
            "Epoch 16/20\n",
            "100/100 [==============================] - 28s 276ms/step - loss: 0.2263 - accuracy: 0.9398 - val_loss: 1.9877 - val_accuracy: 0.6521\n",
            "Epoch 17/20\n",
            "100/100 [==============================] - 28s 276ms/step - loss: 0.2057 - accuracy: 0.9438 - val_loss: 1.9757 - val_accuracy: 0.6515\n",
            "Epoch 18/20\n",
            "100/100 [==============================] - 27s 274ms/step - loss: 0.1862 - accuracy: 0.9497 - val_loss: 1.9478 - val_accuracy: 0.6571\n",
            "Epoch 19/20\n",
            "100/100 [==============================] - 27s 275ms/step - loss: 0.1706 - accuracy: 0.9544 - val_loss: 2.0410 - val_accuracy: 0.6494\n",
            "Epoch 20/20\n",
            "100/100 [==============================] - 27s 275ms/step - loss: 0.1569 - accuracy: 0.9572 - val_loss: 2.0079 - val_accuracy: 0.6506\n",
            "Epoch 1/20\n",
            "100/100 [==============================] - 33s 301ms/step - loss: 1.4044 - accuracy: 0.7999 - val_loss: 1.7339 - val_accuracy: 0.7770\n",
            "Epoch 2/20\n",
            "100/100 [==============================] - 30s 298ms/step - loss: 0.8219 - accuracy: 0.8169 - val_loss: 1.6387 - val_accuracy: 0.7770\n",
            "Epoch 3/20\n",
            "100/100 [==============================] - 30s 296ms/step - loss: 0.7757 - accuracy: 0.8169 - val_loss: 1.7113 - val_accuracy: 0.7770\n",
            "Epoch 4/20\n",
            "100/100 [==============================] - 30s 297ms/step - loss: 0.7359 - accuracy: 0.8209 - val_loss: 1.7332 - val_accuracy: 0.7770\n",
            "Epoch 5/20\n",
            "100/100 [==============================] - 30s 297ms/step - loss: 0.6899 - accuracy: 0.8311 - val_loss: 1.7622 - val_accuracy: 0.7770\n",
            "Epoch 6/20\n",
            "100/100 [==============================] - 30s 298ms/step - loss: 0.6411 - accuracy: 0.8378 - val_loss: 1.7662 - val_accuracy: 0.7766\n",
            "Epoch 7/20\n",
            "100/100 [==============================] - 30s 298ms/step - loss: 0.5916 - accuracy: 0.8411 - val_loss: 1.8159 - val_accuracy: 0.7753\n",
            "Epoch 8/20\n",
            "100/100 [==============================] - 30s 300ms/step - loss: 0.5319 - accuracy: 0.8486 - val_loss: 1.9614 - val_accuracy: 0.7685\n",
            "Epoch 9/20\n",
            "100/100 [==============================] - 30s 300ms/step - loss: 0.4618 - accuracy: 0.8622 - val_loss: 2.0285 - val_accuracy: 0.7527\n",
            "Epoch 10/20\n",
            "100/100 [==============================] - 30s 303ms/step - loss: 0.3808 - accuracy: 0.8914 - val_loss: 2.1014 - val_accuracy: 0.7346\n",
            "Epoch 11/20\n",
            "100/100 [==============================] - 30s 301ms/step - loss: 0.3111 - accuracy: 0.9158 - val_loss: 2.1904 - val_accuracy: 0.7192\n",
            "Epoch 12/20\n",
            "100/100 [==============================] - 30s 302ms/step - loss: 0.2676 - accuracy: 0.9312 - val_loss: 2.3757 - val_accuracy: 0.6943\n",
            "Epoch 13/20\n",
            "100/100 [==============================] - 30s 300ms/step - loss: 0.2232 - accuracy: 0.9423 - val_loss: 2.4301 - val_accuracy: 0.6835\n",
            "Epoch 14/20\n",
            "100/100 [==============================] - 30s 300ms/step - loss: 0.1996 - accuracy: 0.9473 - val_loss: 2.5302 - val_accuracy: 0.6590\n",
            "Epoch 15/20\n",
            "100/100 [==============================] - 30s 301ms/step - loss: 0.1687 - accuracy: 0.9558 - val_loss: 2.4782 - val_accuracy: 0.6933\n",
            "Epoch 16/20\n",
            "100/100 [==============================] - 30s 299ms/step - loss: 0.1501 - accuracy: 0.9595 - val_loss: 2.7093 - val_accuracy: 0.4825\n",
            "Epoch 17/20\n",
            "100/100 [==============================] - 30s 298ms/step - loss: 0.1313 - accuracy: 0.9651 - val_loss: 2.9759 - val_accuracy: 0.2575\n",
            "Epoch 18/20\n",
            "100/100 [==============================] - 30s 302ms/step - loss: 0.1212 - accuracy: 0.9668 - val_loss: 2.8966 - val_accuracy: 0.5242\n",
            "Epoch 19/20\n",
            "100/100 [==============================] - 30s 303ms/step - loss: 0.1070 - accuracy: 0.9704 - val_loss: 2.9519 - val_accuracy: 0.4967\n",
            "Epoch 20/20\n",
            "100/100 [==============================] - 30s 304ms/step - loss: 0.1006 - accuracy: 0.9713 - val_loss: 3.0785 - val_accuracy: 0.2763\n",
            "Epoch 1/20\n",
            "100/100 [==============================] - 33s 295ms/step - loss: 1.4335 - accuracy: 0.7930 - val_loss: 1.4789 - val_accuracy: 0.7770\n",
            "Epoch 2/20\n",
            "100/100 [==============================] - 29s 287ms/step - loss: 0.7954 - accuracy: 0.8169 - val_loss: 1.4633 - val_accuracy: 0.7770\n",
            "Epoch 3/20\n",
            "100/100 [==============================] - 29s 289ms/step - loss: 0.7223 - accuracy: 0.8201 - val_loss: 1.4770 - val_accuracy: 0.7770\n",
            "Epoch 4/20\n",
            "100/100 [==============================] - 29s 290ms/step - loss: 0.6430 - accuracy: 0.8359 - val_loss: 1.5849 - val_accuracy: 0.7749\n",
            "Epoch 5/20\n",
            "100/100 [==============================] - 29s 288ms/step - loss: 0.5484 - accuracy: 0.8477 - val_loss: 1.8381 - val_accuracy: 0.7625\n",
            "Epoch 6/20\n",
            "100/100 [==============================] - 29s 287ms/step - loss: 0.4416 - accuracy: 0.8689 - val_loss: 2.0659 - val_accuracy: 0.7387\n",
            "Epoch 7/20\n",
            "100/100 [==============================] - 29s 288ms/step - loss: 0.3420 - accuracy: 0.9030 - val_loss: 2.2184 - val_accuracy: 0.7142\n",
            "Epoch 8/20\n",
            "100/100 [==============================] - 29s 288ms/step - loss: 0.2756 - accuracy: 0.9243 - val_loss: 2.5245 - val_accuracy: 0.3348\n",
            "Epoch 9/20\n",
            "100/100 [==============================] - 29s 290ms/step - loss: 0.2355 - accuracy: 0.9337 - val_loss: 2.5368 - val_accuracy: 0.3885\n",
            "Epoch 10/20\n",
            "100/100 [==============================] - 29s 288ms/step - loss: 0.2065 - accuracy: 0.9406 - val_loss: 2.6612 - val_accuracy: 0.3538\n",
            "Epoch 11/20\n",
            "100/100 [==============================] - 29s 286ms/step - loss: 0.1811 - accuracy: 0.9479 - val_loss: 2.7678 - val_accuracy: 0.3612\n",
            "Epoch 12/20\n",
            "100/100 [==============================] - 29s 289ms/step - loss: 0.1621 - accuracy: 0.9536 - val_loss: 2.7015 - val_accuracy: 0.6838\n",
            "Epoch 13/20\n",
            "100/100 [==============================] - 29s 288ms/step - loss: 0.1411 - accuracy: 0.9601 - val_loss: 2.7669 - val_accuracy: 0.6838\n",
            "Epoch 14/20\n",
            "100/100 [==============================] - 29s 287ms/step - loss: 0.1236 - accuracy: 0.9661 - val_loss: 2.9183 - val_accuracy: 0.6672\n",
            "Epoch 15/20\n",
            "100/100 [==============================] - 29s 288ms/step - loss: 0.1051 - accuracy: 0.9707 - val_loss: 2.9555 - val_accuracy: 0.6615\n",
            "Epoch 16/20\n",
            "100/100 [==============================] - 29s 289ms/step - loss: 0.0999 - accuracy: 0.9718 - val_loss: 2.9546 - val_accuracy: 0.6602\n",
            "Epoch 17/20\n",
            "100/100 [==============================] - 29s 286ms/step - loss: 0.0837 - accuracy: 0.9758 - val_loss: 2.8894 - val_accuracy: 0.6834\n",
            "Epoch 18/20\n",
            "100/100 [==============================] - 29s 291ms/step - loss: 0.0743 - accuracy: 0.9797 - val_loss: 3.1904 - val_accuracy: 0.4134\n",
            "Epoch 19/20\n",
            "100/100 [==============================] - 29s 289ms/step - loss: 0.0684 - accuracy: 0.9819 - val_loss: 3.0030 - val_accuracy: 0.6611\n",
            "Epoch 20/20\n",
            "100/100 [==============================] - 29s 290ms/step - loss: 0.0585 - accuracy: 0.9847 - val_loss: 3.1329 - val_accuracy: 0.6364\n"
          ]
        }
      ]
    },
    {
      "cell_type": "code",
      "source": [
        "BiLSTM_p = Bi_LSTM(num_words_p,num_tags_p,max_len)\n",
        "history1_p = BiLSTM_p.fit(\n",
        "    x=x_train_p,\n",
        "    y=y_train_p,\n",
        "    validation_data=(x_dev_p,y_dev_p),\n",
        "    batch_size= 2, \n",
        "    epochs=20,\n",
        "    verbose=1\n",
        ")"
      ],
      "metadata": {
        "colab": {
          "base_uri": "https://localhost:8080/"
        },
        "id": "KU1V2S6NOCB-",
        "outputId": "3cf83991-08cc-4e20-9b37-09d627d583e2"
      },
      "execution_count": null,
      "outputs": [
        {
          "output_type": "stream",
          "name": "stderr",
          "text": [
            "/usr/local/lib/python3.7/dist-packages/keras/optimizer_v2/adam.py:105: UserWarning: The `lr` argument is deprecated, use `learning_rate` instead.\n",
            "  super(Adam, self).__init__(name, **kwargs)\n"
          ]
        },
        {
          "output_type": "stream",
          "name": "stdout",
          "text": [
            "Model: \"model_35\"\n",
            "_________________________________________________________________\n",
            " Layer (type)                Output Shape              Param #   \n",
            "=================================================================\n",
            " input_36 (InputLayer)       [(None, 80)]              0         \n",
            "                                                                 \n",
            " embedding_35 (Embedding)    (None, 80, 80)            1062880   \n",
            "                                                                 \n",
            " spatial_dropout1d_35 (Spati  (None, 80, 80)           0         \n",
            " alDropout1D)                                                    \n",
            "                                                                 \n",
            " bidirectional_35 (Bidirecti  (None, 80, 200)          144800    \n",
            " onal)                                                           \n",
            "                                                                 \n",
            " time_distributed_35 (TimeDi  (None, 80, 19)           3819      \n",
            " stributed)                                                      \n",
            "                                                                 \n",
            "=================================================================\n",
            "Total params: 1,211,499\n",
            "Trainable params: 1,211,499\n",
            "Non-trainable params: 0\n",
            "_________________________________________________________________\n",
            "Epoch 1/20\n",
            "100/100 [==============================] - 33s 300ms/step - loss: 1.6083 - accuracy: 0.7946 - val_loss: 1.1506 - val_accuracy: 0.7770\n",
            "Epoch 2/20\n",
            "100/100 [==============================] - 29s 293ms/step - loss: 0.8370 - accuracy: 0.8169 - val_loss: 1.3632 - val_accuracy: 0.7770\n",
            "Epoch 3/20\n",
            "100/100 [==============================] - 30s 298ms/step - loss: 0.8115 - accuracy: 0.8169 - val_loss: 1.3255 - val_accuracy: 0.7770\n",
            "Epoch 4/20\n",
            "100/100 [==============================] - 30s 296ms/step - loss: 0.7942 - accuracy: 0.8169 - val_loss: 1.1664 - val_accuracy: 0.7770\n",
            "Epoch 5/20\n",
            "100/100 [==============================] - 29s 294ms/step - loss: 0.7799 - accuracy: 0.8169 - val_loss: 1.2874 - val_accuracy: 0.7770\n",
            "Epoch 6/20\n",
            "100/100 [==============================] - 29s 293ms/step - loss: 0.7628 - accuracy: 0.8169 - val_loss: 1.4238 - val_accuracy: 0.7770\n",
            "Epoch 7/20\n",
            "100/100 [==============================] - 29s 295ms/step - loss: 0.7355 - accuracy: 0.8169 - val_loss: 1.5218 - val_accuracy: 0.7769\n",
            "Epoch 8/20\n",
            "100/100 [==============================] - 29s 295ms/step - loss: 0.7046 - accuracy: 0.8191 - val_loss: 1.5821 - val_accuracy: 0.7766\n",
            "Epoch 9/20\n",
            "100/100 [==============================] - 29s 295ms/step - loss: 0.6676 - accuracy: 0.8274 - val_loss: 1.5689 - val_accuracy: 0.7763\n",
            "Epoch 10/20\n",
            "100/100 [==============================] - 30s 296ms/step - loss: 0.6250 - accuracy: 0.8367 - val_loss: 1.5820 - val_accuracy: 0.7758\n",
            "Epoch 11/20\n",
            "100/100 [==============================] - 29s 293ms/step - loss: 0.5785 - accuracy: 0.8409 - val_loss: 1.5751 - val_accuracy: 0.7751\n",
            "Epoch 12/20\n",
            "100/100 [==============================] - 29s 295ms/step - loss: 0.5342 - accuracy: 0.8455 - val_loss: 1.5784 - val_accuracy: 0.7721\n",
            "Epoch 13/20\n",
            "100/100 [==============================] - 30s 298ms/step - loss: 0.4936 - accuracy: 0.8531 - val_loss: 1.5704 - val_accuracy: 0.7548\n",
            "Epoch 14/20\n",
            "100/100 [==============================] - 29s 295ms/step - loss: 0.4523 - accuracy: 0.8632 - val_loss: 1.6667 - val_accuracy: 0.7010\n",
            "Epoch 15/20\n",
            "100/100 [==============================] - 30s 297ms/step - loss: 0.4146 - accuracy: 0.8807 - val_loss: 1.7271 - val_accuracy: 0.6564\n",
            "Epoch 16/20\n",
            "100/100 [==============================] - 29s 295ms/step - loss: 0.3829 - accuracy: 0.8948 - val_loss: 1.7317 - val_accuracy: 0.7158\n",
            "Epoch 17/20\n",
            "100/100 [==============================] - 30s 296ms/step - loss: 0.3545 - accuracy: 0.9046 - val_loss: 1.8248 - val_accuracy: 0.6096\n",
            "Epoch 18/20\n",
            "100/100 [==============================] - 29s 295ms/step - loss: 0.3294 - accuracy: 0.9108 - val_loss: 1.8757 - val_accuracy: 0.5823\n",
            "Epoch 19/20\n",
            "100/100 [==============================] - 30s 298ms/step - loss: 0.3010 - accuracy: 0.9219 - val_loss: 1.8906 - val_accuracy: 0.6004\n",
            "Epoch 20/20\n",
            "100/100 [==============================] - 29s 295ms/step - loss: 0.2787 - accuracy: 0.9265 - val_loss: 1.8960 - val_accuracy: 0.6236\n"
          ]
        }
      ]
    },
    {
      "cell_type": "code",
      "source": [
        "BiLSTMCNN_p = Bi_LSTM_CNN(num_words_p,num_tags_p,max_len)\n",
        "history3_p = BiLSTMCNN_p.fit(\n",
        "    x=x_train_p,\n",
        "    y=y_train_p,\n",
        "    validation_data=(x_dev_p,y_dev_p),\n",
        "    batch_size= 2, \n",
        "    epochs=20,\n",
        "    verbose=1\n",
        ")"
      ],
      "metadata": {
        "colab": {
          "base_uri": "https://localhost:8080/"
        },
        "id": "9bjgyvtxOC9T",
        "outputId": "b734a294-4aca-4249-f938-745cc799492a"
      },
      "execution_count": null,
      "outputs": [
        {
          "output_type": "stream",
          "name": "stderr",
          "text": [
            "/usr/local/lib/python3.7/dist-packages/keras/optimizer_v2/adam.py:105: UserWarning: The `lr` argument is deprecated, use `learning_rate` instead.\n",
            "  super(Adam, self).__init__(name, **kwargs)\n"
          ]
        },
        {
          "output_type": "stream",
          "name": "stdout",
          "text": [
            "Model: \"model_38\"\n",
            "_________________________________________________________________\n",
            " Layer (type)                Output Shape              Param #   \n",
            "=================================================================\n",
            " input_39 (InputLayer)       [(None, 80)]              0         \n",
            "                                                                 \n",
            " embedding_38 (Embedding)    (None, 80, 80)            1062880   \n",
            "                                                                 \n",
            " spatial_dropout1d_38 (Spati  (None, 80, 80)           0         \n",
            " alDropout1D)                                                    \n",
            "                                                                 \n",
            " bidirectional_38 (Bidirecti  (None, 80, 200)          144800    \n",
            " onal)                                                           \n",
            "                                                                 \n",
            " conv1d_21 (Conv1D)          (None, 80, 200)           200200    \n",
            "                                                                 \n",
            " time_distributed_38 (TimeDi  (None, 80, 19)           3819      \n",
            " stributed)                                                      \n",
            "                                                                 \n",
            "=================================================================\n",
            "Total params: 1,411,699\n",
            "Trainable params: 1,411,699\n",
            "Non-trainable params: 0\n",
            "_________________________________________________________________\n",
            "Epoch 1/20\n",
            "100/100 [==============================] - 38s 319ms/step - loss: 1.3875 - accuracy: 0.8024 - val_loss: 1.7973 - val_accuracy: 0.7770\n",
            "Epoch 2/20\n",
            "100/100 [==============================] - 31s 311ms/step - loss: 0.8197 - accuracy: 0.8169 - val_loss: 1.6074 - val_accuracy: 0.7770\n",
            "Epoch 3/20\n",
            "100/100 [==============================] - 31s 311ms/step - loss: 0.7701 - accuracy: 0.8169 - val_loss: 1.6148 - val_accuracy: 0.7770\n",
            "Epoch 4/20\n",
            "100/100 [==============================] - 31s 311ms/step - loss: 0.7247 - accuracy: 0.8234 - val_loss: 1.6735 - val_accuracy: 0.7770\n",
            "Epoch 5/20\n",
            "100/100 [==============================] - 31s 310ms/step - loss: 0.6756 - accuracy: 0.8347 - val_loss: 1.7110 - val_accuracy: 0.7770\n",
            "Epoch 6/20\n",
            "100/100 [==============================] - 31s 311ms/step - loss: 0.6175 - accuracy: 0.8391 - val_loss: 1.6726 - val_accuracy: 0.7767\n",
            "Epoch 7/20\n",
            "100/100 [==============================] - 31s 312ms/step - loss: 0.5572 - accuracy: 0.8460 - val_loss: 1.7872 - val_accuracy: 0.7729\n",
            "Epoch 8/20\n",
            "100/100 [==============================] - 31s 311ms/step - loss: 0.4861 - accuracy: 0.8580 - val_loss: 1.8422 - val_accuracy: 0.7655\n",
            "Epoch 9/20\n",
            "100/100 [==============================] - 31s 309ms/step - loss: 0.4122 - accuracy: 0.8781 - val_loss: 1.9389 - val_accuracy: 0.7367\n",
            "Epoch 10/20\n",
            "100/100 [==============================] - 31s 311ms/step - loss: 0.3377 - accuracy: 0.9080 - val_loss: 2.1137 - val_accuracy: 0.7165\n",
            "Epoch 11/20\n",
            "100/100 [==============================] - 31s 311ms/step - loss: 0.2911 - accuracy: 0.9221 - val_loss: 2.2282 - val_accuracy: 0.6897\n",
            "Epoch 12/20\n",
            "100/100 [==============================] - 31s 314ms/step - loss: 0.2404 - accuracy: 0.9368 - val_loss: 2.2693 - val_accuracy: 0.6284\n",
            "Epoch 13/20\n",
            "100/100 [==============================] - 32s 316ms/step - loss: 0.2105 - accuracy: 0.9440 - val_loss: 2.4299 - val_accuracy: 0.4751\n",
            "Epoch 14/20\n",
            "100/100 [==============================] - 31s 312ms/step - loss: 0.1828 - accuracy: 0.9501 - val_loss: 2.6488 - val_accuracy: 0.3080\n",
            "Epoch 15/20\n",
            "100/100 [==============================] - 31s 310ms/step - loss: 0.1606 - accuracy: 0.9573 - val_loss: 2.7505 - val_accuracy: 0.3368\n",
            "Epoch 16/20\n",
            "100/100 [==============================] - 31s 311ms/step - loss: 0.1388 - accuracy: 0.9626 - val_loss: 2.7603 - val_accuracy: 0.3820\n",
            "Epoch 17/20\n",
            "100/100 [==============================] - 31s 310ms/step - loss: 0.1256 - accuracy: 0.9659 - val_loss: 2.9368 - val_accuracy: 0.3520\n",
            "Epoch 18/20\n",
            "100/100 [==============================] - 31s 314ms/step - loss: 0.1178 - accuracy: 0.9686 - val_loss: 3.0347 - val_accuracy: 0.3814\n",
            "Epoch 19/20\n",
            "100/100 [==============================] - 31s 316ms/step - loss: 0.0995 - accuracy: 0.9729 - val_loss: 3.0999 - val_accuracy: 0.3030\n",
            "Epoch 20/20\n",
            "100/100 [==============================] - 31s 313ms/step - loss: 0.0925 - accuracy: 0.9756 - val_loss: 3.0252 - val_accuracy: 0.3539\n"
          ]
        }
      ]
    },
    {
      "cell_type": "markdown",
      "source": [
        "##Kết quả trên bộ Politics"
      ],
      "metadata": {
        "id": "wyA2G2iylBil"
      }
    },
    {
      "cell_type": "code",
      "source": [
        "score(BiLSTM_p, x_test_p, y_test_p, tags_p)"
      ],
      "metadata": {
        "colab": {
          "base_uri": "https://localhost:8080/"
        },
        "id": "numwp0OLkIji",
        "outputId": "f6e2f694-faef-4a73-d6b4-706e824ecc73"
      },
      "execution_count": null,
      "outputs": [
        {
          "output_type": "stream",
          "name": "stdout",
          "text": [
            "f1 macro:  0.04745343996603576\n",
            "f1 micro:  0.6715437788018433\n"
          ]
        }
      ]
    },
    {
      "cell_type": "code",
      "source": [
        "score(BiLSTMCNN_p, x_test_p, y_test_p, tags_p)"
      ],
      "metadata": {
        "colab": {
          "base_uri": "https://localhost:8080/"
        },
        "id": "BTRSwILxLjcY",
        "outputId": "e261a20d-cecd-4ab2-e200-72fd7bfd5fd6"
      },
      "execution_count": null,
      "outputs": [
        {
          "output_type": "stream",
          "name": "stdout",
          "text": [
            "f1 macro:  0.05288663770126474\n",
            "f1 micro:  0.6860791090629801\n"
          ]
        }
      ]
    },
    {
      "cell_type": "code",
      "source": [
        "score(BiGRU_p, x_test_p, y_test_p, tags_p)"
      ],
      "metadata": {
        "colab": {
          "base_uri": "https://localhost:8080/"
        },
        "id": "ppy4u-0cLjoG",
        "outputId": "9d985a06-6c4c-4328-c279-4bb095ba46cf"
      },
      "execution_count": null,
      "outputs": [
        {
          "output_type": "stream",
          "name": "stdout",
          "text": [
            "f1 macro:  0.057569563108303065\n",
            "f1 micro:  0.7146697388632871\n"
          ]
        }
      ]
    },
    {
      "cell_type": "code",
      "source": [
        "score(BiGRUCNN_p, x_test_p, y_test_p, tags_p)"
      ],
      "metadata": {
        "colab": {
          "base_uri": "https://localhost:8080/"
        },
        "id": "_IRrCT-xLjvw",
        "outputId": "f244195e-5734-4e73-a004-c9f2ed1ced89"
      },
      "execution_count": null,
      "outputs": [
        {
          "output_type": "stream",
          "name": "stdout",
          "text": [
            "f1 macro:  0.05876218927544976\n",
            "f1 micro:  0.6883448540706605\n"
          ]
        }
      ]
    },
    {
      "cell_type": "markdown",
      "source": [
        "##Training trên bộ Science"
      ],
      "metadata": {
        "id": "TlkYJMFklFi-"
      }
    },
    {
      "cell_type": "code",
      "source": [
        "BiLSTM_s = Bi_LSTM(num_words_s,num_tags_s,max_len)\n",
        "BiGRU_s = Bi_GRU(num_words_s,num_tags_s,max_len)\n",
        "BiLSTMCNN_s = Bi_LSTM_CNN(num_words_s,num_tags_s,max_len)\n",
        "BiGRUCNN_s = Bi_GRU_CNN(num_words_s,num_tags_s,max_len)\n",
        "history1_s = BiLSTM_s.fit(\n",
        "    x=x_train_s,\n",
        "    y=y_train_s,\n",
        "    validation_data=(x_dev_s, y_dev_s),\n",
        "    batch_size= 2, \n",
        "    epochs=20,\n",
        "    verbose=1\n",
        ")\n",
        "\n",
        "history2_s = BiGRU_s.fit(\n",
        "    x=x_train_s,\n",
        "    y=y_train_s,\n",
        "    validation_data=(x_dev_s,y_dev_s),\n",
        "    batch_size= 2, \n",
        "    epochs=20,\n",
        "    verbose=1\n",
        ")\n",
        "history3_s = BiLSTMCNN_s.fit(\n",
        "    x=x_train_s,\n",
        "    y=y_train_s,\n",
        "    validation_data=(x_dev_s,y_dev_s),\n",
        "    batch_size= 2, \n",
        "    epochs=20,\n",
        "    verbose=1\n",
        ")\n",
        "history4_s = BiGRUCNN_s.fit(\n",
        "    x=x_train_s,\n",
        "    y=y_train_s,\n",
        "    validation_data=(x_dev_s,y_dev_s),\n",
        "    batch_size= 2, \n",
        "    epochs=20,\n",
        "    verbose=1\n",
        ")"
      ],
      "metadata": {
        "colab": {
          "base_uri": "https://localhost:8080/"
        },
        "id": "kJT8LRl4j47B",
        "outputId": "ad61ee58-8806-46c2-c128-1a6e3e5842af"
      },
      "execution_count": null,
      "outputs": [
        {
          "output_type": "stream",
          "name": "stderr",
          "text": [
            "/usr/local/lib/python3.7/dist-packages/keras/optimizer_v2/adam.py:105: UserWarning: The `lr` argument is deprecated, use `learning_rate` instead.\n",
            "  super(Adam, self).__init__(name, **kwargs)\n"
          ]
        },
        {
          "output_type": "stream",
          "name": "stdout",
          "text": [
            "Model: \"model_28\"\n",
            "_________________________________________________________________\n",
            " Layer (type)                Output Shape              Param #   \n",
            "=================================================================\n",
            " input_29 (InputLayer)       [(None, 80)]              0         \n",
            "                                                                 \n",
            " embedding_28 (Embedding)    (None, 80, 80)            1034480   \n",
            "                                                                 \n",
            " spatial_dropout1d_28 (Spati  (None, 80, 80)           0         \n",
            " alDropout1D)                                                    \n",
            "                                                                 \n",
            " bidirectional_28 (Bidirecti  (None, 80, 200)          144800    \n",
            " onal)                                                           \n",
            "                                                                 \n",
            " time_distributed_28 (TimeDi  (None, 80, 35)           7035      \n",
            " stributed)                                                      \n",
            "                                                                 \n",
            "=================================================================\n",
            "Total params: 1,186,315\n",
            "Trainable params: 1,186,315\n",
            "Non-trainable params: 0\n",
            "_________________________________________________________________\n",
            "Model: \"model_29\"\n",
            "_________________________________________________________________\n",
            " Layer (type)                Output Shape              Param #   \n",
            "=================================================================\n",
            " input_30 (InputLayer)       [(None, 80)]              0         \n",
            "                                                                 \n",
            " embedding_29 (Embedding)    (None, 80, 80)            1034480   \n",
            "                                                                 \n",
            " spatial_dropout1d_29 (Spati  (None, 80, 80)           0         \n",
            " alDropout1D)                                                    \n",
            "                                                                 \n",
            " bidirectional_29 (Bidirecti  (None, 80, 200)          109200    \n",
            " onal)                                                           \n",
            "                                                                 \n",
            " time_distributed_29 (TimeDi  (None, 80, 35)           7035      \n",
            " stributed)                                                      \n",
            "                                                                 \n",
            "=================================================================\n",
            "Total params: 1,150,715\n",
            "Trainable params: 1,150,715\n",
            "Non-trainable params: 0\n",
            "_________________________________________________________________\n",
            "Model: \"model_30\"\n",
            "_________________________________________________________________\n",
            " Layer (type)                Output Shape              Param #   \n",
            "=================================================================\n",
            " input_31 (InputLayer)       [(None, 80)]              0         \n",
            "                                                                 \n",
            " embedding_30 (Embedding)    (None, 80, 80)            1034480   \n",
            "                                                                 \n",
            " spatial_dropout1d_30 (Spati  (None, 80, 80)           0         \n",
            " alDropout1D)                                                    \n",
            "                                                                 \n",
            " bidirectional_30 (Bidirecti  (None, 80, 200)          144800    \n",
            " onal)                                                           \n",
            "                                                                 \n",
            " conv1d_14 (Conv1D)          (None, 80, 200)           200200    \n",
            "                                                                 \n",
            " time_distributed_30 (TimeDi  (None, 80, 35)           7035      \n",
            " stributed)                                                      \n",
            "                                                                 \n",
            "=================================================================\n",
            "Total params: 1,386,515\n",
            "Trainable params: 1,386,515\n",
            "Non-trainable params: 0\n",
            "_________________________________________________________________\n",
            "Model: \"model_31\"\n",
            "_________________________________________________________________\n",
            " Layer (type)                Output Shape              Param #   \n",
            "=================================================================\n",
            " input_32 (InputLayer)       [(None, 80)]              0         \n",
            "                                                                 \n",
            " embedding_31 (Embedding)    (None, 80, 80)            1034480   \n",
            "                                                                 \n",
            " spatial_dropout1d_31 (Spati  (None, 80, 80)           0         \n",
            " alDropout1D)                                                    \n",
            "                                                                 \n",
            " bidirectional_31 (Bidirecti  (None, 80, 200)          109200    \n",
            " onal)                                                           \n",
            "                                                                 \n",
            " conv1d_15 (Conv1D)          (None, 80, 200)           200200    \n",
            "                                                                 \n",
            " time_distributed_31 (TimeDi  (None, 80, 35)           7035      \n",
            " stributed)                                                      \n",
            "                                                                 \n",
            "=================================================================\n",
            "Total params: 1,350,915\n",
            "Trainable params: 1,350,915\n",
            "Non-trainable params: 0\n",
            "_________________________________________________________________\n",
            "Epoch 1/20\n",
            "100/100 [==============================] - 44s 314ms/step - loss: 1.8305 - accuracy: 0.8206 - val_loss: 1.1826 - val_accuracy: 0.8440\n",
            "Epoch 2/20\n",
            "100/100 [==============================] - 27s 273ms/step - loss: 0.7829 - accuracy: 0.8535 - val_loss: 1.1789 - val_accuracy: 0.8440\n",
            "Epoch 3/20\n",
            "100/100 [==============================] - 27s 273ms/step - loss: 0.7565 - accuracy: 0.8535 - val_loss: 1.2995 - val_accuracy: 0.8440\n",
            "Epoch 4/20\n",
            "100/100 [==============================] - 28s 281ms/step - loss: 0.7462 - accuracy: 0.8535 - val_loss: 1.1154 - val_accuracy: 0.8440\n",
            "Epoch 5/20\n",
            "100/100 [==============================] - 29s 289ms/step - loss: 0.7308 - accuracy: 0.8535 - val_loss: 1.1579 - val_accuracy: 0.8440\n",
            "Epoch 6/20\n",
            "100/100 [==============================] - 27s 274ms/step - loss: 0.7191 - accuracy: 0.8535 - val_loss: 1.3584 - val_accuracy: 0.8440\n",
            "Epoch 7/20\n",
            "100/100 [==============================] - 27s 274ms/step - loss: 0.7065 - accuracy: 0.8535 - val_loss: 1.2848 - val_accuracy: 0.8440\n",
            "Epoch 8/20\n",
            "100/100 [==============================] - 27s 274ms/step - loss: 0.6894 - accuracy: 0.8535 - val_loss: 1.2343 - val_accuracy: 0.8438\n",
            "Epoch 9/20\n",
            "100/100 [==============================] - 27s 275ms/step - loss: 0.6717 - accuracy: 0.8535 - val_loss: 1.3809 - val_accuracy: 0.8434\n",
            "Epoch 10/20\n",
            "100/100 [==============================] - 27s 274ms/step - loss: 0.6486 - accuracy: 0.8536 - val_loss: 1.3661 - val_accuracy: 0.8429\n",
            "Epoch 11/20\n",
            "100/100 [==============================] - 27s 276ms/step - loss: 0.6239 - accuracy: 0.8541 - val_loss: 1.4107 - val_accuracy: 0.8423\n",
            "Epoch 12/20\n",
            "100/100 [==============================] - 27s 272ms/step - loss: 0.5978 - accuracy: 0.8567 - val_loss: 1.4002 - val_accuracy: 0.8418\n",
            "Epoch 13/20\n",
            "100/100 [==============================] - 27s 275ms/step - loss: 0.5702 - accuracy: 0.8602 - val_loss: 1.4502 - val_accuracy: 0.8373\n",
            "Epoch 14/20\n",
            "100/100 [==============================] - 27s 274ms/step - loss: 0.5435 - accuracy: 0.8637 - val_loss: 1.5133 - val_accuracy: 0.8097\n",
            "Epoch 15/20\n",
            "100/100 [==============================] - 27s 273ms/step - loss: 0.5184 - accuracy: 0.8676 - val_loss: 1.5225 - val_accuracy: 0.7823\n",
            "Epoch 16/20\n",
            "100/100 [==============================] - 27s 273ms/step - loss: 0.4961 - accuracy: 0.8694 - val_loss: 1.5783 - val_accuracy: 0.7635\n",
            "Epoch 17/20\n",
            "100/100 [==============================] - 27s 274ms/step - loss: 0.4809 - accuracy: 0.8720 - val_loss: 1.6762 - val_accuracy: 0.7054\n",
            "Epoch 18/20\n",
            "100/100 [==============================] - 27s 275ms/step - loss: 0.4581 - accuracy: 0.8748 - val_loss: 1.6696 - val_accuracy: 0.7066\n",
            "Epoch 19/20\n",
            "100/100 [==============================] - 27s 275ms/step - loss: 0.4412 - accuracy: 0.8771 - val_loss: 1.7389 - val_accuracy: 0.6641\n",
            "Epoch 20/20\n",
            "100/100 [==============================] - 28s 277ms/step - loss: 0.4243 - accuracy: 0.8810 - val_loss: 1.6484 - val_accuracy: 0.6676\n",
            "Epoch 1/20\n",
            "100/100 [==============================] - 31s 273ms/step - loss: 2.1106 - accuracy: 0.8143 - val_loss: 1.8361 - val_accuracy: 0.8440\n",
            "Epoch 2/20\n",
            "100/100 [==============================] - 27s 266ms/step - loss: 0.8076 - accuracy: 0.8535 - val_loss: 1.6887 - val_accuracy: 0.8440\n",
            "Epoch 3/20\n",
            "100/100 [==============================] - 27s 268ms/step - loss: 0.7548 - accuracy: 0.8535 - val_loss: 1.5179 - val_accuracy: 0.8440\n",
            "Epoch 4/20\n",
            "100/100 [==============================] - 26s 265ms/step - loss: 0.7237 - accuracy: 0.8535 - val_loss: 1.4633 - val_accuracy: 0.8440\n",
            "Epoch 5/20\n",
            "100/100 [==============================] - 27s 269ms/step - loss: 0.6986 - accuracy: 0.8535 - val_loss: 1.4858 - val_accuracy: 0.8440\n",
            "Epoch 6/20\n",
            "100/100 [==============================] - 27s 268ms/step - loss: 0.6718 - accuracy: 0.8535 - val_loss: 1.4192 - val_accuracy: 0.8440\n",
            "Epoch 7/20\n",
            "100/100 [==============================] - 26s 264ms/step - loss: 0.6405 - accuracy: 0.8535 - val_loss: 1.5229 - val_accuracy: 0.8441\n",
            "Epoch 8/20\n",
            "100/100 [==============================] - 27s 267ms/step - loss: 0.6061 - accuracy: 0.8537 - val_loss: 1.6476 - val_accuracy: 0.8432\n",
            "Epoch 9/20\n",
            "100/100 [==============================] - 26s 264ms/step - loss: 0.5710 - accuracy: 0.8558 - val_loss: 1.7355 - val_accuracy: 0.8193\n",
            "Epoch 10/20\n",
            "100/100 [==============================] - 52s 519ms/step - loss: 0.5386 - accuracy: 0.8613 - val_loss: 1.8414 - val_accuracy: 0.7810\n",
            "Epoch 11/20\n",
            "100/100 [==============================] - 46s 459ms/step - loss: 0.5117 - accuracy: 0.8654 - val_loss: 1.8771 - val_accuracy: 0.7610\n",
            "Epoch 12/20\n",
            "100/100 [==============================] - 33s 329ms/step - loss: 0.4881 - accuracy: 0.8687 - val_loss: 1.9428 - val_accuracy: 0.7435\n",
            "Epoch 13/20\n",
            "100/100 [==============================] - 27s 269ms/step - loss: 0.4654 - accuracy: 0.8731 - val_loss: 1.9683 - val_accuracy: 0.7356\n",
            "Epoch 14/20\n",
            "100/100 [==============================] - 26s 265ms/step - loss: 0.4450 - accuracy: 0.8767 - val_loss: 2.1482 - val_accuracy: 0.7181\n",
            "Epoch 15/20\n",
            "100/100 [==============================] - 27s 272ms/step - loss: 0.4235 - accuracy: 0.8818 - val_loss: 2.1603 - val_accuracy: 0.7161\n",
            "Epoch 16/20\n",
            "100/100 [==============================] - 26s 265ms/step - loss: 0.4034 - accuracy: 0.8892 - val_loss: 2.1948 - val_accuracy: 0.7122\n",
            "Epoch 17/20\n",
            "100/100 [==============================] - 27s 266ms/step - loss: 0.3837 - accuracy: 0.8932 - val_loss: 2.2644 - val_accuracy: 0.7044\n",
            "Epoch 18/20\n",
            "100/100 [==============================] - 27s 266ms/step - loss: 0.3643 - accuracy: 0.8982 - val_loss: 2.3703 - val_accuracy: 0.6969\n",
            "Epoch 19/20\n",
            "100/100 [==============================] - 27s 275ms/step - loss: 0.3456 - accuracy: 0.9047 - val_loss: 2.4274 - val_accuracy: 0.6937\n",
            "Epoch 20/20\n",
            "100/100 [==============================] - 27s 270ms/step - loss: 0.3280 - accuracy: 0.9065 - val_loss: 2.4354 - val_accuracy: 0.6918\n",
            "Epoch 1/20\n",
            "100/100 [==============================] - 34s 307ms/step - loss: 1.4986 - accuracy: 0.8365 - val_loss: 1.4047 - val_accuracy: 0.8440\n",
            "Epoch 2/20\n",
            "100/100 [==============================] - 29s 291ms/step - loss: 0.7831 - accuracy: 0.8535 - val_loss: 1.4460 - val_accuracy: 0.8440\n",
            "Epoch 3/20\n",
            "100/100 [==============================] - 29s 295ms/step - loss: 0.7465 - accuracy: 0.8535 - val_loss: 1.1334 - val_accuracy: 0.8440\n",
            "Epoch 4/20\n",
            "100/100 [==============================] - 29s 294ms/step - loss: 0.7222 - accuracy: 0.8535 - val_loss: 1.1830 - val_accuracy: 0.8440\n",
            "Epoch 5/20\n",
            "100/100 [==============================] - 29s 290ms/step - loss: 0.7056 - accuracy: 0.8535 - val_loss: 1.2325 - val_accuracy: 0.8440\n",
            "Epoch 6/20\n",
            "100/100 [==============================] - 29s 289ms/step - loss: 0.6854 - accuracy: 0.8535 - val_loss: 1.2874 - val_accuracy: 0.8440\n",
            "Epoch 7/20\n",
            "100/100 [==============================] - 29s 292ms/step - loss: 0.6658 - accuracy: 0.8535 - val_loss: 1.1041 - val_accuracy: 0.8440\n",
            "Epoch 8/20\n",
            "100/100 [==============================] - 29s 294ms/step - loss: 0.6428 - accuracy: 0.8541 - val_loss: 1.2167 - val_accuracy: 0.8438\n",
            "Epoch 9/20\n",
            "100/100 [==============================] - 29s 291ms/step - loss: 0.6157 - accuracy: 0.8568 - val_loss: 1.2240 - val_accuracy: 0.8428\n",
            "Epoch 10/20\n",
            "100/100 [==============================] - 29s 290ms/step - loss: 0.5876 - accuracy: 0.8607 - val_loss: 1.1650 - val_accuracy: 0.8401\n",
            "Epoch 11/20\n",
            "100/100 [==============================] - 29s 290ms/step - loss: 0.5614 - accuracy: 0.8649 - val_loss: 1.2797 - val_accuracy: 0.8340\n",
            "Epoch 12/20\n",
            "100/100 [==============================] - 29s 289ms/step - loss: 0.5265 - accuracy: 0.8661 - val_loss: 1.2752 - val_accuracy: 0.8291\n",
            "Epoch 13/20\n",
            "100/100 [==============================] - 29s 291ms/step - loss: 0.4906 - accuracy: 0.8694 - val_loss: 1.3586 - val_accuracy: 0.8067\n",
            "Epoch 14/20\n",
            "100/100 [==============================] - 29s 292ms/step - loss: 0.4586 - accuracy: 0.8730 - val_loss: 1.3807 - val_accuracy: 0.7998\n",
            "Epoch 15/20\n",
            "100/100 [==============================] - 29s 290ms/step - loss: 0.4213 - accuracy: 0.8824 - val_loss: 1.4280 - val_accuracy: 0.7869\n",
            "Epoch 16/20\n",
            "100/100 [==============================] - 29s 290ms/step - loss: 0.3817 - accuracy: 0.8906 - val_loss: 1.3738 - val_accuracy: 0.7683\n",
            "Epoch 17/20\n",
            "100/100 [==============================] - 29s 289ms/step - loss: 0.3542 - accuracy: 0.8975 - val_loss: 1.5949 - val_accuracy: 0.7307\n",
            "Epoch 18/20\n",
            "100/100 [==============================] - 29s 288ms/step - loss: 0.3189 - accuracy: 0.9097 - val_loss: 1.6530 - val_accuracy: 0.7308\n",
            "Epoch 19/20\n",
            "100/100 [==============================] - 29s 292ms/step - loss: 0.2947 - accuracy: 0.9169 - val_loss: 1.8624 - val_accuracy: 0.6911\n",
            "Epoch 20/20\n",
            "100/100 [==============================] - 29s 290ms/step - loss: 0.2673 - accuracy: 0.9254 - val_loss: 1.6953 - val_accuracy: 0.6982\n",
            "Epoch 1/20\n",
            "100/100 [==============================] - 32s 285ms/step - loss: 1.5954 - accuracy: 0.8342 - val_loss: 1.1859 - val_accuracy: 0.8440\n",
            "Epoch 2/20\n",
            "100/100 [==============================] - 28s 280ms/step - loss: 0.7629 - accuracy: 0.8535 - val_loss: 1.1495 - val_accuracy: 0.8440\n",
            "Epoch 3/20\n",
            "100/100 [==============================] - 28s 282ms/step - loss: 0.7127 - accuracy: 0.8535 - val_loss: 1.0539 - val_accuracy: 0.8440\n",
            "Epoch 4/20\n",
            "100/100 [==============================] - 28s 282ms/step - loss: 0.6757 - accuracy: 0.8535 - val_loss: 1.0538 - val_accuracy: 0.8440\n",
            "Epoch 5/20\n",
            "100/100 [==============================] - 28s 278ms/step - loss: 0.6427 - accuracy: 0.8534 - val_loss: 1.1165 - val_accuracy: 0.8440\n",
            "Epoch 6/20\n",
            "100/100 [==============================] - 28s 281ms/step - loss: 0.6080 - accuracy: 0.8533 - val_loss: 1.0908 - val_accuracy: 0.8429\n",
            "Epoch 7/20\n",
            "100/100 [==============================] - 28s 279ms/step - loss: 0.5639 - accuracy: 0.8596 - val_loss: 1.2033 - val_accuracy: 0.8250\n",
            "Epoch 8/20\n",
            "100/100 [==============================] - 28s 283ms/step - loss: 0.5137 - accuracy: 0.8673 - val_loss: 1.2694 - val_accuracy: 0.7948\n",
            "Epoch 9/20\n",
            "100/100 [==============================] - 28s 280ms/step - loss: 0.4572 - accuracy: 0.8748 - val_loss: 1.3992 - val_accuracy: 0.7685\n",
            "Epoch 10/20\n",
            "100/100 [==============================] - 28s 282ms/step - loss: 0.4091 - accuracy: 0.8861 - val_loss: 1.3953 - val_accuracy: 0.7507\n",
            "Epoch 11/20\n",
            "100/100 [==============================] - 28s 284ms/step - loss: 0.3661 - accuracy: 0.8984 - val_loss: 1.4132 - val_accuracy: 0.7507\n",
            "Epoch 12/20\n",
            "100/100 [==============================] - 28s 282ms/step - loss: 0.3341 - accuracy: 0.9022 - val_loss: 1.4925 - val_accuracy: 0.7437\n",
            "Epoch 13/20\n",
            "100/100 [==============================] - 28s 281ms/step - loss: 0.3044 - accuracy: 0.9094 - val_loss: 1.5892 - val_accuracy: 0.7300\n",
            "Epoch 14/20\n",
            "100/100 [==============================] - 28s 282ms/step - loss: 0.2850 - accuracy: 0.9143 - val_loss: 1.6022 - val_accuracy: 0.7287\n",
            "Epoch 15/20\n",
            "100/100 [==============================] - 28s 282ms/step - loss: 0.2630 - accuracy: 0.9201 - val_loss: 1.6560 - val_accuracy: 0.7291\n",
            "Epoch 16/20\n",
            "100/100 [==============================] - 28s 282ms/step - loss: 0.2379 - accuracy: 0.9266 - val_loss: 1.6489 - val_accuracy: 0.7369\n",
            "Epoch 17/20\n",
            "100/100 [==============================] - 28s 281ms/step - loss: 0.2173 - accuracy: 0.9339 - val_loss: 1.7715 - val_accuracy: 0.7268\n",
            "Epoch 18/20\n",
            "100/100 [==============================] - 28s 282ms/step - loss: 0.1988 - accuracy: 0.9382 - val_loss: 1.7471 - val_accuracy: 0.7421\n",
            "Epoch 19/20\n",
            "100/100 [==============================] - 28s 285ms/step - loss: 0.1837 - accuracy: 0.9447 - val_loss: 1.9037 - val_accuracy: 0.7174\n",
            "Epoch 20/20\n",
            "100/100 [==============================] - 28s 285ms/step - loss: 0.1631 - accuracy: 0.9529 - val_loss: 1.8670 - val_accuracy: 0.7354\n"
          ]
        }
      ]
    },
    {
      "cell_type": "code",
      "source": [
        "BiLSTMCNN_s = Bi_LSTM_CNN(num_words_s,num_tags_s,max_len)\n",
        "history3_s = BiLSTMCNN_s.fit(\n",
        "    x=x_train_s,\n",
        "    y=y_train_s,\n",
        "    validation_data=(x_dev_s,y_dev_s),\n",
        "    batch_size= 2, \n",
        "    epochs=20,\n",
        "    verbose=1\n",
        ")"
      ],
      "metadata": {
        "colab": {
          "base_uri": "https://localhost:8080/"
        },
        "id": "QyYGuG1mOdP_",
        "outputId": "97ad35c2-1def-4c38-b85d-02a5cd59a727"
      },
      "execution_count": null,
      "outputs": [
        {
          "output_type": "stream",
          "name": "stderr",
          "text": [
            "/usr/local/lib/python3.7/dist-packages/keras/optimizer_v2/adam.py:105: UserWarning: The `lr` argument is deprecated, use `learning_rate` instead.\n",
            "  super(Adam, self).__init__(name, **kwargs)\n"
          ]
        },
        {
          "output_type": "stream",
          "name": "stdout",
          "text": [
            "Model: \"model_39\"\n",
            "_________________________________________________________________\n",
            " Layer (type)                Output Shape              Param #   \n",
            "=================================================================\n",
            " input_40 (InputLayer)       [(None, 80)]              0         \n",
            "                                                                 \n",
            " embedding_39 (Embedding)    (None, 80, 80)            1034480   \n",
            "                                                                 \n",
            " spatial_dropout1d_39 (Spati  (None, 80, 80)           0         \n",
            " alDropout1D)                                                    \n",
            "                                                                 \n",
            " bidirectional_39 (Bidirecti  (None, 80, 200)          144800    \n",
            " onal)                                                           \n",
            "                                                                 \n",
            " conv1d_22 (Conv1D)          (None, 80, 200)           200200    \n",
            "                                                                 \n",
            " time_distributed_39 (TimeDi  (None, 80, 35)           7035      \n",
            " stributed)                                                      \n",
            "                                                                 \n",
            "=================================================================\n",
            "Total params: 1,386,515\n",
            "Trainable params: 1,386,515\n",
            "Non-trainable params: 0\n",
            "_________________________________________________________________\n",
            "Epoch 1/20\n",
            "100/100 [==============================] - 34s 302ms/step - loss: 1.5506 - accuracy: 0.8305 - val_loss: 2.1631 - val_accuracy: 0.8440\n",
            "Epoch 2/20\n",
            "100/100 [==============================] - 29s 293ms/step - loss: 0.7899 - accuracy: 0.8535 - val_loss: 1.8684 - val_accuracy: 0.8440\n",
            "Epoch 3/20\n",
            "100/100 [==============================] - 29s 292ms/step - loss: 0.7461 - accuracy: 0.8535 - val_loss: 1.8333 - val_accuracy: 0.8440\n",
            "Epoch 4/20\n",
            "100/100 [==============================] - 29s 294ms/step - loss: 0.7268 - accuracy: 0.8535 - val_loss: 1.7683 - val_accuracy: 0.8440\n",
            "Epoch 5/20\n",
            "100/100 [==============================] - 30s 296ms/step - loss: 0.7082 - accuracy: 0.8535 - val_loss: 1.8079 - val_accuracy: 0.8440\n",
            "Epoch 6/20\n",
            "100/100 [==============================] - 29s 294ms/step - loss: 0.6886 - accuracy: 0.8535 - val_loss: 1.7734 - val_accuracy: 0.8440\n",
            "Epoch 7/20\n",
            "100/100 [==============================] - 29s 293ms/step - loss: 0.6689 - accuracy: 0.8535 - val_loss: 1.7489 - val_accuracy: 0.8440\n",
            "Epoch 8/20\n",
            "100/100 [==============================] - 29s 295ms/step - loss: 0.6481 - accuracy: 0.8537 - val_loss: 1.9717 - val_accuracy: 0.8434\n",
            "Epoch 9/20\n",
            "100/100 [==============================] - 29s 295ms/step - loss: 0.6247 - accuracy: 0.8550 - val_loss: 2.0858 - val_accuracy: 0.8394\n",
            "Epoch 10/20\n",
            "100/100 [==============================] - 29s 295ms/step - loss: 0.5980 - accuracy: 0.8598 - val_loss: 2.1530 - val_accuracy: 0.8286\n",
            "Epoch 11/20\n",
            "100/100 [==============================] - 29s 295ms/step - loss: 0.5659 - accuracy: 0.8645 - val_loss: 2.2315 - val_accuracy: 0.8166\n",
            "Epoch 12/20\n",
            "100/100 [==============================] - 29s 293ms/step - loss: 0.5314 - accuracy: 0.8646 - val_loss: 2.3228 - val_accuracy: 0.7997\n",
            "Epoch 13/20\n",
            "100/100 [==============================] - 30s 297ms/step - loss: 0.4935 - accuracy: 0.8688 - val_loss: 2.5665 - val_accuracy: 0.6145\n",
            "Epoch 14/20\n",
            "100/100 [==============================] - 30s 296ms/step - loss: 0.4587 - accuracy: 0.8721 - val_loss: 2.6340 - val_accuracy: 0.4228\n",
            "Epoch 15/20\n",
            "100/100 [==============================] - 30s 296ms/step - loss: 0.4290 - accuracy: 0.8761 - val_loss: 2.7647 - val_accuracy: 0.3576\n",
            "Epoch 16/20\n",
            "100/100 [==============================] - 29s 295ms/step - loss: 0.3978 - accuracy: 0.8876 - val_loss: 2.5619 - val_accuracy: 0.5255\n",
            "Epoch 17/20\n",
            "100/100 [==============================] - 30s 297ms/step - loss: 0.3632 - accuracy: 0.8946 - val_loss: 2.7918 - val_accuracy: 0.3275\n",
            "Epoch 18/20\n",
            "100/100 [==============================] - 30s 299ms/step - loss: 0.3377 - accuracy: 0.9017 - val_loss: 2.9058 - val_accuracy: 0.2563\n",
            "Epoch 19/20\n",
            "100/100 [==============================] - 30s 299ms/step - loss: 0.3091 - accuracy: 0.9099 - val_loss: 2.9108 - val_accuracy: 0.2363\n",
            "Epoch 20/20\n",
            "100/100 [==============================] - 30s 299ms/step - loss: 0.2845 - accuracy: 0.9187 - val_loss: 2.8299 - val_accuracy: 0.2945\n"
          ]
        }
      ]
    },
    {
      "cell_type": "code",
      "source": [
        "BiGRUCNN_s = Bi_GRU_CNN(num_words_s,num_tags_s,max_len)\n",
        "history4_s = BiGRUCNN_s.fit(\n",
        "    x=x_train_s,\n",
        "    y=y_train_s,\n",
        "    validation_data=(x_dev_s,y_dev_s),\n",
        "    batch_size= 2, \n",
        "    epochs=20,\n",
        "    verbose=1\n",
        ")"
      ],
      "metadata": {
        "colab": {
          "base_uri": "https://localhost:8080/"
        },
        "id": "tyXCwne_OdXQ",
        "outputId": "c14e9c73-cf1f-40bd-fd54-7719fd719285"
      },
      "execution_count": null,
      "outputs": [
        {
          "output_type": "stream",
          "name": "stderr",
          "text": [
            "/usr/local/lib/python3.7/dist-packages/keras/optimizer_v2/adam.py:105: UserWarning: The `lr` argument is deprecated, use `learning_rate` instead.\n",
            "  super(Adam, self).__init__(name, **kwargs)\n"
          ]
        },
        {
          "output_type": "stream",
          "name": "stdout",
          "text": [
            "Model: \"model_34\"\n",
            "_________________________________________________________________\n",
            " Layer (type)                Output Shape              Param #   \n",
            "=================================================================\n",
            " input_35 (InputLayer)       [(None, 80)]              0         \n",
            "                                                                 \n",
            " embedding_34 (Embedding)    (None, 80, 80)            1034480   \n",
            "                                                                 \n",
            " spatial_dropout1d_34 (Spati  (None, 80, 80)           0         \n",
            " alDropout1D)                                                    \n",
            "                                                                 \n",
            " bidirectional_34 (Bidirecti  (None, 80, 200)          109200    \n",
            " onal)                                                           \n",
            "                                                                 \n",
            " conv1d_18 (Conv1D)          (None, 80, 200)           200200    \n",
            "                                                                 \n",
            " time_distributed_34 (TimeDi  (None, 80, 35)           7035      \n",
            " stributed)                                                      \n",
            "                                                                 \n",
            "=================================================================\n",
            "Total params: 1,350,915\n",
            "Trainable params: 1,350,915\n",
            "Non-trainable params: 0\n",
            "_________________________________________________________________\n",
            "Epoch 1/20\n",
            "100/100 [==============================] - 37s 318ms/step - loss: 1.6532 - accuracy: 0.8224 - val_loss: 1.5480 - val_accuracy: 0.8440\n",
            "Epoch 2/20\n",
            "100/100 [==============================] - 28s 282ms/step - loss: 0.7697 - accuracy: 0.8535 - val_loss: 1.4075 - val_accuracy: 0.8440\n",
            "Epoch 3/20\n",
            "100/100 [==============================] - 28s 282ms/step - loss: 0.7138 - accuracy: 0.8535 - val_loss: 1.4552 - val_accuracy: 0.8440\n",
            "Epoch 4/20\n",
            "100/100 [==============================] - 28s 280ms/step - loss: 0.6761 - accuracy: 0.8535 - val_loss: 1.4647 - val_accuracy: 0.8440\n",
            "Epoch 5/20\n",
            "100/100 [==============================] - 28s 281ms/step - loss: 0.6419 - accuracy: 0.8535 - val_loss: 1.6651 - val_accuracy: 0.8441\n",
            "Epoch 6/20\n",
            "100/100 [==============================] - 28s 279ms/step - loss: 0.6042 - accuracy: 0.8551 - val_loss: 1.8819 - val_accuracy: 0.8283\n",
            "Epoch 7/20\n",
            "100/100 [==============================] - 28s 285ms/step - loss: 0.5570 - accuracy: 0.8630 - val_loss: 2.2159 - val_accuracy: 0.3273\n",
            "Epoch 8/20\n",
            "100/100 [==============================] - 28s 284ms/step - loss: 0.5057 - accuracy: 0.8686 - val_loss: 2.3508 - val_accuracy: 0.2531\n",
            "Epoch 9/20\n",
            "100/100 [==============================] - 28s 284ms/step - loss: 0.4478 - accuracy: 0.8758 - val_loss: 2.7350 - val_accuracy: 0.2129\n",
            "Epoch 10/20\n",
            "100/100 [==============================] - 28s 281ms/step - loss: 0.3961 - accuracy: 0.8874 - val_loss: 3.1580 - val_accuracy: 0.1839\n",
            "Epoch 11/20\n",
            "100/100 [==============================] - 28s 283ms/step - loss: 0.3547 - accuracy: 0.8978 - val_loss: 3.5809 - val_accuracy: 0.1787\n",
            "Epoch 12/20\n",
            "100/100 [==============================] - 28s 283ms/step - loss: 0.3255 - accuracy: 0.9042 - val_loss: 3.6165 - val_accuracy: 0.1781\n",
            "Epoch 13/20\n",
            "100/100 [==============================] - 28s 284ms/step - loss: 0.2949 - accuracy: 0.9131 - val_loss: 3.7973 - val_accuracy: 0.1885\n",
            "Epoch 14/20\n",
            "100/100 [==============================] - 28s 282ms/step - loss: 0.2692 - accuracy: 0.9192 - val_loss: 4.0270 - val_accuracy: 0.1773\n",
            "Epoch 15/20\n",
            "100/100 [==============================] - 28s 282ms/step - loss: 0.2438 - accuracy: 0.9286 - val_loss: 4.2936 - val_accuracy: 0.1791\n",
            "Epoch 16/20\n",
            "100/100 [==============================] - 28s 283ms/step - loss: 0.2209 - accuracy: 0.9351 - val_loss: 4.3242 - val_accuracy: 0.1754\n",
            "Epoch 17/20\n",
            "100/100 [==============================] - 28s 284ms/step - loss: 0.1930 - accuracy: 0.9465 - val_loss: 4.2875 - val_accuracy: 0.1752\n",
            "Epoch 18/20\n",
            "100/100 [==============================] - 28s 285ms/step - loss: 0.1782 - accuracy: 0.9475 - val_loss: 4.8591 - val_accuracy: 0.1715\n",
            "Epoch 19/20\n",
            "100/100 [==============================] - 29s 288ms/step - loss: 0.1655 - accuracy: 0.9503 - val_loss: 4.4336 - val_accuracy: 0.1712\n",
            "Epoch 20/20\n",
            "100/100 [==============================] - 29s 285ms/step - loss: 0.1425 - accuracy: 0.9599 - val_loss: 5.0640 - val_accuracy: 0.1564\n"
          ]
        }
      ]
    },
    {
      "cell_type": "markdown",
      "source": [
        "##Kết quả trên bộ Science"
      ],
      "metadata": {
        "id": "3Yp21poNlLzh"
      }
    },
    {
      "cell_type": "code",
      "source": [
        "score(BiLSTM_s, x_test_s, y_test_s, tags_s)"
      ],
      "metadata": {
        "colab": {
          "base_uri": "https://localhost:8080/"
        },
        "id": "8ogpIUMFb4GJ",
        "outputId": "dad2071f-920d-4144-96cf-4ab1b080c58c"
      },
      "execution_count": null,
      "outputs": [
        {
          "output_type": "stream",
          "name": "stdout",
          "text": [
            "f1 macro:  0.02373903553357686\n",
            "f1 micro:  0.639963167587477\n"
          ]
        }
      ]
    },
    {
      "cell_type": "code",
      "source": [
        "score(BiLSTMCNN_s, x_test_s, y_test_s, tags_s)"
      ],
      "metadata": {
        "colab": {
          "base_uri": "https://localhost:8080/"
        },
        "id": "hKXmj9jIb4LR",
        "outputId": "53495bda-fe66-498d-f740-545d45c4c49b"
      },
      "execution_count": null,
      "outputs": [
        {
          "output_type": "stream",
          "name": "stdout",
          "text": [
            "f1 macro:  0.02899753560546264\n",
            "f1 micro:  0.7094843462246776\n"
          ]
        }
      ]
    },
    {
      "cell_type": "code",
      "source": [
        "score(BiGRU_s, x_test_s, y_test_s, tags_s)"
      ],
      "metadata": {
        "colab": {
          "base_uri": "https://localhost:8080/"
        },
        "id": "cwpAGokKb4Rw",
        "outputId": "c4830c73-e5b9-469f-bd62-abc23cf11be7"
      },
      "execution_count": null,
      "outputs": [
        {
          "output_type": "stream",
          "name": "stdout",
          "text": [
            "f1 macro:  0.030335574132316787\n",
            "f1 micro:  0.7319060773480663\n"
          ]
        }
      ]
    },
    {
      "cell_type": "code",
      "source": [
        "score(BiGRUCNN_s, x_test_s, y_test_s, tags_s)"
      ],
      "metadata": {
        "colab": {
          "base_uri": "https://localhost:8080/"
        },
        "id": "I7VzTDNrb4Zf",
        "outputId": "bf30da01-09cd-439f-c34d-67e93a9c2f9c"
      },
      "execution_count": null,
      "outputs": [
        {
          "output_type": "stream",
          "name": "stdout",
          "text": [
            "f1 macro:  0.03344970740660151\n",
            "f1 micro:  0.7467311233885819\n"
          ]
        }
      ]
    },
    {
      "cell_type": "markdown",
      "source": [
        "##Kết quả độ đo trên các mô hình"
      ],
      "metadata": {
        "id": "gC2ZmD6dlP5y"
      }
    },
    {
      "cell_type": "code",
      "source": [
        "from sklearn.metrics import classification_report\n",
        "def report(model, x_test, y_test,tags):\n",
        "  y_predict = model.predict(x_test)\n",
        "  y_predict = np.argmax(y_predict, axis=-1)\n",
        "  y_predict = y_predict.reshape(1,-1)[0]\n",
        "  y_true = y_test.reshape(1,-1)[0]\n",
        "  entity_predict = [tags[i] for i in y_predict]\n",
        "  entity_true = [tags[i] for i in y_true]\n",
        "  report = classification_report(entity_true,entity_predict)\n",
        "  return report"
      ],
      "metadata": {
        "id": "8cv5GN5P9Vf3"
      },
      "execution_count": null,
      "outputs": []
    },
    {
      "cell_type": "code",
      "source": [
        "rp1 = report(BiLSTM_a, x_test_a, y_test_a, tags_a)\n",
        "print(rp1)"
      ],
      "metadata": {
        "colab": {
          "base_uri": "https://localhost:8080/"
        },
        "id": "r53F4LGG9ZR9",
        "outputId": "8d17c6b7-4cf9-4399-c220-332d2bbcc65c"
      },
      "execution_count": null,
      "outputs": [
        {
          "output_type": "stream",
          "name": "stderr",
          "text": [
            "/usr/local/lib/python3.7/dist-packages/sklearn/metrics/_classification.py:1308: UndefinedMetricWarning: Precision and F-score are ill-defined and being set to 0.0 in labels with no predicted samples. Use `zero_division` parameter to control this behavior.\n",
            "  _warn_prf(average, modifier, msg_start, len(result))\n",
            "/usr/local/lib/python3.7/dist-packages/sklearn/metrics/_classification.py:1308: UndefinedMetricWarning: Precision and F-score are ill-defined and being set to 0.0 in labels with no predicted samples. Use `zero_division` parameter to control this behavior.\n",
            "  _warn_prf(average, modifier, msg_start, len(result))\n"
          ]
        },
        {
          "output_type": "stream",
          "name": "stdout",
          "text": [
            "                precision    recall  f1-score   support\n",
            "\n",
            "   B-algorithm       0.00      0.00      0.00       177\n",
            "  B-conference       0.00      0.00      0.00        93\n",
            "     B-country       0.00      0.00      0.00        44\n",
            "       B-field       0.00      0.00      0.00       207\n",
            "    B-location       0.00      0.00      0.00        39\n",
            "     B-metrics       0.00      0.00      0.00       191\n",
            "        B-misc       0.00      0.00      0.00       181\n",
            "B-organisation       0.00      0.00      0.00       145\n",
            "      B-person       0.00      0.00      0.00        67\n",
            "     B-product       0.00      0.00      0.00       198\n",
            " B-programlang       0.00      0.00      0.00        60\n",
            "  B-researcher       0.00      0.00      0.00       160\n",
            "        B-task       0.00      0.00      0.00       219\n",
            "  B-university       0.00      0.00      0.00        28\n",
            "   I-algorithm       0.00      0.00      0.00       198\n",
            "  I-conference       0.00      0.00      0.00       217\n",
            "     I-country       0.00      0.00      0.00        18\n",
            "       I-field       0.00      0.00      0.00       180\n",
            "    I-location       0.00      0.00      0.00        29\n",
            "     I-metrics       0.00      0.00      0.00       204\n",
            "        I-misc       0.00      0.00      0.00       196\n",
            "I-organisation       0.01      0.00      0.01       224\n",
            "      I-person       0.00      0.00      0.00        64\n",
            "     I-product       0.00      0.00      0.00       147\n",
            " I-programlang       0.00      0.00      0.00        16\n",
            "  I-researcher       0.00      0.00      0.00       138\n",
            "        I-task       0.00      0.00      0.00       282\n",
            "  I-university       0.00      0.00      0.00        45\n",
            "             O       0.89      1.00      0.94     30713\n",
            "\n",
            "      accuracy                           0.89     34480\n",
            "     macro avg       0.03      0.03      0.03     34480\n",
            "  weighted avg       0.79      0.89      0.84     34480\n",
            "\n"
          ]
        },
        {
          "output_type": "stream",
          "name": "stderr",
          "text": [
            "/usr/local/lib/python3.7/dist-packages/sklearn/metrics/_classification.py:1308: UndefinedMetricWarning: Precision and F-score are ill-defined and being set to 0.0 in labels with no predicted samples. Use `zero_division` parameter to control this behavior.\n",
            "  _warn_prf(average, modifier, msg_start, len(result))\n"
          ]
        }
      ]
    },
    {
      "cell_type": "code",
      "source": [
        "rp1 = report(BiLSTMCNN_a, x_test_a, y_test_a, tags_a)\n",
        "print(rp1)"
      ],
      "metadata": {
        "colab": {
          "base_uri": "https://localhost:8080/"
        },
        "id": "pkPR4dWT-A_Q",
        "outputId": "4cf8fd8e-c6ca-496f-888e-93d162067514"
      },
      "execution_count": null,
      "outputs": [
        {
          "output_type": "stream",
          "name": "stderr",
          "text": [
            "/usr/local/lib/python3.7/dist-packages/sklearn/metrics/_classification.py:1308: UndefinedMetricWarning: Precision and F-score are ill-defined and being set to 0.0 in labels with no predicted samples. Use `zero_division` parameter to control this behavior.\n",
            "  _warn_prf(average, modifier, msg_start, len(result))\n",
            "/usr/local/lib/python3.7/dist-packages/sklearn/metrics/_classification.py:1308: UndefinedMetricWarning: Precision and F-score are ill-defined and being set to 0.0 in labels with no predicted samples. Use `zero_division` parameter to control this behavior.\n",
            "  _warn_prf(average, modifier, msg_start, len(result))\n"
          ]
        },
        {
          "output_type": "stream",
          "name": "stdout",
          "text": [
            "                precision    recall  f1-score   support\n",
            "\n",
            "   B-algorithm       0.00      0.00      0.00       177\n",
            "  B-conference       0.00      0.00      0.00        93\n",
            "     B-country       0.00      0.00      0.00        44\n",
            "       B-field       0.00      0.00      0.00       207\n",
            "    B-location       0.00      0.00      0.00        39\n",
            "     B-metrics       0.00      0.00      0.00       191\n",
            "        B-misc       0.00      0.00      0.00       181\n",
            "B-organisation       0.00      0.00      0.00       145\n",
            "      B-person       0.00      0.00      0.00        67\n",
            "     B-product       0.00      0.00      0.00       198\n",
            " B-programlang       0.00      0.00      0.00        60\n",
            "  B-researcher       0.00      0.00      0.00       160\n",
            "        B-task       0.00      0.00      0.00       219\n",
            "  B-university       0.00      0.00      0.00        28\n",
            "   I-algorithm       0.00      0.00      0.00       198\n",
            "  I-conference       0.00      0.00      0.00       217\n",
            "     I-country       0.00      0.00      0.00        18\n",
            "       I-field       0.00      0.00      0.00       180\n",
            "    I-location       0.00      0.00      0.00        29\n",
            "     I-metrics       0.00      0.00      0.00       204\n",
            "        I-misc       0.00      0.00      0.00       196\n",
            "I-organisation       0.00      0.00      0.00       224\n",
            "      I-person       0.00      0.00      0.00        64\n",
            "     I-product       0.00      0.00      0.00       147\n",
            " I-programlang       0.00      0.00      0.00        16\n",
            "  I-researcher       0.00      0.00      0.00       138\n",
            "        I-task       0.00      0.00      0.00       282\n",
            "  I-university       0.00      0.00      0.00        45\n",
            "             O       0.89      1.00      0.94     30713\n",
            "\n",
            "      accuracy                           0.89     34480\n",
            "     macro avg       0.03      0.03      0.03     34480\n",
            "  weighted avg       0.79      0.89      0.84     34480\n",
            "\n"
          ]
        },
        {
          "output_type": "stream",
          "name": "stderr",
          "text": [
            "/usr/local/lib/python3.7/dist-packages/sklearn/metrics/_classification.py:1308: UndefinedMetricWarning: Precision and F-score are ill-defined and being set to 0.0 in labels with no predicted samples. Use `zero_division` parameter to control this behavior.\n",
            "  _warn_prf(average, modifier, msg_start, len(result))\n"
          ]
        }
      ]
    },
    {
      "cell_type": "code",
      "source": [
        "rp1 = report(BiGRU_a, x_test_a, y_test_a, tags_a)\n",
        "print(rp1)"
      ],
      "metadata": {
        "colab": {
          "base_uri": "https://localhost:8080/"
        },
        "id": "ecX8gKGD-47z",
        "outputId": "5371a4ee-43be-4822-e56d-0c0816ee4ed5"
      },
      "execution_count": null,
      "outputs": [
        {
          "output_type": "stream",
          "name": "stderr",
          "text": [
            "/usr/local/lib/python3.7/dist-packages/sklearn/metrics/_classification.py:1308: UndefinedMetricWarning: Precision and F-score are ill-defined and being set to 0.0 in labels with no predicted samples. Use `zero_division` parameter to control this behavior.\n",
            "  _warn_prf(average, modifier, msg_start, len(result))\n",
            "/usr/local/lib/python3.7/dist-packages/sklearn/metrics/_classification.py:1308: UndefinedMetricWarning: Precision and F-score are ill-defined and being set to 0.0 in labels with no predicted samples. Use `zero_division` parameter to control this behavior.\n",
            "  _warn_prf(average, modifier, msg_start, len(result))\n"
          ]
        },
        {
          "output_type": "stream",
          "name": "stdout",
          "text": [
            "                precision    recall  f1-score   support\n",
            "\n",
            "   B-algorithm       0.00      0.00      0.00       177\n",
            "  B-conference       0.00      0.00      0.00        93\n",
            "     B-country       0.00      0.00      0.00        44\n",
            "       B-field       0.00      0.00      0.00       207\n",
            "    B-location       0.00      0.00      0.00        39\n",
            "     B-metrics       0.00      0.00      0.00       191\n",
            "        B-misc       0.00      0.00      0.00       181\n",
            "B-organisation       0.00      0.00      0.00       145\n",
            "      B-person       0.00      0.00      0.00        67\n",
            "     B-product       0.00      0.00      0.00       198\n",
            " B-programlang       0.00      0.00      0.00        60\n",
            "  B-researcher       0.00      0.00      0.00       160\n",
            "        B-task       0.00      0.00      0.00       219\n",
            "  B-university       0.00      0.00      0.00        28\n",
            "   I-algorithm       0.02      0.12      0.04       198\n",
            "  I-conference       0.00      0.00      0.00       217\n",
            "     I-country       0.00      0.00      0.00        18\n",
            "       I-field       0.00      0.00      0.00       180\n",
            "    I-location       0.00      0.00      0.00        29\n",
            "     I-metrics       0.00      0.00      0.00       204\n",
            "        I-misc       0.00      0.00      0.00       196\n",
            "I-organisation       0.00      0.00      0.00       224\n",
            "      I-person       0.00      0.00      0.00        64\n",
            "     I-product       0.00      0.00      0.00       147\n",
            " I-programlang       0.00      0.00      0.00        16\n",
            "  I-researcher       0.00      0.00      0.00       138\n",
            "        I-task       0.00      0.00      0.00       282\n",
            "  I-university       0.00      0.00      0.00        45\n",
            "             O       0.90      0.97      0.94     30713\n",
            "\n",
            "      accuracy                           0.87     34480\n",
            "     macro avg       0.03      0.04      0.03     34480\n",
            "  weighted avg       0.80      0.87      0.83     34480\n",
            "\n"
          ]
        },
        {
          "output_type": "stream",
          "name": "stderr",
          "text": [
            "/usr/local/lib/python3.7/dist-packages/sklearn/metrics/_classification.py:1308: UndefinedMetricWarning: Precision and F-score are ill-defined and being set to 0.0 in labels with no predicted samples. Use `zero_division` parameter to control this behavior.\n",
            "  _warn_prf(average, modifier, msg_start, len(result))\n"
          ]
        }
      ]
    },
    {
      "cell_type": "code",
      "source": [
        "rp1 = report(BiGRUCNN_a, x_test_a, y_test_a, tags_a)\n",
        "print(rp1)"
      ],
      "metadata": {
        "colab": {
          "base_uri": "https://localhost:8080/"
        },
        "id": "cycqE0YV_bqn",
        "outputId": "d138ce5e-fcb0-4edb-ebf9-359f148012e9"
      },
      "execution_count": null,
      "outputs": [
        {
          "output_type": "stream",
          "name": "stderr",
          "text": [
            "/usr/local/lib/python3.7/dist-packages/sklearn/metrics/_classification.py:1308: UndefinedMetricWarning: Precision and F-score are ill-defined and being set to 0.0 in labels with no predicted samples. Use `zero_division` parameter to control this behavior.\n",
            "  _warn_prf(average, modifier, msg_start, len(result))\n",
            "/usr/local/lib/python3.7/dist-packages/sklearn/metrics/_classification.py:1308: UndefinedMetricWarning: Precision and F-score are ill-defined and being set to 0.0 in labels with no predicted samples. Use `zero_division` parameter to control this behavior.\n",
            "  _warn_prf(average, modifier, msg_start, len(result))\n"
          ]
        },
        {
          "output_type": "stream",
          "name": "stdout",
          "text": [
            "                precision    recall  f1-score   support\n",
            "\n",
            "   B-algorithm       0.00      0.00      0.00       177\n",
            "  B-conference       0.00      0.00      0.00        93\n",
            "     B-country       0.00      0.00      0.00        44\n",
            "       B-field       0.00      0.00      0.00       207\n",
            "    B-location       0.00      0.00      0.00        39\n",
            "     B-metrics       0.00      0.00      0.00       191\n",
            "        B-misc       0.05      0.04      0.04       181\n",
            "B-organisation       0.00      0.00      0.00       145\n",
            "      B-person       0.00      0.00      0.00        67\n",
            "     B-product       0.05      0.01      0.01       198\n",
            " B-programlang       0.00      0.00      0.00        60\n",
            "  B-researcher       0.00      0.00      0.00       160\n",
            "        B-task       0.02      0.02      0.02       219\n",
            "  B-university       0.00      0.00      0.00        28\n",
            "   I-algorithm       0.01      0.02      0.01       198\n",
            "  I-conference       0.01      0.05      0.02       217\n",
            "     I-country       0.00      0.00      0.00        18\n",
            "       I-field       0.00      0.00      0.00       180\n",
            "    I-location       0.00      0.00      0.00        29\n",
            "     I-metrics       0.00      0.00      0.00       204\n",
            "        I-misc       0.03      0.05      0.04       196\n",
            "I-organisation       0.03      0.12      0.05       224\n",
            "      I-person       0.00      0.00      0.00        64\n",
            "     I-product       0.00      0.00      0.00       147\n",
            " I-programlang       0.00      0.00      0.00        16\n",
            "  I-researcher       0.00      0.00      0.00       138\n",
            "        I-task       0.02      0.01      0.01       282\n",
            "  I-university       0.00      0.02      0.01        45\n",
            "             O       0.91      0.92      0.92     30713\n",
            "\n",
            "      accuracy                           0.82     34480\n",
            "     macro avg       0.04      0.04      0.04     34480\n",
            "  weighted avg       0.81      0.82      0.82     34480\n",
            "\n"
          ]
        },
        {
          "output_type": "stream",
          "name": "stderr",
          "text": [
            "/usr/local/lib/python3.7/dist-packages/sklearn/metrics/_classification.py:1308: UndefinedMetricWarning: Precision and F-score are ill-defined and being set to 0.0 in labels with no predicted samples. Use `zero_division` parameter to control this behavior.\n",
            "  _warn_prf(average, modifier, msg_start, len(result))\n"
          ]
        }
      ]
    },
    {
      "cell_type": "code",
      "source": [
        "rp1 = report(BiLSTM_l, x_test_l, y_test_l, tags_l)\n",
        "print(rp1)"
      ],
      "metadata": {
        "colab": {
          "base_uri": "https://localhost:8080/"
        },
        "id": "Q1uR59Hm_nQG",
        "outputId": "bb9ea95b-710a-4c12-d4e6-79ef9e94488b"
      },
      "execution_count": null,
      "outputs": [
        {
          "output_type": "stream",
          "name": "stderr",
          "text": [
            "/usr/local/lib/python3.7/dist-packages/sklearn/metrics/_classification.py:1308: UndefinedMetricWarning: Precision and F-score are ill-defined and being set to 0.0 in labels with no predicted samples. Use `zero_division` parameter to control this behavior.\n",
            "  _warn_prf(average, modifier, msg_start, len(result))\n"
          ]
        },
        {
          "output_type": "stream",
          "name": "stdout",
          "text": [
            "                 precision    recall  f1-score   support\n",
            "\n",
            "        B-award       0.00      0.00      0.00       141\n",
            "         B-book       0.00      0.00      0.00       418\n",
            "      B-country       0.00      0.00      0.00       101\n",
            "        B-event       0.00      0.00      0.00        45\n",
            "B-literarygenre       0.00      0.00      0.00       194\n",
            "     B-location       0.00      0.00      0.00        99\n",
            "     B-magazine       0.00      0.00      0.00        57\n",
            "         B-misc       0.00      0.00      0.00       239\n",
            " B-organisation       0.00      0.00      0.00       110\n",
            "       B-person       0.00      0.00      0.00       174\n",
            "         B-poem       0.00      0.00      0.00       120\n",
            "       B-writer       0.00      0.00      0.00       567\n",
            "        I-award       0.00      0.00      0.00       335\n",
            "         I-book       0.25      0.00      0.00       898\n",
            "      I-country       0.00      0.00      0.00        56\n",
            "        I-event       0.00      0.00      0.00        89\n",
            "I-literarygenre       0.00      0.00      0.00        84\n",
            "     I-location       0.00      0.00      0.00        76\n",
            "     I-magazine       0.00      0.00      0.00       114\n",
            "         I-misc       0.00      0.00      0.00       197\n",
            " I-organisation       0.00      0.00      0.00       195\n",
            "       I-person       0.00      0.00      0.00       135\n",
            "         I-poem       0.00      0.00      0.00       232\n",
            "       I-writer       0.00      0.00      0.00       535\n",
            "              O       0.84      1.00      0.92     28069\n",
            "\n",
            "       accuracy                           0.84     33280\n",
            "      macro avg       0.04      0.04      0.04     33280\n",
            "   weighted avg       0.72      0.84      0.77     33280\n",
            "\n"
          ]
        },
        {
          "output_type": "stream",
          "name": "stderr",
          "text": [
            "/usr/local/lib/python3.7/dist-packages/sklearn/metrics/_classification.py:1308: UndefinedMetricWarning: Precision and F-score are ill-defined and being set to 0.0 in labels with no predicted samples. Use `zero_division` parameter to control this behavior.\n",
            "  _warn_prf(average, modifier, msg_start, len(result))\n",
            "/usr/local/lib/python3.7/dist-packages/sklearn/metrics/_classification.py:1308: UndefinedMetricWarning: Precision and F-score are ill-defined and being set to 0.0 in labels with no predicted samples. Use `zero_division` parameter to control this behavior.\n",
            "  _warn_prf(average, modifier, msg_start, len(result))\n"
          ]
        }
      ]
    },
    {
      "cell_type": "code",
      "source": [
        "rp1 = report(BiLSTMCNN_l, x_test_l, y_test_l, tags_l)\n",
        "print(rp1)"
      ],
      "metadata": {
        "colab": {
          "base_uri": "https://localhost:8080/"
        },
        "id": "RF5Greo5_xUN",
        "outputId": "e41b4fa8-54ac-44ad-caf3-a2486c9a1859"
      },
      "execution_count": null,
      "outputs": [
        {
          "output_type": "stream",
          "name": "stderr",
          "text": [
            "/usr/local/lib/python3.7/dist-packages/sklearn/metrics/_classification.py:1308: UndefinedMetricWarning: Precision and F-score are ill-defined and being set to 0.0 in labels with no predicted samples. Use `zero_division` parameter to control this behavior.\n",
            "  _warn_prf(average, modifier, msg_start, len(result))\n"
          ]
        },
        {
          "output_type": "stream",
          "name": "stdout",
          "text": [
            "                 precision    recall  f1-score   support\n",
            "\n",
            "        B-award       0.00      0.00      0.00       141\n",
            "         B-book       0.00      0.00      0.00       418\n",
            "      B-country       0.00      0.00      0.00       101\n",
            "        B-event       0.00      0.00      0.00        45\n",
            "B-literarygenre       0.00      0.00      0.00       194\n",
            "     B-location       0.00      0.00      0.00        99\n",
            "     B-magazine       0.00      0.00      0.00        57\n",
            "         B-misc       0.00      0.00      0.00       239\n",
            " B-organisation       0.00      0.00      0.00       110\n",
            "       B-person       0.00      0.00      0.00       174\n",
            "         B-poem       0.00      0.00      0.00       120\n",
            "       B-writer       0.00      0.00      0.00       567\n",
            "        I-award       0.00      0.00      0.00       335\n",
            "         I-book       0.05      0.11      0.07       898\n",
            "      I-country       0.00      0.00      0.00        56\n",
            "        I-event       0.00      0.00      0.00        89\n",
            "I-literarygenre       0.00      0.00      0.00        84\n",
            "     I-location       0.00      0.00      0.00        76\n",
            "     I-magazine       0.00      0.00      0.00       114\n",
            "         I-misc       0.00      0.00      0.00       197\n",
            " I-organisation       0.00      0.00      0.00       195\n",
            "       I-person       0.00      0.00      0.00       135\n",
            "         I-poem       0.00      0.00      0.00       232\n",
            "       I-writer       0.02      0.00      0.00       535\n",
            "              O       0.85      0.95      0.90     28069\n",
            "\n",
            "       accuracy                           0.81     33280\n",
            "      macro avg       0.04      0.04      0.04     33280\n",
            "   weighted avg       0.72      0.81      0.76     33280\n",
            "\n"
          ]
        },
        {
          "output_type": "stream",
          "name": "stderr",
          "text": [
            "/usr/local/lib/python3.7/dist-packages/sklearn/metrics/_classification.py:1308: UndefinedMetricWarning: Precision and F-score are ill-defined and being set to 0.0 in labels with no predicted samples. Use `zero_division` parameter to control this behavior.\n",
            "  _warn_prf(average, modifier, msg_start, len(result))\n",
            "/usr/local/lib/python3.7/dist-packages/sklearn/metrics/_classification.py:1308: UndefinedMetricWarning: Precision and F-score are ill-defined and being set to 0.0 in labels with no predicted samples. Use `zero_division` parameter to control this behavior.\n",
            "  _warn_prf(average, modifier, msg_start, len(result))\n"
          ]
        }
      ]
    },
    {
      "cell_type": "code",
      "source": [
        "rp1 = report(BiGRU_l, x_test_l, y_test_l, tags_l)\n",
        "print(rp1)"
      ],
      "metadata": {
        "colab": {
          "base_uri": "https://localhost:8080/"
        },
        "id": "RT6DOraQAO29",
        "outputId": "b9e845b9-d20d-45cd-8e0d-07ac9b8bb022"
      },
      "execution_count": null,
      "outputs": [
        {
          "output_type": "stream",
          "name": "stderr",
          "text": [
            "/usr/local/lib/python3.7/dist-packages/sklearn/metrics/_classification.py:1308: UndefinedMetricWarning: Precision and F-score are ill-defined and being set to 0.0 in labels with no predicted samples. Use `zero_division` parameter to control this behavior.\n",
            "  _warn_prf(average, modifier, msg_start, len(result))\n",
            "/usr/local/lib/python3.7/dist-packages/sklearn/metrics/_classification.py:1308: UndefinedMetricWarning: Precision and F-score are ill-defined and being set to 0.0 in labels with no predicted samples. Use `zero_division` parameter to control this behavior.\n",
            "  _warn_prf(average, modifier, msg_start, len(result))\n"
          ]
        },
        {
          "output_type": "stream",
          "name": "stdout",
          "text": [
            "                 precision    recall  f1-score   support\n",
            "\n",
            "        B-award       0.00      0.00      0.00       141\n",
            "         B-book       0.00      0.00      0.00       418\n",
            "      B-country       0.00      0.00      0.00       101\n",
            "        B-event       0.00      0.00      0.00        45\n",
            "B-literarygenre       0.00      0.00      0.00       194\n",
            "     B-location       0.00      0.00      0.00        99\n",
            "     B-magazine       0.00      0.00      0.00        57\n",
            "         B-misc       0.00      0.00      0.00       239\n",
            " B-organisation       0.00      0.00      0.00       110\n",
            "       B-person       0.00      0.00      0.00       174\n",
            "         B-poem       0.00      0.00      0.00       120\n",
            "       B-writer       0.00      0.00      0.00       567\n",
            "        I-award       0.00      0.00      0.00       335\n",
            "         I-book       0.05      0.17      0.08       898\n",
            "      I-country       0.00      0.00      0.00        56\n",
            "        I-event       0.00      0.00      0.00        89\n",
            "I-literarygenre       0.00      0.00      0.00        84\n",
            "     I-location       0.00      0.00      0.00        76\n",
            "     I-magazine       0.00      0.00      0.00       114\n",
            "         I-misc       0.00      0.00      0.00       197\n",
            " I-organisation       0.00      0.00      0.00       195\n",
            "       I-person       0.00      0.00      0.00       135\n",
            "         I-poem       0.00      0.00      0.00       232\n",
            "       I-writer       0.03      0.00      0.00       535\n",
            "              O       0.87      0.93      0.90     28069\n",
            "\n",
            "       accuracy                           0.79     33280\n",
            "      macro avg       0.04      0.04      0.04     33280\n",
            "   weighted avg       0.73      0.79      0.76     33280\n",
            "\n"
          ]
        },
        {
          "output_type": "stream",
          "name": "stderr",
          "text": [
            "/usr/local/lib/python3.7/dist-packages/sklearn/metrics/_classification.py:1308: UndefinedMetricWarning: Precision and F-score are ill-defined and being set to 0.0 in labels with no predicted samples. Use `zero_division` parameter to control this behavior.\n",
            "  _warn_prf(average, modifier, msg_start, len(result))\n"
          ]
        }
      ]
    },
    {
      "cell_type": "code",
      "source": [
        "rp1 = report(BiGRUCNN_l, x_test_l, y_test_l, tags_l)\n",
        "print(rp1)"
      ],
      "metadata": {
        "colab": {
          "base_uri": "https://localhost:8080/"
        },
        "id": "XENG5qRuAZZ8",
        "outputId": "8f159100-f140-4343-fc5b-3e2ea49b05a2"
      },
      "execution_count": null,
      "outputs": [
        {
          "output_type": "stream",
          "name": "stderr",
          "text": [
            "/usr/local/lib/python3.7/dist-packages/sklearn/metrics/_classification.py:1308: UndefinedMetricWarning: Precision and F-score are ill-defined and being set to 0.0 in labels with no predicted samples. Use `zero_division` parameter to control this behavior.\n",
            "  _warn_prf(average, modifier, msg_start, len(result))\n",
            "/usr/local/lib/python3.7/dist-packages/sklearn/metrics/_classification.py:1308: UndefinedMetricWarning: Precision and F-score are ill-defined and being set to 0.0 in labels with no predicted samples. Use `zero_division` parameter to control this behavior.\n",
            "  _warn_prf(average, modifier, msg_start, len(result))\n"
          ]
        },
        {
          "output_type": "stream",
          "name": "stdout",
          "text": [
            "                 precision    recall  f1-score   support\n",
            "\n",
            "        B-award       0.03      0.02      0.02       141\n",
            "         B-book       0.02      0.01      0.02       418\n",
            "      B-country       0.00      0.00      0.00       101\n",
            "        B-event       0.00      0.00      0.00        45\n",
            "B-literarygenre       0.05      0.01      0.01       194\n",
            "     B-location       0.00      0.00      0.00        99\n",
            "     B-magazine       0.00      0.00      0.00        57\n",
            "         B-misc       0.05      0.02      0.03       239\n",
            " B-organisation       0.00      0.00      0.00       110\n",
            "       B-person       0.00      0.00      0.00       174\n",
            "         B-poem       0.01      0.03      0.01       120\n",
            "       B-writer       0.04      0.06      0.05       567\n",
            "        I-award       0.05      0.12      0.07       335\n",
            "         I-book       0.04      0.05      0.04       898\n",
            "      I-country       0.00      0.00      0.00        56\n",
            "        I-event       0.00      0.00      0.00        89\n",
            "I-literarygenre       0.00      0.00      0.00        84\n",
            "     I-location       0.00      0.00      0.00        76\n",
            "     I-magazine       0.00      0.00      0.00       114\n",
            "         I-misc       0.00      0.00      0.00       197\n",
            " I-organisation       0.01      0.01      0.01       195\n",
            "       I-person       0.00      0.00      0.00       135\n",
            "         I-poem       0.02      0.07      0.03       232\n",
            "       I-writer       0.02      0.02      0.02       535\n",
            "              O       0.87      0.86      0.87     28069\n",
            "\n",
            "       accuracy                           0.73     33280\n",
            "      macro avg       0.05      0.05      0.05     33280\n",
            "   weighted avg       0.74      0.73      0.73     33280\n",
            "\n"
          ]
        },
        {
          "output_type": "stream",
          "name": "stderr",
          "text": [
            "/usr/local/lib/python3.7/dist-packages/sklearn/metrics/_classification.py:1308: UndefinedMetricWarning: Precision and F-score are ill-defined and being set to 0.0 in labels with no predicted samples. Use `zero_division` parameter to control this behavior.\n",
            "  _warn_prf(average, modifier, msg_start, len(result))\n"
          ]
        }
      ]
    },
    {
      "cell_type": "code",
      "source": [
        "rp1 = report(BiLSTM_m, x_test_m, y_test_m, tags_m)\n",
        "print(rp1)"
      ],
      "metadata": {
        "colab": {
          "base_uri": "https://localhost:8080/"
        },
        "id": "R5-t3TIOBAKP",
        "outputId": "456b9381-58be-4f92-e372-25e8f024a239"
      },
      "execution_count": null,
      "outputs": [
        {
          "output_type": "stream",
          "name": "stderr",
          "text": [
            "/usr/local/lib/python3.7/dist-packages/sklearn/metrics/_classification.py:1308: UndefinedMetricWarning: Precision and F-score are ill-defined and being set to 0.0 in labels with no predicted samples. Use `zero_division` parameter to control this behavior.\n",
            "  _warn_prf(average, modifier, msg_start, len(result))\n",
            "/usr/local/lib/python3.7/dist-packages/sklearn/metrics/_classification.py:1308: UndefinedMetricWarning: Precision and F-score are ill-defined and being set to 0.0 in labels with no predicted samples. Use `zero_division` parameter to control this behavior.\n",
            "  _warn_prf(average, modifier, msg_start, len(result))\n"
          ]
        },
        {
          "output_type": "stream",
          "name": "stdout",
          "text": [
            "                     precision    recall  f1-score   support\n",
            "\n",
            "            B-album       0.00      0.00      0.00       332\n",
            "            B-award       0.00      0.00      0.00       260\n",
            "             B-band       0.00      0.01      0.00       462\n",
            "          B-country       0.00      0.00      0.00       160\n",
            "            B-event       0.00      0.00      0.00        69\n",
            "         B-location       0.00      0.00      0.00       343\n",
            "             B-misc       0.00      0.00      0.00       171\n",
            "    B-musicalartist       0.00      0.00      0.00       515\n",
            "B-musicalinstrument       0.00      0.00      0.00        22\n",
            "       B-musicgenre       0.00      0.00      0.00       486\n",
            "     B-organisation       0.00      0.00      0.00       208\n",
            "           B-person       0.00      0.00      0.00        80\n",
            "             B-song       0.00      0.00      0.00       227\n",
            "            I-album       0.00      0.00      0.00       675\n",
            "            I-award       0.00      0.00      0.00       837\n",
            "             I-band       0.00      0.00      0.00       514\n",
            "          I-country       0.00      0.00      0.00        28\n",
            "            I-event       0.00      0.00      0.00       164\n",
            "         I-location       0.00      0.00      0.00       382\n",
            "             I-misc       0.00      0.00      0.00       122\n",
            "    I-musicalartist       0.00      0.00      0.00       443\n",
            "I-musicalinstrument       0.00      0.00      0.00         3\n",
            "       I-musicgenre       0.00      0.00      0.00       400\n",
            "     I-organisation       0.00      0.00      0.00       362\n",
            "           I-person       0.00      0.00      0.00        58\n",
            "             I-song       0.00      0.00      0.00       491\n",
            "                  O       0.73      0.72      0.72     29386\n",
            "\n",
            "           accuracy                           0.57     37200\n",
            "          macro avg       0.03      0.03      0.03     37200\n",
            "       weighted avg       0.58      0.57      0.57     37200\n",
            "\n"
          ]
        },
        {
          "output_type": "stream",
          "name": "stderr",
          "text": [
            "/usr/local/lib/python3.7/dist-packages/sklearn/metrics/_classification.py:1308: UndefinedMetricWarning: Precision and F-score are ill-defined and being set to 0.0 in labels with no predicted samples. Use `zero_division` parameter to control this behavior.\n",
            "  _warn_prf(average, modifier, msg_start, len(result))\n"
          ]
        }
      ]
    },
    {
      "cell_type": "code",
      "source": [
        "rp1 = report(BiLSTMCNN_m, x_test_m, y_test_m, tags_m)\n",
        "print(rp1)"
      ],
      "metadata": {
        "colab": {
          "base_uri": "https://localhost:8080/"
        },
        "id": "Woo6k9xBBHGA",
        "outputId": "591e7076-8fed-4399-b52f-3e3ba897ca26"
      },
      "execution_count": null,
      "outputs": [
        {
          "output_type": "stream",
          "name": "stderr",
          "text": [
            "/usr/local/lib/python3.7/dist-packages/sklearn/metrics/_classification.py:1308: UndefinedMetricWarning: Precision and F-score are ill-defined and being set to 0.0 in labels with no predicted samples. Use `zero_division` parameter to control this behavior.\n",
            "  _warn_prf(average, modifier, msg_start, len(result))\n"
          ]
        },
        {
          "output_type": "stream",
          "name": "stdout",
          "text": [
            "                     precision    recall  f1-score   support\n",
            "\n",
            "            B-album       0.00      0.00      0.00       332\n",
            "            B-award       0.00      0.00      0.00       260\n",
            "             B-band       0.00      0.00      0.00       462\n",
            "          B-country       0.00      0.00      0.00       160\n",
            "            B-event       0.00      0.00      0.00        69\n",
            "         B-location       0.00      0.00      0.00       343\n",
            "             B-misc       0.00      0.00      0.00       171\n",
            "    B-musicalartist       0.00      0.00      0.00       515\n",
            "B-musicalinstrument       0.00      0.00      0.00        22\n",
            "       B-musicgenre       0.00      0.00      0.00       486\n",
            "     B-organisation       0.00      0.00      0.00       208\n",
            "           B-person       0.00      0.00      0.00        80\n",
            "             B-song       0.00      0.00      0.00       227\n",
            "            I-album       0.00      0.00      0.00       675\n",
            "            I-award       0.00      0.00      0.00       837\n",
            "             I-band       0.00      0.00      0.00       514\n",
            "          I-country       0.00      0.00      0.00        28\n",
            "            I-event       0.00      0.00      0.00       164\n",
            "         I-location       0.00      0.00      0.00       382\n",
            "             I-misc       0.00      0.00      0.00       122\n",
            "    I-musicalartist       0.00      0.00      0.00       443\n",
            "I-musicalinstrument       0.00      0.00      0.00         3\n",
            "       I-musicgenre       0.00      0.00      0.00       400\n",
            "     I-organisation       0.00      0.00      0.00       362\n",
            "           I-person       0.00      0.00      0.00        58\n",
            "             I-song       0.00      0.00      0.00       491\n",
            "                  O       0.75      0.79      0.77     29386\n",
            "\n",
            "           accuracy                           0.63     37200\n",
            "          macro avg       0.03      0.03      0.03     37200\n",
            "       weighted avg       0.59      0.63      0.61     37200\n",
            "\n"
          ]
        },
        {
          "output_type": "stream",
          "name": "stderr",
          "text": [
            "/usr/local/lib/python3.7/dist-packages/sklearn/metrics/_classification.py:1308: UndefinedMetricWarning: Precision and F-score are ill-defined and being set to 0.0 in labels with no predicted samples. Use `zero_division` parameter to control this behavior.\n",
            "  _warn_prf(average, modifier, msg_start, len(result))\n",
            "/usr/local/lib/python3.7/dist-packages/sklearn/metrics/_classification.py:1308: UndefinedMetricWarning: Precision and F-score are ill-defined and being set to 0.0 in labels with no predicted samples. Use `zero_division` parameter to control this behavior.\n",
            "  _warn_prf(average, modifier, msg_start, len(result))\n"
          ]
        }
      ]
    },
    {
      "cell_type": "code",
      "source": [
        "rp1 = report(BiGRU_m, x_test_m, y_test_m, tags_m)\n",
        "print(rp1)"
      ],
      "metadata": {
        "colab": {
          "base_uri": "https://localhost:8080/"
        },
        "id": "QHNi3cjPBNx7",
        "outputId": "6123b058-4c35-4e5f-bb55-f369ef87be0b"
      },
      "execution_count": null,
      "outputs": [
        {
          "output_type": "stream",
          "name": "stderr",
          "text": [
            "/usr/local/lib/python3.7/dist-packages/sklearn/metrics/_classification.py:1308: UndefinedMetricWarning: Precision and F-score are ill-defined and being set to 0.0 in labels with no predicted samples. Use `zero_division` parameter to control this behavior.\n",
            "  _warn_prf(average, modifier, msg_start, len(result))\n"
          ]
        },
        {
          "output_type": "stream",
          "name": "stdout",
          "text": [
            "                     precision    recall  f1-score   support\n",
            "\n",
            "            B-album       0.00      0.00      0.00       332\n",
            "            B-award       0.00      0.00      0.00       260\n",
            "             B-band       0.01      0.00      0.00       462\n",
            "          B-country       0.00      0.00      0.00       160\n",
            "            B-event       0.00      0.00      0.00        69\n",
            "         B-location       0.00      0.00      0.00       343\n",
            "             B-misc       0.00      0.00      0.00       171\n",
            "    B-musicalartist       0.00      0.00      0.00       515\n",
            "B-musicalinstrument       0.00      0.00      0.00        22\n",
            "       B-musicgenre       0.00      0.00      0.00       486\n",
            "     B-organisation       0.00      0.00      0.00       208\n",
            "           B-person       0.00      0.00      0.00        80\n",
            "             B-song       0.00      0.00      0.00       227\n",
            "            I-album       0.00      0.00      0.00       675\n",
            "            I-award       0.04      0.21      0.07       837\n",
            "             I-band       0.00      0.00      0.00       514\n",
            "          I-country       0.00      0.00      0.00        28\n",
            "            I-event       0.00      0.00      0.00       164\n",
            "         I-location       0.00      0.00      0.00       382\n",
            "             I-misc       0.00      0.00      0.00       122\n",
            "    I-musicalartist       0.00      0.00      0.00       443\n",
            "I-musicalinstrument       0.00      0.00      0.00         3\n",
            "       I-musicgenre       0.00      0.00      0.00       400\n",
            "     I-organisation       0.00      0.00      0.00       362\n",
            "           I-person       0.00      0.00      0.00        58\n",
            "             I-song       0.00      0.00      0.00       491\n",
            "                  O       0.81      0.92      0.86     29386\n",
            "\n",
            "           accuracy                           0.73     37200\n",
            "          macro avg       0.03      0.04      0.03     37200\n",
            "       weighted avg       0.64      0.73      0.68     37200\n",
            "\n"
          ]
        },
        {
          "output_type": "stream",
          "name": "stderr",
          "text": [
            "/usr/local/lib/python3.7/dist-packages/sklearn/metrics/_classification.py:1308: UndefinedMetricWarning: Precision and F-score are ill-defined and being set to 0.0 in labels with no predicted samples. Use `zero_division` parameter to control this behavior.\n",
            "  _warn_prf(average, modifier, msg_start, len(result))\n",
            "/usr/local/lib/python3.7/dist-packages/sklearn/metrics/_classification.py:1308: UndefinedMetricWarning: Precision and F-score are ill-defined and being set to 0.0 in labels with no predicted samples. Use `zero_division` parameter to control this behavior.\n",
            "  _warn_prf(average, modifier, msg_start, len(result))\n"
          ]
        }
      ]
    },
    {
      "cell_type": "code",
      "source": [
        "rp1 = report(BiGRUCNN_m, x_test_m, y_test_m, tags_m)\n",
        "print(rp1)"
      ],
      "metadata": {
        "colab": {
          "base_uri": "https://localhost:8080/"
        },
        "id": "nZ8LHhJ_BT0z",
        "outputId": "0a3bd677-8436-4c28-fbb0-1671594a7099"
      },
      "execution_count": null,
      "outputs": [
        {
          "output_type": "stream",
          "name": "stderr",
          "text": [
            "/usr/local/lib/python3.7/dist-packages/sklearn/metrics/_classification.py:1308: UndefinedMetricWarning: Precision and F-score are ill-defined and being set to 0.0 in labels with no predicted samples. Use `zero_division` parameter to control this behavior.\n",
            "  _warn_prf(average, modifier, msg_start, len(result))\n"
          ]
        },
        {
          "output_type": "stream",
          "name": "stdout",
          "text": [
            "                     precision    recall  f1-score   support\n",
            "\n",
            "            B-album       0.00      0.00      0.00       332\n",
            "            B-award       0.00      0.00      0.00       260\n",
            "             B-band       0.00      0.00      0.00       462\n",
            "          B-country       0.00      0.00      0.00       160\n",
            "            B-event       0.00      0.00      0.00        69\n",
            "         B-location       0.00      0.00      0.00       343\n",
            "             B-misc       0.00      0.00      0.00       171\n",
            "    B-musicalartist       0.12      0.01      0.01       515\n",
            "B-musicalinstrument       0.00      0.00      0.00        22\n",
            "       B-musicgenre       0.00      0.00      0.00       486\n",
            "     B-organisation       0.00      0.00      0.00       208\n",
            "           B-person       0.00      0.00      0.00        80\n",
            "             B-song       0.00      0.00      0.00       227\n",
            "            I-album       0.04      0.08      0.06       675\n",
            "            I-award       0.03      0.06      0.04       837\n",
            "             I-band       0.00      0.00      0.00       514\n",
            "          I-country       0.00      0.00      0.00        28\n",
            "            I-event       0.00      0.00      0.00       164\n",
            "         I-location       0.00      0.00      0.00       382\n",
            "             I-misc       0.00      0.00      0.00       122\n",
            "    I-musicalartist       0.00      0.00      0.00       443\n",
            "I-musicalinstrument       0.00      0.00      0.00         3\n",
            "       I-musicgenre       0.00      0.00      0.00       400\n",
            "     I-organisation       0.02      0.00      0.00       362\n",
            "           I-person       0.00      0.00      0.00        58\n",
            "             I-song       0.00      0.00      0.00       491\n",
            "                  O       0.81      0.93      0.87     29386\n",
            "\n",
            "           accuracy                           0.73     37200\n",
            "          macro avg       0.04      0.04      0.04     37200\n",
            "       weighted avg       0.65      0.73      0.69     37200\n",
            "\n"
          ]
        },
        {
          "output_type": "stream",
          "name": "stderr",
          "text": [
            "/usr/local/lib/python3.7/dist-packages/sklearn/metrics/_classification.py:1308: UndefinedMetricWarning: Precision and F-score are ill-defined and being set to 0.0 in labels with no predicted samples. Use `zero_division` parameter to control this behavior.\n",
            "  _warn_prf(average, modifier, msg_start, len(result))\n",
            "/usr/local/lib/python3.7/dist-packages/sklearn/metrics/_classification.py:1308: UndefinedMetricWarning: Precision and F-score are ill-defined and being set to 0.0 in labels with no predicted samples. Use `zero_division` parameter to control this behavior.\n",
            "  _warn_prf(average, modifier, msg_start, len(result))\n"
          ]
        }
      ]
    },
    {
      "cell_type": "code",
      "source": [
        "rp1 = report(BiLSTM_p, x_test_p, y_test_p, tags_p)\n",
        "print(rp1)"
      ],
      "metadata": {
        "colab": {
          "base_uri": "https://localhost:8080/"
        },
        "id": "HxIRVHJsBZoC",
        "outputId": "48b87b90-183a-4974-b5a9-d1fe95f34b20"
      },
      "execution_count": null,
      "outputs": [
        {
          "output_type": "stream",
          "name": "stderr",
          "text": [
            "/usr/local/lib/python3.7/dist-packages/sklearn/metrics/_classification.py:1308: UndefinedMetricWarning: Precision and F-score are ill-defined and being set to 0.0 in labels with no predicted samples. Use `zero_division` parameter to control this behavior.\n",
            "  _warn_prf(average, modifier, msg_start, len(result))\n",
            "/usr/local/lib/python3.7/dist-packages/sklearn/metrics/_classification.py:1308: UndefinedMetricWarning: Precision and F-score are ill-defined and being set to 0.0 in labels with no predicted samples. Use `zero_division` parameter to control this behavior.\n",
            "  _warn_prf(average, modifier, msg_start, len(result))\n"
          ]
        },
        {
          "output_type": "stream",
          "name": "stdout",
          "text": [
            "                  precision    recall  f1-score   support\n",
            "\n",
            "       B-country       0.00      0.00      0.00       418\n",
            "      B-election       0.00      0.00      0.00       434\n",
            "         B-event       0.00      0.00      0.00       195\n",
            "      B-location       0.00      0.00      0.00       599\n",
            "          B-misc       0.00      0.00      0.00       258\n",
            "  B-organisation       0.00      0.00      0.00       513\n",
            "        B-person       0.00      0.00      0.00       354\n",
            "B-politicalparty       0.00      0.00      0.00       953\n",
            "    B-politician       0.03      0.03      0.03       485\n",
            "       I-country       0.00      0.00      0.00       219\n",
            "      I-election       0.02      0.05      0.03      1640\n",
            "         I-event       0.00      0.00      0.00       464\n",
            "      I-location       0.00      0.00      0.00       189\n",
            "          I-misc       0.00      0.00      0.00       130\n",
            "  I-organisation       0.06      0.00      0.00      1011\n",
            "        I-person       0.00      0.00      0.00       338\n",
            "I-politicalparty       0.20      0.00      0.00      1662\n",
            "    I-politician       0.00      0.04      0.01       412\n",
            "               O       0.81      0.83      0.82     41806\n",
            "\n",
            "        accuracy                           0.67     52080\n",
            "       macro avg       0.06      0.05      0.05     52080\n",
            "    weighted avg       0.66      0.67      0.66     52080\n",
            "\n"
          ]
        },
        {
          "output_type": "stream",
          "name": "stderr",
          "text": [
            "/usr/local/lib/python3.7/dist-packages/sklearn/metrics/_classification.py:1308: UndefinedMetricWarning: Precision and F-score are ill-defined and being set to 0.0 in labels with no predicted samples. Use `zero_division` parameter to control this behavior.\n",
            "  _warn_prf(average, modifier, msg_start, len(result))\n"
          ]
        }
      ]
    },
    {
      "cell_type": "code",
      "source": [
        "rp1 = report(BiLSTMCNN_p, x_test_p, y_test_p, tags_p)\n",
        "print(rp1)"
      ],
      "metadata": {
        "colab": {
          "base_uri": "https://localhost:8080/"
        },
        "id": "0e5zB-i8Bj2T",
        "outputId": "f0474f50-2f95-47f5-db3e-92f87ecf1685"
      },
      "execution_count": null,
      "outputs": [
        {
          "output_type": "stream",
          "name": "stderr",
          "text": [
            "/usr/local/lib/python3.7/dist-packages/sklearn/metrics/_classification.py:1308: UndefinedMetricWarning: Precision and F-score are ill-defined and being set to 0.0 in labels with no predicted samples. Use `zero_division` parameter to control this behavior.\n",
            "  _warn_prf(average, modifier, msg_start, len(result))\n",
            "/usr/local/lib/python3.7/dist-packages/sklearn/metrics/_classification.py:1308: UndefinedMetricWarning: Precision and F-score are ill-defined and being set to 0.0 in labels with no predicted samples. Use `zero_division` parameter to control this behavior.\n",
            "  _warn_prf(average, modifier, msg_start, len(result))\n"
          ]
        },
        {
          "output_type": "stream",
          "name": "stdout",
          "text": [
            "                  precision    recall  f1-score   support\n",
            "\n",
            "       B-country       0.00      0.00      0.00       418\n",
            "      B-election       0.00      0.00      0.00       434\n",
            "         B-event       0.00      0.00      0.00       195\n",
            "      B-location       0.00      0.00      0.00       599\n",
            "          B-misc       0.00      0.00      0.00       258\n",
            "  B-organisation       0.00      0.00      0.00       513\n",
            "        B-person       0.00      0.00      0.00       354\n",
            "B-politicalparty       0.03      0.00      0.00       953\n",
            "    B-politician       0.05      0.04      0.04       485\n",
            "       I-country       0.00      0.00      0.00       219\n",
            "      I-election       0.05      0.25      0.08      1640\n",
            "         I-event       0.01      0.01      0.01       464\n",
            "      I-location       0.00      0.00      0.00       189\n",
            "          I-misc       0.00      0.00      0.00       130\n",
            "  I-organisation       0.00      0.00      0.00      1011\n",
            "        I-person       0.00      0.00      0.00       338\n",
            "I-politicalparty       0.05      0.00      0.00      1662\n",
            "    I-politician       0.02      0.02      0.02       412\n",
            "               O       0.86      0.84      0.85     41806\n",
            "\n",
            "        accuracy                           0.69     52080\n",
            "       macro avg       0.06      0.06      0.05     52080\n",
            "    weighted avg       0.69      0.69      0.69     52080\n",
            "\n"
          ]
        },
        {
          "output_type": "stream",
          "name": "stderr",
          "text": [
            "/usr/local/lib/python3.7/dist-packages/sklearn/metrics/_classification.py:1308: UndefinedMetricWarning: Precision and F-score are ill-defined and being set to 0.0 in labels with no predicted samples. Use `zero_division` parameter to control this behavior.\n",
            "  _warn_prf(average, modifier, msg_start, len(result))\n"
          ]
        }
      ]
    },
    {
      "cell_type": "code",
      "source": [
        "rp1 = report(BiGRU_p, x_test_p, y_test_p, tags_p)\n",
        "print(rp1)"
      ],
      "metadata": {
        "colab": {
          "base_uri": "https://localhost:8080/"
        },
        "id": "wBiWsFSaBwGn",
        "outputId": "23144fd3-861f-4d6e-cd2a-ddfdeb110423"
      },
      "execution_count": null,
      "outputs": [
        {
          "output_type": "stream",
          "name": "stderr",
          "text": [
            "/usr/local/lib/python3.7/dist-packages/sklearn/metrics/_classification.py:1308: UndefinedMetricWarning: Precision and F-score are ill-defined and being set to 0.0 in labels with no predicted samples. Use `zero_division` parameter to control this behavior.\n",
            "  _warn_prf(average, modifier, msg_start, len(result))\n",
            "/usr/local/lib/python3.7/dist-packages/sklearn/metrics/_classification.py:1308: UndefinedMetricWarning: Precision and F-score are ill-defined and being set to 0.0 in labels with no predicted samples. Use `zero_division` parameter to control this behavior.\n",
            "  _warn_prf(average, modifier, msg_start, len(result))\n"
          ]
        },
        {
          "output_type": "stream",
          "name": "stdout",
          "text": [
            "                  precision    recall  f1-score   support\n",
            "\n",
            "       B-country       0.00      0.00      0.00       418\n",
            "      B-election       0.00      0.00      0.00       434\n",
            "         B-event       0.00      0.00      0.00       195\n",
            "      B-location       0.02      0.01      0.01       599\n",
            "          B-misc       0.00      0.00      0.00       258\n",
            "  B-organisation       0.03      0.01      0.01       513\n",
            "        B-person       0.00      0.00      0.00       354\n",
            "B-politicalparty       0.13      0.04      0.06       953\n",
            "    B-politician       0.03      0.07      0.04       485\n",
            "       I-country       0.00      0.00      0.00       219\n",
            "      I-election       0.02      0.04      0.02      1640\n",
            "         I-event       0.00      0.00      0.00       464\n",
            "      I-location       0.00      0.00      0.00       189\n",
            "          I-misc       0.00      0.00      0.00       130\n",
            "  I-organisation       0.03      0.04      0.04      1011\n",
            "        I-person       0.00      0.00      0.00       338\n",
            "I-politicalparty       0.05      0.01      0.02      1662\n",
            "    I-politician       0.02      0.03      0.03       412\n",
            "               O       0.84      0.89      0.86     41806\n",
            "\n",
            "        accuracy                           0.71     52080\n",
            "       macro avg       0.06      0.06      0.06     52080\n",
            "    weighted avg       0.68      0.71      0.70     52080\n",
            "\n"
          ]
        },
        {
          "output_type": "stream",
          "name": "stderr",
          "text": [
            "/usr/local/lib/python3.7/dist-packages/sklearn/metrics/_classification.py:1308: UndefinedMetricWarning: Precision and F-score are ill-defined and being set to 0.0 in labels with no predicted samples. Use `zero_division` parameter to control this behavior.\n",
            "  _warn_prf(average, modifier, msg_start, len(result))\n"
          ]
        }
      ]
    },
    {
      "cell_type": "code",
      "source": [
        "rp1 = report(BiGRUCNN_p, x_test_p, y_test_p, tags_p)\n",
        "print(rp1)"
      ],
      "metadata": {
        "colab": {
          "base_uri": "https://localhost:8080/"
        },
        "id": "ryshdliSB25m",
        "outputId": "71559153-f26c-470e-ee2b-5908345cd2db"
      },
      "execution_count": null,
      "outputs": [
        {
          "output_type": "stream",
          "name": "stderr",
          "text": [
            "/usr/local/lib/python3.7/dist-packages/sklearn/metrics/_classification.py:1308: UndefinedMetricWarning: Precision and F-score are ill-defined and being set to 0.0 in labels with no predicted samples. Use `zero_division` parameter to control this behavior.\n",
            "  _warn_prf(average, modifier, msg_start, len(result))\n",
            "/usr/local/lib/python3.7/dist-packages/sklearn/metrics/_classification.py:1308: UndefinedMetricWarning: Precision and F-score are ill-defined and being set to 0.0 in labels with no predicted samples. Use `zero_division` parameter to control this behavior.\n",
            "  _warn_prf(average, modifier, msg_start, len(result))\n"
          ]
        },
        {
          "output_type": "stream",
          "name": "stdout",
          "text": [
            "                  precision    recall  f1-score   support\n",
            "\n",
            "       B-country       0.00      0.00      0.00       418\n",
            "      B-election       0.01      0.00      0.01       434\n",
            "         B-event       0.00      0.00      0.00       195\n",
            "      B-location       0.03      0.01      0.01       599\n",
            "          B-misc       0.03      0.00      0.01       258\n",
            "  B-organisation       0.02      0.02      0.02       513\n",
            "        B-person       0.00      0.00      0.00       354\n",
            "B-politicalparty       0.05      0.01      0.02       953\n",
            "    B-politician       0.03      0.07      0.05       485\n",
            "       I-country       0.00      0.00      0.00       219\n",
            "      I-election       0.01      0.02      0.02      1640\n",
            "         I-event       0.00      0.00      0.00       464\n",
            "      I-location       0.01      0.02      0.02       189\n",
            "          I-misc       0.00      0.00      0.00       130\n",
            "  I-organisation       0.04      0.13      0.06      1011\n",
            "        I-person       0.00      0.00      0.00       338\n",
            "I-politicalparty       0.08      0.02      0.04      1662\n",
            "    I-politician       0.02      0.08      0.03       412\n",
            "               O       0.85      0.85      0.85     41806\n",
            "\n",
            "        accuracy                           0.69     52080\n",
            "       macro avg       0.06      0.07      0.06     52080\n",
            "    weighted avg       0.68      0.69      0.68     52080\n",
            "\n"
          ]
        },
        {
          "output_type": "stream",
          "name": "stderr",
          "text": [
            "/usr/local/lib/python3.7/dist-packages/sklearn/metrics/_classification.py:1308: UndefinedMetricWarning: Precision and F-score are ill-defined and being set to 0.0 in labels with no predicted samples. Use `zero_division` parameter to control this behavior.\n",
            "  _warn_prf(average, modifier, msg_start, len(result))\n"
          ]
        }
      ]
    },
    {
      "cell_type": "code",
      "source": [
        "rp1 = report(BiLSTM_s, x_test_s, y_test_s, tags_s)\n",
        "print(rp1)"
      ],
      "metadata": {
        "colab": {
          "base_uri": "https://localhost:8080/"
        },
        "id": "Fqkyzb5vB-Lq",
        "outputId": "158ed5c4-9e67-434a-f858-2ff46c3c5ab3"
      },
      "execution_count": null,
      "outputs": [
        {
          "output_type": "stream",
          "name": "stderr",
          "text": [
            "/usr/local/lib/python3.7/dist-packages/sklearn/metrics/_classification.py:1308: UndefinedMetricWarning: Precision and F-score are ill-defined and being set to 0.0 in labels with no predicted samples. Use `zero_division` parameter to control this behavior.\n",
            "  _warn_prf(average, modifier, msg_start, len(result))\n",
            "/usr/local/lib/python3.7/dist-packages/sklearn/metrics/_classification.py:1308: UndefinedMetricWarning: Precision and F-score are ill-defined and being set to 0.0 in labels with no predicted samples. Use `zero_division` parameter to control this behavior.\n",
            "  _warn_prf(average, modifier, msg_start, len(result))\n"
          ]
        },
        {
          "output_type": "stream",
          "name": "stdout",
          "text": [
            "                      precision    recall  f1-score   support\n",
            "\n",
            "   B-academicjournal       0.00      0.00      0.00       180\n",
            "B-astronomicalobject       0.00      0.01      0.00       337\n",
            "             B-award       0.00      0.00      0.00       146\n",
            "  B-chemicalcompound       0.00      0.00      0.00       160\n",
            "   B-chemicalelement       0.00      0.00      0.00        85\n",
            "           B-country       0.00      0.00      0.00        27\n",
            "        B-discipline       0.00      0.00      0.00        73\n",
            "            B-enzyme       0.00      0.00      0.00        80\n",
            "             B-event       0.00      0.00      0.00        31\n",
            "          B-location       0.00      0.00      0.00       170\n",
            "              B-misc       0.02      0.01      0.01       520\n",
            "      B-organisation       0.00      0.00      0.00       273\n",
            "            B-person       0.00      0.00      0.00       230\n",
            "           B-protein       0.00      0.00      0.00       156\n",
            "         B-scientist       0.03      0.00      0.01       471\n",
            "            B-theory       0.00      0.00      0.00        20\n",
            "        B-university       0.00      0.00      0.00       130\n",
            "   I-academicjournal       0.00      0.00      0.00       367\n",
            "I-astronomicalobject       0.00      0.00      0.00       106\n",
            "             I-award       0.00      0.00      0.00       473\n",
            "  I-chemicalcompound       0.00      0.00      0.00        76\n",
            "   I-chemicalelement       0.00      0.00      0.00        15\n",
            "           I-country       0.00      0.00      0.00         4\n",
            "        I-discipline       0.00      0.00      0.00        28\n",
            "            I-enzyme       0.00      0.00      0.00        77\n",
            "             I-event       0.00      0.00      0.00        80\n",
            "          I-location       0.00      0.00      0.00       187\n",
            "              I-misc       0.00      0.00      0.00       434\n",
            "      I-organisation       0.01      0.10      0.01       598\n",
            "            I-person       0.00      0.00      0.00       221\n",
            "           I-protein       0.00      0.00      0.00       117\n",
            "         I-scientist       0.02      0.00      0.01       515\n",
            "            I-theory       0.00      0.00      0.00        35\n",
            "        I-university       0.00      0.00      0.00       292\n",
            "                   O       0.83      0.76      0.79     36726\n",
            "\n",
            "            accuracy                           0.64     43440\n",
            "           macro avg       0.03      0.03      0.02     43440\n",
            "        weighted avg       0.70      0.64      0.67     43440\n",
            "\n"
          ]
        },
        {
          "output_type": "stream",
          "name": "stderr",
          "text": [
            "/usr/local/lib/python3.7/dist-packages/sklearn/metrics/_classification.py:1308: UndefinedMetricWarning: Precision and F-score are ill-defined and being set to 0.0 in labels with no predicted samples. Use `zero_division` parameter to control this behavior.\n",
            "  _warn_prf(average, modifier, msg_start, len(result))\n"
          ]
        }
      ]
    },
    {
      "cell_type": "code",
      "source": [
        "rp1 = report(BiLSTMCNN_s, x_test_s, y_test_s, tags_s)\n",
        "print(rp1)"
      ],
      "metadata": {
        "colab": {
          "base_uri": "https://localhost:8080/"
        },
        "id": "oG60eLysCHIP",
        "outputId": "0f5a40c2-1da2-47c6-e6ac-59a8d3470ff6"
      },
      "execution_count": null,
      "outputs": [
        {
          "output_type": "stream",
          "name": "stderr",
          "text": [
            "/usr/local/lib/python3.7/dist-packages/sklearn/metrics/_classification.py:1308: UndefinedMetricWarning: Precision and F-score are ill-defined and being set to 0.0 in labels with no predicted samples. Use `zero_division` parameter to control this behavior.\n",
            "  _warn_prf(average, modifier, msg_start, len(result))\n"
          ]
        },
        {
          "output_type": "stream",
          "name": "stdout",
          "text": [
            "                      precision    recall  f1-score   support\n",
            "\n",
            "   B-academicjournal       0.00      0.00      0.00       180\n",
            "B-astronomicalobject       0.00      0.00      0.00       337\n",
            "             B-award       0.00      0.00      0.00       146\n",
            "  B-chemicalcompound       0.00      0.00      0.00       160\n",
            "   B-chemicalelement       0.00      0.00      0.00        85\n",
            "           B-country       0.00      0.00      0.00        27\n",
            "        B-discipline       0.00      0.00      0.00        73\n",
            "            B-enzyme       0.00      0.00      0.00        80\n",
            "             B-event       0.00      0.00      0.00        31\n",
            "          B-location       0.00      0.00      0.00       170\n",
            "              B-misc       0.00      0.00      0.00       520\n",
            "      B-organisation       0.01      0.01      0.01       273\n",
            "            B-person       0.01      0.00      0.01       230\n",
            "           B-protein       0.00      0.00      0.00       156\n",
            "         B-scientist       0.03      0.05      0.04       471\n",
            "            B-theory       0.00      0.00      0.00        20\n",
            "        B-university       0.00      0.00      0.00       130\n",
            "   I-academicjournal       0.00      0.00      0.00       367\n",
            "I-astronomicalobject       0.00      0.00      0.00       106\n",
            "             I-award       0.02      0.03      0.03       473\n",
            "  I-chemicalcompound       0.00      0.00      0.00        76\n",
            "   I-chemicalelement       0.00      0.00      0.00        15\n",
            "           I-country       0.00      0.00      0.00         4\n",
            "        I-discipline       0.00      0.00      0.00        28\n",
            "            I-enzyme       0.00      0.00      0.00        77\n",
            "             I-event       0.00      0.00      0.00        80\n",
            "          I-location       0.00      0.00      0.00       187\n",
            "              I-misc       0.00      0.00      0.00       434\n",
            "      I-organisation       0.01      0.03      0.01       598\n",
            "            I-person       0.05      0.02      0.03       221\n",
            "           I-protein       0.00      0.00      0.00       117\n",
            "         I-scientist       0.02      0.14      0.04       515\n",
            "            I-theory       0.00      0.00      0.00        35\n",
            "        I-university       0.00      0.00      0.00       292\n",
            "                   O       0.86      0.84      0.85     36726\n",
            "\n",
            "            accuracy                           0.71     43440\n",
            "           macro avg       0.03      0.03      0.03     43440\n",
            "        weighted avg       0.73      0.71      0.72     43440\n",
            "\n"
          ]
        },
        {
          "output_type": "stream",
          "name": "stderr",
          "text": [
            "/usr/local/lib/python3.7/dist-packages/sklearn/metrics/_classification.py:1308: UndefinedMetricWarning: Precision and F-score are ill-defined and being set to 0.0 in labels with no predicted samples. Use `zero_division` parameter to control this behavior.\n",
            "  _warn_prf(average, modifier, msg_start, len(result))\n",
            "/usr/local/lib/python3.7/dist-packages/sklearn/metrics/_classification.py:1308: UndefinedMetricWarning: Precision and F-score are ill-defined and being set to 0.0 in labels with no predicted samples. Use `zero_division` parameter to control this behavior.\n",
            "  _warn_prf(average, modifier, msg_start, len(result))\n"
          ]
        }
      ]
    },
    {
      "cell_type": "code",
      "source": [
        "rp1 = report(BiGRU_s, x_test_s, y_test_s, tags_s)\n",
        "print(rp1)"
      ],
      "metadata": {
        "colab": {
          "base_uri": "https://localhost:8080/"
        },
        "id": "bqlnybVMCM6g",
        "outputId": "07a2eb52-38f6-431c-a80a-f71aa25db069"
      },
      "execution_count": null,
      "outputs": [
        {
          "output_type": "stream",
          "name": "stderr",
          "text": [
            "/usr/local/lib/python3.7/dist-packages/sklearn/metrics/_classification.py:1308: UndefinedMetricWarning: Precision and F-score are ill-defined and being set to 0.0 in labels with no predicted samples. Use `zero_division` parameter to control this behavior.\n",
            "  _warn_prf(average, modifier, msg_start, len(result))\n",
            "/usr/local/lib/python3.7/dist-packages/sklearn/metrics/_classification.py:1308: UndefinedMetricWarning: Precision and F-score are ill-defined and being set to 0.0 in labels with no predicted samples. Use `zero_division` parameter to control this behavior.\n",
            "  _warn_prf(average, modifier, msg_start, len(result))\n"
          ]
        },
        {
          "output_type": "stream",
          "name": "stdout",
          "text": [
            "                      precision    recall  f1-score   support\n",
            "\n",
            "   B-academicjournal       0.00      0.00      0.00       180\n",
            "B-astronomicalobject       0.00      0.00      0.00       337\n",
            "             B-award       0.00      0.00      0.00       146\n",
            "  B-chemicalcompound       0.00      0.00      0.00       160\n",
            "   B-chemicalelement       0.00      0.00      0.00        85\n",
            "           B-country       0.00      0.00      0.00        27\n",
            "        B-discipline       0.00      0.00      0.00        73\n",
            "            B-enzyme       0.00      0.00      0.00        80\n",
            "             B-event       0.00      0.00      0.00        31\n",
            "          B-location       0.00      0.00      0.00       170\n",
            "              B-misc       0.03      0.02      0.03       520\n",
            "      B-organisation       0.02      0.06      0.02       273\n",
            "            B-person       0.12      0.00      0.01       230\n",
            "           B-protein       0.00      0.00      0.00       156\n",
            "         B-scientist       0.01      0.01      0.01       471\n",
            "            B-theory       0.00      0.00      0.00        20\n",
            "        B-university       0.02      0.02      0.02       130\n",
            "   I-academicjournal       0.00      0.00      0.00       367\n",
            "I-astronomicalobject       0.00      0.00      0.00       106\n",
            "             I-award       0.02      0.01      0.02       473\n",
            "  I-chemicalcompound       0.00      0.00      0.00        76\n",
            "   I-chemicalelement       0.00      0.00      0.00        15\n",
            "           I-country       0.00      0.00      0.00         4\n",
            "        I-discipline       0.00      0.00      0.00        28\n",
            "            I-enzyme       0.00      0.00      0.00        77\n",
            "             I-event       0.00      0.00      0.00        80\n",
            "          I-location       0.00      0.00      0.00       187\n",
            "              I-misc       0.03      0.06      0.04       434\n",
            "      I-organisation       0.02      0.15      0.04       598\n",
            "            I-person       0.00      0.00      0.00       221\n",
            "           I-protein       0.00      0.00      0.00       117\n",
            "         I-scientist       0.02      0.01      0.01       515\n",
            "            I-theory       0.00      0.00      0.00        35\n",
            "        I-university       0.02      0.00      0.01       292\n",
            "                   O       0.88      0.86      0.87     36726\n",
            "\n",
            "            accuracy                           0.73     43440\n",
            "           macro avg       0.03      0.03      0.03     43440\n",
            "        weighted avg       0.75      0.73      0.74     43440\n",
            "\n"
          ]
        },
        {
          "output_type": "stream",
          "name": "stderr",
          "text": [
            "/usr/local/lib/python3.7/dist-packages/sklearn/metrics/_classification.py:1308: UndefinedMetricWarning: Precision and F-score are ill-defined and being set to 0.0 in labels with no predicted samples. Use `zero_division` parameter to control this behavior.\n",
            "  _warn_prf(average, modifier, msg_start, len(result))\n"
          ]
        }
      ]
    },
    {
      "cell_type": "code",
      "source": [
        "rp1 = report(BiGRUCNN_s, x_test_s, y_test_s, tags_s)\n",
        "print(rp1)"
      ],
      "metadata": {
        "id": "SRK-tjt1CTbp",
        "outputId": "a95bc915-f1d8-478d-9cdc-91f1797c2958",
        "colab": {
          "base_uri": "https://localhost:8080/"
        }
      },
      "execution_count": null,
      "outputs": [
        {
          "output_type": "stream",
          "name": "stderr",
          "text": [
            "/usr/local/lib/python3.7/dist-packages/sklearn/metrics/_classification.py:1308: UndefinedMetricWarning: Precision and F-score are ill-defined and being set to 0.0 in labels with no predicted samples. Use `zero_division` parameter to control this behavior.\n",
            "  _warn_prf(average, modifier, msg_start, len(result))\n",
            "/usr/local/lib/python3.7/dist-packages/sklearn/metrics/_classification.py:1308: UndefinedMetricWarning: Precision and F-score are ill-defined and being set to 0.0 in labels with no predicted samples. Use `zero_division` parameter to control this behavior.\n",
            "  _warn_prf(average, modifier, msg_start, len(result))\n"
          ]
        },
        {
          "output_type": "stream",
          "name": "stdout",
          "text": [
            "                      precision    recall  f1-score   support\n",
            "\n",
            "   B-academicjournal       0.00      0.00      0.00       180\n",
            "B-astronomicalobject       0.05      0.01      0.02       337\n",
            "             B-award       0.00      0.00      0.00       146\n",
            "  B-chemicalcompound       0.00      0.00      0.00       160\n",
            "   B-chemicalelement       0.00      0.00      0.00        85\n",
            "           B-country       0.00      0.00      0.00        27\n",
            "        B-discipline       0.00      0.00      0.00        73\n",
            "            B-enzyme       0.09      0.03      0.04        80\n",
            "             B-event       0.00      0.00      0.00        31\n",
            "          B-location       0.01      0.01      0.01       170\n",
            "              B-misc       0.03      0.03      0.03       520\n",
            "      B-organisation       0.01      0.01      0.01       273\n",
            "            B-person       0.03      0.01      0.01       230\n",
            "           B-protein       0.00      0.00      0.00       156\n",
            "         B-scientist       0.05      0.07      0.06       471\n",
            "            B-theory       0.00      0.00      0.00        20\n",
            "        B-university       0.00      0.00      0.00       130\n",
            "   I-academicjournal       0.02      0.01      0.01       367\n",
            "I-astronomicalobject       0.00      0.00      0.00       106\n",
            "             I-award       0.02      0.02      0.02       473\n",
            "  I-chemicalcompound       0.00      0.00      0.00        76\n",
            "   I-chemicalelement       0.00      0.00      0.00        15\n",
            "           I-country       0.00      0.00      0.00         4\n",
            "        I-discipline       0.00      0.00      0.00        28\n",
            "            I-enzyme       0.00      0.00      0.00        77\n",
            "             I-event       0.00      0.00      0.00        80\n",
            "          I-location       0.00      0.00      0.00       187\n",
            "              I-misc       0.02      0.12      0.03       434\n",
            "      I-organisation       0.02      0.03      0.02       598\n",
            "            I-person       0.08      0.01      0.02       221\n",
            "           I-protein       0.00      0.00      0.00       117\n",
            "         I-scientist       0.04      0.07      0.05       515\n",
            "            I-theory       0.00      0.00      0.00        35\n",
            "        I-university       0.01      0.02      0.01       292\n",
            "                   O       0.88      0.83      0.86     36726\n",
            "\n",
            "            accuracy                           0.70     43440\n",
            "           macro avg       0.04      0.04      0.03     43440\n",
            "        weighted avg       0.75      0.70      0.73     43440\n",
            "\n"
          ]
        },
        {
          "output_type": "stream",
          "name": "stderr",
          "text": [
            "/usr/local/lib/python3.7/dist-packages/sklearn/metrics/_classification.py:1308: UndefinedMetricWarning: Precision and F-score are ill-defined and being set to 0.0 in labels with no predicted samples. Use `zero_division` parameter to control this behavior.\n",
            "  _warn_prf(average, modifier, msg_start, len(result))\n"
          ]
        }
      ]
    },
    {
      "cell_type": "markdown",
      "source": [
        "##Kết quả dự đoán"
      ],
      "metadata": {
        "id": "hlJF5R-Xldi8"
      }
    },
    {
      "cell_type": "code",
      "source": [
        "def predict(model, x_test, y_test, words, tags):\n",
        "  i = np.random.randint(0, x_test.shape[0])\n",
        "  p = model.predict(np.array([x_test[i]]))\n",
        "  p = np.argmax(p, axis=-1)\n",
        "  y_true = y_test[i]\n",
        "  print(\"{:15}{:5}\\t {}\\n\".format(\"Word\", \"True\", \"Pred\"))\n",
        "  print(\"-\" *30)\n",
        "  for w, true, pred in zip(x_test[i], y_true, p[0]):\n",
        "    print(\"{:15}{}\\t{}\".format(words[w-1], tags[true], tags[pred]))"
      ],
      "metadata": {
        "id": "MQKaDp7v9k7e"
      },
      "execution_count": null,
      "outputs": []
    },
    {
      "cell_type": "code",
      "source": [
        "predict(BiLSTM_a, x_test_a, y_test_a, words_a, tags_a)"
      ],
      "metadata": {
        "id": "1uL7PiA6fuwJ"
      },
      "execution_count": null,
      "outputs": []
    }
  ]
}