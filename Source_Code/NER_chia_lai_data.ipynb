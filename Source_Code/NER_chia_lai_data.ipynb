{
  "nbformat": 4,
  "nbformat_minor": 0,
  "metadata": {
    "colab": {
      "name": "NER_chia_lai_data.ipynb",
      "provenance": [],
      "collapsed_sections": [],
      "toc_visible": true
    },
    "kernelspec": {
      "name": "python3",
      "display_name": "Python 3"
    },
    "language_info": {
      "name": "python"
    }
  },
  "cells": [
    {
      "cell_type": "markdown",
      "source": [
        "##Load bộ dữ liệu"
      ],
      "metadata": {
        "id": "AEgsFr9oftdm"
      }
    },
    {
      "cell_type": "code",
      "execution_count": null,
      "metadata": {
        "colab": {
          "base_uri": "https://localhost:8080/"
        },
        "id": "yDEw-OyfKx6p",
        "outputId": "1d3d8952-9da9-4319-a587-f386a8908469"
      },
      "outputs": [
        {
          "output_type": "stream",
          "name": "stdout",
          "text": [
            "Cloning into 'CrossNER'...\n",
            "remote: Enumerating objects: 172, done.\u001b[K\n",
            "remote: Counting objects: 100% (8/8), done.\u001b[K\n",
            "remote: Compressing objects: 100% (6/6), done.\u001b[K\n",
            "remote: Total 172 (delta 2), reused 2 (delta 2), pack-reused 164\u001b[K\n",
            "Receiving objects: 100% (172/172), 2.30 MiB | 16.33 MiB/s, done.\n",
            "Resolving deltas: 100% (77/77), done.\n",
            "/content/CrossNER\n"
          ]
        }
      ],
      "source": [
        "!git clone https://github.com/zliucr/CrossNER.git\n",
        "%cd /content/CrossNER"
      ]
    },
    {
      "cell_type": "markdown",
      "source": [
        "##Import modules, thư viện"
      ],
      "metadata": {
        "id": "wIAlMfagfo1k"
      }
    },
    {
      "cell_type": "code",
      "source": [
        "%matplotlib inline\n",
        "import matplotlib.pyplot as plt\n",
        "from io import BytesIO\n",
        "import pandas as pd\n",
        "import numpy as np\n",
        "import requests\n",
        "np.random.seed(0)\n",
        "plt.style.use(\"ggplot\")\n",
        "import tensorflow as tf"
      ],
      "metadata": {
        "id": "6dPQCxupK1ry"
      },
      "execution_count": null,
      "outputs": []
    },
    {
      "cell_type": "markdown",
      "source": [
        "##Lấy các thẻ, ánh xạ dữ liệu,..."
      ],
      "metadata": {
        "id": "vF2J8vWSgWkt"
      }
    },
    {
      "cell_type": "code",
      "source": [
        "def read_file(in_file_list):\n",
        "  sentence,wt,word,tag = [],[],[],[]\n",
        "  for in_file in in_file_list:\n",
        "    with open(in_file) as f:\n",
        "        for line in f.readlines():\n",
        "            sp = line.strip().split('\\n\\n')\n",
        "            word_tag = tuple(sp[0].split(\"\\t\"))\n",
        "            if len(word_tag) > 1:\n",
        "              word.append(word_tag[0])\n",
        "              tag.append(word_tag[1])\n",
        "              wt.append(tuple(word_tag))\n",
        "            else:\n",
        "              sentence.append(wt)\n",
        "              wt = []\n",
        "  word = list(set(word))\n",
        "  word.append(\"ENDPAD\")\n",
        "  tag = list(set(tag))\n",
        "  return sentence,word,tag\n",
        "in_file_list_m = [\"./ner_data/music/train.txt\",\"./ner_data/music/test.txt\",\"./ner_data/music/dev.txt\"]\n",
        "in_file_list_a = [\"./ner_data/ai/train.txt\",\"./ner_data/ai/test.txt\",\"./ner_data/ai/dev.txt\"]\n",
        "in_file_list_p = [\"./ner_data/politics/train.txt\",\"./ner_data/politics/test.txt\",\"./ner_data/politics/dev.txt\"]\n",
        "in_file_list_l = [\"./ner_data/literature/train.txt\",\"./ner_data/literature/test.txt\",\"./ner_data/literature/dev.txt\"]\n",
        "in_file_list_s = [\"./ner_data/science/train.txt\",\"./ner_data/science/test.txt\",\"./ner_data/science/dev.txt\"]\n",
        "sentence_m,words_m,tags_m = read_file(in_file_list_m)\n",
        "sentence_a,words_a,tags_a = read_file(in_file_list_a)\n",
        "sentence_p,words_p,tags_p = read_file(in_file_list_p)\n",
        "sentence_l,words_l,tags_l = read_file(in_file_list_l)\n",
        "sentence_s,words_s,tags_s = read_file(in_file_list_s)"
      ],
      "metadata": {
        "id": "HSTFeDzyK5_3"
      },
      "execution_count": null,
      "outputs": []
    },
    {
      "cell_type": "code",
      "source": [
        "num_words_m = len(words_m)\n",
        "num_words_a = len(words_a)\n",
        "num_words_p = len(words_p)\n",
        "num_words_l = len(words_l)\n",
        "num_words_s = len(words_s)\n",
        "num_tags_m = len(tags_m)\n",
        "num_tags_a = len(tags_a)\n",
        "num_tags_p = len(tags_p)\n",
        "num_tags_l = len(tags_l)\n",
        "num_tags_s = len(tags_s)"
      ],
      "metadata": {
        "id": "HO5kYRGtK_nL"
      },
      "execution_count": null,
      "outputs": []
    },
    {
      "cell_type": "code",
      "source": [
        "word2idx_m = {w: i + 1 for i, w in enumerate(words_m)}\n",
        "word2idx_a = {w: i + 1 for i, w in enumerate(words_a)}\n",
        "word2idx_p = {w: i + 1 for i, w in enumerate(words_p)}\n",
        "word2idx_l = {w: i + 1 for i, w in enumerate(words_l)}\n",
        "word2idx_s = {w: i + 1 for i, w in enumerate(words_s)}\n",
        "tag2idx_m = {t: i for i, t in enumerate(tags_m)}\n",
        "tag2idx_a = {t: i for i, t in enumerate(tags_a)}\n",
        "tag2idx_p = {t: i for i, t in enumerate(tags_p)}\n",
        "tag2idx_l = {t: i for i, t in enumerate(tags_l)}\n",
        "tag2idx_s = {t: i for i, t in enumerate(tags_s)}"
      ],
      "metadata": {
        "id": "5qGbAKrOLAmv"
      },
      "execution_count": null,
      "outputs": []
    },
    {
      "cell_type": "code",
      "source": [
        "from tensorflow.keras.preprocessing.sequence import pad_sequences\n",
        "max_len = 100\n",
        "def ToSequence(sentences,max_len,num_words,num_tags,word2idx,tag2idx):\n",
        "  X = [[word2idx[w[0]] for w in s] for s in sentences]\n",
        "  X = pad_sequences(maxlen=max_len, sequences=X, padding=\"post\", value=num_words-1)\n",
        "  y = [[tag2idx[w[1]] for w in s] for s in sentences]\n",
        "  y = pad_sequences(maxlen=max_len, sequences=y, padding=\"post\", value=tag2idx[\"O\"])\n",
        "  return X,y\n",
        "X_m,y_m = ToSequence(sentence_m,max_len,num_words_m,num_tags_m,word2idx_m,tag2idx_m)\n",
        "X_a,y_a = ToSequence(sentence_a,max_len,num_words_a,num_tags_a,word2idx_a,tag2idx_a)\n",
        "X_p,y_p = ToSequence(sentence_p,max_len,num_words_p,num_tags_p,word2idx_p,tag2idx_p)\n",
        "X_l,y_l = ToSequence(sentence_l,max_len,num_words_l,num_tags_l,word2idx_l,tag2idx_l)\n",
        "X_s,y_s = ToSequence(sentence_s,max_len,num_words_s,num_tags_s,word2idx_s,tag2idx_s)"
      ],
      "metadata": {
        "id": "tizyIUgtLDGo"
      },
      "execution_count": null,
      "outputs": []
    },
    {
      "cell_type": "markdown",
      "source": [
        "##Chia lại tập train, test"
      ],
      "metadata": {
        "id": "uYt5B5GKgoIA"
      }
    },
    {
      "cell_type": "code",
      "source": [
        "from sklearn.model_selection import train_test_split\n",
        "x_train_m, x_test_m, y_train_m, y_test_m = train_test_split(X_m, y_m, test_size=0.05, random_state=1)\n",
        "x_train_a, x_test_a, y_train_a, y_test_a = train_test_split(X_a, y_a, test_size=0.05, random_state=1)\n",
        "x_train_p, x_test_p, y_train_p, y_test_p = train_test_split(X_p, y_p, test_size=0.05, random_state=1)\n",
        "x_train_l, x_test_l, y_train_l, y_test_l = train_test_split(X_l, y_l, test_size=0.05, random_state=1)\n",
        "x_train_s, x_test_s, y_train_s, y_test_s = train_test_split(X_s, y_s, test_size=0.05, random_state=1)"
      ],
      "metadata": {
        "id": "TUC2QXW_LHHK"
      },
      "execution_count": null,
      "outputs": []
    },
    {
      "cell_type": "markdown",
      "source": [
        "##Xây dựng mô hình"
      ],
      "metadata": {
        "id": "Al8nmojegtsZ"
      }
    },
    {
      "cell_type": "code",
      "source": [
        "from tensorflow.keras import Model, Input\n",
        "from tensorflow.keras.layers import LSTM, Embedding, Dense,GRU,Conv1D\n",
        "from tensorflow.keras.layers import TimeDistributed, SpatialDropout1D, Bidirectional\n",
        "from tensorflow.keras.optimizers import Adam"
      ],
      "metadata": {
        "id": "sO9IbGLlLZpU"
      },
      "execution_count": null,
      "outputs": []
    },
    {
      "cell_type": "code",
      "source": [
        "def Bi_LSTM(num_words,num_tags,max_len):\n",
        "  input_word = Input(shape=(max_len,))\n",
        "  model = Embedding(input_dim=num_words, output_dim=max_len, input_length=max_len)(input_word)\n",
        "  model = SpatialDropout1D(0.1)(model)\n",
        "  model = Bidirectional(LSTM(units=100, return_sequences=True, recurrent_dropout=0.1))(model)\n",
        "  out = TimeDistributed(Dense(num_tags, activation=\"softmax\"))(model)\n",
        "  model = Model(input_word, out)\n",
        "  model.compile(optimizer=Adam(lr = 2e-4),\n",
        "              loss=\"sparse_categorical_crossentropy\",\n",
        "              metrics=[\"accuracy\"])\n",
        "  model.summary()\n",
        "  return model\n",
        "def Bi_GRU(num_words,num_tags,max_len):\n",
        "  input_word = Input(shape=(max_len,))\n",
        "  model = Embedding(input_dim=num_words, output_dim=max_len, input_length=max_len)(input_word)\n",
        "  model = SpatialDropout1D(0.1)(model)\n",
        "  model = Bidirectional(GRU(units=100, return_sequences=True, recurrent_dropout=0.1))(model)\n",
        "  out = TimeDistributed(Dense(num_tags, activation=\"softmax\"))(model)\n",
        "  model = Model(input_word, out)\n",
        "  model.compile(optimizer=Adam(lr = 2e-4),\n",
        "              loss=\"sparse_categorical_crossentropy\",\n",
        "              metrics=[\"accuracy\"])\n",
        "  model.summary()\n",
        "  return model\n",
        "def Bi_LSTM_CNN(num_words,num_tags,max_len):\n",
        "  input_word = Input(shape=(max_len,))\n",
        "  model = Embedding(input_dim=num_words, output_dim=max_len, input_length=max_len)(input_word)\n",
        "  model = SpatialDropout1D(0.1)(model)\n",
        "  model = Bidirectional(LSTM(units=100, return_sequences=True, recurrent_dropout=0.1))(model)\n",
        "  model = Conv1D(200,3,padding = \"same\",activation = \"relu\")(model)\n",
        "  model = Conv1D(200,4,padding = \"same\",activation = \"relu\")(model)\n",
        "  model = Conv1D(200,5,padding = \"same\",activation = \"relu\")(model)\n",
        "  out = TimeDistributed(Dense(num_tags, activation=\"softmax\"))(model)\n",
        "  model = Model(input_word, out)\n",
        "  model.compile(optimizer=Adam(lr = 2e-4),\n",
        "              loss=\"sparse_categorical_crossentropy\",\n",
        "              metrics=[\"accuracy\"])\n",
        "  model.summary()\n",
        "  return model\n",
        "def Bi_GRU_CNN(num_words,num_tags,max_len):\n",
        "  input_word = Input(shape=(max_len,))\n",
        "  model = Embedding(input_dim=num_words, output_dim=max_len, input_length=max_len)(input_word)\n",
        "  model = SpatialDropout1D(0.1)(model)\n",
        "  model = Bidirectional(GRU(units=100, return_sequences=True, recurrent_dropout=0.1))(model)\n",
        "  model = Conv1D(200,3,padding = \"same\",activation = \"relu\")(model)\n",
        "  model = Conv1D(200,4,padding = \"same\",activation = \"relu\")(model)\n",
        "  model = Conv1D(200,5,padding = \"same\",activation = \"relu\")(model)\n",
        "  out = TimeDistributed(Dense(num_tags, activation=\"softmax\"))(model)\n",
        "  model = Model(input_word, out)\n",
        "  model.compile(optimizer=Adam(lr = 2e-4),\n",
        "              loss=\"sparse_categorical_crossentropy\",\n",
        "              metrics=[\"accuracy\"])\n",
        "  model.summary()\n",
        "  return model"
      ],
      "metadata": {
        "id": "4PI2QKMzLdf2"
      },
      "execution_count": null,
      "outputs": []
    },
    {
      "cell_type": "markdown",
      "source": [
        "##Training trên bộ AI"
      ],
      "metadata": {
        "id": "HS1AMjINg0LF"
      }
    },
    {
      "cell_type": "code",
      "source": [
        "BiLSTM_a = Bi_LSTM(num_words_a,num_tags_a,max_len)\n",
        "BiGRU_a = Bi_GRU(num_words_a,num_tags_a,max_len)\n",
        "BiLSTMCNN_a = Bi_LSTM_CNN(num_words_a,num_tags_a,max_len)\n",
        "BiGRUCNN_a = Bi_GRU_CNN(num_words_a,num_tags_a,max_len)\n",
        "history1_a = BiLSTM_a.fit(\n",
        "    x=x_train_a,\n",
        "    y=y_train_a,\n",
        "    validation_split= 0.05,\n",
        "    batch_size= 8, \n",
        "    epochs=10,\n",
        "    verbose=1\n",
        ")\n",
        "history1_a = BiLSTM_a.fit(\n",
        "    x=x_train_a,\n",
        "    y=y_train_a,\n",
        "    validation_split= 0.05,\n",
        "    batch_size= 8, \n",
        "    epochs=10,\n",
        "    verbose=1\n",
        ")\n",
        "history2_a = BiGRU_a.fit(\n",
        "    x=x_train_a,\n",
        "    y=y_train_a,\n",
        "    validation_split= 0.05,\n",
        "    batch_size= 8, \n",
        "    epochs=10,\n",
        "    verbose=1\n",
        ")\n",
        "history3_a = BiLSTMCNN_a.fit(\n",
        "    x=x_train_a,\n",
        "    y=y_train_a,\n",
        "    validation_split= 0.05,\n",
        "    batch_size= 8, \n",
        "    epochs=10,\n",
        "    verbose=1\n",
        ")\n",
        "history4_a = BiGRUCNN_a.fit(\n",
        "    x=x_train_a,\n",
        "    y=y_train_a,\n",
        "    validation_split= 0.05,\n",
        "    batch_size= 8, \n",
        "    epochs=10,\n",
        "    verbose=1\n",
        ")"
      ],
      "metadata": {
        "colab": {
          "base_uri": "https://localhost:8080/"
        },
        "id": "jBySmuoOLkcv",
        "outputId": "a0b145a1-5b47-47ab-cce2-bcbe599cefe5"
      },
      "execution_count": null,
      "outputs": [
        {
          "output_type": "stream",
          "name": "stderr",
          "text": [
            "/usr/local/lib/python3.7/dist-packages/keras/optimizer_v2/adam.py:105: UserWarning: The `lr` argument is deprecated, use `learning_rate` instead.\n",
            "  super(Adam, self).__init__(name, **kwargs)\n"
          ]
        },
        {
          "output_type": "stream",
          "name": "stdout",
          "text": [
            "Model: \"model_37\"\n",
            "_________________________________________________________________\n",
            " Layer (type)                Output Shape              Param #   \n",
            "=================================================================\n",
            " input_38 (InputLayer)       [(None, 100)]             0         \n",
            "                                                                 \n",
            " embedding_37 (Embedding)    (None, 100, 100)          558800    \n",
            "                                                                 \n",
            " spatial_dropout1d_37 (Spati  (None, 100, 100)         0         \n",
            " alDropout1D)                                                    \n",
            "                                                                 \n",
            " bidirectional_37 (Bidirecti  (None, 100, 200)         160800    \n",
            " onal)                                                           \n",
            "                                                                 \n",
            " time_distributed_37 (TimeDi  (None, 100, 29)          5829      \n",
            " stributed)                                                      \n",
            "                                                                 \n",
            "=================================================================\n",
            "Total params: 725,429\n",
            "Trainable params: 725,429\n",
            "Non-trainable params: 0\n",
            "_________________________________________________________________\n",
            "Model: \"model_38\"\n",
            "_________________________________________________________________\n",
            " Layer (type)                Output Shape              Param #   \n",
            "=================================================================\n",
            " input_39 (InputLayer)       [(None, 100)]             0         \n",
            "                                                                 \n",
            " embedding_38 (Embedding)    (None, 100, 100)          558800    \n",
            "                                                                 \n",
            " spatial_dropout1d_38 (Spati  (None, 100, 100)         0         \n",
            " alDropout1D)                                                    \n",
            "                                                                 \n",
            " bidirectional_38 (Bidirecti  (None, 100, 200)         121200    \n",
            " onal)                                                           \n",
            "                                                                 \n",
            " time_distributed_38 (TimeDi  (None, 100, 29)          5829      \n",
            " stributed)                                                      \n",
            "                                                                 \n",
            "=================================================================\n",
            "Total params: 685,829\n",
            "Trainable params: 685,829\n",
            "Non-trainable params: 0\n",
            "_________________________________________________________________\n",
            "Model: \"model_39\"\n",
            "_________________________________________________________________\n",
            " Layer (type)                Output Shape              Param #   \n",
            "=================================================================\n",
            " input_40 (InputLayer)       [(None, 100)]             0         \n",
            "                                                                 \n",
            " embedding_39 (Embedding)    (None, 100, 100)          558800    \n",
            "                                                                 \n",
            " spatial_dropout1d_39 (Spati  (None, 100, 100)         0         \n",
            " alDropout1D)                                                    \n",
            "                                                                 \n",
            " bidirectional_39 (Bidirecti  (None, 100, 200)         160800    \n",
            " onal)                                                           \n",
            "                                                                 \n",
            " conv1d_54 (Conv1D)          (None, 100, 200)          120200    \n",
            "                                                                 \n",
            " conv1d_55 (Conv1D)          (None, 100, 200)          160200    \n",
            "                                                                 \n",
            " conv1d_56 (Conv1D)          (None, 100, 200)          200200    \n",
            "                                                                 \n",
            " time_distributed_39 (TimeDi  (None, 100, 29)          5829      \n",
            " stributed)                                                      \n",
            "                                                                 \n",
            "=================================================================\n",
            "Total params: 1,206,029\n",
            "Trainable params: 1,206,029\n",
            "Non-trainable params: 0\n",
            "_________________________________________________________________\n",
            "Model: \"model_40\"\n",
            "_________________________________________________________________\n",
            " Layer (type)                Output Shape              Param #   \n",
            "=================================================================\n",
            " input_41 (InputLayer)       [(None, 100)]             0         \n",
            "                                                                 \n",
            " embedding_40 (Embedding)    (None, 100, 100)          558800    \n",
            "                                                                 \n",
            " spatial_dropout1d_40 (Spati  (None, 100, 100)         0         \n",
            " alDropout1D)                                                    \n",
            "                                                                 \n",
            " bidirectional_40 (Bidirecti  (None, 100, 200)         121200    \n",
            " onal)                                                           \n",
            "                                                                 \n",
            " conv1d_57 (Conv1D)          (None, 100, 200)          120200    \n",
            "                                                                 \n",
            " conv1d_58 (Conv1D)          (None, 100, 200)          160200    \n",
            "                                                                 \n",
            " conv1d_59 (Conv1D)          (None, 100, 200)          200200    \n",
            "                                                                 \n",
            " time_distributed_40 (TimeDi  (None, 100, 29)          5829      \n",
            " stributed)                                                      \n",
            "                                                                 \n",
            "=================================================================\n",
            "Total params: 1,166,429\n",
            "Trainable params: 1,166,429\n",
            "Non-trainable params: 0\n",
            "_________________________________________________________________\n",
            "Epoch 1/10\n",
            "100/100 [==============================] - 37s 325ms/step - loss: 1.5317 - accuracy: 0.8635 - val_loss: 0.4815 - val_accuracy: 0.9164\n",
            "Epoch 2/10\n",
            "100/100 [==============================] - 32s 317ms/step - loss: 0.5171 - accuracy: 0.9047 - val_loss: 0.4516 - val_accuracy: 0.9164\n",
            "Epoch 3/10\n",
            "100/100 [==============================] - 32s 318ms/step - loss: 0.5003 - accuracy: 0.9047 - val_loss: 0.4430 - val_accuracy: 0.9164\n",
            "Epoch 4/10\n",
            "100/100 [==============================] - 32s 315ms/step - loss: 0.4900 - accuracy: 0.9047 - val_loss: 0.4370 - val_accuracy: 0.9164\n",
            "Epoch 5/10\n",
            "100/100 [==============================] - 32s 318ms/step - loss: 0.4807 - accuracy: 0.9047 - val_loss: 0.4278 - val_accuracy: 0.9164\n",
            "Epoch 6/10\n",
            "100/100 [==============================] - 32s 317ms/step - loss: 0.4690 - accuracy: 0.9047 - val_loss: 0.4183 - val_accuracy: 0.9164\n",
            "Epoch 7/10\n",
            "100/100 [==============================] - 32s 317ms/step - loss: 0.4537 - accuracy: 0.9047 - val_loss: 0.4074 - val_accuracy: 0.9164\n",
            "Epoch 8/10\n",
            "100/100 [==============================] - 32s 318ms/step - loss: 0.4350 - accuracy: 0.9047 - val_loss: 0.3907 - val_accuracy: 0.9164\n",
            "Epoch 9/10\n",
            "100/100 [==============================] - 32s 322ms/step - loss: 0.4122 - accuracy: 0.9047 - val_loss: 0.3745 - val_accuracy: 0.9164\n",
            "Epoch 10/10\n",
            "100/100 [==============================] - 32s 319ms/step - loss: 0.3894 - accuracy: 0.9051 - val_loss: 0.3595 - val_accuracy: 0.9164\n",
            "Epoch 1/10\n",
            "100/100 [==============================] - 32s 321ms/step - loss: 0.3682 - accuracy: 0.9064 - val_loss: 0.3470 - val_accuracy: 0.9164\n",
            "Epoch 2/10\n",
            "100/100 [==============================] - 32s 318ms/step - loss: 0.3494 - accuracy: 0.9078 - val_loss: 0.3365 - val_accuracy: 0.9176\n",
            "Epoch 3/10\n",
            "100/100 [==============================] - 32s 319ms/step - loss: 0.3341 - accuracy: 0.9097 - val_loss: 0.3362 - val_accuracy: 0.9193\n",
            "Epoch 4/10\n",
            "100/100 [==============================] - 32s 316ms/step - loss: 0.3200 - accuracy: 0.9120 - val_loss: 0.3299 - val_accuracy: 0.9219\n",
            "Epoch 5/10\n",
            "100/100 [==============================] - 32s 317ms/step - loss: 0.3066 - accuracy: 0.9148 - val_loss: 0.3212 - val_accuracy: 0.9260\n",
            "Epoch 6/10\n",
            "100/100 [==============================] - 32s 318ms/step - loss: 0.2936 - accuracy: 0.9176 - val_loss: 0.3283 - val_accuracy: 0.9260\n",
            "Epoch 7/10\n",
            "100/100 [==============================] - 32s 317ms/step - loss: 0.2808 - accuracy: 0.9211 - val_loss: 0.3148 - val_accuracy: 0.9269\n",
            "Epoch 8/10\n",
            "100/100 [==============================] - 32s 319ms/step - loss: 0.2684 - accuracy: 0.9243 - val_loss: 0.3048 - val_accuracy: 0.9305\n",
            "Epoch 9/10\n",
            "100/100 [==============================] - 32s 316ms/step - loss: 0.2567 - accuracy: 0.9285 - val_loss: 0.3100 - val_accuracy: 0.9310\n",
            "Epoch 10/10\n",
            "100/100 [==============================] - 32s 317ms/step - loss: 0.2449 - accuracy: 0.9314 - val_loss: 0.2976 - val_accuracy: 0.9290\n",
            "Epoch 1/10\n",
            "100/100 [==============================] - 37s 326ms/step - loss: 1.7941 - accuracy: 0.8733 - val_loss: 0.4959 - val_accuracy: 0.9164\n",
            "Epoch 2/10\n",
            "100/100 [==============================] - 32s 323ms/step - loss: 0.5245 - accuracy: 0.9047 - val_loss: 0.4480 - val_accuracy: 0.9164\n",
            "Epoch 3/10\n",
            "100/100 [==============================] - 32s 319ms/step - loss: 0.4901 - accuracy: 0.9047 - val_loss: 0.4242 - val_accuracy: 0.9164\n",
            "Epoch 4/10\n",
            "100/100 [==============================] - 32s 320ms/step - loss: 0.4663 - accuracy: 0.9047 - val_loss: 0.4057 - val_accuracy: 0.9164\n",
            "Epoch 5/10\n",
            "100/100 [==============================] - 32s 319ms/step - loss: 0.4439 - accuracy: 0.9047 - val_loss: 0.3868 - val_accuracy: 0.9164\n",
            "Epoch 6/10\n",
            "100/100 [==============================] - 32s 319ms/step - loss: 0.4185 - accuracy: 0.9047 - val_loss: 0.3670 - val_accuracy: 0.9164\n",
            "Epoch 7/10\n",
            "100/100 [==============================] - 32s 319ms/step - loss: 0.3920 - accuracy: 0.9047 - val_loss: 0.3498 - val_accuracy: 0.9164\n",
            "Epoch 8/10\n",
            "100/100 [==============================] - 32s 319ms/step - loss: 0.3686 - accuracy: 0.9053 - val_loss: 0.3362 - val_accuracy: 0.9174\n",
            "Epoch 9/10\n",
            "100/100 [==============================] - 32s 322ms/step - loss: 0.3489 - accuracy: 0.9074 - val_loss: 0.3256 - val_accuracy: 0.9190\n",
            "Epoch 10/10\n",
            "100/100 [==============================] - 32s 321ms/step - loss: 0.3336 - accuracy: 0.9106 - val_loss: 0.3184 - val_accuracy: 0.9240\n",
            "Epoch 1/10\n",
            "100/100 [==============================] - 43s 381ms/step - loss: 1.0014 - accuracy: 0.8930 - val_loss: 0.4468 - val_accuracy: 0.9164\n",
            "Epoch 2/10\n",
            "100/100 [==============================] - 37s 375ms/step - loss: 0.4818 - accuracy: 0.9047 - val_loss: 0.4136 - val_accuracy: 0.9164\n",
            "Epoch 3/10\n",
            "100/100 [==============================] - 37s 375ms/step - loss: 0.4484 - accuracy: 0.9047 - val_loss: 0.3923 - val_accuracy: 0.9164\n",
            "Epoch 4/10\n",
            "100/100 [==============================] - 37s 375ms/step - loss: 0.4130 - accuracy: 0.9047 - val_loss: 0.3675 - val_accuracy: 0.9164\n",
            "Epoch 5/10\n",
            "100/100 [==============================] - 37s 374ms/step - loss: 0.3659 - accuracy: 0.9078 - val_loss: 0.3417 - val_accuracy: 0.9171\n",
            "Epoch 6/10\n",
            "100/100 [==============================] - 38s 376ms/step - loss: 0.3160 - accuracy: 0.9122 - val_loss: 0.3299 - val_accuracy: 0.9200\n",
            "Epoch 7/10\n",
            "100/100 [==============================] - 37s 375ms/step - loss: 0.2731 - accuracy: 0.9195 - val_loss: 0.3201 - val_accuracy: 0.9214\n",
            "Epoch 8/10\n",
            "100/100 [==============================] - 37s 372ms/step - loss: 0.2404 - accuracy: 0.9245 - val_loss: 0.3270 - val_accuracy: 0.9188\n",
            "Epoch 9/10\n",
            "100/100 [==============================] - 37s 374ms/step - loss: 0.2190 - accuracy: 0.9309 - val_loss: 0.3183 - val_accuracy: 0.9255\n",
            "Epoch 10/10\n",
            "100/100 [==============================] - 37s 373ms/step - loss: 0.1979 - accuracy: 0.9370 - val_loss: 0.3282 - val_accuracy: 0.9229\n",
            "Epoch 1/10\n",
            "100/100 [==============================] - 47s 407ms/step - loss: 0.9735 - accuracy: 0.8954 - val_loss: 0.4332 - val_accuracy: 0.9164\n",
            "Epoch 2/10\n",
            "100/100 [==============================] - 40s 397ms/step - loss: 0.4692 - accuracy: 0.9047 - val_loss: 0.4047 - val_accuracy: 0.9164\n",
            "Epoch 3/10\n",
            "100/100 [==============================] - 40s 397ms/step - loss: 0.4273 - accuracy: 0.9047 - val_loss: 0.3719 - val_accuracy: 0.9164\n",
            "Epoch 4/10\n",
            "100/100 [==============================] - 39s 391ms/step - loss: 0.3676 - accuracy: 0.9070 - val_loss: 0.3362 - val_accuracy: 0.9176\n",
            "Epoch 5/10\n",
            "100/100 [==============================] - 39s 392ms/step - loss: 0.3020 - accuracy: 0.9150 - val_loss: 0.3210 - val_accuracy: 0.9152\n",
            "Epoch 6/10\n",
            "100/100 [==============================] - 39s 394ms/step - loss: 0.2578 - accuracy: 0.9219 - val_loss: 0.3122 - val_accuracy: 0.9233\n",
            "Epoch 7/10\n",
            "100/100 [==============================] - 39s 394ms/step - loss: 0.2319 - accuracy: 0.9278 - val_loss: 0.3207 - val_accuracy: 0.9248\n",
            "Epoch 8/10\n",
            "100/100 [==============================] - 39s 389ms/step - loss: 0.2096 - accuracy: 0.9341 - val_loss: 0.3227 - val_accuracy: 0.9260\n",
            "Epoch 9/10\n",
            "100/100 [==============================] - 39s 393ms/step - loss: 0.1873 - accuracy: 0.9409 - val_loss: 0.3255 - val_accuracy: 0.9279\n",
            "Epoch 10/10\n",
            "100/100 [==============================] - 39s 391ms/step - loss: 0.1696 - accuracy: 0.9458 - val_loss: 0.3245 - val_accuracy: 0.9338\n"
          ]
        }
      ]
    },
    {
      "cell_type": "markdown",
      "source": [
        "##Kết quả trên bộ AI"
      ],
      "metadata": {
        "id": "abIE6wfXhABR"
      }
    },
    {
      "cell_type": "code",
      "source": [
        "from sklearn.metrics import precision_score\n",
        "from sklearn.metrics import recall_score\n",
        "from sklearn.metrics import f1_score\n",
        "from sklearn.metrics import accuracy_score\n",
        "def score(model, x_test, y_test,tags):\n",
        "  y_predict = model.predict(x_test)\n",
        "  y_predict = np.argmax(y_predict, axis=-1)\n",
        "  y_predict = y_predict.reshape(1,-1)[0]\n",
        "  y_true = y_test.reshape(1,-1)[0]\n",
        "  entity_predict = [tags[i] for i in y_predict]\n",
        "  entity_true = [tags[i] for i in y_true]\n",
        "  f1_ma = f1_score(entity_true,entity_predict, average=\"macro\")\n",
        "  f1_mi= f1_score(entity_true,entity_predict, average=\"micro\")\n",
        "  print(\"f1 macro: \", f1_ma)\n",
        "  print(\"f1 micro: \", f1_mi)"
      ],
      "metadata": {
        "id": "vu06w72sTbcf"
      },
      "execution_count": null,
      "outputs": []
    },
    {
      "cell_type": "code",
      "source": [
        "score(BiLSTM_a, x_test_a, y_test_a, tags_a)"
      ],
      "metadata": {
        "colab": {
          "base_uri": "https://localhost:8080/"
        },
        "id": "WFNkHKXP9Z5r",
        "outputId": "cc05158b-3743-4d11-9eae-f27c96dd1de9"
      },
      "execution_count": null,
      "outputs": [
        {
          "output_type": "stream",
          "name": "stdout",
          "text": [
            "f1 macro:  0.1455312592346394\n",
            "f1 micro:  0.9353333333333333\n"
          ]
        }
      ]
    },
    {
      "cell_type": "code",
      "source": [
        "score(BiLSTMCNN_a, x_test_a, y_test_a, tags_a)"
      ],
      "metadata": {
        "colab": {
          "base_uri": "https://localhost:8080/"
        },
        "id": "pfzja8D9CQjY",
        "outputId": "12738a3e-9ebd-43b0-f57a-4edfd87af04e"
      },
      "execution_count": null,
      "outputs": [
        {
          "output_type": "stream",
          "name": "stdout",
          "text": [
            "f1 macro:  0.24855813808011604\n",
            "f1 micro:  0.9344444444444444\n"
          ]
        }
      ]
    },
    {
      "cell_type": "code",
      "source": [
        "score(BiGRU_a, x_test_a, y_test_a, tags_a)"
      ],
      "metadata": {
        "colab": {
          "base_uri": "https://localhost:8080/"
        },
        "id": "87tOAnYYCZPv",
        "outputId": "66eb4b96-525c-4dbf-936d-36bb2a05e5ec"
      },
      "execution_count": null,
      "outputs": [
        {
          "output_type": "stream",
          "name": "stdout",
          "text": [
            "f1 macro:  0.10900272554925455\n",
            "f1 micro:  0.9311111111111111\n"
          ]
        }
      ]
    },
    {
      "cell_type": "code",
      "source": [
        "score(BiGRUCNN_a, x_test_a, y_test_a, tags_a)"
      ],
      "metadata": {
        "colab": {
          "base_uri": "https://localhost:8080/"
        },
        "id": "Hm2wSQEECfRn",
        "outputId": "355ebf5e-4144-4c4a-f3ca-64be98a52d85"
      },
      "execution_count": null,
      "outputs": [
        {
          "output_type": "stream",
          "name": "stdout",
          "text": [
            "f1 macro:  0.28866342773994297\n",
            "f1 micro:  0.9388888888888889\n"
          ]
        }
      ]
    },
    {
      "cell_type": "markdown",
      "source": [
        "##Training trên bộ music"
      ],
      "metadata": {
        "id": "mwXabQe2hGi_"
      }
    },
    {
      "cell_type": "code",
      "source": [
        "BiLSTM_m = Bi_LSTM(num_words_m,num_tags_m,max_len)\n",
        "BiGRU_m = Bi_GRU(num_words_m,num_tags_m,max_len)\n",
        "BiLSTMCNN_m = Bi_LSTM_CNN(num_words_m,num_tags_m,max_len)\n",
        "BiGRUCNN_m = Bi_GRU_CNN(num_words_m,num_tags_m,max_len)\n",
        "history1_m = BiLSTM_m.fit(\n",
        "    x=x_train_m,\n",
        "    y=y_train_m,\n",
        "    validation_split= 0.05,\n",
        "    batch_size= 8, \n",
        "    epochs=10,\n",
        "    verbose=1\n",
        ")\n",
        "history2_m = BiLSTMCNN_m.fit(\n",
        "    x=x_train_m,\n",
        "    y=y_train_m,\n",
        "    validation_split= 0.05,\n",
        "    batch_size= 8, \n",
        "    epochs=10,\n",
        "    verbose=1\n",
        ")\n",
        "history3_m = BiGRU_m.fit(\n",
        "    x=x_train_m,\n",
        "    y=y_train_m,\n",
        "    validation_split= 0.05,\n",
        "    batch_size= 8, \n",
        "    epochs=10,\n",
        "    verbose=1\n",
        ")\n",
        "history4_m = BiGRUCNN_m.fit(\n",
        "    x=x_train_m,\n",
        "    y=y_train_m,\n",
        "    validation_split= 0.05,\n",
        "    batch_size= 8, \n",
        "    epochs=10,\n",
        "    verbose=1\n",
        ")"
      ],
      "metadata": {
        "colab": {
          "base_uri": "https://localhost:8080/"
        },
        "id": "2udX8QBSC15J",
        "outputId": "f31465e5-a8d8-4a3e-bd3f-2937bf72e1f6"
      },
      "execution_count": null,
      "outputs": [
        {
          "output_type": "stream",
          "name": "stderr",
          "text": [
            "/usr/local/lib/python3.7/dist-packages/keras/optimizer_v2/adam.py:105: UserWarning: The `lr` argument is deprecated, use `learning_rate` instead.\n",
            "  super(Adam, self).__init__(name, **kwargs)\n"
          ]
        },
        {
          "output_type": "stream",
          "name": "stdout",
          "text": [
            "Model: \"model_13\"\n",
            "_________________________________________________________________\n",
            " Layer (type)                Output Shape              Param #   \n",
            "=================================================================\n",
            " input_14 (InputLayer)       [(None, 100)]             0         \n",
            "                                                                 \n",
            " embedding_13 (Embedding)    (None, 100, 100)          743100    \n",
            "                                                                 \n",
            " spatial_dropout1d_13 (Spati  (None, 100, 100)         0         \n",
            " alDropout1D)                                                    \n",
            "                                                                 \n",
            " bidirectional_13 (Bidirecti  (None, 100, 200)         160800    \n",
            " onal)                                                           \n",
            "                                                                 \n",
            " time_distributed_13 (TimeDi  (None, 100, 27)          5427      \n",
            " stributed)                                                      \n",
            "                                                                 \n",
            "=================================================================\n",
            "Total params: 909,327\n",
            "Trainable params: 909,327\n",
            "Non-trainable params: 0\n",
            "_________________________________________________________________\n",
            "Model: \"model_14\"\n",
            "_________________________________________________________________\n",
            " Layer (type)                Output Shape              Param #   \n",
            "=================================================================\n",
            " input_15 (InputLayer)       [(None, 100)]             0         \n",
            "                                                                 \n",
            " embedding_14 (Embedding)    (None, 100, 100)          743100    \n",
            "                                                                 \n",
            " spatial_dropout1d_14 (Spati  (None, 100, 100)         0         \n",
            " alDropout1D)                                                    \n",
            "                                                                 \n",
            " bidirectional_14 (Bidirecti  (None, 100, 200)         121200    \n",
            " onal)                                                           \n",
            "                                                                 \n",
            " time_distributed_14 (TimeDi  (None, 100, 27)          5427      \n",
            " stributed)                                                      \n",
            "                                                                 \n",
            "=================================================================\n",
            "Total params: 869,727\n",
            "Trainable params: 869,727\n",
            "Non-trainable params: 0\n",
            "_________________________________________________________________\n",
            "Model: \"model_15\"\n",
            "_________________________________________________________________\n",
            " Layer (type)                Output Shape              Param #   \n",
            "=================================================================\n",
            " input_16 (InputLayer)       [(None, 100)]             0         \n",
            "                                                                 \n",
            " embedding_15 (Embedding)    (None, 100, 100)          743100    \n",
            "                                                                 \n",
            " spatial_dropout1d_15 (Spati  (None, 100, 100)         0         \n",
            " alDropout1D)                                                    \n",
            "                                                                 \n",
            " bidirectional_15 (Bidirecti  (None, 100, 200)         160800    \n",
            " onal)                                                           \n",
            "                                                                 \n",
            " conv1d_18 (Conv1D)          (None, 100, 200)          120200    \n",
            "                                                                 \n",
            " conv1d_19 (Conv1D)          (None, 100, 200)          160200    \n",
            "                                                                 \n",
            " conv1d_20 (Conv1D)          (None, 100, 200)          200200    \n",
            "                                                                 \n",
            " time_distributed_15 (TimeDi  (None, 100, 27)          5427      \n",
            " stributed)                                                      \n",
            "                                                                 \n",
            "=================================================================\n",
            "Total params: 1,389,927\n",
            "Trainable params: 1,389,927\n",
            "Non-trainable params: 0\n",
            "_________________________________________________________________\n",
            "Model: \"model_16\"\n",
            "_________________________________________________________________\n",
            " Layer (type)                Output Shape              Param #   \n",
            "=================================================================\n",
            " input_17 (InputLayer)       [(None, 100)]             0         \n",
            "                                                                 \n",
            " embedding_16 (Embedding)    (None, 100, 100)          743100    \n",
            "                                                                 \n",
            " spatial_dropout1d_16 (Spati  (None, 100, 100)         0         \n",
            " alDropout1D)                                                    \n",
            "                                                                 \n",
            " bidirectional_16 (Bidirecti  (None, 100, 200)         121200    \n",
            " onal)                                                           \n",
            "                                                                 \n",
            " conv1d_21 (Conv1D)          (None, 100, 200)          120200    \n",
            "                                                                 \n",
            " conv1d_22 (Conv1D)          (None, 100, 200)          160200    \n",
            "                                                                 \n",
            " conv1d_23 (Conv1D)          (None, 100, 200)          200200    \n",
            "                                                                 \n",
            " time_distributed_16 (TimeDi  (None, 100, 27)          5427      \n",
            " stributed)                                                      \n",
            "                                                                 \n",
            "=================================================================\n",
            "Total params: 1,350,327\n",
            "Trainable params: 1,350,327\n",
            "Non-trainable params: 0\n",
            "_________________________________________________________________\n",
            "Epoch 1/10\n",
            "107/107 [==============================] - 40s 329ms/step - loss: 1.6179 - accuracy: 0.8032 - val_loss: 0.7871 - val_accuracy: 0.8424\n",
            "Epoch 2/10\n",
            "107/107 [==============================] - 34s 317ms/step - loss: 0.7930 - accuracy: 0.8348 - val_loss: 0.7589 - val_accuracy: 0.8424\n",
            "Epoch 3/10\n",
            "107/107 [==============================] - 34s 316ms/step - loss: 0.7687 - accuracy: 0.8348 - val_loss: 0.7422 - val_accuracy: 0.8424\n",
            "Epoch 4/10\n",
            "107/107 [==============================] - 34s 318ms/step - loss: 0.7462 - accuracy: 0.8348 - val_loss: 0.7224 - val_accuracy: 0.8424\n",
            "Epoch 5/10\n",
            "107/107 [==============================] - 34s 318ms/step - loss: 0.7159 - accuracy: 0.8361 - val_loss: 0.6967 - val_accuracy: 0.8440\n",
            "Epoch 6/10\n",
            "107/107 [==============================] - 34s 316ms/step - loss: 0.6730 - accuracy: 0.8446 - val_loss: 0.6557 - val_accuracy: 0.8502\n",
            "Epoch 7/10\n",
            "107/107 [==============================] - 34s 318ms/step - loss: 0.6205 - accuracy: 0.8484 - val_loss: 0.6101 - val_accuracy: 0.8511\n",
            "Epoch 8/10\n",
            "107/107 [==============================] - 34s 317ms/step - loss: 0.5685 - accuracy: 0.8503 - val_loss: 0.5689 - val_accuracy: 0.8516\n",
            "Epoch 9/10\n",
            "107/107 [==============================] - 34s 316ms/step - loss: 0.5247 - accuracy: 0.8560 - val_loss: 0.5382 - val_accuracy: 0.8542\n",
            "Epoch 10/10\n",
            "107/107 [==============================] - 34s 315ms/step - loss: 0.4859 - accuracy: 0.8664 - val_loss: 0.5112 - val_accuracy: 0.8569\n",
            "Epoch 1/10\n",
            "107/107 [==============================] - 46s 383ms/step - loss: 1.1665 - accuracy: 0.8269 - val_loss: 0.7419 - val_accuracy: 0.8424\n",
            "Epoch 2/10\n",
            "107/107 [==============================] - 40s 377ms/step - loss: 0.7374 - accuracy: 0.8348 - val_loss: 0.7071 - val_accuracy: 0.8424\n",
            "Epoch 3/10\n",
            "107/107 [==============================] - 40s 375ms/step - loss: 0.6604 - accuracy: 0.8433 - val_loss: 0.6343 - val_accuracy: 0.8478\n",
            "Epoch 4/10\n",
            "107/107 [==============================] - 41s 380ms/step - loss: 0.5717 - accuracy: 0.8509 - val_loss: 0.5629 - val_accuracy: 0.8524\n",
            "Epoch 5/10\n",
            "107/107 [==============================] - 40s 376ms/step - loss: 0.4692 - accuracy: 0.8678 - val_loss: 0.4675 - val_accuracy: 0.8618\n",
            "Epoch 6/10\n",
            "107/107 [==============================] - 40s 378ms/step - loss: 0.3604 - accuracy: 0.8955 - val_loss: 0.3963 - val_accuracy: 0.8880\n",
            "Epoch 7/10\n",
            "107/107 [==============================] - 40s 377ms/step - loss: 0.2795 - accuracy: 0.9157 - val_loss: 0.3871 - val_accuracy: 0.8920\n",
            "Epoch 8/10\n",
            "107/107 [==============================] - 40s 377ms/step - loss: 0.2213 - accuracy: 0.9339 - val_loss: 0.3817 - val_accuracy: 0.8993\n",
            "Epoch 9/10\n",
            "107/107 [==============================] - 40s 376ms/step - loss: 0.1728 - accuracy: 0.9493 - val_loss: 0.3772 - val_accuracy: 0.9040\n",
            "Epoch 10/10\n",
            "107/107 [==============================] - 40s 375ms/step - loss: 0.1409 - accuracy: 0.9590 - val_loss: 0.3754 - val_accuracy: 0.9091\n",
            "Epoch 1/10\n",
            "107/107 [==============================] - 40s 328ms/step - loss: 1.7930 - accuracy: 0.8102 - val_loss: 0.8008 - val_accuracy: 0.8424\n",
            "Epoch 2/10\n",
            "107/107 [==============================] - 34s 321ms/step - loss: 0.7923 - accuracy: 0.8348 - val_loss: 0.7380 - val_accuracy: 0.8424\n",
            "Epoch 3/10\n",
            "107/107 [==============================] - 34s 322ms/step - loss: 0.7391 - accuracy: 0.8348 - val_loss: 0.7025 - val_accuracy: 0.8424\n",
            "Epoch 4/10\n",
            "107/107 [==============================] - 34s 320ms/step - loss: 0.6954 - accuracy: 0.8349 - val_loss: 0.6646 - val_accuracy: 0.8424\n",
            "Epoch 5/10\n",
            "107/107 [==============================] - 34s 322ms/step - loss: 0.6454 - accuracy: 0.8375 - val_loss: 0.6199 - val_accuracy: 0.8453\n",
            "Epoch 6/10\n",
            "107/107 [==============================] - 34s 321ms/step - loss: 0.5932 - accuracy: 0.8462 - val_loss: 0.5812 - val_accuracy: 0.8513\n",
            "Epoch 7/10\n",
            "107/107 [==============================] - 34s 321ms/step - loss: 0.5486 - accuracy: 0.8506 - val_loss: 0.5488 - val_accuracy: 0.8531\n",
            "Epoch 8/10\n",
            "107/107 [==============================] - 34s 322ms/step - loss: 0.5082 - accuracy: 0.8567 - val_loss: 0.5198 - val_accuracy: 0.8640\n",
            "Epoch 9/10\n",
            "107/107 [==============================] - 35s 326ms/step - loss: 0.4696 - accuracy: 0.8722 - val_loss: 0.4877 - val_accuracy: 0.8753\n",
            "Epoch 10/10\n",
            "107/107 [==============================] - 34s 322ms/step - loss: 0.4305 - accuracy: 0.8846 - val_loss: 0.4549 - val_accuracy: 0.8798\n",
            "Epoch 1/10\n",
            "107/107 [==============================] - 45s 383ms/step - loss: 1.1699 - accuracy: 0.8265 - val_loss: 0.7325 - val_accuracy: 0.8424\n",
            "Epoch 2/10\n",
            "107/107 [==============================] - 40s 375ms/step - loss: 0.7145 - accuracy: 0.8348 - val_loss: 0.6589 - val_accuracy: 0.8424\n",
            "Epoch 3/10\n",
            "107/107 [==============================] - 40s 375ms/step - loss: 0.5692 - accuracy: 0.8517 - val_loss: 0.4968 - val_accuracy: 0.8642\n",
            "Epoch 4/10\n",
            "107/107 [==============================] - 40s 377ms/step - loss: 0.4220 - accuracy: 0.8775 - val_loss: 0.4370 - val_accuracy: 0.8753\n",
            "Epoch 5/10\n",
            "107/107 [==============================] - 40s 375ms/step - loss: 0.3427 - accuracy: 0.8963 - val_loss: 0.3951 - val_accuracy: 0.8931\n",
            "Epoch 6/10\n",
            "107/107 [==============================] - 40s 375ms/step - loss: 0.2779 - accuracy: 0.9168 - val_loss: 0.3811 - val_accuracy: 0.9000\n",
            "Epoch 7/10\n",
            "107/107 [==============================] - 40s 375ms/step - loss: 0.2246 - accuracy: 0.9333 - val_loss: 0.3721 - val_accuracy: 0.9051\n",
            "Epoch 8/10\n",
            "107/107 [==============================] - 40s 374ms/step - loss: 0.1786 - accuracy: 0.9470 - val_loss: 0.3849 - val_accuracy: 0.9053\n",
            "Epoch 9/10\n",
            "107/107 [==============================] - 40s 377ms/step - loss: 0.1419 - accuracy: 0.9590 - val_loss: 0.4026 - val_accuracy: 0.9104\n",
            "Epoch 10/10\n",
            "107/107 [==============================] - 45s 418ms/step - loss: 0.1141 - accuracy: 0.9673 - val_loss: 0.4014 - val_accuracy: 0.9071\n"
          ]
        }
      ]
    },
    {
      "cell_type": "markdown",
      "source": [
        "##Kết quả trên bộ Music"
      ],
      "metadata": {
        "id": "p2bz_0yehLDk"
      }
    },
    {
      "cell_type": "code",
      "source": [
        "score(BiLSTM_m, x_test_m, y_test_m, tags_m)"
      ],
      "metadata": {
        "colab": {
          "base_uri": "https://localhost:8080/"
        },
        "id": "JdWLW5D9D-pi",
        "outputId": "6fc9e171-295e-46b3-a309-96717e280405"
      },
      "execution_count": null,
      "outputs": [
        {
          "output_type": "stream",
          "name": "stdout",
          "text": [
            "f1 macro:  0.1309349313459796\n",
            "f1 micro:  0.8625\n"
          ]
        }
      ]
    },
    {
      "cell_type": "code",
      "source": [
        "score(BiLSTMCNN_m, x_test_m, y_test_m, tags_m)"
      ],
      "metadata": {
        "colab": {
          "base_uri": "https://localhost:8080/"
        },
        "id": "QCk78a7kTD4L",
        "outputId": "62d011d3-3f3a-450b-bae8-5b9cda1c5236"
      },
      "execution_count": null,
      "outputs": [
        {
          "output_type": "stream",
          "name": "stdout",
          "text": [
            "f1 macro:  0.44808364886869273\n",
            "f1 micro:  0.9125\n"
          ]
        }
      ]
    },
    {
      "cell_type": "code",
      "source": [
        "score(BiGRU_m, x_test_m, y_test_m, tags_m)"
      ],
      "metadata": {
        "colab": {
          "base_uri": "https://localhost:8080/"
        },
        "id": "vivMzLLdTF_m",
        "outputId": "37cb0160-3dcb-4e9b-f7c5-e02b114b337b"
      },
      "execution_count": null,
      "outputs": [
        {
          "output_type": "stream",
          "name": "stdout",
          "text": [
            "f1 macro:  0.19263047306319656\n",
            "f1 micro:  0.8810416666666665\n"
          ]
        }
      ]
    },
    {
      "cell_type": "code",
      "source": [
        "score(BiGRUCNN_m, x_test_m, y_test_m, tags_m)"
      ],
      "metadata": {
        "colab": {
          "base_uri": "https://localhost:8080/"
        },
        "id": "5fsrh967TKh6",
        "outputId": "a4288a9f-310b-4562-8136-713d5dc512f2"
      },
      "execution_count": null,
      "outputs": [
        {
          "output_type": "stream",
          "name": "stdout",
          "text": [
            "f1 macro:  0.5118107930748979\n",
            "f1 micro:  0.9166666666666666\n"
          ]
        }
      ]
    },
    {
      "cell_type": "markdown",
      "source": [
        "##Training trên bộ Politics"
      ],
      "metadata": {
        "id": "YoT4Hi7jhR5R"
      }
    },
    {
      "cell_type": "code",
      "source": [
        "BiLSTM_p = Bi_LSTM(num_words_p,num_tags_p,max_len)\n",
        "BiGRU_p = Bi_GRU(num_words_p,num_tags_p,max_len)\n",
        "BiLSTMCNN_p = Bi_LSTM_CNN(num_words_p,num_tags_p,max_len)\n",
        "BiGRUCNN_p = Bi_GRU_CNN(num_words_p,num_tags_p,max_len)\n",
        "history1_p = BiLSTM_p.fit(\n",
        "    x=x_train_p,\n",
        "    y=y_train_p,\n",
        "    validation_split= 0.05,\n",
        "    batch_size= 8, \n",
        "    epochs=10,\n",
        "    verbose=1\n",
        ")\n",
        "history2_p = BiLSTMCNN_p.fit(\n",
        "    x=x_train_p,\n",
        "    y=y_train_p,\n",
        "    validation_split= 0.05,\n",
        "    batch_size= 8, \n",
        "    epochs=10,\n",
        "    verbose=1\n",
        ")\n",
        "history3_p = BiGRU_p.fit(\n",
        "    x=x_train_p,\n",
        "    y=y_train_p,\n",
        "    validation_split= 0.05,\n",
        "    batch_size= 8, \n",
        "    epochs=10,\n",
        "    verbose=1\n",
        ")\n",
        "history4_p = BiGRUCNN_p.fit(\n",
        "    x=x_train_p,\n",
        "    y=y_train_p,\n",
        "    validation_split= 0.05,\n",
        "    batch_size= 8, \n",
        "    epochs=10,\n",
        "    verbose=1\n",
        ")"
      ],
      "metadata": {
        "colab": {
          "base_uri": "https://localhost:8080/"
        },
        "id": "sbIMrP1mTho4",
        "outputId": "b825bba0-f574-493b-f3ed-6c0aa4f2f893"
      },
      "execution_count": null,
      "outputs": [
        {
          "output_type": "stream",
          "name": "stderr",
          "text": [
            "/usr/local/lib/python3.7/dist-packages/keras/optimizer_v2/adam.py:105: UserWarning: The `lr` argument is deprecated, use `learning_rate` instead.\n",
            "  super(Adam, self).__init__(name, **kwargs)\n"
          ]
        },
        {
          "output_type": "stream",
          "name": "stdout",
          "text": [
            "Model: \"model_17\"\n",
            "_________________________________________________________________\n",
            " Layer (type)                Output Shape              Param #   \n",
            "=================================================================\n",
            " input_18 (InputLayer)       [(None, 100)]             0         \n",
            "                                                                 \n",
            " embedding_17 (Embedding)    (None, 100, 100)          952800    \n",
            "                                                                 \n",
            " spatial_dropout1d_17 (Spati  (None, 100, 100)         0         \n",
            " alDropout1D)                                                    \n",
            "                                                                 \n",
            " bidirectional_17 (Bidirecti  (None, 100, 200)         160800    \n",
            " onal)                                                           \n",
            "                                                                 \n",
            " time_distributed_17 (TimeDi  (None, 100, 19)          3819      \n",
            " stributed)                                                      \n",
            "                                                                 \n",
            "=================================================================\n",
            "Total params: 1,117,419\n",
            "Trainable params: 1,117,419\n",
            "Non-trainable params: 0\n",
            "_________________________________________________________________\n",
            "Model: \"model_18\"\n",
            "_________________________________________________________________\n",
            " Layer (type)                Output Shape              Param #   \n",
            "=================================================================\n",
            " input_19 (InputLayer)       [(None, 100)]             0         \n",
            "                                                                 \n",
            " embedding_18 (Embedding)    (None, 100, 100)          952800    \n",
            "                                                                 \n",
            " spatial_dropout1d_18 (Spati  (None, 100, 100)         0         \n",
            " alDropout1D)                                                    \n",
            "                                                                 \n",
            " bidirectional_18 (Bidirecti  (None, 100, 200)         121200    \n",
            " onal)                                                           \n",
            "                                                                 \n",
            " time_distributed_18 (TimeDi  (None, 100, 19)          3819      \n",
            " stributed)                                                      \n",
            "                                                                 \n",
            "=================================================================\n",
            "Total params: 1,077,819\n",
            "Trainable params: 1,077,819\n",
            "Non-trainable params: 0\n",
            "_________________________________________________________________\n",
            "Model: \"model_19\"\n",
            "_________________________________________________________________\n",
            " Layer (type)                Output Shape              Param #   \n",
            "=================================================================\n",
            " input_20 (InputLayer)       [(None, 100)]             0         \n",
            "                                                                 \n",
            " embedding_19 (Embedding)    (None, 100, 100)          952800    \n",
            "                                                                 \n",
            " spatial_dropout1d_19 (Spati  (None, 100, 100)         0         \n",
            " alDropout1D)                                                    \n",
            "                                                                 \n",
            " bidirectional_19 (Bidirecti  (None, 100, 200)         160800    \n",
            " onal)                                                           \n",
            "                                                                 \n",
            " conv1d_24 (Conv1D)          (None, 100, 200)          120200    \n",
            "                                                                 \n",
            " conv1d_25 (Conv1D)          (None, 100, 200)          160200    \n",
            "                                                                 \n",
            " conv1d_26 (Conv1D)          (None, 100, 200)          200200    \n",
            "                                                                 \n",
            " time_distributed_19 (TimeDi  (None, 100, 19)          3819      \n",
            " stributed)                                                      \n",
            "                                                                 \n",
            "=================================================================\n",
            "Total params: 1,598,019\n",
            "Trainable params: 1,598,019\n",
            "Non-trainable params: 0\n",
            "_________________________________________________________________\n",
            "Model: \"model_20\"\n",
            "_________________________________________________________________\n",
            " Layer (type)                Output Shape              Param #   \n",
            "=================================================================\n",
            " input_21 (InputLayer)       [(None, 100)]             0         \n",
            "                                                                 \n",
            " embedding_20 (Embedding)    (None, 100, 100)          952800    \n",
            "                                                                 \n",
            " spatial_dropout1d_20 (Spati  (None, 100, 100)         0         \n",
            " alDropout1D)                                                    \n",
            "                                                                 \n",
            " bidirectional_20 (Bidirecti  (None, 100, 200)         121200    \n",
            " onal)                                                           \n",
            "                                                                 \n",
            " conv1d_27 (Conv1D)          (None, 100, 200)          120200    \n",
            "                                                                 \n",
            " conv1d_28 (Conv1D)          (None, 100, 200)          160200    \n",
            "                                                                 \n",
            " conv1d_29 (Conv1D)          (None, 100, 200)          200200    \n",
            "                                                                 \n",
            " time_distributed_20 (TimeDi  (None, 100, 19)          3819      \n",
            " stributed)                                                      \n",
            "                                                                 \n",
            "=================================================================\n",
            "Total params: 1,558,419\n",
            "Trainable params: 1,558,419\n",
            "Non-trainable params: 0\n",
            "_________________________________________________________________\n",
            "Epoch 1/10\n",
            "157/157 [==============================] - 71s 423ms/step - loss: 1.1921 - accuracy: 0.8252 - val_loss: 0.7681 - val_accuracy: 0.8293\n",
            "Epoch 2/10\n",
            "157/157 [==============================] - 87s 553ms/step - loss: 0.7138 - accuracy: 0.8357 - val_loss: 0.7393 - val_accuracy: 0.8293\n",
            "Epoch 3/10\n",
            "157/157 [==============================] - 79s 501ms/step - loss: 0.6720 - accuracy: 0.8357 - val_loss: 0.6778 - val_accuracy: 0.8293\n",
            "Epoch 4/10\n",
            "157/157 [==============================] - 89s 569ms/step - loss: 0.5966 - accuracy: 0.8499 - val_loss: 0.5896 - val_accuracy: 0.8651\n",
            "Epoch 5/10\n",
            "157/157 [==============================] - 83s 526ms/step - loss: 0.5047 - accuracy: 0.8734 - val_loss: 0.4996 - val_accuracy: 0.8736\n",
            "Epoch 6/10\n",
            "157/157 [==============================] - 69s 439ms/step - loss: 0.4239 - accuracy: 0.8846 - val_loss: 0.4378 - val_accuracy: 0.8824\n",
            "Epoch 7/10\n",
            "157/157 [==============================] - 51s 328ms/step - loss: 0.3628 - accuracy: 0.8977 - val_loss: 0.3880 - val_accuracy: 0.8934\n",
            "Epoch 8/10\n",
            "157/157 [==============================] - 52s 332ms/step - loss: 0.3170 - accuracy: 0.9095 - val_loss: 0.3515 - val_accuracy: 0.9034\n",
            "Epoch 9/10\n",
            "157/157 [==============================] - 52s 328ms/step - loss: 0.2785 - accuracy: 0.9196 - val_loss: 0.3274 - val_accuracy: 0.9085\n",
            "Epoch 10/10\n",
            "157/157 [==============================] - 52s 328ms/step - loss: 0.2456 - accuracy: 0.9312 - val_loss: 0.3502 - val_accuracy: 0.9081\n",
            "Epoch 1/10\n",
            "157/157 [==============================] - 68s 397ms/step - loss: 0.9242 - accuracy: 0.8306 - val_loss: 0.7031 - val_accuracy: 0.8293\n",
            "Epoch 2/10\n",
            "157/157 [==============================] - 62s 392ms/step - loss: 0.5723 - accuracy: 0.8530 - val_loss: 0.4938 - val_accuracy: 0.8748\n",
            "Epoch 3/10\n",
            "157/157 [==============================] - 74s 470ms/step - loss: 0.3773 - accuracy: 0.8970 - val_loss: 0.3690 - val_accuracy: 0.9034\n",
            "Epoch 4/10\n",
            "157/157 [==============================] - 63s 400ms/step - loss: 0.2675 - accuracy: 0.9221 - val_loss: 0.3008 - val_accuracy: 0.9191\n",
            "Epoch 5/10\n",
            "157/157 [==============================] - 69s 437ms/step - loss: 0.1897 - accuracy: 0.9456 - val_loss: 0.2781 - val_accuracy: 0.9261\n",
            "Epoch 6/10\n",
            "157/157 [==============================] - 61s 391ms/step - loss: 0.1442 - accuracy: 0.9582 - val_loss: 0.2740 - val_accuracy: 0.9306\n",
            "Epoch 7/10\n",
            "157/157 [==============================] - 62s 392ms/step - loss: 0.1139 - accuracy: 0.9666 - val_loss: 0.2674 - val_accuracy: 0.9355\n",
            "Epoch 8/10\n",
            "157/157 [==============================] - 62s 392ms/step - loss: 0.0937 - accuracy: 0.9729 - val_loss: 0.2986 - val_accuracy: 0.9304\n",
            "Epoch 9/10\n",
            "157/157 [==============================] - 61s 391ms/step - loss: 0.0759 - accuracy: 0.9776 - val_loss: 0.2825 - val_accuracy: 0.9358\n",
            "Epoch 10/10\n",
            "157/157 [==============================] - 61s 391ms/step - loss: 0.0616 - accuracy: 0.9815 - val_loss: 0.3096 - val_accuracy: 0.9348\n",
            "Epoch 1/10\n",
            "157/157 [==============================] - 57s 336ms/step - loss: 1.3739 - accuracy: 0.8085 - val_loss: 0.7509 - val_accuracy: 0.8293\n",
            "Epoch 2/10\n",
            "157/157 [==============================] - 68s 431ms/step - loss: 0.6770 - accuracy: 0.8357 - val_loss: 0.6751 - val_accuracy: 0.8293\n",
            "Epoch 3/10\n",
            "157/157 [==============================] - 91s 578ms/step - loss: 0.5948 - accuracy: 0.8477 - val_loss: 0.5873 - val_accuracy: 0.8663\n",
            "Epoch 4/10\n",
            "157/157 [==============================] - 84s 535ms/step - loss: 0.4982 - accuracy: 0.8753 - val_loss: 0.4933 - val_accuracy: 0.8775\n",
            "Epoch 5/10\n",
            "157/157 [==============================] - 52s 331ms/step - loss: 0.4098 - accuracy: 0.8891 - val_loss: 0.4119 - val_accuracy: 0.8893\n",
            "Epoch 6/10\n",
            "157/157 [==============================] - 53s 337ms/step - loss: 0.3374 - accuracy: 0.9025 - val_loss: 0.3550 - val_accuracy: 0.8997\n",
            "Epoch 7/10\n",
            "157/157 [==============================] - 52s 332ms/step - loss: 0.2838 - accuracy: 0.9161 - val_loss: 0.3192 - val_accuracy: 0.9078\n",
            "Epoch 8/10\n",
            "157/157 [==============================] - 53s 337ms/step - loss: 0.2450 - accuracy: 0.9289 - val_loss: 0.2957 - val_accuracy: 0.9122\n",
            "Epoch 9/10\n",
            "157/157 [==============================] - 52s 333ms/step - loss: 0.2156 - accuracy: 0.9381 - val_loss: 0.2745 - val_accuracy: 0.9190\n",
            "Epoch 10/10\n",
            "157/157 [==============================] - 53s 339ms/step - loss: 0.1906 - accuracy: 0.9461 - val_loss: 0.2614 - val_accuracy: 0.9258\n",
            "Epoch 1/10\n",
            "157/157 [==============================] - 67s 395ms/step - loss: 0.9352 - accuracy: 0.8303 - val_loss: 0.6623 - val_accuracy: 0.8293\n",
            "Epoch 2/10\n",
            "157/157 [==============================] - 61s 389ms/step - loss: 0.4894 - accuracy: 0.8730 - val_loss: 0.4117 - val_accuracy: 0.8954\n",
            "Epoch 3/10\n",
            "157/157 [==============================] - 66s 419ms/step - loss: 0.3044 - accuracy: 0.9139 - val_loss: 0.2963 - val_accuracy: 0.9193\n",
            "Epoch 4/10\n",
            "157/157 [==============================] - 62s 393ms/step - loss: 0.2102 - accuracy: 0.9375 - val_loss: 0.2707 - val_accuracy: 0.9288\n",
            "Epoch 5/10\n",
            "157/157 [==============================] - 62s 392ms/step - loss: 0.1613 - accuracy: 0.9516 - val_loss: 0.2553 - val_accuracy: 0.9331\n",
            "Epoch 6/10\n",
            "157/157 [==============================] - 61s 389ms/step - loss: 0.1239 - accuracy: 0.9632 - val_loss: 0.2636 - val_accuracy: 0.9309\n",
            "Epoch 7/10\n",
            "157/157 [==============================] - 61s 388ms/step - loss: 0.0968 - accuracy: 0.9716 - val_loss: 0.2665 - val_accuracy: 0.9345\n",
            "Epoch 8/10\n",
            "157/157 [==============================] - 61s 389ms/step - loss: 0.0770 - accuracy: 0.9780 - val_loss: 0.2666 - val_accuracy: 0.9379\n",
            "Epoch 9/10\n",
            "157/157 [==============================] - 62s 392ms/step - loss: 0.0608 - accuracy: 0.9825 - val_loss: 0.2805 - val_accuracy: 0.9349\n",
            "Epoch 10/10\n",
            "157/157 [==============================] - 62s 392ms/step - loss: 0.0498 - accuracy: 0.9857 - val_loss: 0.2992 - val_accuracy: 0.9376\n"
          ]
        }
      ]
    },
    {
      "cell_type": "markdown",
      "source": [
        "##Kết quả trên bộ Politics"
      ],
      "metadata": {
        "id": "sLnJR1fshX7W"
      }
    },
    {
      "cell_type": "code",
      "source": [
        "score(BiLSTM_p, x_test_p, y_test_p, tags_p)"
      ],
      "metadata": {
        "colab": {
          "base_uri": "https://localhost:8080/"
        },
        "id": "TMmiTP1kXUbO",
        "outputId": "70e55e4d-1db5-47e2-f3b7-ab6ce2fa19f5"
      },
      "execution_count": null,
      "outputs": [
        {
          "output_type": "stream",
          "name": "stdout",
          "text": [
            "f1 macro:  0.3099826323868402\n",
            "f1 micro:  0.928\n"
          ]
        }
      ]
    },
    {
      "cell_type": "code",
      "source": [
        "score(BiLSTMCNN_p, x_test_p, y_test_p, tags_p)"
      ],
      "metadata": {
        "colab": {
          "base_uri": "https://localhost:8080/"
        },
        "id": "8_n5CMWgZgtK",
        "outputId": "9bcddf53-097d-4336-9492-43cc9194d047"
      },
      "execution_count": null,
      "outputs": [
        {
          "output_type": "stream",
          "name": "stdout",
          "text": [
            "f1 macro:  0.5225757738721736\n",
            "f1 micro:  0.9461428571428573\n"
          ]
        }
      ]
    },
    {
      "cell_type": "code",
      "source": [
        "score(BiGRU_p, x_test_p, y_test_p, tags_p)"
      ],
      "metadata": {
        "colab": {
          "base_uri": "https://localhost:8080/"
        },
        "id": "1gHH2d-IZiKN",
        "outputId": "72559b89-5266-4b46-bba9-ffc642b8474b"
      },
      "execution_count": null,
      "outputs": [
        {
          "output_type": "stream",
          "name": "stdout",
          "text": [
            "f1 macro:  0.4117753954257253\n",
            "f1 micro:  0.9458571428571428\n"
          ]
        }
      ]
    },
    {
      "cell_type": "code",
      "source": [
        "score(BiGRUCNN_p, x_test_p, y_test_p, tags_p)"
      ],
      "metadata": {
        "colab": {
          "base_uri": "https://localhost:8080/"
        },
        "id": "nywbOnZEZiyw",
        "outputId": "7fca378a-85a5-49f6-ef90-e5cdc89e80e8"
      },
      "execution_count": null,
      "outputs": [
        {
          "output_type": "stream",
          "name": "stdout",
          "text": [
            "f1 macro:  0.5441600343392267\n",
            "f1 micro:  0.9487142857142857\n"
          ]
        }
      ]
    },
    {
      "cell_type": "markdown",
      "source": [
        "##Training trên bộ Literature"
      ],
      "metadata": {
        "id": "HCH6gRLbhfpf"
      }
    },
    {
      "cell_type": "code",
      "source": [
        "BiLSTM_l = Bi_LSTM(num_words_l,num_tags_l,max_len)\n",
        "BiGRU_l = Bi_GRU(num_words_l,num_tags_l,max_len)\n",
        "BiLSTMCNN_l = Bi_LSTM_CNN(num_words_l,num_tags_l,max_len)\n",
        "BiGRUCNN_l = Bi_GRU_CNN(num_words_l,num_tags_l,max_len)\n",
        "history1_l = BiLSTM_l.fit(\n",
        "    x=x_train_l,\n",
        "    y=y_train_l,\n",
        "    validation_split= 0.05,\n",
        "    batch_size= 8, \n",
        "    epochs=10,\n",
        "    verbose=1\n",
        ")\n",
        "history2_l = BiLSTMCNN_l.fit(\n",
        "    x=x_train_l,\n",
        "    y=y_train_l,\n",
        "    validation_split= 0.05,\n",
        "    batch_size= 8, \n",
        "    epochs=10,\n",
        "    verbose=1\n",
        ")\n",
        "history3_l = BiGRU_l.fit(\n",
        "    x=x_train_l,\n",
        "    y=y_train_l,\n",
        "    validation_split= 0.05,\n",
        "    batch_size= 8, \n",
        "    epochs=10,\n",
        "    verbose=1\n",
        ")\n",
        "history4_l = BiGRUCNN_l.fit(\n",
        "    x=x_train_l,\n",
        "    y=y_train_l,\n",
        "    validation_split= 0.05,\n",
        "    batch_size= 8, \n",
        "    epochs=10,\n",
        "    verbose=1\n",
        ")"
      ],
      "metadata": {
        "colab": {
          "base_uri": "https://localhost:8080/"
        },
        "id": "fCw_-kB8UJsL",
        "outputId": "651841e3-a5d8-46af-aeb8-cc85531b1317"
      },
      "execution_count": null,
      "outputs": [
        {
          "output_type": "stream",
          "name": "stderr",
          "text": [
            "/usr/local/lib/python3.7/dist-packages/keras/optimizer_v2/adam.py:105: UserWarning: The `lr` argument is deprecated, use `learning_rate` instead.\n",
            "  super(Adam, self).__init__(name, **kwargs)\n"
          ]
        },
        {
          "output_type": "stream",
          "name": "stdout",
          "text": [
            "Model: \"model_29\"\n",
            "_________________________________________________________________\n",
            " Layer (type)                Output Shape              Param #   \n",
            "=================================================================\n",
            " input_30 (InputLayer)       [(None, 100)]             0         \n",
            "                                                                 \n",
            " embedding_29 (Embedding)    (None, 100, 100)          784700    \n",
            "                                                                 \n",
            " spatial_dropout1d_29 (Spati  (None, 100, 100)         0         \n",
            " alDropout1D)                                                    \n",
            "                                                                 \n",
            " bidirectional_29 (Bidirecti  (None, 100, 200)         160800    \n",
            " onal)                                                           \n",
            "                                                                 \n",
            " time_distributed_29 (TimeDi  (None, 100, 25)          5025      \n",
            " stributed)                                                      \n",
            "                                                                 \n",
            "=================================================================\n",
            "Total params: 950,525\n",
            "Trainable params: 950,525\n",
            "Non-trainable params: 0\n",
            "_________________________________________________________________\n",
            "Model: \"model_30\"\n",
            "_________________________________________________________________\n",
            " Layer (type)                Output Shape              Param #   \n",
            "=================================================================\n",
            " input_31 (InputLayer)       [(None, 100)]             0         \n",
            "                                                                 \n",
            " embedding_30 (Embedding)    (None, 100, 100)          784700    \n",
            "                                                                 \n",
            " spatial_dropout1d_30 (Spati  (None, 100, 100)         0         \n",
            " alDropout1D)                                                    \n",
            "                                                                 \n",
            " bidirectional_30 (Bidirecti  (None, 100, 200)         121200    \n",
            " onal)                                                           \n",
            "                                                                 \n",
            " time_distributed_30 (TimeDi  (None, 100, 25)          5025      \n",
            " stributed)                                                      \n",
            "                                                                 \n",
            "=================================================================\n",
            "Total params: 910,925\n",
            "Trainable params: 910,925\n",
            "Non-trainable params: 0\n",
            "_________________________________________________________________\n",
            "Model: \"model_31\"\n",
            "_________________________________________________________________\n",
            " Layer (type)                Output Shape              Param #   \n",
            "=================================================================\n",
            " input_32 (InputLayer)       [(None, 100)]             0         \n",
            "                                                                 \n",
            " embedding_31 (Embedding)    (None, 100, 100)          784700    \n",
            "                                                                 \n",
            " spatial_dropout1d_31 (Spati  (None, 100, 100)         0         \n",
            " alDropout1D)                                                    \n",
            "                                                                 \n",
            " bidirectional_31 (Bidirecti  (None, 100, 200)         160800    \n",
            " onal)                                                           \n",
            "                                                                 \n",
            " conv1d_42 (Conv1D)          (None, 100, 200)          120200    \n",
            "                                                                 \n",
            " conv1d_43 (Conv1D)          (None, 100, 200)          160200    \n",
            "                                                                 \n",
            " conv1d_44 (Conv1D)          (None, 100, 200)          200200    \n",
            "                                                                 \n",
            " time_distributed_31 (TimeDi  (None, 100, 25)          5025      \n",
            " stributed)                                                      \n",
            "                                                                 \n",
            "=================================================================\n",
            "Total params: 1,431,125\n",
            "Trainable params: 1,431,125\n",
            "Non-trainable params: 0\n",
            "_________________________________________________________________\n",
            "Model: \"model_32\"\n",
            "_________________________________________________________________\n",
            " Layer (type)                Output Shape              Param #   \n",
            "=================================================================\n",
            " input_33 (InputLayer)       [(None, 100)]             0         \n",
            "                                                                 \n",
            " embedding_32 (Embedding)    (None, 100, 100)          784700    \n",
            "                                                                 \n",
            " spatial_dropout1d_32 (Spati  (None, 100, 100)         0         \n",
            " alDropout1D)                                                    \n",
            "                                                                 \n",
            " bidirectional_32 (Bidirecti  (None, 100, 200)         121200    \n",
            " onal)                                                           \n",
            "                                                                 \n",
            " conv1d_45 (Conv1D)          (None, 100, 200)          120200    \n",
            "                                                                 \n",
            " conv1d_46 (Conv1D)          (None, 100, 200)          160200    \n",
            "                                                                 \n",
            " conv1d_47 (Conv1D)          (None, 100, 200)          200200    \n",
            "                                                                 \n",
            " time_distributed_32 (TimeDi  (None, 100, 25)          5025      \n",
            " stributed)                                                      \n",
            "                                                                 \n",
            "=================================================================\n",
            "Total params: 1,391,525\n",
            "Trainable params: 1,391,525\n",
            "Non-trainable params: 0\n",
            "_________________________________________________________________\n",
            "Epoch 1/10\n",
            "104/104 [==============================] - 38s 322ms/step - loss: 1.4509 - accuracy: 0.8456 - val_loss: 0.6589 - val_accuracy: 0.8670\n",
            "Epoch 2/10\n",
            "104/104 [==============================] - 33s 316ms/step - loss: 0.6129 - accuracy: 0.8762 - val_loss: 0.6301 - val_accuracy: 0.8670\n",
            "Epoch 3/10\n",
            "104/104 [==============================] - 33s 315ms/step - loss: 0.5978 - accuracy: 0.8762 - val_loss: 0.6214 - val_accuracy: 0.8670\n",
            "Epoch 4/10\n",
            "104/104 [==============================] - 33s 315ms/step - loss: 0.5859 - accuracy: 0.8762 - val_loss: 0.6122 - val_accuracy: 0.8670\n",
            "Epoch 5/10\n",
            "104/104 [==============================] - 33s 317ms/step - loss: 0.5707 - accuracy: 0.8762 - val_loss: 0.5989 - val_accuracy: 0.8670\n",
            "Epoch 6/10\n",
            "104/104 [==============================] - 33s 314ms/step - loss: 0.5483 - accuracy: 0.8762 - val_loss: 0.5757 - val_accuracy: 0.8670\n",
            "Epoch 7/10\n",
            "104/104 [==============================] - 33s 316ms/step - loss: 0.5174 - accuracy: 0.8762 - val_loss: 0.5430 - val_accuracy: 0.8670\n",
            "Epoch 8/10\n",
            "104/104 [==============================] - 33s 317ms/step - loss: 0.4825 - accuracy: 0.8761 - val_loss: 0.5146 - val_accuracy: 0.8673\n",
            "Epoch 9/10\n",
            "104/104 [==============================] - 33s 316ms/step - loss: 0.4509 - accuracy: 0.8775 - val_loss: 0.4876 - val_accuracy: 0.8709\n",
            "Epoch 10/10\n",
            "104/104 [==============================] - 33s 316ms/step - loss: 0.4244 - accuracy: 0.8825 - val_loss: 0.4684 - val_accuracy: 0.8755\n",
            "Epoch 1/10\n",
            "104/104 [==============================] - 61s 387ms/step - loss: 1.0356 - accuracy: 0.8672 - val_loss: 0.6183 - val_accuracy: 0.8670\n",
            "Epoch 2/10\n",
            "104/104 [==============================] - 40s 382ms/step - loss: 0.5695 - accuracy: 0.8762 - val_loss: 0.5796 - val_accuracy: 0.8670\n",
            "Epoch 3/10\n",
            "104/104 [==============================] - 40s 382ms/step - loss: 0.5206 - accuracy: 0.8762 - val_loss: 0.5321 - val_accuracy: 0.8670\n",
            "Epoch 4/10\n",
            "104/104 [==============================] - 40s 383ms/step - loss: 0.4562 - accuracy: 0.8803 - val_loss: 0.4802 - val_accuracy: 0.8802\n",
            "Epoch 5/10\n",
            "104/104 [==============================] - 40s 382ms/step - loss: 0.3843 - accuracy: 0.8964 - val_loss: 0.4261 - val_accuracy: 0.8966\n",
            "Epoch 6/10\n",
            "104/104 [==============================] - 40s 382ms/step - loss: 0.3084 - accuracy: 0.9138 - val_loss: 0.3982 - val_accuracy: 0.9034\n",
            "Epoch 7/10\n",
            "104/104 [==============================] - 40s 381ms/step - loss: 0.2508 - accuracy: 0.9258 - val_loss: 0.4032 - val_accuracy: 0.9082\n",
            "Epoch 8/10\n",
            "104/104 [==============================] - 40s 384ms/step - loss: 0.2045 - accuracy: 0.9373 - val_loss: 0.4095 - val_accuracy: 0.9070\n",
            "Epoch 9/10\n",
            "104/104 [==============================] - 40s 384ms/step - loss: 0.1660 - accuracy: 0.9484 - val_loss: 0.4334 - val_accuracy: 0.9089\n",
            "Epoch 10/10\n",
            "104/104 [==============================] - 40s 381ms/step - loss: 0.1357 - accuracy: 0.9582 - val_loss: 0.4389 - val_accuracy: 0.9141\n",
            "Epoch 1/10\n",
            "104/104 [==============================] - 39s 334ms/step - loss: 1.8114 - accuracy: 0.8250 - val_loss: 0.6947 - val_accuracy: 0.8670\n",
            "Epoch 2/10\n",
            "104/104 [==============================] - 34s 323ms/step - loss: 0.6229 - accuracy: 0.8762 - val_loss: 0.6300 - val_accuracy: 0.8670\n",
            "Epoch 3/10\n",
            "104/104 [==============================] - 34s 329ms/step - loss: 0.5795 - accuracy: 0.8762 - val_loss: 0.5986 - val_accuracy: 0.8670\n",
            "Epoch 4/10\n",
            "104/104 [==============================] - 34s 326ms/step - loss: 0.5498 - accuracy: 0.8762 - val_loss: 0.5720 - val_accuracy: 0.8670\n",
            "Epoch 5/10\n",
            "104/104 [==============================] - 34s 327ms/step - loss: 0.5180 - accuracy: 0.8762 - val_loss: 0.5409 - val_accuracy: 0.8670\n",
            "Epoch 6/10\n",
            "104/104 [==============================] - 34s 329ms/step - loss: 0.4816 - accuracy: 0.8764 - val_loss: 0.5083 - val_accuracy: 0.8677\n",
            "Epoch 7/10\n",
            "104/104 [==============================] - 34s 329ms/step - loss: 0.4452 - accuracy: 0.8781 - val_loss: 0.4805 - val_accuracy: 0.8702\n",
            "Epoch 8/10\n",
            "104/104 [==============================] - 34s 329ms/step - loss: 0.4126 - accuracy: 0.8847 - val_loss: 0.4550 - val_accuracy: 0.8798\n",
            "Epoch 9/10\n",
            "104/104 [==============================] - 34s 327ms/step - loss: 0.3822 - accuracy: 0.8956 - val_loss: 0.4333 - val_accuracy: 0.8909\n",
            "Epoch 10/10\n",
            "104/104 [==============================] - 34s 328ms/step - loss: 0.3514 - accuracy: 0.9074 - val_loss: 0.4038 - val_accuracy: 0.8970\n",
            "Epoch 1/10\n",
            "104/104 [==============================] - 45s 389ms/step - loss: 1.0212 - accuracy: 0.8676 - val_loss: 0.6154 - val_accuracy: 0.8670\n",
            "Epoch 2/10\n",
            "104/104 [==============================] - 40s 385ms/step - loss: 0.5523 - accuracy: 0.8762 - val_loss: 0.5569 - val_accuracy: 0.8670\n",
            "Epoch 3/10\n",
            "104/104 [==============================] - 40s 381ms/step - loss: 0.4733 - accuracy: 0.8797 - val_loss: 0.4832 - val_accuracy: 0.8791\n",
            "Epoch 4/10\n",
            "104/104 [==============================] - 40s 383ms/step - loss: 0.3786 - accuracy: 0.8980 - val_loss: 0.4141 - val_accuracy: 0.9000\n",
            "Epoch 5/10\n",
            "104/104 [==============================] - 40s 382ms/step - loss: 0.2942 - accuracy: 0.9202 - val_loss: 0.3847 - val_accuracy: 0.9066\n",
            "Epoch 6/10\n",
            "104/104 [==============================] - 40s 381ms/step - loss: 0.2358 - accuracy: 0.9315 - val_loss: 0.3657 - val_accuracy: 0.9080\n",
            "Epoch 7/10\n",
            "104/104 [==============================] - 40s 381ms/step - loss: 0.1918 - accuracy: 0.9419 - val_loss: 0.3802 - val_accuracy: 0.9114\n",
            "Epoch 8/10\n",
            "104/104 [==============================] - 40s 384ms/step - loss: 0.1570 - accuracy: 0.9512 - val_loss: 0.4170 - val_accuracy: 0.9116\n",
            "Epoch 9/10\n",
            "104/104 [==============================] - 40s 382ms/step - loss: 0.1289 - accuracy: 0.9594 - val_loss: 0.4374 - val_accuracy: 0.9105\n",
            "Epoch 10/10\n",
            "104/104 [==============================] - 40s 381ms/step - loss: 0.1088 - accuracy: 0.9656 - val_loss: 0.4793 - val_accuracy: 0.9036\n"
          ]
        }
      ]
    },
    {
      "cell_type": "markdown",
      "source": [
        "##Kết quả trên bộ Literature"
      ],
      "metadata": {
        "id": "9xikqkYWhwGe"
      }
    },
    {
      "cell_type": "code",
      "source": [
        "score(BiLSTM_l, x_test_l, y_test_l, tags_l)"
      ],
      "metadata": {
        "colab": {
          "base_uri": "https://localhost:8080/"
        },
        "id": "ITaiURD2Zzly",
        "outputId": "622fa281-03ed-4fbe-ba80-6edcd33f688b"
      },
      "execution_count": null,
      "outputs": [
        {
          "output_type": "stream",
          "name": "stdout",
          "text": [
            "f1 macro:  0.05750740598473172\n",
            "f1 micro:  0.8804347826086957\n"
          ]
        }
      ]
    },
    {
      "cell_type": "code",
      "source": [
        "score(BiLSTMCNN_l, x_test_l, y_test_l, tags_l)"
      ],
      "metadata": {
        "colab": {
          "base_uri": "https://localhost:8080/"
        },
        "id": "ksD69e5sZ0dk",
        "outputId": "3d1ec005-7cd2-48b4-dde0-b549ca1d8bda"
      },
      "execution_count": null,
      "outputs": [
        {
          "output_type": "stream",
          "name": "stdout",
          "text": [
            "f1 macro:  0.3603265866291133\n",
            "f1 micro:  0.921304347826087\n"
          ]
        }
      ]
    },
    {
      "cell_type": "code",
      "source": [
        "score(BiGRU_l, x_test_l, y_test_l, tags_l)"
      ],
      "metadata": {
        "colab": {
          "base_uri": "https://localhost:8080/"
        },
        "id": "ipOPlpl2Z1Mg",
        "outputId": "00b8de44-b56c-4b48-c6ff-90333ce139a3"
      },
      "execution_count": null,
      "outputs": [
        {
          "output_type": "stream",
          "name": "stdout",
          "text": [
            "f1 macro:  0.11709456581457918\n",
            "f1 micro:  0.8982608695652174\n"
          ]
        }
      ]
    },
    {
      "cell_type": "code",
      "source": [
        "score(BiGRUCNN_l, x_test_l, y_test_l, tags_l)"
      ],
      "metadata": {
        "colab": {
          "base_uri": "https://localhost:8080/"
        },
        "id": "R4cEswz-Z1fw",
        "outputId": "e1488daf-6c4d-496b-cb7a-d75322a3376f"
      },
      "execution_count": null,
      "outputs": [
        {
          "output_type": "stream",
          "name": "stdout",
          "text": [
            "f1 macro:  0.3729746210297202\n",
            "f1 micro:  0.9154347826086957\n"
          ]
        }
      ]
    },
    {
      "cell_type": "markdown",
      "source": [
        "##Training trên bộ Science"
      ],
      "metadata": {
        "id": "AoowCr2th1BQ"
      }
    },
    {
      "cell_type": "code",
      "source": [
        "BiLSTM_s = Bi_LSTM(num_words_s,num_tags_s,max_len)\n",
        "BiGRU_s = Bi_GRU(num_words_s,num_tags_s,max_len)\n",
        "BiLSTMCNN_s = Bi_LSTM_CNN(num_words_s,num_tags_s,max_len)\n",
        "BiGRUCNN_s = Bi_GRU_CNN(num_words_s,num_tags_s,max_len)\n",
        "history1_s = BiLSTM_s.fit(\n",
        "    x=x_train_s,\n",
        "    y=y_train_s,\n",
        "    validation_split= 0.05,\n",
        "    batch_size= 8, \n",
        "    epochs=10,\n",
        "    verbose=1\n",
        ")\n",
        "history2_s = BiLSTMCNN_s.fit(\n",
        "    x=x_train_s,\n",
        "    y=y_train_s,\n",
        "    validation_split= 0.05,\n",
        "    batch_size= 8, \n",
        "    epochs=10,\n",
        "    verbose=1\n",
        ")\n",
        "history3_s = BiGRU_s.fit(\n",
        "    x=x_train_s,\n",
        "    y=y_train_s,\n",
        "    validation_split= 0.05,\n",
        "    batch_size= 8, \n",
        "    epochs=10,\n",
        "    verbose=1\n",
        ")\n",
        "history4_s = BiGRUCNN_s.fit(\n",
        "    x=x_train_s,\n",
        "    y=y_train_s,\n",
        "    validation_split= 0.05,\n",
        "    batch_size= 8, \n",
        "    epochs=10,\n",
        "    verbose=1\n",
        ")"
      ],
      "metadata": {
        "colab": {
          "base_uri": "https://localhost:8080/"
        },
        "id": "T1Ux-Gb1U09k",
        "outputId": "c04f0826-91f6-40f6-f5d6-521ff1480334"
      },
      "execution_count": null,
      "outputs": [
        {
          "output_type": "stream",
          "name": "stderr",
          "text": [
            "/usr/local/lib/python3.7/dist-packages/keras/optimizer_v2/adam.py:105: UserWarning: The `lr` argument is deprecated, use `learning_rate` instead.\n",
            "  super(Adam, self).__init__(name, **kwargs)\n"
          ]
        },
        {
          "output_type": "stream",
          "name": "stdout",
          "text": [
            "Model: \"model_33\"\n",
            "_________________________________________________________________\n",
            " Layer (type)                Output Shape              Param #   \n",
            "=================================================================\n",
            " input_34 (InputLayer)       [(None, 100)]             0         \n",
            "                                                                 \n",
            " embedding_33 (Embedding)    (None, 100, 100)          940200    \n",
            "                                                                 \n",
            " spatial_dropout1d_33 (Spati  (None, 100, 100)         0         \n",
            " alDropout1D)                                                    \n",
            "                                                                 \n",
            " bidirectional_33 (Bidirecti  (None, 100, 200)         160800    \n",
            " onal)                                                           \n",
            "                                                                 \n",
            " time_distributed_33 (TimeDi  (None, 100, 35)          7035      \n",
            " stributed)                                                      \n",
            "                                                                 \n",
            "=================================================================\n",
            "Total params: 1,108,035\n",
            "Trainable params: 1,108,035\n",
            "Non-trainable params: 0\n",
            "_________________________________________________________________\n",
            "Model: \"model_34\"\n",
            "_________________________________________________________________\n",
            " Layer (type)                Output Shape              Param #   \n",
            "=================================================================\n",
            " input_35 (InputLayer)       [(None, 100)]             0         \n",
            "                                                                 \n",
            " embedding_34 (Embedding)    (None, 100, 100)          940200    \n",
            "                                                                 \n",
            " spatial_dropout1d_34 (Spati  (None, 100, 100)         0         \n",
            " alDropout1D)                                                    \n",
            "                                                                 \n",
            " bidirectional_34 (Bidirecti  (None, 100, 200)         121200    \n",
            " onal)                                                           \n",
            "                                                                 \n",
            " time_distributed_34 (TimeDi  (None, 100, 35)          7035      \n",
            " stributed)                                                      \n",
            "                                                                 \n",
            "=================================================================\n",
            "Total params: 1,068,435\n",
            "Trainable params: 1,068,435\n",
            "Non-trainable params: 0\n",
            "_________________________________________________________________\n",
            "Model: \"model_35\"\n",
            "_________________________________________________________________\n",
            " Layer (type)                Output Shape              Param #   \n",
            "=================================================================\n",
            " input_36 (InputLayer)       [(None, 100)]             0         \n",
            "                                                                 \n",
            " embedding_35 (Embedding)    (None, 100, 100)          940200    \n",
            "                                                                 \n",
            " spatial_dropout1d_35 (Spati  (None, 100, 100)         0         \n",
            " alDropout1D)                                                    \n",
            "                                                                 \n",
            " bidirectional_35 (Bidirecti  (None, 100, 200)         160800    \n",
            " onal)                                                           \n",
            "                                                                 \n",
            " conv1d_48 (Conv1D)          (None, 100, 200)          120200    \n",
            "                                                                 \n",
            " conv1d_49 (Conv1D)          (None, 100, 200)          160200    \n",
            "                                                                 \n",
            " conv1d_50 (Conv1D)          (None, 100, 200)          200200    \n",
            "                                                                 \n",
            " time_distributed_35 (TimeDi  (None, 100, 35)          7035      \n",
            " stributed)                                                      \n",
            "                                                                 \n",
            "=================================================================\n",
            "Total params: 1,588,635\n",
            "Trainable params: 1,588,635\n",
            "Non-trainable params: 0\n",
            "_________________________________________________________________\n",
            "Model: \"model_36\"\n",
            "_________________________________________________________________\n",
            " Layer (type)                Output Shape              Param #   \n",
            "=================================================================\n",
            " input_37 (InputLayer)       [(None, 100)]             0         \n",
            "                                                                 \n",
            " embedding_36 (Embedding)    (None, 100, 100)          940200    \n",
            "                                                                 \n",
            " spatial_dropout1d_36 (Spati  (None, 100, 100)         0         \n",
            " alDropout1D)                                                    \n",
            "                                                                 \n",
            " bidirectional_36 (Bidirecti  (None, 100, 200)         121200    \n",
            " onal)                                                           \n",
            "                                                                 \n",
            " conv1d_51 (Conv1D)          (None, 100, 200)          120200    \n",
            "                                                                 \n",
            " conv1d_52 (Conv1D)          (None, 100, 200)          160200    \n",
            "                                                                 \n",
            " conv1d_53 (Conv1D)          (None, 100, 200)          200200    \n",
            "                                                                 \n",
            " time_distributed_36 (TimeDi  (None, 100, 35)          7035      \n",
            " stributed)                                                      \n",
            "                                                                 \n",
            "=================================================================\n",
            "Total params: 1,549,035\n",
            "Trainable params: 1,549,035\n",
            "Non-trainable params: 0\n",
            "_________________________________________________________________\n",
            "Epoch 1/10\n",
            "135/135 [==============================] - 48s 326ms/step - loss: 1.3425 - accuracy: 0.8626 - val_loss: 0.5919 - val_accuracy: 0.8881\n",
            "Epoch 2/10\n",
            "135/135 [==============================] - 43s 321ms/step - loss: 0.6379 - accuracy: 0.8761 - val_loss: 0.5735 - val_accuracy: 0.8881\n",
            "Epoch 3/10\n",
            "135/135 [==============================] - 43s 322ms/step - loss: 0.6175 - accuracy: 0.8761 - val_loss: 0.5616 - val_accuracy: 0.8881\n",
            "Epoch 4/10\n",
            "135/135 [==============================] - 43s 320ms/step - loss: 0.5972 - accuracy: 0.8761 - val_loss: 0.5468 - val_accuracy: 0.8881\n",
            "Epoch 5/10\n",
            "135/135 [==============================] - 43s 318ms/step - loss: 0.5681 - accuracy: 0.8761 - val_loss: 0.5217 - val_accuracy: 0.8881\n",
            "Epoch 6/10\n",
            "135/135 [==============================] - 43s 320ms/step - loss: 0.5287 - accuracy: 0.8762 - val_loss: 0.4877 - val_accuracy: 0.8881\n",
            "Epoch 7/10\n",
            "135/135 [==============================] - 43s 320ms/step - loss: 0.4872 - accuracy: 0.8791 - val_loss: 0.4569 - val_accuracy: 0.8909\n",
            "Epoch 8/10\n",
            "135/135 [==============================] - 43s 320ms/step - loss: 0.4480 - accuracy: 0.8844 - val_loss: 0.4292 - val_accuracy: 0.8951\n",
            "Epoch 9/10\n",
            "135/135 [==============================] - 43s 318ms/step - loss: 0.4157 - accuracy: 0.8897 - val_loss: 0.4085 - val_accuracy: 0.8960\n",
            "Epoch 10/10\n",
            "135/135 [==============================] - 43s 320ms/step - loss: 0.3886 - accuracy: 0.8952 - val_loss: 0.3896 - val_accuracy: 0.8982\n",
            "Epoch 1/10\n",
            "135/135 [==============================] - 57s 382ms/step - loss: 1.0138 - accuracy: 0.8686 - val_loss: 0.5638 - val_accuracy: 0.8881\n",
            "Epoch 2/10\n",
            "135/135 [==============================] - 51s 377ms/step - loss: 0.5864 - accuracy: 0.8761 - val_loss: 0.5298 - val_accuracy: 0.8881\n",
            "Epoch 3/10\n",
            "135/135 [==============================] - 51s 377ms/step - loss: 0.5301 - accuracy: 0.8767 - val_loss: 0.4760 - val_accuracy: 0.8898\n",
            "Epoch 4/10\n",
            "135/135 [==============================] - 56s 417ms/step - loss: 0.4444 - accuracy: 0.8846 - val_loss: 0.4216 - val_accuracy: 0.8937\n",
            "Epoch 5/10\n",
            "135/135 [==============================] - 51s 377ms/step - loss: 0.3676 - accuracy: 0.8936 - val_loss: 0.3778 - val_accuracy: 0.9053\n",
            "Epoch 6/10\n",
            "135/135 [==============================] - 51s 378ms/step - loss: 0.2897 - accuracy: 0.9113 - val_loss: 0.3550 - val_accuracy: 0.9137\n",
            "Epoch 7/10\n",
            "135/135 [==============================] - 51s 378ms/step - loss: 0.2321 - accuracy: 0.9259 - val_loss: 0.3446 - val_accuracy: 0.9112\n",
            "Epoch 8/10\n",
            "135/135 [==============================] - 51s 379ms/step - loss: 0.1953 - accuracy: 0.9378 - val_loss: 0.3474 - val_accuracy: 0.9177\n",
            "Epoch 9/10\n",
            "135/135 [==============================] - 51s 378ms/step - loss: 0.1599 - accuracy: 0.9503 - val_loss: 0.3369 - val_accuracy: 0.9209\n",
            "Epoch 10/10\n",
            "135/135 [==============================] - 51s 381ms/step - loss: 0.1330 - accuracy: 0.9593 - val_loss: 0.3493 - val_accuracy: 0.9218\n",
            "Epoch 1/10\n",
            "135/135 [==============================] - 50s 335ms/step - loss: 1.6907 - accuracy: 0.8406 - val_loss: 0.6028 - val_accuracy: 0.8881\n",
            "Epoch 2/10\n",
            "135/135 [==============================] - 44s 326ms/step - loss: 0.6349 - accuracy: 0.8761 - val_loss: 0.5570 - val_accuracy: 0.8881\n",
            "Epoch 3/10\n",
            "135/135 [==============================] - 45s 333ms/step - loss: 0.5929 - accuracy: 0.8761 - val_loss: 0.5341 - val_accuracy: 0.8881\n",
            "Epoch 4/10\n",
            "135/135 [==============================] - 45s 330ms/step - loss: 0.5565 - accuracy: 0.8761 - val_loss: 0.5032 - val_accuracy: 0.8881\n",
            "Epoch 5/10\n",
            "135/135 [==============================] - 45s 334ms/step - loss: 0.5114 - accuracy: 0.8768 - val_loss: 0.4653 - val_accuracy: 0.8886\n",
            "Epoch 6/10\n",
            "135/135 [==============================] - 46s 339ms/step - loss: 0.4651 - accuracy: 0.8814 - val_loss: 0.4330 - val_accuracy: 0.8914\n",
            "Epoch 7/10\n",
            "135/135 [==============================] - 45s 337ms/step - loss: 0.4271 - accuracy: 0.8868 - val_loss: 0.4092 - val_accuracy: 0.8967\n",
            "Epoch 8/10\n",
            "135/135 [==============================] - 45s 335ms/step - loss: 0.3948 - accuracy: 0.8938 - val_loss: 0.3890 - val_accuracy: 0.9002\n",
            "Epoch 9/10\n",
            "135/135 [==============================] - 45s 333ms/step - loss: 0.3653 - accuracy: 0.9027 - val_loss: 0.3692 - val_accuracy: 0.9054\n",
            "Epoch 10/10\n",
            "135/135 [==============================] - 45s 331ms/step - loss: 0.3365 - accuracy: 0.9115 - val_loss: 0.3505 - val_accuracy: 0.9091\n",
            "Epoch 1/10\n",
            "135/135 [==============================] - 57s 392ms/step - loss: 1.0274 - accuracy: 0.8679 - val_loss: 0.5615 - val_accuracy: 0.8881\n",
            "Epoch 2/10\n",
            "135/135 [==============================] - 52s 383ms/step - loss: 0.5669 - accuracy: 0.8761 - val_loss: 0.5040 - val_accuracy: 0.8881\n",
            "Epoch 3/10\n",
            "135/135 [==============================] - 52s 382ms/step - loss: 0.4612 - accuracy: 0.8849 - val_loss: 0.4005 - val_accuracy: 0.9009\n",
            "Epoch 4/10\n",
            "135/135 [==============================] - 52s 382ms/step - loss: 0.3455 - accuracy: 0.9015 - val_loss: 0.3685 - val_accuracy: 0.9042\n",
            "Epoch 5/10\n",
            "135/135 [==============================] - 52s 383ms/step - loss: 0.2883 - accuracy: 0.9109 - val_loss: 0.3570 - val_accuracy: 0.9030\n",
            "Epoch 6/10\n",
            "135/135 [==============================] - 52s 384ms/step - loss: 0.2531 - accuracy: 0.9190 - val_loss: 0.3412 - val_accuracy: 0.9133\n",
            "Epoch 7/10\n",
            "135/135 [==============================] - 52s 386ms/step - loss: 0.2176 - accuracy: 0.9300 - val_loss: 0.3429 - val_accuracy: 0.9139\n",
            "Epoch 8/10\n",
            "135/135 [==============================] - 52s 384ms/step - loss: 0.1845 - accuracy: 0.9431 - val_loss: 0.3589 - val_accuracy: 0.9084\n",
            "Epoch 9/10\n",
            "135/135 [==============================] - 52s 383ms/step - loss: 0.1549 - accuracy: 0.9522 - val_loss: 0.3623 - val_accuracy: 0.9186\n",
            "Epoch 10/10\n",
            "135/135 [==============================] - 51s 380ms/step - loss: 0.1248 - accuracy: 0.9612 - val_loss: 0.4088 - val_accuracy: 0.9204\n"
          ]
        }
      ]
    },
    {
      "cell_type": "markdown",
      "source": [
        "##Kết quả trên bộ Science"
      ],
      "metadata": {
        "id": "wOHa-ROWh8Sv"
      }
    },
    {
      "cell_type": "code",
      "source": [
        "score(BiLSTM_s, x_test_s, y_test_s, tags_s)"
      ],
      "metadata": {
        "colab": {
          "base_uri": "https://localhost:8080/"
        },
        "id": "vsi1ivo1aG4G",
        "outputId": "a4a1079c-263c-4808-a356-92b06211f6c7"
      },
      "execution_count": null,
      "outputs": [
        {
          "output_type": "stream",
          "name": "stdout",
          "text": [
            "f1 macro:  0.08671184364322905\n",
            "f1 micro:  0.8953333333333333\n"
          ]
        }
      ]
    },
    {
      "cell_type": "code",
      "source": [
        "score(BiLSTMCNN_s, x_test_s, y_test_s, tags_s)"
      ],
      "metadata": {
        "colab": {
          "base_uri": "https://localhost:8080/"
        },
        "id": "Pr15Qs-naHe5",
        "outputId": "c5d1b021-3378-44c4-a44d-54c8221bf7b1"
      },
      "execution_count": null,
      "outputs": [
        {
          "output_type": "stream",
          "name": "stdout",
          "text": [
            "f1 macro:  0.3324908461499293\n",
            "f1 micro:  0.9235\n"
          ]
        }
      ]
    },
    {
      "cell_type": "code",
      "source": [
        "score(BiGRU_s, x_test_s, y_test_s, tags_s)"
      ],
      "metadata": {
        "colab": {
          "base_uri": "https://localhost:8080/"
        },
        "id": "vPEZ0xVvaH8C",
        "outputId": "406fccb0-b2c0-4b62-b524-7a29e96d55d5"
      },
      "execution_count": null,
      "outputs": [
        {
          "output_type": "stream",
          "name": "stdout",
          "text": [
            "f1 macro:  0.15947822801669775\n",
            "f1 micro:  0.9101666666666667\n"
          ]
        }
      ]
    },
    {
      "cell_type": "code",
      "source": [
        "score(BiGRUCNN_s, x_test_s, y_test_s, tags_s)"
      ],
      "metadata": {
        "colab": {
          "base_uri": "https://localhost:8080/"
        },
        "id": "TaL2LuNwyEK6",
        "outputId": "aef0e835-1829-463d-ef7f-5d03f1165427"
      },
      "execution_count": null,
      "outputs": [
        {
          "output_type": "stream",
          "name": "stdout",
          "text": [
            "f1 macro:  0.3592691117316034\n",
            "f1 micro:  0.9218333333333333\n"
          ]
        }
      ]
    },
    {
      "cell_type": "markdown",
      "source": [
        "##Kết quả dự đoán"
      ],
      "metadata": {
        "id": "0M0x7SEdilzY"
      }
    },
    {
      "cell_type": "code",
      "source": [
        "def predict(model, x_test, y_test, words, tags):\n",
        "  i = np.random.randint(0, x_test.shape[0])\n",
        "  p = model.predict(np.array([x_test[i]]))\n",
        "  p = np.argmax(p, axis=-1)\n",
        "  y_true = y_test[i]\n",
        "  print(\"{:15}{:5}\\t {}\\n\".format(\"Word\", \"True\", \"Pred\"))\n",
        "  print(\"-\" *30)\n",
        "  for w, true, pred in zip(x_test[i], y_true, p[0]):\n",
        "    print(\"{:15}{}\\t{}\".format(words[w-1], tags[true], tags[pred]))"
      ],
      "metadata": {
        "id": "l4Y6gz_ZizzS"
      },
      "execution_count": null,
      "outputs": []
    },
    {
      "cell_type": "code",
      "source": [
        "predict(BiLSTM_a, x_test_a, y_test_a, words_a, tags_a)"
      ],
      "metadata": {
        "id": "6tkCBlm2i0s5"
      },
      "execution_count": null,
      "outputs": []
    }
  ]
}