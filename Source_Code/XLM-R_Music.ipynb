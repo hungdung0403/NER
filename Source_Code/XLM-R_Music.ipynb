{
  "cells": [
    {
      "cell_type": "code",
      "execution_count": 1,
      "metadata": {
        "colab": {
          "base_uri": "https://localhost:8080/"
        },
        "id": "QkJRppUSB9Ko",
        "outputId": "1c529bb1-76d4-4ccf-d5db-4e39dbf4f581"
      },
      "outputs": [
        {
          "output_type": "stream",
          "name": "stdout",
          "text": [
            "Requirement already satisfied: numpy in /usr/local/lib/python3.7/dist-packages (1.19.5)\n",
            "Requirement already satisfied: pandas in /usr/local/lib/python3.7/dist-packages (1.1.5)\n",
            "Requirement already satisfied: tqdm in /usr/local/lib/python3.7/dist-packages (4.62.3)\n",
            "Requirement already satisfied: sklearn in /usr/local/lib/python3.7/dist-packages (0.0)\n",
            "Collecting transformers\n",
            "  Downloading transformers-4.15.0-py3-none-any.whl (3.4 MB)\n",
            "\u001b[K     |████████████████████████████████| 3.4 MB 4.1 MB/s \n",
            "\u001b[?25hRequirement already satisfied: python-dateutil>=2.7.3 in /usr/local/lib/python3.7/dist-packages (from pandas) (2.8.2)\n",
            "Requirement already satisfied: pytz>=2017.2 in /usr/local/lib/python3.7/dist-packages (from pandas) (2018.9)\n",
            "Requirement already satisfied: six>=1.5 in /usr/local/lib/python3.7/dist-packages (from python-dateutil>=2.7.3->pandas) (1.15.0)\n",
            "Requirement already satisfied: scikit-learn in /usr/local/lib/python3.7/dist-packages (from sklearn) (1.0.1)\n",
            "Collecting huggingface-hub<1.0,>=0.1.0\n",
            "  Downloading huggingface_hub-0.2.1-py3-none-any.whl (61 kB)\n",
            "\u001b[K     |████████████████████████████████| 61 kB 501 kB/s \n",
            "\u001b[?25hCollecting pyyaml>=5.1\n",
            "  Downloading PyYAML-6.0-cp37-cp37m-manylinux_2_5_x86_64.manylinux1_x86_64.manylinux_2_12_x86_64.manylinux2010_x86_64.whl (596 kB)\n",
            "\u001b[K     |████████████████████████████████| 596 kB 50.5 MB/s \n",
            "\u001b[?25hCollecting sacremoses\n",
            "  Downloading sacremoses-0.0.46-py3-none-any.whl (895 kB)\n",
            "\u001b[K     |████████████████████████████████| 895 kB 48.2 MB/s \n",
            "\u001b[?25hRequirement already satisfied: importlib-metadata in /usr/local/lib/python3.7/dist-packages (from transformers) (4.8.2)\n",
            "Requirement already satisfied: filelock in /usr/local/lib/python3.7/dist-packages (from transformers) (3.4.0)\n",
            "Collecting tokenizers<0.11,>=0.10.1\n",
            "  Downloading tokenizers-0.10.3-cp37-cp37m-manylinux_2_5_x86_64.manylinux1_x86_64.manylinux_2_12_x86_64.manylinux2010_x86_64.whl (3.3 MB)\n",
            "\u001b[K     |████████████████████████████████| 3.3 MB 39.0 MB/s \n",
            "\u001b[?25hRequirement already satisfied: regex!=2019.12.17 in /usr/local/lib/python3.7/dist-packages (from transformers) (2019.12.20)\n",
            "Requirement already satisfied: requests in /usr/local/lib/python3.7/dist-packages (from transformers) (2.23.0)\n",
            "Requirement already satisfied: packaging>=20.0 in /usr/local/lib/python3.7/dist-packages (from transformers) (21.3)\n",
            "Requirement already satisfied: typing-extensions>=3.7.4.3 in /usr/local/lib/python3.7/dist-packages (from huggingface-hub<1.0,>=0.1.0->transformers) (3.10.0.2)\n",
            "Requirement already satisfied: pyparsing!=3.0.5,>=2.0.2 in /usr/local/lib/python3.7/dist-packages (from packaging>=20.0->transformers) (3.0.6)\n",
            "Requirement already satisfied: zipp>=0.5 in /usr/local/lib/python3.7/dist-packages (from importlib-metadata->transformers) (3.6.0)\n",
            "Requirement already satisfied: chardet<4,>=3.0.2 in /usr/local/lib/python3.7/dist-packages (from requests->transformers) (3.0.4)\n",
            "Requirement already satisfied: urllib3!=1.25.0,!=1.25.1,<1.26,>=1.21.1 in /usr/local/lib/python3.7/dist-packages (from requests->transformers) (1.24.3)\n",
            "Requirement already satisfied: certifi>=2017.4.17 in /usr/local/lib/python3.7/dist-packages (from requests->transformers) (2021.10.8)\n",
            "Requirement already satisfied: idna<3,>=2.5 in /usr/local/lib/python3.7/dist-packages (from requests->transformers) (2.10)\n",
            "Requirement already satisfied: click in /usr/local/lib/python3.7/dist-packages (from sacremoses->transformers) (7.1.2)\n",
            "Requirement already satisfied: joblib in /usr/local/lib/python3.7/dist-packages (from sacremoses->transformers) (1.1.0)\n",
            "Requirement already satisfied: threadpoolctl>=2.0.0 in /usr/local/lib/python3.7/dist-packages (from scikit-learn->sklearn) (3.0.0)\n",
            "Requirement already satisfied: scipy>=1.1.0 in /usr/local/lib/python3.7/dist-packages (from scikit-learn->sklearn) (1.4.1)\n",
            "Installing collected packages: pyyaml, tokenizers, sacremoses, huggingface-hub, transformers\n",
            "  Attempting uninstall: pyyaml\n",
            "    Found existing installation: PyYAML 3.13\n",
            "    Uninstalling PyYAML-3.13:\n",
            "      Successfully uninstalled PyYAML-3.13\n",
            "Successfully installed huggingface-hub-0.2.1 pyyaml-6.0 sacremoses-0.0.46 tokenizers-0.10.3 transformers-4.15.0\n",
            "Collecting sentencepiece\n",
            "  Downloading sentencepiece-0.1.96-cp37-cp37m-manylinux_2_17_x86_64.manylinux2014_x86_64.whl (1.2 MB)\n",
            "\u001b[K     |████████████████████████████████| 1.2 MB 3.8 MB/s \n",
            "\u001b[?25hInstalling collected packages: sentencepiece\n",
            "Successfully installed sentencepiece-0.1.96\n"
          ]
        }
      ],
      "source": [
        "!pip install numpy pandas tqdm sklearn transformers\n",
        "!pip install sentencepiece"
      ]
    },
    {
      "cell_type": "code",
      "execution_count": 2,
      "metadata": {
        "colab": {
          "base_uri": "https://localhost:8080/"
        },
        "id": "Eluck5uCeCp-",
        "outputId": "129a5843-1ae2-4ff8-9bf1-c83fbd5a50d2"
      },
      "outputs": [
        {
          "output_type": "stream",
          "name": "stdout",
          "text": [
            "Cloning into 'CrossNER'...\n",
            "remote: Enumerating objects: 172, done.\u001b[K\n",
            "remote: Counting objects: 100% (8/8), done.\u001b[K\n",
            "remote: Compressing objects: 100% (6/6), done.\u001b[K\n",
            "remote: Total 172 (delta 2), reused 2 (delta 2), pack-reused 164\u001b[K\n",
            "Receiving objects: 100% (172/172), 2.30 MiB | 8.14 MiB/s, done.\n",
            "Resolving deltas: 100% (77/77), done.\n"
          ]
        }
      ],
      "source": [
        "!git clone https://github.com/DinhLuan14/CrossNER.git"
      ]
    },
    {
      "cell_type": "code",
      "execution_count": 3,
      "metadata": {
        "id": "bdW5yfemE0dQ"
      },
      "outputs": [],
      "source": [
        "def prepare_dataset(PATH,convert2bio=False):\n",
        "  sents = []\n",
        "  chunks = open(PATH,'r').read().split('\\n\\n')\n",
        "  for chunk in chunks:\n",
        "    lines = chunk.split('\\n')\n",
        "    sent = []\n",
        "    current_tag = None\n",
        "    previous_tag = None\n",
        "    for line in lines:\n",
        "        if line != '':\n",
        "            token = line.split('\\t')\n",
        "            previous_tag = current_tag \n",
        "            current_tag = token[1]\n",
        "            if convert2bio:\n",
        "                if previous_tag == current_tag and current_tag != 'O':\n",
        "                    sent.append((token[0],token[1]))\n",
        "                elif previous_tag != current_tag and current_tag != 'O':\n",
        "                    sent.append((token[0],token[1]))\n",
        "                else:\n",
        "                    sent.append((token[0],token[1]))\n",
        "            else:\n",
        "                sent.append((token[0],token[1]))\n",
        "    sents.append(sent)\n",
        "  return sents"
      ]
    },
    {
      "cell_type": "code",
      "execution_count": 4,
      "metadata": {
        "id": "d0_-FCCQFsru"
      },
      "outputs": [],
      "source": [
        "samples_train = prepare_dataset('/content/CrossNER/ner_data/music/train.txt',convert2bio=True)\n",
        "samples_valid = prepare_dataset('/content/CrossNER/ner_data/music/dev.txt',convert2bio=True)\n",
        "samples_test = prepare_dataset('/content/CrossNER/ner_data/music/test.txt',convert2bio=True)"
      ]
    },
    {
      "cell_type": "code",
      "source": [
        "samples_train[1]"
      ],
      "metadata": {
        "colab": {
          "base_uri": "https://localhost:8080/"
        },
        "id": "-jEsmO-0OXlB",
        "outputId": "e87ab27b-1e47-4d64-d277-06d3b2d3bd01"
      },
      "execution_count": 5,
      "outputs": [
        {
          "output_type": "execute_result",
          "data": {
            "text/plain": [
              "[('In', 'O'),\n",
              " ('addition', 'O'),\n",
              " ('to', 'O'),\n",
              " ('relentless', 'O'),\n",
              " ('touring', 'O'),\n",
              " ('in', 'O'),\n",
              " ('the', 'O'),\n",
              " ('U.S.', 'B-country'),\n",
              " ('and', 'O'),\n",
              " ('Canada', 'B-country'),\n",
              " (',', 'O'),\n",
              " ('PUSA', 'B-band'),\n",
              " ('made', 'O'),\n",
              " ('multiple', 'O'),\n",
              " ('tours', 'O'),\n",
              " ('of', 'O'),\n",
              " ('Europe', 'B-location'),\n",
              " (',', 'O'),\n",
              " ('Australia', 'B-country'),\n",
              " (',', 'O'),\n",
              " ('New', 'B-country'),\n",
              " ('Zealand', 'I-country'),\n",
              " ('and', 'O'),\n",
              " ('Japan', 'B-country'),\n",
              " ('.', 'O')]"
            ]
          },
          "metadata": {},
          "execution_count": 5
        }
      ]
    },
    {
      "cell_type": "code",
      "execution_count": 6,
      "metadata": {
        "id": "NgA_QWZmF1Gl"
      },
      "outputs": [],
      "source": [
        "samples = samples_train + samples_test + samples_valid\n",
        "schema = ['_'] + sorted({tag for sentence in samples \n",
        "                             for _, tag in sentence})"
      ]
    },
    {
      "cell_type": "code",
      "execution_count": 7,
      "metadata": {
        "id": "CG-cw57zGJbV",
        "colab": {
          "base_uri": "https://localhost:8080/",
          "height": 81,
          "referenced_widgets": [
            "64f2ab34c8424e3ebf9095a61115cf84",
            "fcf8afc58ce947aaaddea019a2daba56",
            "62f53b330bd6448faed9e9ac17180934",
            "e9da3a2edecb41c1b4aa91f1932adc3c",
            "aeb7efd38c664fc4a5b7617ffbf21701",
            "54173832cb1e4fc2903587a246b5588e",
            "c73087000d9943a386b6f27a81e2396b",
            "751dab6e314341569ee97d83343444df",
            "9096e1658fe44400943c608fe76c64b8",
            "2250e9e2aaf44f3f8a001c30fd1039cd",
            "def72836ac6542a39ee412065876e625",
            "1f05001ad1234748aa3dad616326c506",
            "ab657d3149764ef5b70f7ee1739222ae",
            "a962800facd84db7b0ccc49890a39edd",
            "21d3ec670eb8468b8d602f484f667992",
            "a456966bb6b24762b0d38c912a8a9faf",
            "7fe75889c021482ca1dba6000d7dfc4b",
            "f9f20bccc43945b9b782f25729753d98",
            "dafad23c4b734863b183d544e7919122",
            "25184e70536741ec84baf2ff09a63dcd",
            "4561398aac6e4fedbe0acb263648fd25",
            "cee9fec679964396a8b7ee2eccd859d7"
          ]
        },
        "outputId": "c9557ce3-2c98-4de3-ddfe-27aa7ada462c"
      },
      "outputs": [
        {
          "output_type": "display_data",
          "data": {
            "application/vnd.jupyter.widget-view+json": {
              "model_id": "64f2ab34c8424e3ebf9095a61115cf84",
              "version_minor": 0,
              "version_major": 2
            },
            "text/plain": [
              "Downloading:   0%|          | 0.00/513 [00:00<?, ?B/s]"
            ]
          },
          "metadata": {}
        },
        {
          "output_type": "display_data",
          "data": {
            "application/vnd.jupyter.widget-view+json": {
              "model_id": "1f05001ad1234748aa3dad616326c506",
              "version_minor": 0,
              "version_major": 2
            },
            "text/plain": [
              "Downloading:   0%|          | 0.00/4.83M [00:00<?, ?B/s]"
            ]
          },
          "metadata": {}
        }
      ],
      "source": [
        "import numpy as np\n",
        "from tqdm import tqdm\n",
        "import pandas as pd\n",
        "import json\n",
        "import tensorflow as tf\n",
        "from transformers import AutoTokenizer\n",
        "from transformers import AutoConfig, TFXLMRobertaForTokenClassification\n",
        "\n",
        "MODEL_NAME = 'jplu/tf-xlm-roberta-large'\n",
        "tokenizer = AutoTokenizer.from_pretrained(MODEL_NAME)"
      ]
    },
    {
      "cell_type": "code",
      "execution_count": 8,
      "metadata": {
        "colab": {
          "base_uri": "https://localhost:8080/"
        },
        "id": "EjtDPNA-GXp6",
        "outputId": "01637a5e-031c-43f7-92f3-2c78abce7561"
      },
      "outputs": [
        {
          "output_type": "stream",
          "name": "stderr",
          "text": [
            "101it [00:00, 239.61it/s]\n",
            "381it [00:01, 215.54it/s]\n",
            "466it [00:02, 214.98it/s]\n"
          ]
        }
      ],
      "source": [
        "def tokenize_sample(sample):\n",
        "  seq = [\n",
        "            (subtoken, tag)\n",
        "            for token, tag in sample\n",
        "            for subtoken in tokenizer(token)['input_ids'][1:-1]\n",
        "        ]\n",
        "  return [(3, 'O')] + seq + [(4, 'O')]\n",
        "\n",
        "def preprocess(samples,schema,max_len_sent=None):\n",
        "    if max_len_sent != None:\n",
        "      reduced_samples = []\n",
        "      for sample in samples:\n",
        "        if len(sample) < max_len_sent:\n",
        "          reduced_samples.append(sample)\n",
        "    else:\n",
        "      reduced_samples = samples\n",
        "    \n",
        "    tag_index = {tag: i for i, tag in enumerate(schema)}\n",
        "    tokenized_samples = list(tqdm(map(tokenize_sample, reduced_samples)))\n",
        "    max_len = max(map(len, tokenized_samples))\n",
        "    X = np.zeros((len(samples), max_len), dtype=np.int32)\n",
        "    y = np.zeros((len(samples), max_len), dtype=np.int32)\n",
        "    for i, sentence in enumerate(tokenized_samples):\n",
        "        for j, (subtoken_id, tag) in enumerate(sentence):\n",
        "            X[i, j] = subtoken_id\n",
        "            y[i,j] = tag_index[tag]\n",
        "    return X, y\n",
        "\n",
        "X_train, y_train = preprocess(samples_train,schema,max_len_sent=100)\n",
        "X_val, y_val = preprocess(samples_valid,schema,max_len_sent=100)\n",
        "X_test, y_test = preprocess(samples_test,schema,max_len_sent=100)"
      ]
    },
    {
      "cell_type": "code",
      "execution_count": 9,
      "metadata": {
        "colab": {
          "base_uri": "https://localhost:8080/",
          "height": 118,
          "referenced_widgets": [
            "d7942db2769b4cdd8d302938b8cd7966",
            "32fadd3c967946c6905ddf5a7fb4d3fb",
            "064c1842d04043789086f4fadf908934",
            "7e4deb2155f64840b5fcf063bb416107",
            "bdcd275e48c4477c82a5cc7208ad7eca",
            "12626b0ce19d4ac68297af5307251339",
            "d0a18a54342046cab860c5d628f02992",
            "3adf69aa836a41dfa6153822df7af5c3",
            "83e79db4761c4039bbdb8ec9b558448a",
            "34b3252fd12b4490a0db95bb5c8d8050",
            "afed5fa9dde342bbbf53285acbcfa57d"
          ]
        },
        "id": "cgZ_v3DlGRFq",
        "outputId": "b280803d-e7fb-4a1d-9aae-99c39b659630"
      },
      "outputs": [
        {
          "output_type": "display_data",
          "data": {
            "application/vnd.jupyter.widget-view+json": {
              "model_id": "d7942db2769b4cdd8d302938b8cd7966",
              "version_minor": 0,
              "version_major": 2
            },
            "text/plain": [
              "Downloading:   0%|          | 0.00/3.05G [00:00<?, ?B/s]"
            ]
          },
          "metadata": {}
        },
        {
          "output_type": "stream",
          "name": "stderr",
          "text": [
            "All model checkpoint layers were used when initializing TFXLMRobertaForTokenClassification.\n",
            "\n",
            "Some layers of TFXLMRobertaForTokenClassification were not initialized from the model checkpoint at jplu/tf-xlm-roberta-large and are newly initialized: ['classifier']\n",
            "You should probably TRAIN this model on a down-stream task to be able to use it for predictions and inference.\n"
          ]
        }
      ],
      "source": [
        "NR_EPOCHS=20\n",
        "BATCH_SIZE=2\n",
        "model = TFXLMRobertaForTokenClassification.from_pretrained(MODEL_NAME,num_labels=len(schema))"
      ]
    },
    {
      "cell_type": "code",
      "source": [
        "optimizer = tf.keras.optimizers.Adam(learning_rate=3e-6)\n",
        "loss = tf.keras.losses.SparseCategoricalCrossentropy(from_logits=True)\n",
        "model.compile(optimizer=optimizer, loss=loss, metrics='accuracy')\n",
        "  #model.load_weights(checkpoint_filepath)\n",
        "history = model.fit(tf.constant(X_train), tf.constant(y_train),\n",
        "                      validation_data=(X_val,y_val), epochs=NR_EPOCHS, \n",
        "                      batch_size=BATCH_SIZE,verbose=1)"
      ],
      "metadata": {
        "colab": {
          "base_uri": "https://localhost:8080/"
        },
        "id": "NvR-p1GV2afA",
        "outputId": "9cd53f3c-9579-411f-a8de-a2d621c9c053"
      },
      "execution_count": 10,
      "outputs": [
        {
          "output_type": "stream",
          "name": "stdout",
          "text": [
            "Epoch 1/20\n",
            "51/51 [==============================] - 121s 2s/step - loss: 2.5010 - accuracy: 0.3057 - val_loss: 1.5983 - val_accuracy: 0.5953\n",
            "Epoch 2/20\n",
            "51/51 [==============================] - 72s 1s/step - loss: 1.1187 - accuracy: 0.7550 - val_loss: 0.9649 - val_accuracy: 0.7755\n",
            "Epoch 3/20\n",
            "51/51 [==============================] - 71s 1s/step - loss: 0.8207 - accuracy: 0.8073 - val_loss: 0.7878 - val_accuracy: 0.8039\n",
            "Epoch 4/20\n",
            "51/51 [==============================] - 71s 1s/step - loss: 0.6961 - accuracy: 0.8232 - val_loss: 0.7016 - val_accuracy: 0.8171\n",
            "Epoch 5/20\n",
            "51/51 [==============================] - 71s 1s/step - loss: 0.6228 - accuracy: 0.8424 - val_loss: 0.6341 - val_accuracy: 0.8384\n",
            "Epoch 6/20\n",
            "51/51 [==============================] - 71s 1s/step - loss: 0.5301 - accuracy: 0.8621 - val_loss: 0.5545 - val_accuracy: 0.8575\n",
            "Epoch 7/20\n",
            "51/51 [==============================] - 71s 1s/step - loss: 0.4583 - accuracy: 0.8826 - val_loss: 0.4911 - val_accuracy: 0.8752\n",
            "Epoch 8/20\n",
            "51/51 [==============================] - 71s 1s/step - loss: 0.4006 - accuracy: 0.9022 - val_loss: 0.4511 - val_accuracy: 0.8799\n",
            "Epoch 9/20\n",
            "51/51 [==============================] - 71s 1s/step - loss: 0.3475 - accuracy: 0.9137 - val_loss: 0.3928 - val_accuracy: 0.8966\n",
            "Epoch 10/20\n",
            "51/51 [==============================] - 71s 1s/step - loss: 0.3074 - accuracy: 0.9200 - val_loss: 0.3590 - val_accuracy: 0.9025\n",
            "Epoch 11/20\n",
            "51/51 [==============================] - 71s 1s/step - loss: 0.2691 - accuracy: 0.9336 - val_loss: 0.3315 - val_accuracy: 0.9119\n",
            "Epoch 12/20\n",
            "51/51 [==============================] - 71s 1s/step - loss: 0.2400 - accuracy: 0.9413 - val_loss: 0.3044 - val_accuracy: 0.9212\n",
            "Epoch 13/20\n",
            "51/51 [==============================] - 71s 1s/step - loss: 0.2181 - accuracy: 0.9466 - val_loss: 0.3118 - val_accuracy: 0.9187\n",
            "Epoch 14/20\n",
            "51/51 [==============================] - 71s 1s/step - loss: 0.2133 - accuracy: 0.9477 - val_loss: 0.2854 - val_accuracy: 0.9258\n",
            "Epoch 15/20\n",
            "51/51 [==============================] - 71s 1s/step - loss: 0.1837 - accuracy: 0.9554 - val_loss: 0.2741 - val_accuracy: 0.9280\n",
            "Epoch 16/20\n",
            "51/51 [==============================] - 71s 1s/step - loss: 0.1634 - accuracy: 0.9602 - val_loss: 0.2629 - val_accuracy: 0.9321\n",
            "Epoch 17/20\n",
            "51/51 [==============================] - 71s 1s/step - loss: 0.1460 - accuracy: 0.9661 - val_loss: 0.2426 - val_accuracy: 0.9377\n",
            "Epoch 18/20\n",
            "51/51 [==============================] - 71s 1s/step - loss: 0.1320 - accuracy: 0.9688 - val_loss: 0.2349 - val_accuracy: 0.9385\n",
            "Epoch 19/20\n",
            "51/51 [==============================] - 71s 1s/step - loss: 0.1208 - accuracy: 0.9710 - val_loss: 0.2430 - val_accuracy: 0.9378\n",
            "Epoch 20/20\n",
            "51/51 [==============================] - 71s 1s/step - loss: 0.1123 - accuracy: 0.9711 - val_loss: 0.2196 - val_accuracy: 0.9432\n"
          ]
        }
      ]
    },
    {
      "cell_type": "code",
      "execution_count": 11,
      "metadata": {
        "id": "F19rly-unaw1"
      },
      "outputs": [],
      "source": [
        "def aggregate(sample,schema,predictions):\n",
        "    results = []\n",
        "    i = 1\n",
        "    for token, y_true in sample:\n",
        "        nr_subtoken = len(tokenizer(token)['input_ids']) - 2\n",
        "        pred = predictions[i:i+nr_subtoken]\n",
        "        i += nr_subtoken\n",
        "        y_pred = schema[np.argmax(np.sum(pred, axis=0))]\n",
        "        results.append((token, y_true, y_pred))\n",
        "    return results\n",
        " \n",
        "y_probs = model.predict(X_test)[0]\n",
        "predictions = [aggregate(sample,schema,predictions) for sample, predictions in zip(samples_test, y_probs)]"
      ]
    },
    {
      "cell_type": "code",
      "source": [
        "y = []\n",
        "y_hat = []\n",
        "y_pre = []\n",
        "for pred in predictions:\n",
        "  for token in pred:\n",
        "    y.append(token[1])\n",
        "    y_hat.append(token[2])\n",
        "    y_pre.append('O')\n",
        "len(y_hat)"
      ],
      "metadata": {
        "colab": {
          "base_uri": "https://localhost:8080/"
        },
        "id": "NAg9X6Y5ZBtg",
        "outputId": "2d72e4c3-5c4a-41aa-c8db-a9bdfc85d7c9"
      },
      "execution_count": 12,
      "outputs": [
        {
          "output_type": "execute_result",
          "data": {
            "text/plain": [
              "19605"
            ]
          },
          "metadata": {},
          "execution_count": 12
        }
      ]
    },
    {
      "cell_type": "code",
      "source": [
        "from sklearn.metrics import f1_score\n",
        "print('micro f1:',f1_score(y,y_hat,average='micro'))\n",
        "print('macro f1:',f1_score(y,y_hat,average='macro'))"
      ],
      "metadata": {
        "colab": {
          "base_uri": "https://localhost:8080/"
        },
        "id": "L_7HXzYRZCK_",
        "outputId": "f6dd4231-77ae-427e-d2cc-504c195db166"
      },
      "execution_count": 13,
      "outputs": [
        {
          "output_type": "stream",
          "name": "stdout",
          "text": [
            "micro f1: 0.8820709002805407\n",
            "macro f1: 0.4968214696214293\n"
          ]
        }
      ]
    },
    {
      "cell_type": "code",
      "source": [
        "print('micro f1:',f1_score(y,y_pre,average='micro'))\n",
        "print('macro f1:',f1_score(y,y_pre,average='macro'))"
      ],
      "metadata": {
        "colab": {
          "base_uri": "https://localhost:8080/"
        },
        "id": "QSnmjzExAd4l",
        "outputId": "92a0699a-14d5-409e-f5d4-bb5b61b57373"
      },
      "execution_count": 14,
      "outputs": [
        {
          "output_type": "stream",
          "name": "stdout",
          "text": [
            "micro f1: 0.6013771996939556\n",
            "macro f1: 0.02781759303498434\n"
          ]
        }
      ]
    },
    {
      "cell_type": "code",
      "source": [
        "import json\n",
        "from sklearn.metrics import classification_report\n",
        "from sklearn.metrics import confusion_matrix\n",
        "import seaborn as sns\n",
        "import matplotlib.pyplot as plt\n",
        "from sklearn.metrics import confusion_matrix\n",
        "\n",
        "print(classification_report(y, y_hat,digits=4))"
      ],
      "metadata": {
        "id": "owpvp4q7Gvg8",
        "colab": {
          "base_uri": "https://localhost:8080/"
        },
        "outputId": "571dc5f8-8b23-44a7-d725-fa7325ef3021"
      },
      "execution_count": 15,
      "outputs": [
        {
          "output_type": "stream",
          "name": "stderr",
          "text": [
            "/usr/local/lib/python3.7/dist-packages/sklearn/metrics/_classification.py:1308: UndefinedMetricWarning: Precision and F-score are ill-defined and being set to 0.0 in labels with no predicted samples. Use `zero_division` parameter to control this behavior.\n",
            "  _warn_prf(average, modifier, msg_start, len(result))\n",
            "/usr/local/lib/python3.7/dist-packages/sklearn/metrics/_classification.py:1308: UndefinedMetricWarning: Recall and F-score are ill-defined and being set to 0.0 in labels with no true samples. Use `zero_division` parameter to control this behavior.\n",
            "  _warn_prf(average, modifier, msg_start, len(result))\n",
            "/usr/local/lib/python3.7/dist-packages/sklearn/metrics/_classification.py:1308: UndefinedMetricWarning: Precision and F-score are ill-defined and being set to 0.0 in labels with no predicted samples. Use `zero_division` parameter to control this behavior.\n",
            "  _warn_prf(average, modifier, msg_start, len(result))\n",
            "/usr/local/lib/python3.7/dist-packages/sklearn/metrics/_classification.py:1308: UndefinedMetricWarning: Recall and F-score are ill-defined and being set to 0.0 in labels with no true samples. Use `zero_division` parameter to control this behavior.\n",
            "  _warn_prf(average, modifier, msg_start, len(result))\n"
          ]
        },
        {
          "output_type": "stream",
          "name": "stdout",
          "text": [
            "                     precision    recall  f1-score   support\n",
            "\n",
            "            B-album     0.5072    0.8524    0.6360       332\n",
            "            B-award     0.8393    0.9038    0.8704       260\n",
            "             B-band     0.7062    0.8117    0.7553       462\n",
            "          B-country     0.6000    0.8438    0.7013       160\n",
            "            B-event     0.0000    0.0000    0.0000        69\n",
            "         B-location     0.7906    0.7376    0.7632       343\n",
            "             B-misc     0.0000    0.0000    0.0000       171\n",
            "    B-musicalartist     0.7811    0.9010    0.8368       515\n",
            "B-musicalinstrument     0.0000    0.0000    0.0000        22\n",
            "       B-musicgenre     0.7540    0.8686    0.8073       487\n",
            "     B-organisation     0.7194    0.6779    0.6980       208\n",
            "           B-person     0.0000    0.0000    0.0000        80\n",
            "             B-song     0.8462    0.0485    0.0917       227\n",
            "            I-album     0.5865    0.8385    0.6902       675\n",
            "            I-award     0.9148    0.9367    0.9256       837\n",
            "             I-band     0.7849    0.8093    0.7969       514\n",
            "          I-country     0.0000    0.0000    0.0000        28\n",
            "            I-event     0.6725    0.7012    0.6866       164\n",
            "         I-location     0.7784    0.7173    0.7466       382\n",
            "             I-misc     0.0000    0.0000    0.0000       122\n",
            "    I-musicalartist     0.8419    0.8894    0.8650       443\n",
            "I-musicalinstrument     0.0000    0.0000    0.0000         3\n",
            "       I-musicgenre     0.8129    0.8800    0.8451       400\n",
            "     I-organisation     0.7101    0.7983    0.7516       362\n",
            "           I-person     0.0000    0.0000    0.0000        58\n",
            "             I-song     0.7261    0.3401    0.4632       491\n",
            "                  O     0.9752    0.9852    0.9802     11790\n",
            "                  _     0.0000    0.0000    0.0000         0\n",
            "\n",
            "           accuracy                         0.8821     19605\n",
            "          macro avg     0.5124    0.5193    0.4968     19605\n",
            "       weighted avg     0.8658    0.8821    0.8659     19605\n",
            "\n"
          ]
        },
        {
          "output_type": "stream",
          "name": "stderr",
          "text": [
            "/usr/local/lib/python3.7/dist-packages/sklearn/metrics/_classification.py:1308: UndefinedMetricWarning: Precision and F-score are ill-defined and being set to 0.0 in labels with no predicted samples. Use `zero_division` parameter to control this behavior.\n",
            "  _warn_prf(average, modifier, msg_start, len(result))\n",
            "/usr/local/lib/python3.7/dist-packages/sklearn/metrics/_classification.py:1308: UndefinedMetricWarning: Recall and F-score are ill-defined and being set to 0.0 in labels with no true samples. Use `zero_division` parameter to control this behavior.\n",
            "  _warn_prf(average, modifier, msg_start, len(result))\n"
          ]
        }
      ]
    },
    {
      "cell_type": "code",
      "source": [
        "print(classification_report(y, y_pre,digits=4))"
      ],
      "metadata": {
        "colab": {
          "base_uri": "https://localhost:8080/"
        },
        "id": "6f7v4JSVGxJj",
        "outputId": "dd415a4d-43e3-4824-bbee-f77aeff121ba"
      },
      "execution_count": 16,
      "outputs": [
        {
          "output_type": "stream",
          "name": "stderr",
          "text": [
            "/usr/local/lib/python3.7/dist-packages/sklearn/metrics/_classification.py:1308: UndefinedMetricWarning: Precision and F-score are ill-defined and being set to 0.0 in labels with no predicted samples. Use `zero_division` parameter to control this behavior.\n",
            "  _warn_prf(average, modifier, msg_start, len(result))\n"
          ]
        },
        {
          "output_type": "stream",
          "name": "stdout",
          "text": [
            "                     precision    recall  f1-score   support\n",
            "\n",
            "            B-album     0.0000    0.0000    0.0000       332\n",
            "            B-award     0.0000    0.0000    0.0000       260\n",
            "             B-band     0.0000    0.0000    0.0000       462\n",
            "          B-country     0.0000    0.0000    0.0000       160\n",
            "            B-event     0.0000    0.0000    0.0000        69\n",
            "         B-location     0.0000    0.0000    0.0000       343\n",
            "             B-misc     0.0000    0.0000    0.0000       171\n",
            "    B-musicalartist     0.0000    0.0000    0.0000       515\n",
            "B-musicalinstrument     0.0000    0.0000    0.0000        22\n",
            "       B-musicgenre     0.0000    0.0000    0.0000       487\n",
            "     B-organisation     0.0000    0.0000    0.0000       208\n",
            "           B-person     0.0000    0.0000    0.0000        80\n",
            "             B-song     0.0000    0.0000    0.0000       227\n",
            "            I-album     0.0000    0.0000    0.0000       675\n",
            "            I-award     0.0000    0.0000    0.0000       837\n",
            "             I-band     0.0000    0.0000    0.0000       514\n",
            "          I-country     0.0000    0.0000    0.0000        28\n",
            "            I-event     0.0000    0.0000    0.0000       164\n",
            "         I-location     0.0000    0.0000    0.0000       382\n",
            "             I-misc     0.0000    0.0000    0.0000       122\n",
            "    I-musicalartist     0.0000    0.0000    0.0000       443\n",
            "I-musicalinstrument     0.0000    0.0000    0.0000         3\n",
            "       I-musicgenre     0.0000    0.0000    0.0000       400\n",
            "     I-organisation     0.0000    0.0000    0.0000       362\n",
            "           I-person     0.0000    0.0000    0.0000        58\n",
            "             I-song     0.0000    0.0000    0.0000       491\n",
            "                  O     0.6014    1.0000    0.7511     11790\n",
            "\n",
            "           accuracy                         0.6014     19605\n",
            "          macro avg     0.0223    0.0370    0.0278     19605\n",
            "       weighted avg     0.3617    0.6014    0.4517     19605\n",
            "\n"
          ]
        },
        {
          "output_type": "stream",
          "name": "stderr",
          "text": [
            "/usr/local/lib/python3.7/dist-packages/sklearn/metrics/_classification.py:1308: UndefinedMetricWarning: Precision and F-score are ill-defined and being set to 0.0 in labels with no predicted samples. Use `zero_division` parameter to control this behavior.\n",
            "  _warn_prf(average, modifier, msg_start, len(result))\n",
            "/usr/local/lib/python3.7/dist-packages/sklearn/metrics/_classification.py:1308: UndefinedMetricWarning: Precision and F-score are ill-defined and being set to 0.0 in labels with no predicted samples. Use `zero_division` parameter to control this behavior.\n",
            "  _warn_prf(average, modifier, msg_start, len(result))\n"
          ]
        }
      ]
    },
    {
      "cell_type": "code",
      "source": [
        "predictions[300]"
      ],
      "metadata": {
        "id": "1BVS47OSyiIo",
        "colab": {
          "base_uri": "https://localhost:8080/"
        },
        "outputId": "76b924f3-565e-4b99-8d63-1eb2ecd500dc"
      },
      "execution_count": 17,
      "outputs": [
        {
          "output_type": "execute_result",
          "data": {
            "text/plain": [
              "[('In', 'O', 'O'),\n",
              " ('the', 'O', 'O'),\n",
              " ('Southwestern', 'B-location', 'B-country'),\n",
              " ('United', 'I-location', 'B-country'),\n",
              " ('States', 'I-location', 'B-country'),\n",
              " (',', 'O', 'O'),\n",
              " ('it', 'O', 'O'),\n",
              " ('was', 'O', 'O'),\n",
              " ('the', 'O', 'O'),\n",
              " ('Rocky', 'B-location', 'B-musicgenre'),\n",
              " ('Mountains', 'I-location', 'I-location'),\n",
              " (',', 'O', 'O'),\n",
              " ('American', 'B-location', 'B-musicgenre'),\n",
              " ('frontier', 'I-location', 'I-location'),\n",
              " (',', 'O', 'O'),\n",
              " ('and', 'O', 'O'),\n",
              " ('Rio', 'B-location', 'B-musicgenre'),\n",
              " ('Grande', 'I-location', 'I-musicgenre'),\n",
              " ('that', 'O', 'O'),\n",
              " ('acted', 'O', 'O'),\n",
              " ('as', 'O', 'O'),\n",
              " ('a', 'O', 'O'),\n",
              " ('similar', 'O', 'O'),\n",
              " ('backdrop', 'O', 'O'),\n",
              " ('for', 'O', 'O'),\n",
              " ('Indigenous', 'B-musicgenre', 'B-musicgenre'),\n",
              " ('music', 'I-musicgenre', 'I-musicgenre'),\n",
              " ('of', 'I-musicgenre', 'O'),\n",
              " ('North', 'I-musicgenre', 'B-musicgenre'),\n",
              " ('America', 'I-musicgenre', 'B-country'),\n",
              " (',', 'O', 'O'),\n",
              " ('Mexican', 'B-misc', 'B-musicgenre'),\n",
              " (',', 'O', 'O'),\n",
              " ('and', 'O', 'O'),\n",
              " ('cowboy', 'B-misc', 'B-musicgenre'),\n",
              " ('ballads', 'I-misc', 'I-musicgenre'),\n",
              " (',', 'O', 'O'),\n",
              " ('which', 'O', 'O'),\n",
              " ('resulted', 'O', 'O'),\n",
              " ('in', 'O', 'O'),\n",
              " ('New', 'B-musicgenre', 'B-musicgenre'),\n",
              " ('Mexico', 'I-musicgenre', 'I-musicgenre'),\n",
              " ('music', 'I-musicgenre', 'I-musicgenre'),\n",
              " ('and', 'O', 'O'),\n",
              " ('the', 'O', 'O'),\n",
              " ('development', 'O', 'O'),\n",
              " ('of', 'O', 'O'),\n",
              " ('Western', 'B-misc', 'B-musicgenre'),\n",
              " ('music', 'I-misc', 'I-musicgenre'),\n",
              " (',', 'O', 'O'),\n",
              " ('and', 'O', 'O'),\n",
              " ('its', 'O', 'O'),\n",
              " ('directly', 'O', 'O'),\n",
              " ('related', 'O', 'O'),\n",
              " ('Red', 'B-musicgenre', 'B-musicgenre'),\n",
              " ('Dirt', 'I-musicgenre', 'I-musicgenre'),\n",
              " (',', 'O', 'O'),\n",
              " ('Texas', 'B-musicgenre', 'B-musicgenre'),\n",
              " ('country', 'I-musicgenre', 'I-musicgenre'),\n",
              " ('music', 'I-musicgenre', 'I-musicgenre'),\n",
              " (',', 'O', 'O'),\n",
              " ('and', 'O', 'O'),\n",
              " ('Tejano', 'B-musicgenre', 'B-musicgenre'),\n",
              " ('music', 'I-musicgenre', 'I-musicgenre'),\n",
              " ('styles', 'O', 'O'),\n",
              " ('.', 'O', 'O')]"
            ]
          },
          "metadata": {},
          "execution_count": 17
        }
      ]
    }
  ],
  "metadata": {
    "colab": {
      "name": "music-dataset.ipynb",
      "provenance": [],
      "machine_shape": "hm",
      "collapsed_sections": []
    },
    "kernelspec": {
      "display_name": "Python 3",
      "name": "python3"
    },
    "language_info": {
      "name": "python"
    },
    "accelerator": "GPU",
    "widgets": {
      "application/vnd.jupyter.widget-state+json": {
        "64f2ab34c8424e3ebf9095a61115cf84": {
          "model_module": "@jupyter-widgets/controls",
          "model_name": "HBoxModel",
          "model_module_version": "1.5.0",
          "state": {
            "_view_name": "HBoxView",
            "_dom_classes": [],
            "_model_name": "HBoxModel",
            "_view_module": "@jupyter-widgets/controls",
            "_model_module_version": "1.5.0",
            "_view_count": null,
            "_view_module_version": "1.5.0",
            "box_style": "",
            "layout": "IPY_MODEL_fcf8afc58ce947aaaddea019a2daba56",
            "_model_module": "@jupyter-widgets/controls",
            "children": [
              "IPY_MODEL_62f53b330bd6448faed9e9ac17180934",
              "IPY_MODEL_e9da3a2edecb41c1b4aa91f1932adc3c",
              "IPY_MODEL_aeb7efd38c664fc4a5b7617ffbf21701"
            ]
          }
        },
        "fcf8afc58ce947aaaddea019a2daba56": {
          "model_module": "@jupyter-widgets/base",
          "model_name": "LayoutModel",
          "model_module_version": "1.2.0",
          "state": {
            "_view_name": "LayoutView",
            "grid_template_rows": null,
            "right": null,
            "justify_content": null,
            "_view_module": "@jupyter-widgets/base",
            "overflow": null,
            "_model_module_version": "1.2.0",
            "_view_count": null,
            "flex_flow": null,
            "width": null,
            "min_width": null,
            "border": null,
            "align_items": null,
            "bottom": null,
            "_model_module": "@jupyter-widgets/base",
            "top": null,
            "grid_column": null,
            "overflow_y": null,
            "overflow_x": null,
            "grid_auto_flow": null,
            "grid_area": null,
            "grid_template_columns": null,
            "flex": null,
            "_model_name": "LayoutModel",
            "justify_items": null,
            "grid_row": null,
            "max_height": null,
            "align_content": null,
            "visibility": null,
            "align_self": null,
            "height": null,
            "min_height": null,
            "padding": null,
            "grid_auto_rows": null,
            "grid_gap": null,
            "max_width": null,
            "order": null,
            "_view_module_version": "1.2.0",
            "grid_template_areas": null,
            "object_position": null,
            "object_fit": null,
            "grid_auto_columns": null,
            "margin": null,
            "display": null,
            "left": null
          }
        },
        "62f53b330bd6448faed9e9ac17180934": {
          "model_module": "@jupyter-widgets/controls",
          "model_name": "HTMLModel",
          "model_module_version": "1.5.0",
          "state": {
            "_view_name": "HTMLView",
            "style": "IPY_MODEL_54173832cb1e4fc2903587a246b5588e",
            "_dom_classes": [],
            "description": "",
            "_model_name": "HTMLModel",
            "placeholder": "​",
            "_view_module": "@jupyter-widgets/controls",
            "_model_module_version": "1.5.0",
            "value": "Downloading: 100%",
            "_view_count": null,
            "_view_module_version": "1.5.0",
            "description_tooltip": null,
            "_model_module": "@jupyter-widgets/controls",
            "layout": "IPY_MODEL_c73087000d9943a386b6f27a81e2396b"
          }
        },
        "e9da3a2edecb41c1b4aa91f1932adc3c": {
          "model_module": "@jupyter-widgets/controls",
          "model_name": "FloatProgressModel",
          "model_module_version": "1.5.0",
          "state": {
            "_view_name": "ProgressView",
            "style": "IPY_MODEL_751dab6e314341569ee97d83343444df",
            "_dom_classes": [],
            "description": "",
            "_model_name": "FloatProgressModel",
            "bar_style": "success",
            "max": 513,
            "_view_module": "@jupyter-widgets/controls",
            "_model_module_version": "1.5.0",
            "value": 513,
            "_view_count": null,
            "_view_module_version": "1.5.0",
            "orientation": "horizontal",
            "min": 0,
            "description_tooltip": null,
            "_model_module": "@jupyter-widgets/controls",
            "layout": "IPY_MODEL_9096e1658fe44400943c608fe76c64b8"
          }
        },
        "aeb7efd38c664fc4a5b7617ffbf21701": {
          "model_module": "@jupyter-widgets/controls",
          "model_name": "HTMLModel",
          "model_module_version": "1.5.0",
          "state": {
            "_view_name": "HTMLView",
            "style": "IPY_MODEL_2250e9e2aaf44f3f8a001c30fd1039cd",
            "_dom_classes": [],
            "description": "",
            "_model_name": "HTMLModel",
            "placeholder": "​",
            "_view_module": "@jupyter-widgets/controls",
            "_model_module_version": "1.5.0",
            "value": " 513/513 [00:00&lt;00:00, 4.30kB/s]",
            "_view_count": null,
            "_view_module_version": "1.5.0",
            "description_tooltip": null,
            "_model_module": "@jupyter-widgets/controls",
            "layout": "IPY_MODEL_def72836ac6542a39ee412065876e625"
          }
        },
        "54173832cb1e4fc2903587a246b5588e": {
          "model_module": "@jupyter-widgets/controls",
          "model_name": "DescriptionStyleModel",
          "model_module_version": "1.5.0",
          "state": {
            "_view_name": "StyleView",
            "_model_name": "DescriptionStyleModel",
            "description_width": "",
            "_view_module": "@jupyter-widgets/base",
            "_model_module_version": "1.5.0",
            "_view_count": null,
            "_view_module_version": "1.2.0",
            "_model_module": "@jupyter-widgets/controls"
          }
        },
        "c73087000d9943a386b6f27a81e2396b": {
          "model_module": "@jupyter-widgets/base",
          "model_name": "LayoutModel",
          "model_module_version": "1.2.0",
          "state": {
            "_view_name": "LayoutView",
            "grid_template_rows": null,
            "right": null,
            "justify_content": null,
            "_view_module": "@jupyter-widgets/base",
            "overflow": null,
            "_model_module_version": "1.2.0",
            "_view_count": null,
            "flex_flow": null,
            "width": null,
            "min_width": null,
            "border": null,
            "align_items": null,
            "bottom": null,
            "_model_module": "@jupyter-widgets/base",
            "top": null,
            "grid_column": null,
            "overflow_y": null,
            "overflow_x": null,
            "grid_auto_flow": null,
            "grid_area": null,
            "grid_template_columns": null,
            "flex": null,
            "_model_name": "LayoutModel",
            "justify_items": null,
            "grid_row": null,
            "max_height": null,
            "align_content": null,
            "visibility": null,
            "align_self": null,
            "height": null,
            "min_height": null,
            "padding": null,
            "grid_auto_rows": null,
            "grid_gap": null,
            "max_width": null,
            "order": null,
            "_view_module_version": "1.2.0",
            "grid_template_areas": null,
            "object_position": null,
            "object_fit": null,
            "grid_auto_columns": null,
            "margin": null,
            "display": null,
            "left": null
          }
        },
        "751dab6e314341569ee97d83343444df": {
          "model_module": "@jupyter-widgets/controls",
          "model_name": "ProgressStyleModel",
          "model_module_version": "1.5.0",
          "state": {
            "_view_name": "StyleView",
            "_model_name": "ProgressStyleModel",
            "description_width": "",
            "_view_module": "@jupyter-widgets/base",
            "_model_module_version": "1.5.0",
            "_view_count": null,
            "_view_module_version": "1.2.0",
            "bar_color": null,
            "_model_module": "@jupyter-widgets/controls"
          }
        },
        "9096e1658fe44400943c608fe76c64b8": {
          "model_module": "@jupyter-widgets/base",
          "model_name": "LayoutModel",
          "model_module_version": "1.2.0",
          "state": {
            "_view_name": "LayoutView",
            "grid_template_rows": null,
            "right": null,
            "justify_content": null,
            "_view_module": "@jupyter-widgets/base",
            "overflow": null,
            "_model_module_version": "1.2.0",
            "_view_count": null,
            "flex_flow": null,
            "width": null,
            "min_width": null,
            "border": null,
            "align_items": null,
            "bottom": null,
            "_model_module": "@jupyter-widgets/base",
            "top": null,
            "grid_column": null,
            "overflow_y": null,
            "overflow_x": null,
            "grid_auto_flow": null,
            "grid_area": null,
            "grid_template_columns": null,
            "flex": null,
            "_model_name": "LayoutModel",
            "justify_items": null,
            "grid_row": null,
            "max_height": null,
            "align_content": null,
            "visibility": null,
            "align_self": null,
            "height": null,
            "min_height": null,
            "padding": null,
            "grid_auto_rows": null,
            "grid_gap": null,
            "max_width": null,
            "order": null,
            "_view_module_version": "1.2.0",
            "grid_template_areas": null,
            "object_position": null,
            "object_fit": null,
            "grid_auto_columns": null,
            "margin": null,
            "display": null,
            "left": null
          }
        },
        "2250e9e2aaf44f3f8a001c30fd1039cd": {
          "model_module": "@jupyter-widgets/controls",
          "model_name": "DescriptionStyleModel",
          "model_module_version": "1.5.0",
          "state": {
            "_view_name": "StyleView",
            "_model_name": "DescriptionStyleModel",
            "description_width": "",
            "_view_module": "@jupyter-widgets/base",
            "_model_module_version": "1.5.0",
            "_view_count": null,
            "_view_module_version": "1.2.0",
            "_model_module": "@jupyter-widgets/controls"
          }
        },
        "def72836ac6542a39ee412065876e625": {
          "model_module": "@jupyter-widgets/base",
          "model_name": "LayoutModel",
          "model_module_version": "1.2.0",
          "state": {
            "_view_name": "LayoutView",
            "grid_template_rows": null,
            "right": null,
            "justify_content": null,
            "_view_module": "@jupyter-widgets/base",
            "overflow": null,
            "_model_module_version": "1.2.0",
            "_view_count": null,
            "flex_flow": null,
            "width": null,
            "min_width": null,
            "border": null,
            "align_items": null,
            "bottom": null,
            "_model_module": "@jupyter-widgets/base",
            "top": null,
            "grid_column": null,
            "overflow_y": null,
            "overflow_x": null,
            "grid_auto_flow": null,
            "grid_area": null,
            "grid_template_columns": null,
            "flex": null,
            "_model_name": "LayoutModel",
            "justify_items": null,
            "grid_row": null,
            "max_height": null,
            "align_content": null,
            "visibility": null,
            "align_self": null,
            "height": null,
            "min_height": null,
            "padding": null,
            "grid_auto_rows": null,
            "grid_gap": null,
            "max_width": null,
            "order": null,
            "_view_module_version": "1.2.0",
            "grid_template_areas": null,
            "object_position": null,
            "object_fit": null,
            "grid_auto_columns": null,
            "margin": null,
            "display": null,
            "left": null
          }
        },
        "1f05001ad1234748aa3dad616326c506": {
          "model_module": "@jupyter-widgets/controls",
          "model_name": "HBoxModel",
          "model_module_version": "1.5.0",
          "state": {
            "_view_name": "HBoxView",
            "_dom_classes": [],
            "_model_name": "HBoxModel",
            "_view_module": "@jupyter-widgets/controls",
            "_model_module_version": "1.5.0",
            "_view_count": null,
            "_view_module_version": "1.5.0",
            "box_style": "",
            "layout": "IPY_MODEL_ab657d3149764ef5b70f7ee1739222ae",
            "_model_module": "@jupyter-widgets/controls",
            "children": [
              "IPY_MODEL_a962800facd84db7b0ccc49890a39edd",
              "IPY_MODEL_21d3ec670eb8468b8d602f484f667992",
              "IPY_MODEL_a456966bb6b24762b0d38c912a8a9faf"
            ]
          }
        },
        "ab657d3149764ef5b70f7ee1739222ae": {
          "model_module": "@jupyter-widgets/base",
          "model_name": "LayoutModel",
          "model_module_version": "1.2.0",
          "state": {
            "_view_name": "LayoutView",
            "grid_template_rows": null,
            "right": null,
            "justify_content": null,
            "_view_module": "@jupyter-widgets/base",
            "overflow": null,
            "_model_module_version": "1.2.0",
            "_view_count": null,
            "flex_flow": null,
            "width": null,
            "min_width": null,
            "border": null,
            "align_items": null,
            "bottom": null,
            "_model_module": "@jupyter-widgets/base",
            "top": null,
            "grid_column": null,
            "overflow_y": null,
            "overflow_x": null,
            "grid_auto_flow": null,
            "grid_area": null,
            "grid_template_columns": null,
            "flex": null,
            "_model_name": "LayoutModel",
            "justify_items": null,
            "grid_row": null,
            "max_height": null,
            "align_content": null,
            "visibility": null,
            "align_self": null,
            "height": null,
            "min_height": null,
            "padding": null,
            "grid_auto_rows": null,
            "grid_gap": null,
            "max_width": null,
            "order": null,
            "_view_module_version": "1.2.0",
            "grid_template_areas": null,
            "object_position": null,
            "object_fit": null,
            "grid_auto_columns": null,
            "margin": null,
            "display": null,
            "left": null
          }
        },
        "a962800facd84db7b0ccc49890a39edd": {
          "model_module": "@jupyter-widgets/controls",
          "model_name": "HTMLModel",
          "model_module_version": "1.5.0",
          "state": {
            "_view_name": "HTMLView",
            "style": "IPY_MODEL_7fe75889c021482ca1dba6000d7dfc4b",
            "_dom_classes": [],
            "description": "",
            "_model_name": "HTMLModel",
            "placeholder": "​",
            "_view_module": "@jupyter-widgets/controls",
            "_model_module_version": "1.5.0",
            "value": "Downloading: 100%",
            "_view_count": null,
            "_view_module_version": "1.5.0",
            "description_tooltip": null,
            "_model_module": "@jupyter-widgets/controls",
            "layout": "IPY_MODEL_f9f20bccc43945b9b782f25729753d98"
          }
        },
        "21d3ec670eb8468b8d602f484f667992": {
          "model_module": "@jupyter-widgets/controls",
          "model_name": "FloatProgressModel",
          "model_module_version": "1.5.0",
          "state": {
            "_view_name": "ProgressView",
            "style": "IPY_MODEL_dafad23c4b734863b183d544e7919122",
            "_dom_classes": [],
            "description": "",
            "_model_name": "FloatProgressModel",
            "bar_style": "success",
            "max": 5069051,
            "_view_module": "@jupyter-widgets/controls",
            "_model_module_version": "1.5.0",
            "value": 5069051,
            "_view_count": null,
            "_view_module_version": "1.5.0",
            "orientation": "horizontal",
            "min": 0,
            "description_tooltip": null,
            "_model_module": "@jupyter-widgets/controls",
            "layout": "IPY_MODEL_25184e70536741ec84baf2ff09a63dcd"
          }
        },
        "a456966bb6b24762b0d38c912a8a9faf": {
          "model_module": "@jupyter-widgets/controls",
          "model_name": "HTMLModel",
          "model_module_version": "1.5.0",
          "state": {
            "_view_name": "HTMLView",
            "style": "IPY_MODEL_4561398aac6e4fedbe0acb263648fd25",
            "_dom_classes": [],
            "description": "",
            "_model_name": "HTMLModel",
            "placeholder": "​",
            "_view_module": "@jupyter-widgets/controls",
            "_model_module_version": "1.5.0",
            "value": " 4.83M/4.83M [00:01&lt;00:00, 5.02MB/s]",
            "_view_count": null,
            "_view_module_version": "1.5.0",
            "description_tooltip": null,
            "_model_module": "@jupyter-widgets/controls",
            "layout": "IPY_MODEL_cee9fec679964396a8b7ee2eccd859d7"
          }
        },
        "7fe75889c021482ca1dba6000d7dfc4b": {
          "model_module": "@jupyter-widgets/controls",
          "model_name": "DescriptionStyleModel",
          "model_module_version": "1.5.0",
          "state": {
            "_view_name": "StyleView",
            "_model_name": "DescriptionStyleModel",
            "description_width": "",
            "_view_module": "@jupyter-widgets/base",
            "_model_module_version": "1.5.0",
            "_view_count": null,
            "_view_module_version": "1.2.0",
            "_model_module": "@jupyter-widgets/controls"
          }
        },
        "f9f20bccc43945b9b782f25729753d98": {
          "model_module": "@jupyter-widgets/base",
          "model_name": "LayoutModel",
          "model_module_version": "1.2.0",
          "state": {
            "_view_name": "LayoutView",
            "grid_template_rows": null,
            "right": null,
            "justify_content": null,
            "_view_module": "@jupyter-widgets/base",
            "overflow": null,
            "_model_module_version": "1.2.0",
            "_view_count": null,
            "flex_flow": null,
            "width": null,
            "min_width": null,
            "border": null,
            "align_items": null,
            "bottom": null,
            "_model_module": "@jupyter-widgets/base",
            "top": null,
            "grid_column": null,
            "overflow_y": null,
            "overflow_x": null,
            "grid_auto_flow": null,
            "grid_area": null,
            "grid_template_columns": null,
            "flex": null,
            "_model_name": "LayoutModel",
            "justify_items": null,
            "grid_row": null,
            "max_height": null,
            "align_content": null,
            "visibility": null,
            "align_self": null,
            "height": null,
            "min_height": null,
            "padding": null,
            "grid_auto_rows": null,
            "grid_gap": null,
            "max_width": null,
            "order": null,
            "_view_module_version": "1.2.0",
            "grid_template_areas": null,
            "object_position": null,
            "object_fit": null,
            "grid_auto_columns": null,
            "margin": null,
            "display": null,
            "left": null
          }
        },
        "dafad23c4b734863b183d544e7919122": {
          "model_module": "@jupyter-widgets/controls",
          "model_name": "ProgressStyleModel",
          "model_module_version": "1.5.0",
          "state": {
            "_view_name": "StyleView",
            "_model_name": "ProgressStyleModel",
            "description_width": "",
            "_view_module": "@jupyter-widgets/base",
            "_model_module_version": "1.5.0",
            "_view_count": null,
            "_view_module_version": "1.2.0",
            "bar_color": null,
            "_model_module": "@jupyter-widgets/controls"
          }
        },
        "25184e70536741ec84baf2ff09a63dcd": {
          "model_module": "@jupyter-widgets/base",
          "model_name": "LayoutModel",
          "model_module_version": "1.2.0",
          "state": {
            "_view_name": "LayoutView",
            "grid_template_rows": null,
            "right": null,
            "justify_content": null,
            "_view_module": "@jupyter-widgets/base",
            "overflow": null,
            "_model_module_version": "1.2.0",
            "_view_count": null,
            "flex_flow": null,
            "width": null,
            "min_width": null,
            "border": null,
            "align_items": null,
            "bottom": null,
            "_model_module": "@jupyter-widgets/base",
            "top": null,
            "grid_column": null,
            "overflow_y": null,
            "overflow_x": null,
            "grid_auto_flow": null,
            "grid_area": null,
            "grid_template_columns": null,
            "flex": null,
            "_model_name": "LayoutModel",
            "justify_items": null,
            "grid_row": null,
            "max_height": null,
            "align_content": null,
            "visibility": null,
            "align_self": null,
            "height": null,
            "min_height": null,
            "padding": null,
            "grid_auto_rows": null,
            "grid_gap": null,
            "max_width": null,
            "order": null,
            "_view_module_version": "1.2.0",
            "grid_template_areas": null,
            "object_position": null,
            "object_fit": null,
            "grid_auto_columns": null,
            "margin": null,
            "display": null,
            "left": null
          }
        },
        "4561398aac6e4fedbe0acb263648fd25": {
          "model_module": "@jupyter-widgets/controls",
          "model_name": "DescriptionStyleModel",
          "model_module_version": "1.5.0",
          "state": {
            "_view_name": "StyleView",
            "_model_name": "DescriptionStyleModel",
            "description_width": "",
            "_view_module": "@jupyter-widgets/base",
            "_model_module_version": "1.5.0",
            "_view_count": null,
            "_view_module_version": "1.2.0",
            "_model_module": "@jupyter-widgets/controls"
          }
        },
        "cee9fec679964396a8b7ee2eccd859d7": {
          "model_module": "@jupyter-widgets/base",
          "model_name": "LayoutModel",
          "model_module_version": "1.2.0",
          "state": {
            "_view_name": "LayoutView",
            "grid_template_rows": null,
            "right": null,
            "justify_content": null,
            "_view_module": "@jupyter-widgets/base",
            "overflow": null,
            "_model_module_version": "1.2.0",
            "_view_count": null,
            "flex_flow": null,
            "width": null,
            "min_width": null,
            "border": null,
            "align_items": null,
            "bottom": null,
            "_model_module": "@jupyter-widgets/base",
            "top": null,
            "grid_column": null,
            "overflow_y": null,
            "overflow_x": null,
            "grid_auto_flow": null,
            "grid_area": null,
            "grid_template_columns": null,
            "flex": null,
            "_model_name": "LayoutModel",
            "justify_items": null,
            "grid_row": null,
            "max_height": null,
            "align_content": null,
            "visibility": null,
            "align_self": null,
            "height": null,
            "min_height": null,
            "padding": null,
            "grid_auto_rows": null,
            "grid_gap": null,
            "max_width": null,
            "order": null,
            "_view_module_version": "1.2.0",
            "grid_template_areas": null,
            "object_position": null,
            "object_fit": null,
            "grid_auto_columns": null,
            "margin": null,
            "display": null,
            "left": null
          }
        },
        "d7942db2769b4cdd8d302938b8cd7966": {
          "model_module": "@jupyter-widgets/controls",
          "model_name": "HBoxModel",
          "model_module_version": "1.5.0",
          "state": {
            "_view_name": "HBoxView",
            "_dom_classes": [],
            "_model_name": "HBoxModel",
            "_view_module": "@jupyter-widgets/controls",
            "_model_module_version": "1.5.0",
            "_view_count": null,
            "_view_module_version": "1.5.0",
            "box_style": "",
            "layout": "IPY_MODEL_32fadd3c967946c6905ddf5a7fb4d3fb",
            "_model_module": "@jupyter-widgets/controls",
            "children": [
              "IPY_MODEL_064c1842d04043789086f4fadf908934",
              "IPY_MODEL_7e4deb2155f64840b5fcf063bb416107",
              "IPY_MODEL_bdcd275e48c4477c82a5cc7208ad7eca"
            ]
          }
        },
        "32fadd3c967946c6905ddf5a7fb4d3fb": {
          "model_module": "@jupyter-widgets/base",
          "model_name": "LayoutModel",
          "model_module_version": "1.2.0",
          "state": {
            "_view_name": "LayoutView",
            "grid_template_rows": null,
            "right": null,
            "justify_content": null,
            "_view_module": "@jupyter-widgets/base",
            "overflow": null,
            "_model_module_version": "1.2.0",
            "_view_count": null,
            "flex_flow": null,
            "width": null,
            "min_width": null,
            "border": null,
            "align_items": null,
            "bottom": null,
            "_model_module": "@jupyter-widgets/base",
            "top": null,
            "grid_column": null,
            "overflow_y": null,
            "overflow_x": null,
            "grid_auto_flow": null,
            "grid_area": null,
            "grid_template_columns": null,
            "flex": null,
            "_model_name": "LayoutModel",
            "justify_items": null,
            "grid_row": null,
            "max_height": null,
            "align_content": null,
            "visibility": null,
            "align_self": null,
            "height": null,
            "min_height": null,
            "padding": null,
            "grid_auto_rows": null,
            "grid_gap": null,
            "max_width": null,
            "order": null,
            "_view_module_version": "1.2.0",
            "grid_template_areas": null,
            "object_position": null,
            "object_fit": null,
            "grid_auto_columns": null,
            "margin": null,
            "display": null,
            "left": null
          }
        },
        "064c1842d04043789086f4fadf908934": {
          "model_module": "@jupyter-widgets/controls",
          "model_name": "HTMLModel",
          "model_module_version": "1.5.0",
          "state": {
            "_view_name": "HTMLView",
            "style": "IPY_MODEL_12626b0ce19d4ac68297af5307251339",
            "_dom_classes": [],
            "description": "",
            "_model_name": "HTMLModel",
            "placeholder": "​",
            "_view_module": "@jupyter-widgets/controls",
            "_model_module_version": "1.5.0",
            "value": "Downloading: 100%",
            "_view_count": null,
            "_view_module_version": "1.5.0",
            "description_tooltip": null,
            "_model_module": "@jupyter-widgets/controls",
            "layout": "IPY_MODEL_d0a18a54342046cab860c5d628f02992"
          }
        },
        "7e4deb2155f64840b5fcf063bb416107": {
          "model_module": "@jupyter-widgets/controls",
          "model_name": "FloatProgressModel",
          "model_module_version": "1.5.0",
          "state": {
            "_view_name": "ProgressView",
            "style": "IPY_MODEL_3adf69aa836a41dfa6153822df7af5c3",
            "_dom_classes": [],
            "description": "",
            "_model_name": "FloatProgressModel",
            "bar_style": "success",
            "max": 3271420488,
            "_view_module": "@jupyter-widgets/controls",
            "_model_module_version": "1.5.0",
            "value": 3271420488,
            "_view_count": null,
            "_view_module_version": "1.5.0",
            "orientation": "horizontal",
            "min": 0,
            "description_tooltip": null,
            "_model_module": "@jupyter-widgets/controls",
            "layout": "IPY_MODEL_83e79db4761c4039bbdb8ec9b558448a"
          }
        },
        "bdcd275e48c4477c82a5cc7208ad7eca": {
          "model_module": "@jupyter-widgets/controls",
          "model_name": "HTMLModel",
          "model_module_version": "1.5.0",
          "state": {
            "_view_name": "HTMLView",
            "style": "IPY_MODEL_34b3252fd12b4490a0db95bb5c8d8050",
            "_dom_classes": [],
            "description": "",
            "_model_name": "HTMLModel",
            "placeholder": "​",
            "_view_module": "@jupyter-widgets/controls",
            "_model_module_version": "1.5.0",
            "value": " 3.05G/3.05G [01:31&lt;00:00, 32.7MB/s]",
            "_view_count": null,
            "_view_module_version": "1.5.0",
            "description_tooltip": null,
            "_model_module": "@jupyter-widgets/controls",
            "layout": "IPY_MODEL_afed5fa9dde342bbbf53285acbcfa57d"
          }
        },
        "12626b0ce19d4ac68297af5307251339": {
          "model_module": "@jupyter-widgets/controls",
          "model_name": "DescriptionStyleModel",
          "model_module_version": "1.5.0",
          "state": {
            "_view_name": "StyleView",
            "_model_name": "DescriptionStyleModel",
            "description_width": "",
            "_view_module": "@jupyter-widgets/base",
            "_model_module_version": "1.5.0",
            "_view_count": null,
            "_view_module_version": "1.2.0",
            "_model_module": "@jupyter-widgets/controls"
          }
        },
        "d0a18a54342046cab860c5d628f02992": {
          "model_module": "@jupyter-widgets/base",
          "model_name": "LayoutModel",
          "model_module_version": "1.2.0",
          "state": {
            "_view_name": "LayoutView",
            "grid_template_rows": null,
            "right": null,
            "justify_content": null,
            "_view_module": "@jupyter-widgets/base",
            "overflow": null,
            "_model_module_version": "1.2.0",
            "_view_count": null,
            "flex_flow": null,
            "width": null,
            "min_width": null,
            "border": null,
            "align_items": null,
            "bottom": null,
            "_model_module": "@jupyter-widgets/base",
            "top": null,
            "grid_column": null,
            "overflow_y": null,
            "overflow_x": null,
            "grid_auto_flow": null,
            "grid_area": null,
            "grid_template_columns": null,
            "flex": null,
            "_model_name": "LayoutModel",
            "justify_items": null,
            "grid_row": null,
            "max_height": null,
            "align_content": null,
            "visibility": null,
            "align_self": null,
            "height": null,
            "min_height": null,
            "padding": null,
            "grid_auto_rows": null,
            "grid_gap": null,
            "max_width": null,
            "order": null,
            "_view_module_version": "1.2.0",
            "grid_template_areas": null,
            "object_position": null,
            "object_fit": null,
            "grid_auto_columns": null,
            "margin": null,
            "display": null,
            "left": null
          }
        },
        "3adf69aa836a41dfa6153822df7af5c3": {
          "model_module": "@jupyter-widgets/controls",
          "model_name": "ProgressStyleModel",
          "model_module_version": "1.5.0",
          "state": {
            "_view_name": "StyleView",
            "_model_name": "ProgressStyleModel",
            "description_width": "",
            "_view_module": "@jupyter-widgets/base",
            "_model_module_version": "1.5.0",
            "_view_count": null,
            "_view_module_version": "1.2.0",
            "bar_color": null,
            "_model_module": "@jupyter-widgets/controls"
          }
        },
        "83e79db4761c4039bbdb8ec9b558448a": {
          "model_module": "@jupyter-widgets/base",
          "model_name": "LayoutModel",
          "model_module_version": "1.2.0",
          "state": {
            "_view_name": "LayoutView",
            "grid_template_rows": null,
            "right": null,
            "justify_content": null,
            "_view_module": "@jupyter-widgets/base",
            "overflow": null,
            "_model_module_version": "1.2.0",
            "_view_count": null,
            "flex_flow": null,
            "width": null,
            "min_width": null,
            "border": null,
            "align_items": null,
            "bottom": null,
            "_model_module": "@jupyter-widgets/base",
            "top": null,
            "grid_column": null,
            "overflow_y": null,
            "overflow_x": null,
            "grid_auto_flow": null,
            "grid_area": null,
            "grid_template_columns": null,
            "flex": null,
            "_model_name": "LayoutModel",
            "justify_items": null,
            "grid_row": null,
            "max_height": null,
            "align_content": null,
            "visibility": null,
            "align_self": null,
            "height": null,
            "min_height": null,
            "padding": null,
            "grid_auto_rows": null,
            "grid_gap": null,
            "max_width": null,
            "order": null,
            "_view_module_version": "1.2.0",
            "grid_template_areas": null,
            "object_position": null,
            "object_fit": null,
            "grid_auto_columns": null,
            "margin": null,
            "display": null,
            "left": null
          }
        },
        "34b3252fd12b4490a0db95bb5c8d8050": {
          "model_module": "@jupyter-widgets/controls",
          "model_name": "DescriptionStyleModel",
          "model_module_version": "1.5.0",
          "state": {
            "_view_name": "StyleView",
            "_model_name": "DescriptionStyleModel",
            "description_width": "",
            "_view_module": "@jupyter-widgets/base",
            "_model_module_version": "1.5.0",
            "_view_count": null,
            "_view_module_version": "1.2.0",
            "_model_module": "@jupyter-widgets/controls"
          }
        },
        "afed5fa9dde342bbbf53285acbcfa57d": {
          "model_module": "@jupyter-widgets/base",
          "model_name": "LayoutModel",
          "model_module_version": "1.2.0",
          "state": {
            "_view_name": "LayoutView",
            "grid_template_rows": null,
            "right": null,
            "justify_content": null,
            "_view_module": "@jupyter-widgets/base",
            "overflow": null,
            "_model_module_version": "1.2.0",
            "_view_count": null,
            "flex_flow": null,
            "width": null,
            "min_width": null,
            "border": null,
            "align_items": null,
            "bottom": null,
            "_model_module": "@jupyter-widgets/base",
            "top": null,
            "grid_column": null,
            "overflow_y": null,
            "overflow_x": null,
            "grid_auto_flow": null,
            "grid_area": null,
            "grid_template_columns": null,
            "flex": null,
            "_model_name": "LayoutModel",
            "justify_items": null,
            "grid_row": null,
            "max_height": null,
            "align_content": null,
            "visibility": null,
            "align_self": null,
            "height": null,
            "min_height": null,
            "padding": null,
            "grid_auto_rows": null,
            "grid_gap": null,
            "max_width": null,
            "order": null,
            "_view_module_version": "1.2.0",
            "grid_template_areas": null,
            "object_position": null,
            "object_fit": null,
            "grid_auto_columns": null,
            "margin": null,
            "display": null,
            "left": null
          }
        }
      }
    }
  },
  "nbformat": 4,
  "nbformat_minor": 0
}