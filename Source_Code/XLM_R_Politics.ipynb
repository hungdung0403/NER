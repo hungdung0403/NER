{
  "cells": [
    {
      "cell_type": "code",
      "execution_count": 1,
      "metadata": {
        "colab": {
          "base_uri": "https://localhost:8080/"
        },
        "id": "QkJRppUSB9Ko",
        "outputId": "513e954d-de39-4fe0-fed9-2b84777996ed"
      },
      "outputs": [
        {
          "output_type": "stream",
          "name": "stdout",
          "text": [
            "Requirement already satisfied: numpy in /usr/local/lib/python3.7/dist-packages (1.19.5)\n",
            "Requirement already satisfied: pandas in /usr/local/lib/python3.7/dist-packages (1.1.5)\n",
            "Requirement already satisfied: tqdm in /usr/local/lib/python3.7/dist-packages (4.62.3)\n",
            "Requirement already satisfied: sklearn in /usr/local/lib/python3.7/dist-packages (0.0)\n",
            "Requirement already satisfied: transformers in /usr/local/lib/python3.7/dist-packages (4.15.0)\n",
            "Requirement already satisfied: pytz>=2017.2 in /usr/local/lib/python3.7/dist-packages (from pandas) (2018.9)\n",
            "Requirement already satisfied: python-dateutil>=2.7.3 in /usr/local/lib/python3.7/dist-packages (from pandas) (2.8.2)\n",
            "Requirement already satisfied: six>=1.5 in /usr/local/lib/python3.7/dist-packages (from python-dateutil>=2.7.3->pandas) (1.15.0)\n",
            "Requirement already satisfied: scikit-learn in /usr/local/lib/python3.7/dist-packages (from sklearn) (1.0.1)\n",
            "Requirement already satisfied: packaging>=20.0 in /usr/local/lib/python3.7/dist-packages (from transformers) (21.3)\n",
            "Requirement already satisfied: requests in /usr/local/lib/python3.7/dist-packages (from transformers) (2.23.0)\n",
            "Requirement already satisfied: sacremoses in /usr/local/lib/python3.7/dist-packages (from transformers) (0.0.46)\n",
            "Requirement already satisfied: regex!=2019.12.17 in /usr/local/lib/python3.7/dist-packages (from transformers) (2019.12.20)\n",
            "Requirement already satisfied: filelock in /usr/local/lib/python3.7/dist-packages (from transformers) (3.4.0)\n",
            "Requirement already satisfied: tokenizers<0.11,>=0.10.1 in /usr/local/lib/python3.7/dist-packages (from transformers) (0.10.3)\n",
            "Requirement already satisfied: importlib-metadata in /usr/local/lib/python3.7/dist-packages (from transformers) (4.8.2)\n",
            "Requirement already satisfied: pyyaml>=5.1 in /usr/local/lib/python3.7/dist-packages (from transformers) (6.0)\n",
            "Requirement already satisfied: huggingface-hub<1.0,>=0.1.0 in /usr/local/lib/python3.7/dist-packages (from transformers) (0.2.1)\n",
            "Requirement already satisfied: typing-extensions>=3.7.4.3 in /usr/local/lib/python3.7/dist-packages (from huggingface-hub<1.0,>=0.1.0->transformers) (3.10.0.2)\n",
            "Requirement already satisfied: pyparsing!=3.0.5,>=2.0.2 in /usr/local/lib/python3.7/dist-packages (from packaging>=20.0->transformers) (3.0.6)\n",
            "Requirement already satisfied: zipp>=0.5 in /usr/local/lib/python3.7/dist-packages (from importlib-metadata->transformers) (3.6.0)\n",
            "Requirement already satisfied: idna<3,>=2.5 in /usr/local/lib/python3.7/dist-packages (from requests->transformers) (2.10)\n",
            "Requirement already satisfied: chardet<4,>=3.0.2 in /usr/local/lib/python3.7/dist-packages (from requests->transformers) (3.0.4)\n",
            "Requirement already satisfied: urllib3!=1.25.0,!=1.25.1,<1.26,>=1.21.1 in /usr/local/lib/python3.7/dist-packages (from requests->transformers) (1.24.3)\n",
            "Requirement already satisfied: certifi>=2017.4.17 in /usr/local/lib/python3.7/dist-packages (from requests->transformers) (2021.10.8)\n",
            "Requirement already satisfied: joblib in /usr/local/lib/python3.7/dist-packages (from sacremoses->transformers) (1.1.0)\n",
            "Requirement already satisfied: click in /usr/local/lib/python3.7/dist-packages (from sacremoses->transformers) (7.1.2)\n",
            "Requirement already satisfied: threadpoolctl>=2.0.0 in /usr/local/lib/python3.7/dist-packages (from scikit-learn->sklearn) (3.0.0)\n",
            "Requirement already satisfied: scipy>=1.1.0 in /usr/local/lib/python3.7/dist-packages (from scikit-learn->sklearn) (1.4.1)\n",
            "Requirement already satisfied: sentencepiece in /usr/local/lib/python3.7/dist-packages (0.1.96)\n"
          ]
        }
      ],
      "source": [
        "!pip install numpy pandas tqdm sklearn transformers\n",
        "!pip install sentencepiece"
      ]
    },
    {
      "cell_type": "code",
      "execution_count": 2,
      "metadata": {
        "colab": {
          "base_uri": "https://localhost:8080/"
        },
        "id": "Eluck5uCeCp-",
        "outputId": "7e4580c2-cfe4-48e9-996b-330ee1039f43"
      },
      "outputs": [
        {
          "output_type": "stream",
          "name": "stdout",
          "text": [
            "fatal: destination path 'CrossNER' already exists and is not an empty directory.\n"
          ]
        }
      ],
      "source": [
        "!git clone https://github.com/DinhLuan14/CrossNER.git"
      ]
    },
    {
      "cell_type": "code",
      "execution_count": 3,
      "metadata": {
        "id": "bdW5yfemE0dQ"
      },
      "outputs": [],
      "source": [
        "def prepare_dataset(PATH,convert2bio=False):\n",
        "  sents = []\n",
        "  chunks = open(PATH,'r').read().split('\\n\\n')\n",
        "  for chunk in chunks:\n",
        "    lines = chunk.split('\\n')\n",
        "    sent = []\n",
        "    current_tag = None\n",
        "    previous_tag = None\n",
        "    for line in lines:\n",
        "        if line != '':\n",
        "            token = line.split('\\t')\n",
        "            previous_tag = current_tag \n",
        "            current_tag = token[1]\n",
        "            if convert2bio:\n",
        "                if previous_tag == current_tag and current_tag != 'O':\n",
        "                    sent.append((token[0],token[1]))\n",
        "                elif previous_tag != current_tag and current_tag != 'O':\n",
        "                    sent.append((token[0],token[1]))\n",
        "                else:\n",
        "                    sent.append((token[0],token[1]))\n",
        "            else:\n",
        "                sent.append((token[0],token[1]))\n",
        "    sents.append(sent)\n",
        "  return sents"
      ]
    },
    {
      "cell_type": "code",
      "execution_count": 4,
      "metadata": {
        "id": "d0_-FCCQFsru"
      },
      "outputs": [],
      "source": [
        "samples_train = prepare_dataset('/content/CrossNER/ner_data/politics/train.txt',convert2bio=True)\n",
        "samples_valid = prepare_dataset('/content/CrossNER/ner_data/politics/dev.txt',convert2bio=True)\n",
        "samples_test = prepare_dataset('/content/CrossNER/ner_data/politics/test.txt',convert2bio=True)"
      ]
    },
    {
      "cell_type": "code",
      "source": [
        "samples_train[1]"
      ],
      "metadata": {
        "colab": {
          "base_uri": "https://localhost:8080/"
        },
        "id": "-jEsmO-0OXlB",
        "outputId": "81c0f9fa-da28-4fee-a0d5-b6dab4841d3f"
      },
      "execution_count": 5,
      "outputs": [
        {
          "output_type": "execute_result",
          "data": {
            "text/plain": [
              "[('Parties', 'O'),\n",
              " ('with', 'O'),\n",
              " ('mainly', 'O'),\n",
              " ('Eurosceptic', 'O'),\n",
              " ('views', 'O'),\n",
              " ('are', 'O'),\n",
              " ('Serbian', 'B-politicalparty'),\n",
              " ('Radical', 'I-politicalparty'),\n",
              " ('Party', 'I-politicalparty'),\n",
              " (',', 'O'),\n",
              " ('Democratic', 'B-politicalparty'),\n",
              " ('Party', 'I-politicalparty'),\n",
              " ('of', 'I-politicalparty'),\n",
              " ('Serbia', 'I-politicalparty'),\n",
              " (',', 'O'),\n",
              " ('Dveri', 'B-politicalparty'),\n",
              " (',', 'O'),\n",
              " ('DJB', 'B-politicalparty'),\n",
              " ('and', 'O'),\n",
              " ('the', 'O'),\n",
              " ('Serbian', 'B-politicalparty'),\n",
              " ('People', 'I-politicalparty'),\n",
              " (\"'s\", 'I-politicalparty'),\n",
              " ('Party', 'I-politicalparty'),\n",
              " ('of', 'O'),\n",
              " ('Nenad', 'B-politician'),\n",
              " ('Popović', 'I-politician'),\n",
              " ('.', 'O')]"
            ]
          },
          "metadata": {},
          "execution_count": 5
        }
      ]
    },
    {
      "cell_type": "code",
      "execution_count": 6,
      "metadata": {
        "id": "NgA_QWZmF1Gl"
      },
      "outputs": [],
      "source": [
        "samples = samples_train + samples_test + samples_valid\n",
        "schema = ['_'] + sorted({tag for sentence in samples \n",
        "                             for _, tag in sentence})"
      ]
    },
    {
      "cell_type": "code",
      "execution_count": 7,
      "metadata": {
        "colab": {
          "base_uri": "https://localhost:8080/"
        },
        "id": "sllQKkaPgX4p",
        "outputId": "62583a65-0537-4e7f-d4a3-b8ab520bfd88"
      },
      "outputs": [
        {
          "output_type": "execute_result",
          "data": {
            "text/plain": [
              "[('Tamsin', 'B-person'),\n",
              " ('Greig', 'I-person'),\n",
              " ('narrated', 'O'),\n",
              " (',', 'O'),\n",
              " ('and', 'O'),\n",
              " ('the', 'O'),\n",
              " ('cast', 'O'),\n",
              " ('included', 'O'),\n",
              " ('Nicky', 'B-person'),\n",
              " ('Henson', 'I-person'),\n",
              " ('as', 'O'),\n",
              " ('Napoleon', 'O'),\n",
              " (',', 'O'),\n",
              " ('Toby', 'B-person'),\n",
              " ('Jones', 'I-person'),\n",
              " ('as', 'O'),\n",
              " ('the', 'O'),\n",
              " ('propagandist', 'O'),\n",
              " ('Squealer', 'O'),\n",
              " (',', 'O'),\n",
              " ('and', 'O'),\n",
              " ('Ralph', 'B-person'),\n",
              " ('Ineson', 'I-person'),\n",
              " ('as', 'O'),\n",
              " ('Boxer', 'O'),\n",
              " ('.', 'O')]"
            ]
          },
          "metadata": {},
          "execution_count": 7
        }
      ],
      "source": [
        "samples_test[2]"
      ]
    },
    {
      "cell_type": "code",
      "execution_count": 8,
      "metadata": {
        "colab": {
          "base_uri": "https://localhost:8080/"
        },
        "id": "dzrMAinGgxAB",
        "outputId": "4c5e4750-2741-45eb-b2a1-5b70af816954"
      },
      "outputs": [
        {
          "output_type": "execute_result",
          "data": {
            "text/plain": [
              "['_',\n",
              " 'B-country',\n",
              " 'B-election',\n",
              " 'B-event',\n",
              " 'B-location',\n",
              " 'B-misc',\n",
              " 'B-organisation',\n",
              " 'B-person',\n",
              " 'B-politicalparty',\n",
              " 'B-politician',\n",
              " 'I-country',\n",
              " 'I-election',\n",
              " 'I-event',\n",
              " 'I-location',\n",
              " 'I-misc',\n",
              " 'I-organisation',\n",
              " 'I-person',\n",
              " 'I-politicalparty',\n",
              " 'I-politician',\n",
              " 'O']"
            ]
          },
          "metadata": {},
          "execution_count": 8
        }
      ],
      "source": [
        "schema"
      ]
    },
    {
      "cell_type": "code",
      "execution_count": 9,
      "metadata": {
        "id": "CG-cw57zGJbV"
      },
      "outputs": [],
      "source": [
        "import numpy as np\n",
        "from tqdm import tqdm\n",
        "import pandas as pd\n",
        "import json\n",
        "import tensorflow as tf\n",
        "from transformers import AutoTokenizer\n",
        "from transformers import AutoConfig, TFXLMRobertaForTokenClassification\n",
        "\n",
        "MODEL_NAME = 'jplu/tf-xlm-roberta-large'\n",
        "tokenizer = AutoTokenizer.from_pretrained(MODEL_NAME)"
      ]
    },
    {
      "cell_type": "code",
      "execution_count": 10,
      "metadata": {
        "colab": {
          "base_uri": "https://localhost:8080/"
        },
        "id": "EjtDPNA-GXp6",
        "outputId": "943b4441-73d6-4be4-bd02-503e1cad5050"
      },
      "outputs": [
        {
          "output_type": "stream",
          "name": "stderr",
          "text": [
            "201it [00:01, 112.47it/s]\n",
            "542it [00:03, 180.00it/s]\n",
            "652it [00:06, 93.56it/s]\n"
          ]
        }
      ],
      "source": [
        "def tokenize_sample(sample):\n",
        "  seq = [\n",
        "            (subtoken, tag)\n",
        "            for token, tag in sample\n",
        "            for subtoken in tokenizer(token)['input_ids'][1:-1]\n",
        "        ]\n",
        "  return [(3, 'O')] + seq + [(4, 'O')]\n",
        "\n",
        "def preprocess(samples,schema,max_len_sent=None):\n",
        "    if max_len_sent != None:\n",
        "      reduced_samples = []\n",
        "      for sample in samples:\n",
        "        if len(sample) < max_len_sent:\n",
        "          reduced_samples.append(sample)\n",
        "    else:\n",
        "      reduced_samples = samples\n",
        "    \n",
        "    tag_index = {tag: i for i, tag in enumerate(schema)}\n",
        "    tokenized_samples = list(tqdm(map(tokenize_sample, reduced_samples)))\n",
        "    max_len = max(map(len, tokenized_samples))\n",
        "    X = np.zeros((len(samples), max_len), dtype=np.int32)\n",
        "    y = np.zeros((len(samples), max_len), dtype=np.int32)\n",
        "    for i, sentence in enumerate(tokenized_samples):\n",
        "        for j, (subtoken_id, tag) in enumerate(sentence):\n",
        "            X[i, j] = subtoken_id\n",
        "            y[i,j] = tag_index[tag]\n",
        "    return X, y\n",
        "\n",
        "X_train, y_train = preprocess(samples_train,schema,max_len_sent=100)\n",
        "X_val, y_val = preprocess(samples_valid,schema,max_len_sent=100)\n",
        "X_test, y_test = preprocess(samples_test,schema,max_len_sent=100)"
      ]
    },
    {
      "cell_type": "code",
      "execution_count": 11,
      "metadata": {
        "colab": {
          "base_uri": "https://localhost:8080/",
          "height": 118,
          "referenced_widgets": [
            "9460df78b428442ba79468a2f5191f00",
            "38347ec8003340669f8d70a347407150",
            "62b4a004bcf84638b7f4e0d6301debff",
            "7527d180f65e48f2a87635c6bf0e994e",
            "db215bd6058b43d899db0cad25fd6d5e",
            "df2c8345ccab422abdb916ec789f6c60",
            "27945c2a14e546e190219e016ad83f4c",
            "03da38abd7cb451580b67d8d975513e5",
            "44f88683a70641a0be577593efdcea01",
            "0656b21f01494dea8eb6acbf956b8ec9",
            "6460d81039634ddca5b8af7f7e6f7282"
          ]
        },
        "id": "cgZ_v3DlGRFq",
        "outputId": "c075e3fb-5aca-43a8-8bd8-44141324cc8f"
      },
      "outputs": [
        {
          "output_type": "display_data",
          "data": {
            "application/vnd.jupyter.widget-view+json": {
              "model_id": "9460df78b428442ba79468a2f5191f00",
              "version_minor": 0,
              "version_major": 2
            },
            "text/plain": [
              "Downloading:   0%|          | 0.00/3.05G [00:00<?, ?B/s]"
            ]
          },
          "metadata": {}
        },
        {
          "output_type": "stream",
          "name": "stderr",
          "text": [
            "All model checkpoint layers were used when initializing TFXLMRobertaForTokenClassification.\n",
            "\n",
            "Some layers of TFXLMRobertaForTokenClassification were not initialized from the model checkpoint at jplu/tf-xlm-roberta-large and are newly initialized: ['classifier']\n",
            "You should probably TRAIN this model on a down-stream task to be able to use it for predictions and inference.\n"
          ]
        }
      ],
      "source": [
        "NR_EPOCHS=20\n",
        "BATCH_SIZE=2\n",
        "model = TFXLMRobertaForTokenClassification.from_pretrained(MODEL_NAME,num_labels=len(schema))"
      ]
    },
    {
      "cell_type": "code",
      "source": [
        "optimizer = tf.keras.optimizers.Adam(learning_rate=3e-6)\n",
        "loss = tf.keras.losses.SparseCategoricalCrossentropy(from_logits=True)\n",
        "model.compile(optimizer=optimizer, loss=loss, metrics='accuracy')\n",
        "  #model.load_weights(checkpoint_filepath)\n",
        "history = model.fit(tf.constant(X_train), tf.constant(y_train),\n",
        "                      validation_data=(X_val,y_val), epochs=NR_EPOCHS, \n",
        "                      batch_size=BATCH_SIZE,verbose=1)"
      ],
      "metadata": {
        "colab": {
          "base_uri": "https://localhost:8080/"
        },
        "id": "NvR-p1GV2afA",
        "outputId": "b5ed372c-ba26-49e4-86d6-c9363892a766"
      },
      "execution_count": 12,
      "outputs": [
        {
          "output_type": "stream",
          "name": "stdout",
          "text": [
            "Epoch 1/20\n",
            "101/101 [==============================] - 159s 1s/step - loss: 1.3418 - accuracy: 0.6435 - val_loss: 0.8326 - val_accuracy: 0.7766\n",
            "Epoch 2/20\n",
            "101/101 [==============================] - 105s 1s/step - loss: 0.6614 - accuracy: 0.8134 - val_loss: 0.7285 - val_accuracy: 0.8022\n",
            "Epoch 3/20\n",
            "101/101 [==============================] - 106s 1s/step - loss: 0.5288 - accuracy: 0.8624 - val_loss: 0.5369 - val_accuracy: 0.8679\n",
            "Epoch 4/20\n",
            "101/101 [==============================] - 112s 1s/step - loss: 0.3335 - accuracy: 0.9138 - val_loss: 0.4316 - val_accuracy: 0.8908\n",
            "Epoch 5/20\n",
            "101/101 [==============================] - 112s 1s/step - loss: 0.2390 - accuracy: 0.9392 - val_loss: 0.3893 - val_accuracy: 0.9065\n",
            "Epoch 6/20\n",
            "101/101 [==============================] - 112s 1s/step - loss: 0.1910 - accuracy: 0.9517 - val_loss: 0.3451 - val_accuracy: 0.9265\n",
            "Epoch 7/20\n",
            "101/101 [==============================] - 112s 1s/step - loss: 0.1546 - accuracy: 0.9624 - val_loss: 0.3318 - val_accuracy: 0.9303\n",
            "Epoch 8/20\n",
            "101/101 [==============================] - 112s 1s/step - loss: 0.1314 - accuracy: 0.9672 - val_loss: 0.2992 - val_accuracy: 0.9354\n",
            "Epoch 9/20\n",
            "101/101 [==============================] - 112s 1s/step - loss: 0.1089 - accuracy: 0.9735 - val_loss: 0.2902 - val_accuracy: 0.9383\n",
            "Epoch 10/20\n",
            "101/101 [==============================] - 112s 1s/step - loss: 0.0939 - accuracy: 0.9778 - val_loss: 0.2905 - val_accuracy: 0.9404\n",
            "Epoch 11/20\n",
            "101/101 [==============================] - 106s 1s/step - loss: 0.0794 - accuracy: 0.9810 - val_loss: 0.2947 - val_accuracy: 0.9395\n",
            "Epoch 12/20\n",
            "101/101 [==============================] - 112s 1s/step - loss: 0.0698 - accuracy: 0.9841 - val_loss: 0.2789 - val_accuracy: 0.9420\n",
            "Epoch 13/20\n",
            "101/101 [==============================] - 112s 1s/step - loss: 0.0607 - accuracy: 0.9860 - val_loss: 0.2777 - val_accuracy: 0.9446\n",
            "Epoch 14/20\n",
            "101/101 [==============================] - 105s 1s/step - loss: 0.0543 - accuracy: 0.9872 - val_loss: 0.2740 - val_accuracy: 0.9442\n",
            "Epoch 15/20\n",
            "101/101 [==============================] - 105s 1s/step - loss: 0.0513 - accuracy: 0.9872 - val_loss: 0.2857 - val_accuracy: 0.9400\n",
            "Epoch 16/20\n",
            "101/101 [==============================] - 105s 1s/step - loss: 0.0467 - accuracy: 0.9893 - val_loss: 0.2758 - val_accuracy: 0.9464\n",
            "Epoch 17/20\n",
            "101/101 [==============================] - 105s 1s/step - loss: 0.0400 - accuracy: 0.9911 - val_loss: 0.2661 - val_accuracy: 0.9474\n",
            "Epoch 18/20\n",
            "101/101 [==============================] - 105s 1s/step - loss: 0.0350 - accuracy: 0.9920 - val_loss: 0.2657 - val_accuracy: 0.9492\n",
            "Epoch 19/20\n",
            "101/101 [==============================] - 112s 1s/step - loss: 0.0336 - accuracy: 0.9921 - val_loss: 0.2781 - val_accuracy: 0.9479\n",
            "Epoch 20/20\n",
            "101/101 [==============================] - 105s 1s/step - loss: 0.0299 - accuracy: 0.9925 - val_loss: 0.2630 - val_accuracy: 0.9496\n"
          ]
        }
      ]
    },
    {
      "cell_type": "code",
      "execution_count": null,
      "metadata": {
        "id": "F19rly-unaw1"
      },
      "outputs": [],
      "source": [
        "def aggregate(sample,schema,predictions):\n",
        "    results = []\n",
        "    i = 1\n",
        "    for token, y_true in sample:\n",
        "        nr_subtoken = len(tokenizer(token)['input_ids']) - 2\n",
        "        pred = predictions[i:i+nr_subtoken]\n",
        "        i += nr_subtoken\n",
        "        y_pred = schema[np.argmax(np.sum(pred, axis=0))]\n",
        "        results.append((token, y_true, y_pred))\n",
        "    return results\n",
        " \n",
        "y_probs = model.predict(X_test)[0]\n",
        "predictions = [aggregate(sample,schema,predictions) for sample, predictions in zip(samples_test, y_probs)]"
      ]
    },
    {
      "cell_type": "code",
      "source": [
        "y = []\n",
        "y_hat = []\n",
        "y_pre = []\n",
        "for pred in predictions:\n",
        "  for token in pred:\n",
        "    y.append(token[1])\n",
        "    y_hat.append(token[2])\n",
        "    y_pre.append('O')\n",
        "len(y_hat)"
      ],
      "metadata": {
        "colab": {
          "base_uri": "https://localhost:8080/"
        },
        "id": "NAg9X6Y5ZBtg",
        "outputId": "af467270-aeba-4ba2-9d57-f654c20d3c01"
      },
      "execution_count": 14,
      "outputs": [
        {
          "output_type": "execute_result",
          "data": {
            "text/plain": [
              "27585"
            ]
          },
          "metadata": {},
          "execution_count": 14
        }
      ]
    },
    {
      "cell_type": "code",
      "source": [
        "from sklearn.metrics import f1_score\n",
        "print('model XLM-R: micro f1:',f1_score(y,y_hat,average='micro'))\n",
        "print('model XLM-R: macro f1:',f1_score(y,y_hat,average='macro'))"
      ],
      "metadata": {
        "colab": {
          "base_uri": "https://localhost:8080/"
        },
        "id": "L_7HXzYRZCK_",
        "outputId": "b59b8b5e-db5b-4966-decc-1d5348780c2c"
      },
      "execution_count": 15,
      "outputs": [
        {
          "output_type": "stream",
          "name": "stdout",
          "text": [
            "model XLM-R: micro f1: 0.9021569693674099\n",
            "model XLM-R: macro f1: 0.6100852484820936\n"
          ]
        }
      ]
    },
    {
      "cell_type": "code",
      "source": [
        "\n",
        "print('model O: micro f1:',f1_score(y,y_pre,average='micro'))\n",
        "print('model O: macro f1:',f1_score(y,y_pre,average='macro'))"
      ],
      "metadata": {
        "colab": {
          "base_uri": "https://localhost:8080/"
        },
        "id": "6hkrSxUBDB6t",
        "outputId": "1706fde4-b469-4d48-bf82-ede2eb18f722"
      },
      "execution_count": 16,
      "outputs": [
        {
          "output_type": "stream",
          "name": "stdout",
          "text": [
            "model O: micro f1: 0.6275512053652347\n",
            "model O: macro f1: 0.040587369171324605\n"
          ]
        }
      ]
    },
    {
      "cell_type": "code",
      "source": [
        "import json\n",
        "from sklearn.metrics import classification_report\n",
        "from sklearn.metrics import confusion_matrix\n",
        "import seaborn as sns\n",
        "import matplotlib.pyplot as plt\n",
        "from sklearn.metrics import confusion_matrix\n",
        "\n",
        "print(classification_report(y, y_hat,digits=4))"
      ],
      "metadata": {
        "colab": {
          "base_uri": "https://localhost:8080/"
        },
        "id": "6DFaheNbZFkb",
        "outputId": "9ec3d02f-4287-465f-eaa8-3090a6b1880f"
      },
      "execution_count": 17,
      "outputs": [
        {
          "output_type": "stream",
          "name": "stderr",
          "text": [
            "/usr/local/lib/python3.7/dist-packages/sklearn/metrics/_classification.py:1308: UndefinedMetricWarning: Precision and F-score are ill-defined and being set to 0.0 in labels with no predicted samples. Use `zero_division` parameter to control this behavior.\n",
            "  _warn_prf(average, modifier, msg_start, len(result))\n"
          ]
        },
        {
          "output_type": "stream",
          "name": "stdout",
          "text": [
            "                  precision    recall  f1-score   support\n",
            "\n",
            "       B-country     0.5881    0.7584    0.6625       418\n",
            "      B-election     0.9468    0.9839    0.9650       434\n",
            "         B-event     0.8036    0.4615    0.5863       195\n",
            "      B-location     0.8543    0.8614    0.8579       599\n",
            "          B-misc     0.4140    0.2519    0.3133       258\n",
            "  B-organisation     0.6807    0.7563    0.7165       513\n",
            "        B-person     0.3750    0.0169    0.0324       354\n",
            "B-politicalparty     0.8362    0.8573    0.8466       953\n",
            "    B-politician     0.5463    0.9237    0.6866       485\n",
            "       I-country     1.0000    0.0731    0.1362       219\n",
            "      I-election     0.9531    0.9787    0.9657      1640\n",
            "         I-event     0.7917    0.6142    0.6917       464\n",
            "      I-location     0.6048    0.6720    0.6366       189\n",
            "          I-misc     0.1748    0.1385    0.1545       130\n",
            "  I-organisation     0.7159    0.8101    0.7601      1011\n",
            "        I-person     0.0000    0.0000    0.0000       338\n",
            "I-politicalparty     0.9124    0.9019    0.9071      1662\n",
            "    I-politician     0.5402    0.9612    0.6917       412\n",
            "               O     0.9771    0.9847    0.9809     17311\n",
            "\n",
            "        accuracy                         0.9022     27585\n",
            "       macro avg     0.6692    0.6319    0.6101     27585\n",
            "    weighted avg     0.8932    0.9022    0.8896     27585\n",
            "\n"
          ]
        },
        {
          "output_type": "stream",
          "name": "stderr",
          "text": [
            "/usr/local/lib/python3.7/dist-packages/sklearn/metrics/_classification.py:1308: UndefinedMetricWarning: Precision and F-score are ill-defined and being set to 0.0 in labels with no predicted samples. Use `zero_division` parameter to control this behavior.\n",
            "  _warn_prf(average, modifier, msg_start, len(result))\n",
            "/usr/local/lib/python3.7/dist-packages/sklearn/metrics/_classification.py:1308: UndefinedMetricWarning: Precision and F-score are ill-defined and being set to 0.0 in labels with no predicted samples. Use `zero_division` parameter to control this behavior.\n",
            "  _warn_prf(average, modifier, msg_start, len(result))\n"
          ]
        }
      ]
    },
    {
      "cell_type": "code",
      "source": [
        "print(classification_report(y, y_pre,digits=4))"
      ],
      "metadata": {
        "id": "1BVS47OSyiIo",
        "colab": {
          "base_uri": "https://localhost:8080/"
        },
        "outputId": "528caed4-e073-4679-f220-66f0096fa708"
      },
      "execution_count": 18,
      "outputs": [
        {
          "output_type": "stream",
          "name": "stderr",
          "text": [
            "/usr/local/lib/python3.7/dist-packages/sklearn/metrics/_classification.py:1308: UndefinedMetricWarning: Precision and F-score are ill-defined and being set to 0.0 in labels with no predicted samples. Use `zero_division` parameter to control this behavior.\n",
            "  _warn_prf(average, modifier, msg_start, len(result))\n",
            "/usr/local/lib/python3.7/dist-packages/sklearn/metrics/_classification.py:1308: UndefinedMetricWarning: Precision and F-score are ill-defined and being set to 0.0 in labels with no predicted samples. Use `zero_division` parameter to control this behavior.\n",
            "  _warn_prf(average, modifier, msg_start, len(result))\n"
          ]
        },
        {
          "output_type": "stream",
          "name": "stdout",
          "text": [
            "                  precision    recall  f1-score   support\n",
            "\n",
            "       B-country     0.0000    0.0000    0.0000       418\n",
            "      B-election     0.0000    0.0000    0.0000       434\n",
            "         B-event     0.0000    0.0000    0.0000       195\n",
            "      B-location     0.0000    0.0000    0.0000       599\n",
            "          B-misc     0.0000    0.0000    0.0000       258\n",
            "  B-organisation     0.0000    0.0000    0.0000       513\n",
            "        B-person     0.0000    0.0000    0.0000       354\n",
            "B-politicalparty     0.0000    0.0000    0.0000       953\n",
            "    B-politician     0.0000    0.0000    0.0000       485\n",
            "       I-country     0.0000    0.0000    0.0000       219\n",
            "      I-election     0.0000    0.0000    0.0000      1640\n",
            "         I-event     0.0000    0.0000    0.0000       464\n",
            "      I-location     0.0000    0.0000    0.0000       189\n",
            "          I-misc     0.0000    0.0000    0.0000       130\n",
            "  I-organisation     0.0000    0.0000    0.0000      1011\n",
            "        I-person     0.0000    0.0000    0.0000       338\n",
            "I-politicalparty     0.0000    0.0000    0.0000      1662\n",
            "    I-politician     0.0000    0.0000    0.0000       412\n",
            "               O     0.6276    1.0000    0.7712     17311\n",
            "\n",
            "        accuracy                         0.6276     27585\n",
            "       macro avg     0.0330    0.0526    0.0406     27585\n",
            "    weighted avg     0.3938    0.6276    0.4839     27585\n",
            "\n"
          ]
        },
        {
          "output_type": "stream",
          "name": "stderr",
          "text": [
            "/usr/local/lib/python3.7/dist-packages/sklearn/metrics/_classification.py:1308: UndefinedMetricWarning: Precision and F-score are ill-defined and being set to 0.0 in labels with no predicted samples. Use `zero_division` parameter to control this behavior.\n",
            "  _warn_prf(average, modifier, msg_start, len(result))\n"
          ]
        }
      ]
    },
    {
      "cell_type": "code",
      "source": [
        "predictions[300]"
      ],
      "metadata": {
        "colab": {
          "base_uri": "https://localhost:8080/"
        },
        "id": "p1AR61WZZGDC",
        "outputId": "1a36154a-f26d-4c51-c1cd-19396811593a"
      },
      "execution_count": 19,
      "outputs": [
        {
          "output_type": "execute_result",
          "data": {
            "text/plain": [
              "[('Carstairs', 'B-politician', 'B-politician'),\n",
              " ('led', 'O', 'O'),\n",
              " ('the', 'O', 'O'),\n",
              " ('Liberal', 'B-politicalparty', 'B-politicalparty'),\n",
              " ('Party', 'I-politicalparty', 'I-politicalparty'),\n",
              " ('to', 'O', 'O'),\n",
              " ('a', 'O', 'O'),\n",
              " ('dramatic', 'O', 'O'),\n",
              " ('resurgence', 'O', 'O'),\n",
              " ('in', 'O', 'O'),\n",
              " ('the', 'O', 'O'),\n",
              " ('1988', 'B-election', 'B-election'),\n",
              " ('Manitoba', 'I-election', 'I-election'),\n",
              " ('general', 'I-election', 'I-election'),\n",
              " ('election', 'I-election', 'I-election'),\n",
              " (',', 'O', 'O'),\n",
              " ('which', 'O', 'O'),\n",
              " ('saw', 'O', 'O'),\n",
              " ('the', 'O', 'O'),\n",
              " ('election', 'O', 'O'),\n",
              " ('of', 'O', 'O'),\n",
              " ('a', 'O', 'O'),\n",
              " ('Progressive', 'B-politicalparty', 'B-politicalparty'),\n",
              " ('Conservative', 'I-politicalparty', 'I-politicalparty'),\n",
              " ('Party', 'I-politicalparty', 'I-politicalparty'),\n",
              " ('of', 'I-politicalparty', 'I-politicalparty'),\n",
              " ('Manitoba', 'I-politicalparty', 'I-politicalparty'),\n",
              " ('minority', 'O', 'O'),\n",
              " ('government', 'O', 'O'),\n",
              " ('under', 'O', 'O'),\n",
              " ('Gary', 'B-politician', 'B-politician'),\n",
              " ('Filmon', 'I-politician', 'I-politician'),\n",
              " ('and', 'O', 'O'),\n",
              " ('the', 'O', 'O'),\n",
              " ('reduction', 'O', 'O'),\n",
              " ('of', 'O', 'O'),\n",
              " ('the', 'O', 'O'),\n",
              " ('New', 'B-politicalparty', 'B-politicalparty'),\n",
              " ('Democratic', 'I-politicalparty', 'I-politicalparty'),\n",
              " ('Party', 'I-politicalparty', 'I-politicalparty'),\n",
              " ('of', 'I-politicalparty', 'I-politicalparty'),\n",
              " ('Manitoba', 'I-politicalparty', 'I-politicalparty'),\n",
              " ('from', 'O', 'O'),\n",
              " ('government', 'O', 'O'),\n",
              " ('to', 'O', 'O'),\n",
              " ('third', 'O', 'O'),\n",
              " ('party', 'O', 'O'),\n",
              " ('status', 'O', 'O'),\n",
              " ('.', 'O', 'O')]"
            ]
          },
          "metadata": {},
          "execution_count": 19
        }
      ]
    }
  ],
  "metadata": {
    "colab": {
      "machine_shape": "hm",
      "name": "XLM-R_Politics.ipynb",
      "provenance": [],
      "collapsed_sections": []
    },
    "kernelspec": {
      "display_name": "Python 3",
      "name": "python3"
    },
    "language_info": {
      "name": "python"
    },
    "widgets": {
      "application/vnd.jupyter.widget-state+json": {
        "9460df78b428442ba79468a2f5191f00": {
          "model_module": "@jupyter-widgets/controls",
          "model_name": "HBoxModel",
          "model_module_version": "1.5.0",
          "state": {
            "_view_name": "HBoxView",
            "_dom_classes": [],
            "_model_name": "HBoxModel",
            "_view_module": "@jupyter-widgets/controls",
            "_model_module_version": "1.5.0",
            "_view_count": null,
            "_view_module_version": "1.5.0",
            "box_style": "",
            "layout": "IPY_MODEL_38347ec8003340669f8d70a347407150",
            "_model_module": "@jupyter-widgets/controls",
            "children": [
              "IPY_MODEL_62b4a004bcf84638b7f4e0d6301debff",
              "IPY_MODEL_7527d180f65e48f2a87635c6bf0e994e",
              "IPY_MODEL_db215bd6058b43d899db0cad25fd6d5e"
            ]
          }
        },
        "38347ec8003340669f8d70a347407150": {
          "model_module": "@jupyter-widgets/base",
          "model_name": "LayoutModel",
          "model_module_version": "1.2.0",
          "state": {
            "_view_name": "LayoutView",
            "grid_template_rows": null,
            "right": null,
            "justify_content": null,
            "_view_module": "@jupyter-widgets/base",
            "overflow": null,
            "_model_module_version": "1.2.0",
            "_view_count": null,
            "flex_flow": null,
            "width": null,
            "min_width": null,
            "border": null,
            "align_items": null,
            "bottom": null,
            "_model_module": "@jupyter-widgets/base",
            "top": null,
            "grid_column": null,
            "overflow_y": null,
            "overflow_x": null,
            "grid_auto_flow": null,
            "grid_area": null,
            "grid_template_columns": null,
            "flex": null,
            "_model_name": "LayoutModel",
            "justify_items": null,
            "grid_row": null,
            "max_height": null,
            "align_content": null,
            "visibility": null,
            "align_self": null,
            "height": null,
            "min_height": null,
            "padding": null,
            "grid_auto_rows": null,
            "grid_gap": null,
            "max_width": null,
            "order": null,
            "_view_module_version": "1.2.0",
            "grid_template_areas": null,
            "object_position": null,
            "object_fit": null,
            "grid_auto_columns": null,
            "margin": null,
            "display": null,
            "left": null
          }
        },
        "62b4a004bcf84638b7f4e0d6301debff": {
          "model_module": "@jupyter-widgets/controls",
          "model_name": "HTMLModel",
          "model_module_version": "1.5.0",
          "state": {
            "_view_name": "HTMLView",
            "style": "IPY_MODEL_df2c8345ccab422abdb916ec789f6c60",
            "_dom_classes": [],
            "description": "",
            "_model_name": "HTMLModel",
            "placeholder": "​",
            "_view_module": "@jupyter-widgets/controls",
            "_model_module_version": "1.5.0",
            "value": "Downloading: 100%",
            "_view_count": null,
            "_view_module_version": "1.5.0",
            "description_tooltip": null,
            "_model_module": "@jupyter-widgets/controls",
            "layout": "IPY_MODEL_27945c2a14e546e190219e016ad83f4c"
          }
        },
        "7527d180f65e48f2a87635c6bf0e994e": {
          "model_module": "@jupyter-widgets/controls",
          "model_name": "FloatProgressModel",
          "model_module_version": "1.5.0",
          "state": {
            "_view_name": "ProgressView",
            "style": "IPY_MODEL_03da38abd7cb451580b67d8d975513e5",
            "_dom_classes": [],
            "description": "",
            "_model_name": "FloatProgressModel",
            "bar_style": "success",
            "max": 3271420488,
            "_view_module": "@jupyter-widgets/controls",
            "_model_module_version": "1.5.0",
            "value": 3271420488,
            "_view_count": null,
            "_view_module_version": "1.5.0",
            "orientation": "horizontal",
            "min": 0,
            "description_tooltip": null,
            "_model_module": "@jupyter-widgets/controls",
            "layout": "IPY_MODEL_44f88683a70641a0be577593efdcea01"
          }
        },
        "db215bd6058b43d899db0cad25fd6d5e": {
          "model_module": "@jupyter-widgets/controls",
          "model_name": "HTMLModel",
          "model_module_version": "1.5.0",
          "state": {
            "_view_name": "HTMLView",
            "style": "IPY_MODEL_0656b21f01494dea8eb6acbf956b8ec9",
            "_dom_classes": [],
            "description": "",
            "_model_name": "HTMLModel",
            "placeholder": "​",
            "_view_module": "@jupyter-widgets/controls",
            "_model_module_version": "1.5.0",
            "value": " 3.05G/3.05G [02:30&lt;00:00, 35.0MB/s]",
            "_view_count": null,
            "_view_module_version": "1.5.0",
            "description_tooltip": null,
            "_model_module": "@jupyter-widgets/controls",
            "layout": "IPY_MODEL_6460d81039634ddca5b8af7f7e6f7282"
          }
        },
        "df2c8345ccab422abdb916ec789f6c60": {
          "model_module": "@jupyter-widgets/controls",
          "model_name": "DescriptionStyleModel",
          "model_module_version": "1.5.0",
          "state": {
            "_view_name": "StyleView",
            "_model_name": "DescriptionStyleModel",
            "description_width": "",
            "_view_module": "@jupyter-widgets/base",
            "_model_module_version": "1.5.0",
            "_view_count": null,
            "_view_module_version": "1.2.0",
            "_model_module": "@jupyter-widgets/controls"
          }
        },
        "27945c2a14e546e190219e016ad83f4c": {
          "model_module": "@jupyter-widgets/base",
          "model_name": "LayoutModel",
          "model_module_version": "1.2.0",
          "state": {
            "_view_name": "LayoutView",
            "grid_template_rows": null,
            "right": null,
            "justify_content": null,
            "_view_module": "@jupyter-widgets/base",
            "overflow": null,
            "_model_module_version": "1.2.0",
            "_view_count": null,
            "flex_flow": null,
            "width": null,
            "min_width": null,
            "border": null,
            "align_items": null,
            "bottom": null,
            "_model_module": "@jupyter-widgets/base",
            "top": null,
            "grid_column": null,
            "overflow_y": null,
            "overflow_x": null,
            "grid_auto_flow": null,
            "grid_area": null,
            "grid_template_columns": null,
            "flex": null,
            "_model_name": "LayoutModel",
            "justify_items": null,
            "grid_row": null,
            "max_height": null,
            "align_content": null,
            "visibility": null,
            "align_self": null,
            "height": null,
            "min_height": null,
            "padding": null,
            "grid_auto_rows": null,
            "grid_gap": null,
            "max_width": null,
            "order": null,
            "_view_module_version": "1.2.0",
            "grid_template_areas": null,
            "object_position": null,
            "object_fit": null,
            "grid_auto_columns": null,
            "margin": null,
            "display": null,
            "left": null
          }
        },
        "03da38abd7cb451580b67d8d975513e5": {
          "model_module": "@jupyter-widgets/controls",
          "model_name": "ProgressStyleModel",
          "model_module_version": "1.5.0",
          "state": {
            "_view_name": "StyleView",
            "_model_name": "ProgressStyleModel",
            "description_width": "",
            "_view_module": "@jupyter-widgets/base",
            "_model_module_version": "1.5.0",
            "_view_count": null,
            "_view_module_version": "1.2.0",
            "bar_color": null,
            "_model_module": "@jupyter-widgets/controls"
          }
        },
        "44f88683a70641a0be577593efdcea01": {
          "model_module": "@jupyter-widgets/base",
          "model_name": "LayoutModel",
          "model_module_version": "1.2.0",
          "state": {
            "_view_name": "LayoutView",
            "grid_template_rows": null,
            "right": null,
            "justify_content": null,
            "_view_module": "@jupyter-widgets/base",
            "overflow": null,
            "_model_module_version": "1.2.0",
            "_view_count": null,
            "flex_flow": null,
            "width": null,
            "min_width": null,
            "border": null,
            "align_items": null,
            "bottom": null,
            "_model_module": "@jupyter-widgets/base",
            "top": null,
            "grid_column": null,
            "overflow_y": null,
            "overflow_x": null,
            "grid_auto_flow": null,
            "grid_area": null,
            "grid_template_columns": null,
            "flex": null,
            "_model_name": "LayoutModel",
            "justify_items": null,
            "grid_row": null,
            "max_height": null,
            "align_content": null,
            "visibility": null,
            "align_self": null,
            "height": null,
            "min_height": null,
            "padding": null,
            "grid_auto_rows": null,
            "grid_gap": null,
            "max_width": null,
            "order": null,
            "_view_module_version": "1.2.0",
            "grid_template_areas": null,
            "object_position": null,
            "object_fit": null,
            "grid_auto_columns": null,
            "margin": null,
            "display": null,
            "left": null
          }
        },
        "0656b21f01494dea8eb6acbf956b8ec9": {
          "model_module": "@jupyter-widgets/controls",
          "model_name": "DescriptionStyleModel",
          "model_module_version": "1.5.0",
          "state": {
            "_view_name": "StyleView",
            "_model_name": "DescriptionStyleModel",
            "description_width": "",
            "_view_module": "@jupyter-widgets/base",
            "_model_module_version": "1.5.0",
            "_view_count": null,
            "_view_module_version": "1.2.0",
            "_model_module": "@jupyter-widgets/controls"
          }
        },
        "6460d81039634ddca5b8af7f7e6f7282": {
          "model_module": "@jupyter-widgets/base",
          "model_name": "LayoutModel",
          "model_module_version": "1.2.0",
          "state": {
            "_view_name": "LayoutView",
            "grid_template_rows": null,
            "right": null,
            "justify_content": null,
            "_view_module": "@jupyter-widgets/base",
            "overflow": null,
            "_model_module_version": "1.2.0",
            "_view_count": null,
            "flex_flow": null,
            "width": null,
            "min_width": null,
            "border": null,
            "align_items": null,
            "bottom": null,
            "_model_module": "@jupyter-widgets/base",
            "top": null,
            "grid_column": null,
            "overflow_y": null,
            "overflow_x": null,
            "grid_auto_flow": null,
            "grid_area": null,
            "grid_template_columns": null,
            "flex": null,
            "_model_name": "LayoutModel",
            "justify_items": null,
            "grid_row": null,
            "max_height": null,
            "align_content": null,
            "visibility": null,
            "align_self": null,
            "height": null,
            "min_height": null,
            "padding": null,
            "grid_auto_rows": null,
            "grid_gap": null,
            "max_width": null,
            "order": null,
            "_view_module_version": "1.2.0",
            "grid_template_areas": null,
            "object_position": null,
            "object_fit": null,
            "grid_auto_columns": null,
            "margin": null,
            "display": null,
            "left": null
          }
        }
      }
    },
    "accelerator": "GPU"
  },
  "nbformat": 4,
  "nbformat_minor": 0
}